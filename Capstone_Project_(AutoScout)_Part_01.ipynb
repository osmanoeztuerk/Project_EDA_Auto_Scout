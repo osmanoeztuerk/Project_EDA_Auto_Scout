{
 "cells": [
  {
   "cell_type": "markdown",
   "metadata": {
    "id": "Bv1I7_aas1L3"
   },
   "source": [
    "\n",
    "## <p style=\"background-color:#FDFEFE; font-family:newtimeroman; color:#9d4f8c; font-size:100%; text-align:center; border-radius:10px 10px;\">Osman Öztürk</p>"
   ]
  },
  {
   "cell_type": "markdown",
   "metadata": {
    "id": "Bkw3_pB0s1L-"
   },
   "source": [
    "<img src=https://i.ibb.co/wJW61Y2/Used-cars.jpg width=\"700\" height=\"200\">\n",
    "\n",
    "## <p style=\"background-color:#FDFEFE; font-family:newtimeroman; color:#060108; font-size:200%; text-align:center; border-radius:10px 10px;\">The Capstone Project of Data Analytics Module</p>\n",
    "\n",
    "## <p style=\"background-color:#FDFEFE; font-family:newtimeroman; color:#060108; font-size:150%; text-align:center; border-radius:10px 10px;\">Car Price Prediction EDA</p>"
   ]
  },
  {
   "cell_type": "markdown",
   "metadata": {
    "id": "Z_oWczxZs1MA"
   },
   "source": [
    "## Introduction\n",
    "Welcome to my \"**AutoScout Data Analysis Project \". Auto Scout** data which using for this project, scraped from the on-line car trading company in 2019, contains many features of 9 different car models. In this project, you will have the opportunity to apply many commonly used algorithms for Data Cleaning and Exploratory Data Analysis by using many Python libraries such as Numpy, Pandas, Matplotlib, Seaborn, Scipy you will analyze clean dataset.\n",
    "\n",
    "\n",
    "**``In this context, the project consists of 3 parts in general:``**\n",
    "* **The first part** is related to 'Data Cleaning'. It deals with Incorrect Headers, Incorrect Format, Anomalies, and Dropping useless columns.\n",
    "* **The second part** is related to 'Filling Data', in other words 'Imputation'. It deals with Missing Values. Categorical to numeric transformation is done as well.\n",
    "* **The third part** is related to 'Handling Outliers of Data' via Visualization libraries. So, some insights will be extracted.\n"
   ]
  },
  {
   "cell_type": "markdown",
   "metadata": {
    "id": "vvgJ5KWTs1MB"
   },
   "source": [
    "# PART- 1 `( Data Cleaning )`"
   ]
  },
  {
   "cell_type": "code",
   "execution_count": 284,
   "metadata": {},
   "outputs": [],
   "source": [
    "# pip install skimpy --user"
   ]
  },
  {
   "cell_type": "code",
   "execution_count": 285,
   "metadata": {
    "id": "Y13_gId7s1MC"
   },
   "outputs": [],
   "source": [
    "import numpy as np\n",
    "import pandas as pd\n",
    "import seaborn as sns \n",
    "import matplotlib.pyplot as plt\n",
    "from skimpy import clean_columns\n",
    "\n",
    "import warnings\n",
    "warnings.filterwarnings(\"ignore\")\n",
    "warnings.warn(\"this will not show\")\n",
    "\n",
    "%matplotlib inline\n",
    "# %matplotlib notebook\n",
    "\n",
    "plt.rcParams[\"figure.figsize\"] = (10,6)\n",
    "# plt.rcParams['figure.dpi'] = 100\n",
    "\n",
    "sns.set_style(\"whitegrid\")\n",
    "pd.set_option('display.float_format', lambda x: '%.2f' % x)\n",
    "\n",
    "pd.options.display.max_rows = 100\n",
    "pd.options.display.max_columns = 100"
   ]
  },
  {
   "cell_type": "code",
   "execution_count": 286,
   "metadata": {},
   "outputs": [],
   "source": [
    "df = pd.read_json('scout_car.json', lines=True)"
   ]
  },
  {
   "cell_type": "code",
   "execution_count": 287,
   "metadata": {
    "scrolled": false
   },
   "outputs": [
    {
     "name": "stdout",
     "output_type": "stream",
     "text": [
      "<class 'pandas.core.frame.DataFrame'>\n",
      "RangeIndex: 15919 entries, 0 to 15918\n",
      "Data columns (total 54 columns):\n",
      " #   Column                         Non-Null Count  Dtype  \n",
      "---  ------                         --------------  -----  \n",
      " 0   url                            15919 non-null  object \n",
      " 1   make_model                     15919 non-null  object \n",
      " 2   short_description              15873 non-null  object \n",
      " 3   body_type                      15859 non-null  object \n",
      " 4   price                          15919 non-null  int64  \n",
      " 5   vat                            11406 non-null  object \n",
      " 6   km                             15919 non-null  object \n",
      " 7   registration                   15919 non-null  object \n",
      " 8   prev_owner                     9091 non-null   object \n",
      " 9   kW                             0 non-null      float64\n",
      " 10  hp                             15919 non-null  object \n",
      " 11  Type                           15917 non-null  object \n",
      " 12  Previous Owners                9279 non-null   object \n",
      " 13  Next Inspection                3535 non-null   object \n",
      " 14  Inspection new                 3932 non-null   object \n",
      " 15  Warranty                       10499 non-null  object \n",
      " 16  Full Service                   8215 non-null   object \n",
      " 17  Non-smoking Vehicle            7177 non-null   object \n",
      " 18  null                           15919 non-null  object \n",
      " 19  Make                           15919 non-null  object \n",
      " 20  Model                          15919 non-null  object \n",
      " 21  Offer Number                   12744 non-null  object \n",
      " 22  First Registration             14322 non-null  object \n",
      " 23  Body Color                     15322 non-null  object \n",
      " 24  Paint Type                     10147 non-null  object \n",
      " 25  Body Color Original            12160 non-null  object \n",
      " 26  Upholstery                     12199 non-null  object \n",
      " 27  Body                           15859 non-null  object \n",
      " 28  Nr. of Doors                   15707 non-null  object \n",
      " 29  Nr. of Seats                   14942 non-null  object \n",
      " 30  Model Code                     4978 non-null   object \n",
      " 31  Gearing Type                   15919 non-null  object \n",
      " 32  Displacement                   15423 non-null  object \n",
      " 33  Cylinders                      10239 non-null  object \n",
      " 34  Weight                         8945 non-null   object \n",
      " 35  Drive chain                    9061 non-null   object \n",
      " 36  Fuel                           15919 non-null  object \n",
      " 37  Consumption                    14013 non-null  object \n",
      " 38  CO2 Emission                   14111 non-null  object \n",
      " 39  Emission Class                 12898 non-null  object \n",
      " 40  \n",
      "Comfort & Convenience\n",
      "        14999 non-null  object \n",
      " 41  \n",
      "Entertainment & Media\n",
      "        14545 non-null  object \n",
      " 42  \n",
      "Extras\n",
      "                       12957 non-null  object \n",
      " 43  \n",
      "Safety & Security\n",
      "            14937 non-null  object \n",
      " 44  description                    15919 non-null  object \n",
      " 45  Emission Label                 3985 non-null   object \n",
      " 46  Gears                          11207 non-null  object \n",
      " 47  Country version                7586 non-null   object \n",
      " 48  Electricity consumption        137 non-null    object \n",
      " 49  Last Service Date              566 non-null    object \n",
      " 50  Other Fuel Types               880 non-null    object \n",
      " 51  Availability                   635 non-null    object \n",
      " 52  Last Timing Belt Service Date  16 non-null     object \n",
      " 53  Available from                 272 non-null    object \n",
      "dtypes: float64(1), int64(1), object(52)\n",
      "memory usage: 6.6+ MB\n"
     ]
    }
   ],
   "source": [
    "df.info()"
   ]
  },
  {
   "cell_type": "code",
   "execution_count": 288,
   "metadata": {
    "scrolled": true
   },
   "outputs": [
    {
     "data": {
      "text/html": [
       "<div>\n",
       "<style scoped>\n",
       "    .dataframe tbody tr th:only-of-type {\n",
       "        vertical-align: middle;\n",
       "    }\n",
       "\n",
       "    .dataframe tbody tr th {\n",
       "        vertical-align: top;\n",
       "    }\n",
       "\n",
       "    .dataframe thead th {\n",
       "        text-align: right;\n",
       "    }\n",
       "</style>\n",
       "<table border=\"1\" class=\"dataframe\">\n",
       "  <thead>\n",
       "    <tr style=\"text-align: right;\">\n",
       "      <th></th>\n",
       "      <th>0</th>\n",
       "      <th>1</th>\n",
       "      <th>2</th>\n",
       "    </tr>\n",
       "  </thead>\n",
       "  <tbody>\n",
       "    <tr>\n",
       "      <th>url</th>\n",
       "      <td>https://www.autoscout24.com//offers/audi-a1-sp...</td>\n",
       "      <td>https://www.autoscout24.com//offers/audi-a1-1-...</td>\n",
       "      <td>https://www.autoscout24.com//offers/audi-a1-sp...</td>\n",
       "    </tr>\n",
       "    <tr>\n",
       "      <th>make_model</th>\n",
       "      <td>Audi A1</td>\n",
       "      <td>Audi A1</td>\n",
       "      <td>Audi A1</td>\n",
       "    </tr>\n",
       "    <tr>\n",
       "      <th>short_description</th>\n",
       "      <td>Sportback 1.4 TDI S-tronic Xenon Navi Klima</td>\n",
       "      <td>1.8 TFSI sport</td>\n",
       "      <td>Sportback 1.6 TDI S tronic Einparkhilfe plus+m...</td>\n",
       "    </tr>\n",
       "    <tr>\n",
       "      <th>body_type</th>\n",
       "      <td>Sedans</td>\n",
       "      <td>Sedans</td>\n",
       "      <td>Sedans</td>\n",
       "    </tr>\n",
       "    <tr>\n",
       "      <th>price</th>\n",
       "      <td>15770</td>\n",
       "      <td>14500</td>\n",
       "      <td>14640</td>\n",
       "    </tr>\n",
       "    <tr>\n",
       "      <th>vat</th>\n",
       "      <td>VAT deductible</td>\n",
       "      <td>Price negotiable</td>\n",
       "      <td>VAT deductible</td>\n",
       "    </tr>\n",
       "    <tr>\n",
       "      <th>km</th>\n",
       "      <td>56,013 km</td>\n",
       "      <td>80,000 km</td>\n",
       "      <td>83,450 km</td>\n",
       "    </tr>\n",
       "    <tr>\n",
       "      <th>registration</th>\n",
       "      <td>01/2016</td>\n",
       "      <td>03/2017</td>\n",
       "      <td>02/2016</td>\n",
       "    </tr>\n",
       "    <tr>\n",
       "      <th>prev_owner</th>\n",
       "      <td>2 previous owners</td>\n",
       "      <td>None</td>\n",
       "      <td>1 previous owner</td>\n",
       "    </tr>\n",
       "    <tr>\n",
       "      <th>kW</th>\n",
       "      <td>NaN</td>\n",
       "      <td>NaN</td>\n",
       "      <td>NaN</td>\n",
       "    </tr>\n",
       "    <tr>\n",
       "      <th>hp</th>\n",
       "      <td>66 kW</td>\n",
       "      <td>141 kW</td>\n",
       "      <td>85 kW</td>\n",
       "    </tr>\n",
       "    <tr>\n",
       "      <th>Type</th>\n",
       "      <td>[, Used, , Diesel (Particulate Filter)]</td>\n",
       "      <td>[, Used, , Gasoline]</td>\n",
       "      <td>[, Used, , Diesel (Particulate Filter)]</td>\n",
       "    </tr>\n",
       "    <tr>\n",
       "      <th>Previous Owners</th>\n",
       "      <td>\\n2\\n</td>\n",
       "      <td>NaN</td>\n",
       "      <td>\\n1\\n</td>\n",
       "    </tr>\n",
       "    <tr>\n",
       "      <th>Next Inspection</th>\n",
       "      <td>[\\n06/2021\\n, \\n99 g CO2/km (comb)\\n]</td>\n",
       "      <td>NaN</td>\n",
       "      <td>NaN</td>\n",
       "    </tr>\n",
       "    <tr>\n",
       "      <th>Inspection new</th>\n",
       "      <td>[\\nYes\\n, \\nEuro 6\\n]</td>\n",
       "      <td>NaN</td>\n",
       "      <td>NaN</td>\n",
       "    </tr>\n",
       "    <tr>\n",
       "      <th>Warranty</th>\n",
       "      <td>[\\n, \\n, \\n4 (Green)\\n]</td>\n",
       "      <td>NaN</td>\n",
       "      <td>[\\n, \\n, \\n99 g CO2/km (comb)\\n]</td>\n",
       "    </tr>\n",
       "    <tr>\n",
       "      <th>Full Service</th>\n",
       "      <td>[\\n, \\n]</td>\n",
       "      <td>NaN</td>\n",
       "      <td>NaN</td>\n",
       "    </tr>\n",
       "    <tr>\n",
       "      <th>Non-smoking Vehicle</th>\n",
       "      <td>[\\n, \\n]</td>\n",
       "      <td>NaN</td>\n",
       "      <td>NaN</td>\n",
       "    </tr>\n",
       "    <tr>\n",
       "      <th>null</th>\n",
       "      <td>[]</td>\n",
       "      <td>[]</td>\n",
       "      <td>[]</td>\n",
       "    </tr>\n",
       "    <tr>\n",
       "      <th>Make</th>\n",
       "      <td>\\nAudi\\n</td>\n",
       "      <td>\\nAudi\\n</td>\n",
       "      <td>\\nAudi\\n</td>\n",
       "    </tr>\n",
       "    <tr>\n",
       "      <th>Model</th>\n",
       "      <td>[\\n, A1, \\n]</td>\n",
       "      <td>[\\n, A1, \\n]</td>\n",
       "      <td>[\\n, A1, \\n]</td>\n",
       "    </tr>\n",
       "    <tr>\n",
       "      <th>Offer Number</th>\n",
       "      <td>[\\nLR-062483\\n]</td>\n",
       "      <td>NaN</td>\n",
       "      <td>[\\nAM-95365\\n]</td>\n",
       "    </tr>\n",
       "    <tr>\n",
       "      <th>First Registration</th>\n",
       "      <td>[\\n, 2016, \\n]</td>\n",
       "      <td>[\\n, 2017, \\n]</td>\n",
       "      <td>[\\n, 2016, \\n]</td>\n",
       "    </tr>\n",
       "    <tr>\n",
       "      <th>Body Color</th>\n",
       "      <td>[\\n, Black, \\n]</td>\n",
       "      <td>[\\n, Red, \\n]</td>\n",
       "      <td>[\\n, Black, \\n]</td>\n",
       "    </tr>\n",
       "    <tr>\n",
       "      <th>Paint Type</th>\n",
       "      <td>[\\nMetallic\\n]</td>\n",
       "      <td>NaN</td>\n",
       "      <td>[\\nMetallic\\n]</td>\n",
       "    </tr>\n",
       "    <tr>\n",
       "      <th>Body Color Original</th>\n",
       "      <td>[\\nMythosschwarz\\n]</td>\n",
       "      <td>NaN</td>\n",
       "      <td>[\\nmythosschwarz metallic\\n]</td>\n",
       "    </tr>\n",
       "    <tr>\n",
       "      <th>Upholstery</th>\n",
       "      <td>[\\nCloth, Black\\n]</td>\n",
       "      <td>[\\nCloth, Grey\\n]</td>\n",
       "      <td>[\\nCloth, Black\\n]</td>\n",
       "    </tr>\n",
       "    <tr>\n",
       "      <th>Body</th>\n",
       "      <td>[\\n, Sedans, \\n]</td>\n",
       "      <td>[\\n, Sedans, \\n]</td>\n",
       "      <td>[\\n, Sedans, \\n]</td>\n",
       "    </tr>\n",
       "    <tr>\n",
       "      <th>Nr. of Doors</th>\n",
       "      <td>[\\n5\\n]</td>\n",
       "      <td>[\\n3\\n]</td>\n",
       "      <td>[\\n4\\n]</td>\n",
       "    </tr>\n",
       "    <tr>\n",
       "      <th>Nr. of Seats</th>\n",
       "      <td>[\\n5\\n]</td>\n",
       "      <td>[\\n4\\n]</td>\n",
       "      <td>[\\n4\\n]</td>\n",
       "    </tr>\n",
       "    <tr>\n",
       "      <th>Model Code</th>\n",
       "      <td>[\\n0588/BDF\\n]</td>\n",
       "      <td>[\\n0588/BCY\\n]</td>\n",
       "      <td>NaN</td>\n",
       "    </tr>\n",
       "    <tr>\n",
       "      <th>Gearing Type</th>\n",
       "      <td>[\\n, Automatic, \\n]</td>\n",
       "      <td>[\\n, Automatic, \\n]</td>\n",
       "      <td>[\\n, Automatic, \\n]</td>\n",
       "    </tr>\n",
       "    <tr>\n",
       "      <th>Displacement</th>\n",
       "      <td>[\\n1,422 cc\\n]</td>\n",
       "      <td>[\\n1,798 cc\\n]</td>\n",
       "      <td>[\\n1,598 cc\\n]</td>\n",
       "    </tr>\n",
       "    <tr>\n",
       "      <th>Cylinders</th>\n",
       "      <td>[\\n3\\n]</td>\n",
       "      <td>[\\n4\\n]</td>\n",
       "      <td>NaN</td>\n",
       "    </tr>\n",
       "    <tr>\n",
       "      <th>Weight</th>\n",
       "      <td>[\\n1,220 kg\\n]</td>\n",
       "      <td>[\\n1,255 kg\\n]</td>\n",
       "      <td>NaN</td>\n",
       "    </tr>\n",
       "    <tr>\n",
       "      <th>Drive chain</th>\n",
       "      <td>[\\nfront\\n]</td>\n",
       "      <td>[\\nfront\\n]</td>\n",
       "      <td>[\\nfront\\n]</td>\n",
       "    </tr>\n",
       "    <tr>\n",
       "      <th>Fuel</th>\n",
       "      <td>[\\n, Diesel (Particulate Filter), \\n]</td>\n",
       "      <td>[\\n, Gasoline, \\n]</td>\n",
       "      <td>[\\n, Diesel (Particulate Filter), \\n]</td>\n",
       "    </tr>\n",
       "    <tr>\n",
       "      <th>Consumption</th>\n",
       "      <td>[[3.8 l/100 km (comb)], [4.3 l/100 km (city)],...</td>\n",
       "      <td>[[5.6 l/100 km (comb)], [7.1 l/100 km (city)],...</td>\n",
       "      <td>[[3.8 l/100 km (comb)], [4.4 l/100 km (city)],...</td>\n",
       "    </tr>\n",
       "    <tr>\n",
       "      <th>CO2 Emission</th>\n",
       "      <td>[\\n99 g CO2/km (comb)\\n]</td>\n",
       "      <td>[\\n129 g CO2/km (comb)\\n]</td>\n",
       "      <td>[\\n99 g CO2/km (comb)\\n]</td>\n",
       "    </tr>\n",
       "    <tr>\n",
       "      <th>Emission Class</th>\n",
       "      <td>[\\nEuro 6\\n]</td>\n",
       "      <td>[\\nEuro 6\\n]</td>\n",
       "      <td>[\\nEuro 6\\n]</td>\n",
       "    </tr>\n",
       "    <tr>\n",
       "      <th>\\nComfort &amp; Convenience\\n</th>\n",
       "      <td>[Air conditioning, Armrest, Automatic climate ...</td>\n",
       "      <td>[Air conditioning, Automatic climate control, ...</td>\n",
       "      <td>[Air conditioning, Cruise control, Electrical ...</td>\n",
       "    </tr>\n",
       "    <tr>\n",
       "      <th>\\nEntertainment &amp; Media\\n</th>\n",
       "      <td>[Bluetooth, Hands-free equipment, On-board com...</td>\n",
       "      <td>[Bluetooth, Hands-free equipment, On-board com...</td>\n",
       "      <td>[MP3, On-board computer]</td>\n",
       "    </tr>\n",
       "    <tr>\n",
       "      <th>\\nExtras\\n</th>\n",
       "      <td>[Alloy wheels, Catalytic Converter, Voice Cont...</td>\n",
       "      <td>[Alloy wheels, Sport seats, Sport suspension, ...</td>\n",
       "      <td>[Alloy wheels, Voice Control]</td>\n",
       "    </tr>\n",
       "    <tr>\n",
       "      <th>\\nSafety &amp; Security\\n</th>\n",
       "      <td>[ABS, Central door lock, Daytime running light...</td>\n",
       "      <td>[ABS, Central door lock, Central door lock wit...</td>\n",
       "      <td>[ABS, Central door lock, Daytime running light...</td>\n",
       "    </tr>\n",
       "    <tr>\n",
       "      <th>description</th>\n",
       "      <td>[\\n, Sicherheit:,  , Deaktivierung für Beifahr...</td>\n",
       "      <td>[\\nLangstreckenfahrzeug daher die hohe Kilomet...</td>\n",
       "      <td>[\\n, Fahrzeug-Nummer: AM-95365,  , Ehem. UPE 2...</td>\n",
       "    </tr>\n",
       "    <tr>\n",
       "      <th>Emission Label</th>\n",
       "      <td>NaN</td>\n",
       "      <td>[\\n4 (Green)\\n]</td>\n",
       "      <td>[\\n4 (Green)\\n]</td>\n",
       "    </tr>\n",
       "    <tr>\n",
       "      <th>Gears</th>\n",
       "      <td>NaN</td>\n",
       "      <td>[\\n7\\n]</td>\n",
       "      <td>NaN</td>\n",
       "    </tr>\n",
       "    <tr>\n",
       "      <th>Country version</th>\n",
       "      <td>NaN</td>\n",
       "      <td>NaN</td>\n",
       "      <td>NaN</td>\n",
       "    </tr>\n",
       "    <tr>\n",
       "      <th>Electricity consumption</th>\n",
       "      <td>NaN</td>\n",
       "      <td>NaN</td>\n",
       "      <td>NaN</td>\n",
       "    </tr>\n",
       "    <tr>\n",
       "      <th>Last Service Date</th>\n",
       "      <td>NaN</td>\n",
       "      <td>NaN</td>\n",
       "      <td>NaN</td>\n",
       "    </tr>\n",
       "    <tr>\n",
       "      <th>Other Fuel Types</th>\n",
       "      <td>NaN</td>\n",
       "      <td>NaN</td>\n",
       "      <td>NaN</td>\n",
       "    </tr>\n",
       "    <tr>\n",
       "      <th>Availability</th>\n",
       "      <td>NaN</td>\n",
       "      <td>NaN</td>\n",
       "      <td>NaN</td>\n",
       "    </tr>\n",
       "    <tr>\n",
       "      <th>Last Timing Belt Service Date</th>\n",
       "      <td>NaN</td>\n",
       "      <td>NaN</td>\n",
       "      <td>NaN</td>\n",
       "    </tr>\n",
       "    <tr>\n",
       "      <th>Available from</th>\n",
       "      <td>NaN</td>\n",
       "      <td>NaN</td>\n",
       "      <td>NaN</td>\n",
       "    </tr>\n",
       "  </tbody>\n",
       "</table>\n",
       "</div>"
      ],
      "text/plain": [
       "                                                                               0  \\\n",
       "url                            https://www.autoscout24.com//offers/audi-a1-sp...   \n",
       "make_model                                                               Audi A1   \n",
       "short_description                    Sportback 1.4 TDI S-tronic Xenon Navi Klima   \n",
       "body_type                                                                 Sedans   \n",
       "price                                                                      15770   \n",
       "vat                                                               VAT deductible   \n",
       "km                                                                     56,013 km   \n",
       "registration                                                             01/2016   \n",
       "prev_owner                                                     2 previous owners   \n",
       "kW                                                                           NaN   \n",
       "hp                                                                         66 kW   \n",
       "Type                                     [, Used, , Diesel (Particulate Filter)]   \n",
       "Previous Owners                                                            \\n2\\n   \n",
       "Next Inspection                            [\\n06/2021\\n, \\n99 g CO2/km (comb)\\n]   \n",
       "Inspection new                                             [\\nYes\\n, \\nEuro 6\\n]   \n",
       "Warranty                                                 [\\n, \\n, \\n4 (Green)\\n]   \n",
       "Full Service                                                            [\\n, \\n]   \n",
       "Non-smoking Vehicle                                                     [\\n, \\n]   \n",
       "null                                                                          []   \n",
       "Make                                                                    \\nAudi\\n   \n",
       "Model                                                               [\\n, A1, \\n]   \n",
       "Offer Number                                                     [\\nLR-062483\\n]   \n",
       "First Registration                                                [\\n, 2016, \\n]   \n",
       "Body Color                                                       [\\n, Black, \\n]   \n",
       "Paint Type                                                        [\\nMetallic\\n]   \n",
       "Body Color Original                                          [\\nMythosschwarz\\n]   \n",
       "Upholstery                                                    [\\nCloth, Black\\n]   \n",
       "Body                                                            [\\n, Sedans, \\n]   \n",
       "Nr. of Doors                                                             [\\n5\\n]   \n",
       "Nr. of Seats                                                             [\\n5\\n]   \n",
       "Model Code                                                        [\\n0588/BDF\\n]   \n",
       "Gearing Type                                                 [\\n, Automatic, \\n]   \n",
       "Displacement                                                      [\\n1,422 cc\\n]   \n",
       "Cylinders                                                                [\\n3\\n]   \n",
       "Weight                                                            [\\n1,220 kg\\n]   \n",
       "Drive chain                                                          [\\nfront\\n]   \n",
       "Fuel                                       [\\n, Diesel (Particulate Filter), \\n]   \n",
       "Consumption                    [[3.8 l/100 km (comb)], [4.3 l/100 km (city)],...   \n",
       "CO2 Emission                                            [\\n99 g CO2/km (comb)\\n]   \n",
       "Emission Class                                                      [\\nEuro 6\\n]   \n",
       "\\nComfort & Convenience\\n      [Air conditioning, Armrest, Automatic climate ...   \n",
       "\\nEntertainment & Media\\n      [Bluetooth, Hands-free equipment, On-board com...   \n",
       "\\nExtras\\n                     [Alloy wheels, Catalytic Converter, Voice Cont...   \n",
       "\\nSafety & Security\\n          [ABS, Central door lock, Daytime running light...   \n",
       "description                    [\\n, Sicherheit:,  , Deaktivierung für Beifahr...   \n",
       "Emission Label                                                               NaN   \n",
       "Gears                                                                        NaN   \n",
       "Country version                                                              NaN   \n",
       "Electricity consumption                                                      NaN   \n",
       "Last Service Date                                                            NaN   \n",
       "Other Fuel Types                                                             NaN   \n",
       "Availability                                                                 NaN   \n",
       "Last Timing Belt Service Date                                                NaN   \n",
       "Available from                                                               NaN   \n",
       "\n",
       "                                                                               1  \\\n",
       "url                            https://www.autoscout24.com//offers/audi-a1-1-...   \n",
       "make_model                                                               Audi A1   \n",
       "short_description                                                 1.8 TFSI sport   \n",
       "body_type                                                                 Sedans   \n",
       "price                                                                      14500   \n",
       "vat                                                             Price negotiable   \n",
       "km                                                                     80,000 km   \n",
       "registration                                                             03/2017   \n",
       "prev_owner                                                                  None   \n",
       "kW                                                                           NaN   \n",
       "hp                                                                        141 kW   \n",
       "Type                                                        [, Used, , Gasoline]   \n",
       "Previous Owners                                                              NaN   \n",
       "Next Inspection                                                              NaN   \n",
       "Inspection new                                                               NaN   \n",
       "Warranty                                                                     NaN   \n",
       "Full Service                                                                 NaN   \n",
       "Non-smoking Vehicle                                                          NaN   \n",
       "null                                                                          []   \n",
       "Make                                                                    \\nAudi\\n   \n",
       "Model                                                               [\\n, A1, \\n]   \n",
       "Offer Number                                                                 NaN   \n",
       "First Registration                                                [\\n, 2017, \\n]   \n",
       "Body Color                                                         [\\n, Red, \\n]   \n",
       "Paint Type                                                                   NaN   \n",
       "Body Color Original                                                          NaN   \n",
       "Upholstery                                                     [\\nCloth, Grey\\n]   \n",
       "Body                                                            [\\n, Sedans, \\n]   \n",
       "Nr. of Doors                                                             [\\n3\\n]   \n",
       "Nr. of Seats                                                             [\\n4\\n]   \n",
       "Model Code                                                        [\\n0588/BCY\\n]   \n",
       "Gearing Type                                                 [\\n, Automatic, \\n]   \n",
       "Displacement                                                      [\\n1,798 cc\\n]   \n",
       "Cylinders                                                                [\\n4\\n]   \n",
       "Weight                                                            [\\n1,255 kg\\n]   \n",
       "Drive chain                                                          [\\nfront\\n]   \n",
       "Fuel                                                          [\\n, Gasoline, \\n]   \n",
       "Consumption                    [[5.6 l/100 km (comb)], [7.1 l/100 km (city)],...   \n",
       "CO2 Emission                                           [\\n129 g CO2/km (comb)\\n]   \n",
       "Emission Class                                                      [\\nEuro 6\\n]   \n",
       "\\nComfort & Convenience\\n      [Air conditioning, Automatic climate control, ...   \n",
       "\\nEntertainment & Media\\n      [Bluetooth, Hands-free equipment, On-board com...   \n",
       "\\nExtras\\n                     [Alloy wheels, Sport seats, Sport suspension, ...   \n",
       "\\nSafety & Security\\n          [ABS, Central door lock, Central door lock wit...   \n",
       "description                    [\\nLangstreckenfahrzeug daher die hohe Kilomet...   \n",
       "Emission Label                                                   [\\n4 (Green)\\n]   \n",
       "Gears                                                                    [\\n7\\n]   \n",
       "Country version                                                              NaN   \n",
       "Electricity consumption                                                      NaN   \n",
       "Last Service Date                                                            NaN   \n",
       "Other Fuel Types                                                             NaN   \n",
       "Availability                                                                 NaN   \n",
       "Last Timing Belt Service Date                                                NaN   \n",
       "Available from                                                               NaN   \n",
       "\n",
       "                                                                               2  \n",
       "url                            https://www.autoscout24.com//offers/audi-a1-sp...  \n",
       "make_model                                                               Audi A1  \n",
       "short_description              Sportback 1.6 TDI S tronic Einparkhilfe plus+m...  \n",
       "body_type                                                                 Sedans  \n",
       "price                                                                      14640  \n",
       "vat                                                               VAT deductible  \n",
       "km                                                                     83,450 km  \n",
       "registration                                                             02/2016  \n",
       "prev_owner                                                      1 previous owner  \n",
       "kW                                                                           NaN  \n",
       "hp                                                                         85 kW  \n",
       "Type                                     [, Used, , Diesel (Particulate Filter)]  \n",
       "Previous Owners                                                            \\n1\\n  \n",
       "Next Inspection                                                              NaN  \n",
       "Inspection new                                                               NaN  \n",
       "Warranty                                        [\\n, \\n, \\n99 g CO2/km (comb)\\n]  \n",
       "Full Service                                                                 NaN  \n",
       "Non-smoking Vehicle                                                          NaN  \n",
       "null                                                                          []  \n",
       "Make                                                                    \\nAudi\\n  \n",
       "Model                                                               [\\n, A1, \\n]  \n",
       "Offer Number                                                      [\\nAM-95365\\n]  \n",
       "First Registration                                                [\\n, 2016, \\n]  \n",
       "Body Color                                                       [\\n, Black, \\n]  \n",
       "Paint Type                                                        [\\nMetallic\\n]  \n",
       "Body Color Original                                 [\\nmythosschwarz metallic\\n]  \n",
       "Upholstery                                                    [\\nCloth, Black\\n]  \n",
       "Body                                                            [\\n, Sedans, \\n]  \n",
       "Nr. of Doors                                                             [\\n4\\n]  \n",
       "Nr. of Seats                                                             [\\n4\\n]  \n",
       "Model Code                                                                   NaN  \n",
       "Gearing Type                                                 [\\n, Automatic, \\n]  \n",
       "Displacement                                                      [\\n1,598 cc\\n]  \n",
       "Cylinders                                                                    NaN  \n",
       "Weight                                                                       NaN  \n",
       "Drive chain                                                          [\\nfront\\n]  \n",
       "Fuel                                       [\\n, Diesel (Particulate Filter), \\n]  \n",
       "Consumption                    [[3.8 l/100 km (comb)], [4.4 l/100 km (city)],...  \n",
       "CO2 Emission                                            [\\n99 g CO2/km (comb)\\n]  \n",
       "Emission Class                                                      [\\nEuro 6\\n]  \n",
       "\\nComfort & Convenience\\n      [Air conditioning, Cruise control, Electrical ...  \n",
       "\\nEntertainment & Media\\n                               [MP3, On-board computer]  \n",
       "\\nExtras\\n                                         [Alloy wheels, Voice Control]  \n",
       "\\nSafety & Security\\n          [ABS, Central door lock, Daytime running light...  \n",
       "description                    [\\n, Fahrzeug-Nummer: AM-95365,  , Ehem. UPE 2...  \n",
       "Emission Label                                                   [\\n4 (Green)\\n]  \n",
       "Gears                                                                        NaN  \n",
       "Country version                                                              NaN  \n",
       "Electricity consumption                                                      NaN  \n",
       "Last Service Date                                                            NaN  \n",
       "Other Fuel Types                                                             NaN  \n",
       "Availability                                                                 NaN  \n",
       "Last Timing Belt Service Date                                                NaN  \n",
       "Available from                                                               NaN  "
      ]
     },
     "execution_count": 288,
     "metadata": {},
     "output_type": "execute_result"
    }
   ],
   "source": [
    "df.head(3).T"
   ]
  },
  {
   "cell_type": "code",
   "execution_count": 289,
   "metadata": {
    "scrolled": true
   },
   "outputs": [
    {
     "data": {
      "text/html": [
       "<div>\n",
       "<style scoped>\n",
       "    .dataframe tbody tr th:only-of-type {\n",
       "        vertical-align: middle;\n",
       "    }\n",
       "\n",
       "    .dataframe tbody tr th {\n",
       "        vertical-align: top;\n",
       "    }\n",
       "\n",
       "    .dataframe thead th {\n",
       "        text-align: right;\n",
       "    }\n",
       "</style>\n",
       "<table border=\"1\" class=\"dataframe\">\n",
       "  <thead>\n",
       "    <tr style=\"text-align: right;\">\n",
       "      <th></th>\n",
       "      <th>price</th>\n",
       "      <th>kW</th>\n",
       "    </tr>\n",
       "  </thead>\n",
       "  <tbody>\n",
       "    <tr>\n",
       "      <th>count</th>\n",
       "      <td>15919.00</td>\n",
       "      <td>0.00</td>\n",
       "    </tr>\n",
       "    <tr>\n",
       "      <th>mean</th>\n",
       "      <td>18019.90</td>\n",
       "      <td>NaN</td>\n",
       "    </tr>\n",
       "    <tr>\n",
       "      <th>std</th>\n",
       "      <td>7386.17</td>\n",
       "      <td>NaN</td>\n",
       "    </tr>\n",
       "    <tr>\n",
       "      <th>min</th>\n",
       "      <td>13.00</td>\n",
       "      <td>NaN</td>\n",
       "    </tr>\n",
       "    <tr>\n",
       "      <th>25%</th>\n",
       "      <td>12850.00</td>\n",
       "      <td>NaN</td>\n",
       "    </tr>\n",
       "    <tr>\n",
       "      <th>50%</th>\n",
       "      <td>16900.00</td>\n",
       "      <td>NaN</td>\n",
       "    </tr>\n",
       "    <tr>\n",
       "      <th>75%</th>\n",
       "      <td>21900.00</td>\n",
       "      <td>NaN</td>\n",
       "    </tr>\n",
       "    <tr>\n",
       "      <th>max</th>\n",
       "      <td>74600.00</td>\n",
       "      <td>NaN</td>\n",
       "    </tr>\n",
       "  </tbody>\n",
       "</table>\n",
       "</div>"
      ],
      "text/plain": [
       "         price   kW\n",
       "count 15919.00 0.00\n",
       "mean  18019.90  NaN\n",
       "std    7386.17  NaN\n",
       "min      13.00  NaN\n",
       "25%   12850.00  NaN\n",
       "50%   16900.00  NaN\n",
       "75%   21900.00  NaN\n",
       "max   74600.00  NaN"
      ]
     },
     "execution_count": 289,
     "metadata": {},
     "output_type": "execute_result"
    }
   ],
   "source": [
    "df.describe()"
   ]
  },
  {
   "cell_type": "code",
   "execution_count": 290,
   "metadata": {
    "scrolled": true
   },
   "outputs": [
    {
     "data": {
      "text/html": [
       "<div>\n",
       "<style scoped>\n",
       "    .dataframe tbody tr th:only-of-type {\n",
       "        vertical-align: middle;\n",
       "    }\n",
       "\n",
       "    .dataframe tbody tr th {\n",
       "        vertical-align: top;\n",
       "    }\n",
       "\n",
       "    .dataframe thead th {\n",
       "        text-align: right;\n",
       "    }\n",
       "</style>\n",
       "<table border=\"1\" class=\"dataframe\">\n",
       "  <thead>\n",
       "    <tr style=\"text-align: right;\">\n",
       "      <th></th>\n",
       "      <th>count</th>\n",
       "      <th>unique</th>\n",
       "      <th>top</th>\n",
       "      <th>freq</th>\n",
       "    </tr>\n",
       "  </thead>\n",
       "  <tbody>\n",
       "    <tr>\n",
       "      <th>url</th>\n",
       "      <td>15919</td>\n",
       "      <td>15919</td>\n",
       "      <td>https://www.autoscout24.com//offers/audi-a1-sp...</td>\n",
       "      <td>1</td>\n",
       "    </tr>\n",
       "    <tr>\n",
       "      <th>make_model</th>\n",
       "      <td>15919</td>\n",
       "      <td>9</td>\n",
       "      <td>Audi A3</td>\n",
       "      <td>3097</td>\n",
       "    </tr>\n",
       "    <tr>\n",
       "      <th>short_description</th>\n",
       "      <td>15873</td>\n",
       "      <td>10001</td>\n",
       "      <td>SPB 1.6 TDI 116 CV S tronic Sport</td>\n",
       "      <td>64</td>\n",
       "    </tr>\n",
       "    <tr>\n",
       "      <th>body_type</th>\n",
       "      <td>15859</td>\n",
       "      <td>9</td>\n",
       "      <td>Sedans</td>\n",
       "      <td>7903</td>\n",
       "    </tr>\n",
       "    <tr>\n",
       "      <th>vat</th>\n",
       "      <td>11406</td>\n",
       "      <td>2</td>\n",
       "      <td>VAT deductible</td>\n",
       "      <td>10980</td>\n",
       "    </tr>\n",
       "    <tr>\n",
       "      <th>km</th>\n",
       "      <td>15919</td>\n",
       "      <td>6690</td>\n",
       "      <td>10 km</td>\n",
       "      <td>1045</td>\n",
       "    </tr>\n",
       "    <tr>\n",
       "      <th>registration</th>\n",
       "      <td>15919</td>\n",
       "      <td>48</td>\n",
       "      <td>-/-</td>\n",
       "      <td>1597</td>\n",
       "    </tr>\n",
       "    <tr>\n",
       "      <th>prev_owner</th>\n",
       "      <td>9091</td>\n",
       "      <td>4</td>\n",
       "      <td>1 previous owner</td>\n",
       "      <td>8294</td>\n",
       "    </tr>\n",
       "    <tr>\n",
       "      <th>hp</th>\n",
       "      <td>15919</td>\n",
       "      <td>81</td>\n",
       "      <td>85 kW</td>\n",
       "      <td>2542</td>\n",
       "    </tr>\n",
       "    <tr>\n",
       "      <th>Type</th>\n",
       "      <td>15917</td>\n",
       "      <td>169</td>\n",
       "      <td>[, Used, , Diesel (Particulate Filter)]</td>\n",
       "      <td>3475</td>\n",
       "    </tr>\n",
       "    <tr>\n",
       "      <th>Previous Owners</th>\n",
       "      <td>9279</td>\n",
       "      <td>102</td>\n",
       "      <td>\\n1\\n</td>\n",
       "      <td>8101</td>\n",
       "    </tr>\n",
       "    <tr>\n",
       "      <th>Next Inspection</th>\n",
       "      <td>3535</td>\n",
       "      <td>1399</td>\n",
       "      <td>\\n04/2022\\n</td>\n",
       "      <td>62</td>\n",
       "    </tr>\n",
       "    <tr>\n",
       "      <th>Inspection new</th>\n",
       "      <td>3932</td>\n",
       "      <td>202</td>\n",
       "      <td>[\\nYes\\n, \\nEuro 6\\n]</td>\n",
       "      <td>523</td>\n",
       "    </tr>\n",
       "    <tr>\n",
       "      <th>Warranty</th>\n",
       "      <td>10499</td>\n",
       "      <td>515</td>\n",
       "      <td>[\\n, \\n, \\nEuro 6\\n]</td>\n",
       "      <td>1868</td>\n",
       "    </tr>\n",
       "    <tr>\n",
       "      <th>Full Service</th>\n",
       "      <td>8215</td>\n",
       "      <td>122</td>\n",
       "      <td>[\\n, \\n, \\n4 (Green)\\n]</td>\n",
       "      <td>2235</td>\n",
       "    </tr>\n",
       "    <tr>\n",
       "      <th>Non-smoking Vehicle</th>\n",
       "      <td>7177</td>\n",
       "      <td>94</td>\n",
       "      <td>[\\n, \\n]</td>\n",
       "      <td>3647</td>\n",
       "    </tr>\n",
       "    <tr>\n",
       "      <th>null</th>\n",
       "      <td>15919</td>\n",
       "      <td>1</td>\n",
       "      <td>[]</td>\n",
       "      <td>15919</td>\n",
       "    </tr>\n",
       "    <tr>\n",
       "      <th>Make</th>\n",
       "      <td>15919</td>\n",
       "      <td>3</td>\n",
       "      <td>\\nOpel\\n</td>\n",
       "      <td>7343</td>\n",
       "    </tr>\n",
       "    <tr>\n",
       "      <th>Model</th>\n",
       "      <td>15919</td>\n",
       "      <td>9</td>\n",
       "      <td>[\\n, A3, \\n]</td>\n",
       "      <td>3097</td>\n",
       "    </tr>\n",
       "    <tr>\n",
       "      <th>Offer Number</th>\n",
       "      <td>12744</td>\n",
       "      <td>11440</td>\n",
       "      <td>[\\nLT67679\\n]</td>\n",
       "      <td>27</td>\n",
       "    </tr>\n",
       "    <tr>\n",
       "      <th>First Registration</th>\n",
       "      <td>14322</td>\n",
       "      <td>4</td>\n",
       "      <td>[\\n, 2018, \\n]</td>\n",
       "      <td>4522</td>\n",
       "    </tr>\n",
       "    <tr>\n",
       "      <th>Body Color</th>\n",
       "      <td>15322</td>\n",
       "      <td>14</td>\n",
       "      <td>[\\n, Black, \\n]</td>\n",
       "      <td>3745</td>\n",
       "    </tr>\n",
       "    <tr>\n",
       "      <th>Paint Type</th>\n",
       "      <td>10147</td>\n",
       "      <td>3</td>\n",
       "      <td>[\\nMetallic\\n]</td>\n",
       "      <td>9794</td>\n",
       "    </tr>\n",
       "    <tr>\n",
       "      <th>Body Color Original</th>\n",
       "      <td>12160</td>\n",
       "      <td>1927</td>\n",
       "      <td>[\\nOnyx Schwarz\\n]</td>\n",
       "      <td>338</td>\n",
       "    </tr>\n",
       "    <tr>\n",
       "      <th>Upholstery</th>\n",
       "      <td>12199</td>\n",
       "      <td>46</td>\n",
       "      <td>[\\nCloth, Black\\n]</td>\n",
       "      <td>5821</td>\n",
       "    </tr>\n",
       "    <tr>\n",
       "      <th>Body</th>\n",
       "      <td>15859</td>\n",
       "      <td>9</td>\n",
       "      <td>[\\n, Sedans, \\n]</td>\n",
       "      <td>7903</td>\n",
       "    </tr>\n",
       "    <tr>\n",
       "      <th>Nr. of Doors</th>\n",
       "      <td>15707</td>\n",
       "      <td>6</td>\n",
       "      <td>[\\n5\\n]</td>\n",
       "      <td>11575</td>\n",
       "    </tr>\n",
       "    <tr>\n",
       "      <th>Nr. of Seats</th>\n",
       "      <td>14942</td>\n",
       "      <td>6</td>\n",
       "      <td>[\\n5\\n]</td>\n",
       "      <td>13336</td>\n",
       "    </tr>\n",
       "    <tr>\n",
       "      <th>Model Code</th>\n",
       "      <td>4978</td>\n",
       "      <td>232</td>\n",
       "      <td>[\\n0035/BCB\\n]</td>\n",
       "      <td>268</td>\n",
       "    </tr>\n",
       "    <tr>\n",
       "      <th>Gearing Type</th>\n",
       "      <td>15919</td>\n",
       "      <td>3</td>\n",
       "      <td>[\\n, Manual, \\n]</td>\n",
       "      <td>8153</td>\n",
       "    </tr>\n",
       "    <tr>\n",
       "      <th>Displacement</th>\n",
       "      <td>15423</td>\n",
       "      <td>77</td>\n",
       "      <td>[\\n1,598 cc\\n]</td>\n",
       "      <td>4761</td>\n",
       "    </tr>\n",
       "    <tr>\n",
       "      <th>Cylinders</th>\n",
       "      <td>10239</td>\n",
       "      <td>7</td>\n",
       "      <td>[\\n4\\n]</td>\n",
       "      <td>8105</td>\n",
       "    </tr>\n",
       "    <tr>\n",
       "      <th>Weight</th>\n",
       "      <td>8945</td>\n",
       "      <td>434</td>\n",
       "      <td>[\\n1,163 kg\\n]</td>\n",
       "      <td>574</td>\n",
       "    </tr>\n",
       "    <tr>\n",
       "      <th>Drive chain</th>\n",
       "      <td>9061</td>\n",
       "      <td>3</td>\n",
       "      <td>[\\nfront\\n]</td>\n",
       "      <td>8886</td>\n",
       "    </tr>\n",
       "    <tr>\n",
       "      <th>Fuel</th>\n",
       "      <td>15919</td>\n",
       "      <td>77</td>\n",
       "      <td>[\\n, Diesel (Particulate Filter), \\n]</td>\n",
       "      <td>4315</td>\n",
       "    </tr>\n",
       "    <tr>\n",
       "      <th>Consumption</th>\n",
       "      <td>14013</td>\n",
       "      <td>881</td>\n",
       "      <td>[[3.9 l/100 km (comb)], [4.1 l/100 km (city)],...</td>\n",
       "      <td>304</td>\n",
       "    </tr>\n",
       "    <tr>\n",
       "      <th>CO2 Emission</th>\n",
       "      <td>14111</td>\n",
       "      <td>123</td>\n",
       "      <td>[\\n120 g CO2/km (comb)\\n]</td>\n",
       "      <td>740</td>\n",
       "    </tr>\n",
       "    <tr>\n",
       "      <th>Emission Class</th>\n",
       "      <td>12898</td>\n",
       "      <td>7</td>\n",
       "      <td>[\\nEuro 6\\n]</td>\n",
       "      <td>10139</td>\n",
       "    </tr>\n",
       "    <tr>\n",
       "      <th>\\nComfort &amp; Convenience\\n</th>\n",
       "      <td>14999</td>\n",
       "      <td>6198</td>\n",
       "      <td>[Air conditioning, Electrical side mirrors, Hi...</td>\n",
       "      <td>216</td>\n",
       "    </tr>\n",
       "    <tr>\n",
       "      <th>\\nEntertainment &amp; Media\\n</th>\n",
       "      <td>14545</td>\n",
       "      <td>346</td>\n",
       "      <td>[Bluetooth, Hands-free equipment, On-board com...</td>\n",
       "      <td>1282</td>\n",
       "    </tr>\n",
       "    <tr>\n",
       "      <th>\\nExtras\\n</th>\n",
       "      <td>12957</td>\n",
       "      <td>659</td>\n",
       "      <td>[Alloy wheels]</td>\n",
       "      <td>3245</td>\n",
       "    </tr>\n",
       "    <tr>\n",
       "      <th>\\nSafety &amp; Security\\n</th>\n",
       "      <td>14937</td>\n",
       "      <td>4443</td>\n",
       "      <td>[ABS, Central door lock, Daytime running light...</td>\n",
       "      <td>538</td>\n",
       "    </tr>\n",
       "    <tr>\n",
       "      <th>description</th>\n",
       "      <td>15919</td>\n",
       "      <td>12874</td>\n",
       "      <td>[]</td>\n",
       "      <td>636</td>\n",
       "    </tr>\n",
       "    <tr>\n",
       "      <th>Emission Label</th>\n",
       "      <td>3985</td>\n",
       "      <td>6</td>\n",
       "      <td>[\\n4 (Green)\\n]</td>\n",
       "      <td>3553</td>\n",
       "    </tr>\n",
       "    <tr>\n",
       "      <th>Gears</th>\n",
       "      <td>11207</td>\n",
       "      <td>10</td>\n",
       "      <td>[\\n6\\n]</td>\n",
       "      <td>5822</td>\n",
       "    </tr>\n",
       "    <tr>\n",
       "      <th>Country version</th>\n",
       "      <td>7586</td>\n",
       "      <td>23</td>\n",
       "      <td>[\\nGermany\\n]</td>\n",
       "      <td>4502</td>\n",
       "    </tr>\n",
       "    <tr>\n",
       "      <th>Electricity consumption</th>\n",
       "      <td>137</td>\n",
       "      <td>1</td>\n",
       "      <td>[\\n0 kWh/100 km (comb)\\n]</td>\n",
       "      <td>137</td>\n",
       "    </tr>\n",
       "    <tr>\n",
       "      <th>Last Service Date</th>\n",
       "      <td>566</td>\n",
       "      <td>266</td>\n",
       "      <td>[\\n02/2019\\n, \\nEuro 6\\n]</td>\n",
       "      <td>23</td>\n",
       "    </tr>\n",
       "    <tr>\n",
       "      <th>Other Fuel Types</th>\n",
       "      <td>880</td>\n",
       "      <td>1</td>\n",
       "      <td>[[], [], []]</td>\n",
       "      <td>880</td>\n",
       "    </tr>\n",
       "    <tr>\n",
       "      <th>Availability</th>\n",
       "      <td>635</td>\n",
       "      <td>15</td>\n",
       "      <td>\\nin 90 days from ordering\\n</td>\n",
       "      <td>196</td>\n",
       "    </tr>\n",
       "    <tr>\n",
       "      <th>Last Timing Belt Service Date</th>\n",
       "      <td>16</td>\n",
       "      <td>15</td>\n",
       "      <td>[\\n04/2016\\n]</td>\n",
       "      <td>2</td>\n",
       "    </tr>\n",
       "    <tr>\n",
       "      <th>Available from</th>\n",
       "      <td>272</td>\n",
       "      <td>46</td>\n",
       "      <td>\\n31/08/19\\n</td>\n",
       "      <td>98</td>\n",
       "    </tr>\n",
       "  </tbody>\n",
       "</table>\n",
       "</div>"
      ],
      "text/plain": [
       "                               count unique  \\\n",
       "url                            15919  15919   \n",
       "make_model                     15919      9   \n",
       "short_description              15873  10001   \n",
       "body_type                      15859      9   \n",
       "vat                            11406      2   \n",
       "km                             15919   6690   \n",
       "registration                   15919     48   \n",
       "prev_owner                      9091      4   \n",
       "hp                             15919     81   \n",
       "Type                           15917    169   \n",
       "Previous Owners                 9279    102   \n",
       "Next Inspection                 3535   1399   \n",
       "Inspection new                  3932    202   \n",
       "Warranty                       10499    515   \n",
       "Full Service                    8215    122   \n",
       "Non-smoking Vehicle             7177     94   \n",
       "null                           15919      1   \n",
       "Make                           15919      3   \n",
       "Model                          15919      9   \n",
       "Offer Number                   12744  11440   \n",
       "First Registration             14322      4   \n",
       "Body Color                     15322     14   \n",
       "Paint Type                     10147      3   \n",
       "Body Color Original            12160   1927   \n",
       "Upholstery                     12199     46   \n",
       "Body                           15859      9   \n",
       "Nr. of Doors                   15707      6   \n",
       "Nr. of Seats                   14942      6   \n",
       "Model Code                      4978    232   \n",
       "Gearing Type                   15919      3   \n",
       "Displacement                   15423     77   \n",
       "Cylinders                      10239      7   \n",
       "Weight                          8945    434   \n",
       "Drive chain                     9061      3   \n",
       "Fuel                           15919     77   \n",
       "Consumption                    14013    881   \n",
       "CO2 Emission                   14111    123   \n",
       "Emission Class                 12898      7   \n",
       "\\nComfort & Convenience\\n      14999   6198   \n",
       "\\nEntertainment & Media\\n      14545    346   \n",
       "\\nExtras\\n                     12957    659   \n",
       "\\nSafety & Security\\n          14937   4443   \n",
       "description                    15919  12874   \n",
       "Emission Label                  3985      6   \n",
       "Gears                          11207     10   \n",
       "Country version                 7586     23   \n",
       "Electricity consumption          137      1   \n",
       "Last Service Date                566    266   \n",
       "Other Fuel Types                 880      1   \n",
       "Availability                     635     15   \n",
       "Last Timing Belt Service Date     16     15   \n",
       "Available from                   272     46   \n",
       "\n",
       "                                                                             top  \\\n",
       "url                            https://www.autoscout24.com//offers/audi-a1-sp...   \n",
       "make_model                                                               Audi A3   \n",
       "short_description                              SPB 1.6 TDI 116 CV S tronic Sport   \n",
       "body_type                                                                 Sedans   \n",
       "vat                                                               VAT deductible   \n",
       "km                                                                         10 km   \n",
       "registration                                                                 -/-   \n",
       "prev_owner                                                      1 previous owner   \n",
       "hp                                                                         85 kW   \n",
       "Type                                     [, Used, , Diesel (Particulate Filter)]   \n",
       "Previous Owners                                                            \\n1\\n   \n",
       "Next Inspection                                                      \\n04/2022\\n   \n",
       "Inspection new                                             [\\nYes\\n, \\nEuro 6\\n]   \n",
       "Warranty                                                    [\\n, \\n, \\nEuro 6\\n]   \n",
       "Full Service                                             [\\n, \\n, \\n4 (Green)\\n]   \n",
       "Non-smoking Vehicle                                                     [\\n, \\n]   \n",
       "null                                                                          []   \n",
       "Make                                                                    \\nOpel\\n   \n",
       "Model                                                               [\\n, A3, \\n]   \n",
       "Offer Number                                                       [\\nLT67679\\n]   \n",
       "First Registration                                                [\\n, 2018, \\n]   \n",
       "Body Color                                                       [\\n, Black, \\n]   \n",
       "Paint Type                                                        [\\nMetallic\\n]   \n",
       "Body Color Original                                           [\\nOnyx Schwarz\\n]   \n",
       "Upholstery                                                    [\\nCloth, Black\\n]   \n",
       "Body                                                            [\\n, Sedans, \\n]   \n",
       "Nr. of Doors                                                             [\\n5\\n]   \n",
       "Nr. of Seats                                                             [\\n5\\n]   \n",
       "Model Code                                                        [\\n0035/BCB\\n]   \n",
       "Gearing Type                                                    [\\n, Manual, \\n]   \n",
       "Displacement                                                      [\\n1,598 cc\\n]   \n",
       "Cylinders                                                                [\\n4\\n]   \n",
       "Weight                                                            [\\n1,163 kg\\n]   \n",
       "Drive chain                                                          [\\nfront\\n]   \n",
       "Fuel                                       [\\n, Diesel (Particulate Filter), \\n]   \n",
       "Consumption                    [[3.9 l/100 km (comb)], [4.1 l/100 km (city)],...   \n",
       "CO2 Emission                                           [\\n120 g CO2/km (comb)\\n]   \n",
       "Emission Class                                                      [\\nEuro 6\\n]   \n",
       "\\nComfort & Convenience\\n      [Air conditioning, Electrical side mirrors, Hi...   \n",
       "\\nEntertainment & Media\\n      [Bluetooth, Hands-free equipment, On-board com...   \n",
       "\\nExtras\\n                                                        [Alloy wheels]   \n",
       "\\nSafety & Security\\n          [ABS, Central door lock, Daytime running light...   \n",
       "description                                                                   []   \n",
       "Emission Label                                                   [\\n4 (Green)\\n]   \n",
       "Gears                                                                    [\\n6\\n]   \n",
       "Country version                                                    [\\nGermany\\n]   \n",
       "Electricity consumption                                [\\n0 kWh/100 km (comb)\\n]   \n",
       "Last Service Date                                      [\\n02/2019\\n, \\nEuro 6\\n]   \n",
       "Other Fuel Types                                                    [[], [], []]   \n",
       "Availability                                        \\nin 90 days from ordering\\n   \n",
       "Last Timing Belt Service Date                                      [\\n04/2016\\n]   \n",
       "Available from                                                      \\n31/08/19\\n   \n",
       "\n",
       "                                freq  \n",
       "url                                1  \n",
       "make_model                      3097  \n",
       "short_description                 64  \n",
       "body_type                       7903  \n",
       "vat                            10980  \n",
       "km                              1045  \n",
       "registration                    1597  \n",
       "prev_owner                      8294  \n",
       "hp                              2542  \n",
       "Type                            3475  \n",
       "Previous Owners                 8101  \n",
       "Next Inspection                   62  \n",
       "Inspection new                   523  \n",
       "Warranty                        1868  \n",
       "Full Service                    2235  \n",
       "Non-smoking Vehicle             3647  \n",
       "null                           15919  \n",
       "Make                            7343  \n",
       "Model                           3097  \n",
       "Offer Number                      27  \n",
       "First Registration              4522  \n",
       "Body Color                      3745  \n",
       "Paint Type                      9794  \n",
       "Body Color Original              338  \n",
       "Upholstery                      5821  \n",
       "Body                            7903  \n",
       "Nr. of Doors                   11575  \n",
       "Nr. of Seats                   13336  \n",
       "Model Code                       268  \n",
       "Gearing Type                    8153  \n",
       "Displacement                    4761  \n",
       "Cylinders                       8105  \n",
       "Weight                           574  \n",
       "Drive chain                     8886  \n",
       "Fuel                            4315  \n",
       "Consumption                      304  \n",
       "CO2 Emission                     740  \n",
       "Emission Class                 10139  \n",
       "\\nComfort & Convenience\\n        216  \n",
       "\\nEntertainment & Media\\n       1282  \n",
       "\\nExtras\\n                      3245  \n",
       "\\nSafety & Security\\n            538  \n",
       "description                      636  \n",
       "Emission Label                  3553  \n",
       "Gears                           5822  \n",
       "Country version                 4502  \n",
       "Electricity consumption          137  \n",
       "Last Service Date                 23  \n",
       "Other Fuel Types                 880  \n",
       "Availability                     196  \n",
       "Last Timing Belt Service Date      2  \n",
       "Available from                    98  "
      ]
     },
     "execution_count": 290,
     "metadata": {},
     "output_type": "execute_result"
    }
   ],
   "source": [
    "df.describe(include=[object]).T"
   ]
  },
  {
   "cell_type": "code",
   "execution_count": 291,
   "metadata": {},
   "outputs": [
    {
     "data": {
      "text/plain": [
       "Index(['url', 'make_model', 'short_description', 'body_type', 'price', 'vat',\n",
       "       'km', 'registration', 'prev_owner', 'kW', 'hp', 'Type',\n",
       "       'Previous Owners', 'Next Inspection', 'Inspection new', 'Warranty',\n",
       "       'Full Service', 'Non-smoking Vehicle', 'null', 'Make', 'Model',\n",
       "       'Offer Number', 'First Registration', 'Body Color', 'Paint Type',\n",
       "       'Body Color Original', 'Upholstery', 'Body', 'Nr. of Doors',\n",
       "       'Nr. of Seats', 'Model Code', 'Gearing Type', 'Displacement',\n",
       "       'Cylinders', 'Weight', 'Drive chain', 'Fuel', 'Consumption',\n",
       "       'CO2 Emission', 'Emission Class', '\\nComfort & Convenience\\n',\n",
       "       '\\nEntertainment & Media\\n', '\\nExtras\\n', '\\nSafety & Security\\n',\n",
       "       'description', 'Emission Label', 'Gears', 'Country version',\n",
       "       'Electricity consumption', 'Last Service Date', 'Other Fuel Types',\n",
       "       'Availability', 'Last Timing Belt Service Date', 'Available from'],\n",
       "      dtype='object')"
      ]
     },
     "execution_count": 291,
     "metadata": {},
     "output_type": "execute_result"
    }
   ],
   "source": [
    "df.columns"
   ]
  },
  {
   "cell_type": "markdown",
   "metadata": {},
   "source": [
    "### Rename the Column Names"
   ]
  },
  {
   "cell_type": "code",
   "execution_count": 292,
   "metadata": {
    "scrolled": true
   },
   "outputs": [],
   "source": [
    "# First Method\n",
    "\n",
    "# from skimpy import clean_columns\n",
    "\n",
    "# df = clean_columns(df)\n",
    "# df.head(3).T"
   ]
  },
  {
   "cell_type": "code",
   "execution_count": 293,
   "metadata": {
    "scrolled": true
   },
   "outputs": [
    {
     "data": {
      "text/html": [
       "<div>\n",
       "<style scoped>\n",
       "    .dataframe tbody tr th:only-of-type {\n",
       "        vertical-align: middle;\n",
       "    }\n",
       "\n",
       "    .dataframe tbody tr th {\n",
       "        vertical-align: top;\n",
       "    }\n",
       "\n",
       "    .dataframe thead th {\n",
       "        text-align: right;\n",
       "    }\n",
       "</style>\n",
       "<table border=\"1\" class=\"dataframe\">\n",
       "  <thead>\n",
       "    <tr style=\"text-align: right;\">\n",
       "      <th></th>\n",
       "      <th>0</th>\n",
       "      <th>1</th>\n",
       "      <th>2</th>\n",
       "    </tr>\n",
       "  </thead>\n",
       "  <tbody>\n",
       "    <tr>\n",
       "      <th>url</th>\n",
       "      <td>https://www.autoscout24.com//offers/audi-a1-sp...</td>\n",
       "      <td>https://www.autoscout24.com//offers/audi-a1-1-...</td>\n",
       "      <td>https://www.autoscout24.com//offers/audi-a1-sp...</td>\n",
       "    </tr>\n",
       "    <tr>\n",
       "      <th>make_model</th>\n",
       "      <td>Audi A1</td>\n",
       "      <td>Audi A1</td>\n",
       "      <td>Audi A1</td>\n",
       "    </tr>\n",
       "    <tr>\n",
       "      <th>short_description</th>\n",
       "      <td>Sportback 1.4 TDI S-tronic Xenon Navi Klima</td>\n",
       "      <td>1.8 TFSI sport</td>\n",
       "      <td>Sportback 1.6 TDI S tronic Einparkhilfe plus+m...</td>\n",
       "    </tr>\n",
       "    <tr>\n",
       "      <th>body_type</th>\n",
       "      <td>Sedans</td>\n",
       "      <td>Sedans</td>\n",
       "      <td>Sedans</td>\n",
       "    </tr>\n",
       "    <tr>\n",
       "      <th>price</th>\n",
       "      <td>15770</td>\n",
       "      <td>14500</td>\n",
       "      <td>14640</td>\n",
       "    </tr>\n",
       "    <tr>\n",
       "      <th>vat</th>\n",
       "      <td>VAT deductible</td>\n",
       "      <td>Price negotiable</td>\n",
       "      <td>VAT deductible</td>\n",
       "    </tr>\n",
       "    <tr>\n",
       "      <th>km</th>\n",
       "      <td>56,013 km</td>\n",
       "      <td>80,000 km</td>\n",
       "      <td>83,450 km</td>\n",
       "    </tr>\n",
       "    <tr>\n",
       "      <th>registration</th>\n",
       "      <td>01/2016</td>\n",
       "      <td>03/2017</td>\n",
       "      <td>02/2016</td>\n",
       "    </tr>\n",
       "    <tr>\n",
       "      <th>prev_owner</th>\n",
       "      <td>2 previous owners</td>\n",
       "      <td>None</td>\n",
       "      <td>1 previous owner</td>\n",
       "    </tr>\n",
       "    <tr>\n",
       "      <th>kW</th>\n",
       "      <td>NaN</td>\n",
       "      <td>NaN</td>\n",
       "      <td>NaN</td>\n",
       "    </tr>\n",
       "    <tr>\n",
       "      <th>hp</th>\n",
       "      <td>66 kW</td>\n",
       "      <td>141 kW</td>\n",
       "      <td>85 kW</td>\n",
       "    </tr>\n",
       "    <tr>\n",
       "      <th>Type</th>\n",
       "      <td>[, Used, , Diesel (Particulate Filter)]</td>\n",
       "      <td>[, Used, , Gasoline]</td>\n",
       "      <td>[, Used, , Diesel (Particulate Filter)]</td>\n",
       "    </tr>\n",
       "    <tr>\n",
       "      <th>Previous Owners</th>\n",
       "      <td>\\n2\\n</td>\n",
       "      <td>NaN</td>\n",
       "      <td>\\n1\\n</td>\n",
       "    </tr>\n",
       "    <tr>\n",
       "      <th>Next Inspection</th>\n",
       "      <td>[\\n06/2021\\n, \\n99 g CO2/km (comb)\\n]</td>\n",
       "      <td>NaN</td>\n",
       "      <td>NaN</td>\n",
       "    </tr>\n",
       "    <tr>\n",
       "      <th>Inspection new</th>\n",
       "      <td>[\\nYes\\n, \\nEuro 6\\n]</td>\n",
       "      <td>NaN</td>\n",
       "      <td>NaN</td>\n",
       "    </tr>\n",
       "    <tr>\n",
       "      <th>Warranty</th>\n",
       "      <td>[\\n, \\n, \\n4 (Green)\\n]</td>\n",
       "      <td>NaN</td>\n",
       "      <td>[\\n, \\n, \\n99 g CO2/km (comb)\\n]</td>\n",
       "    </tr>\n",
       "    <tr>\n",
       "      <th>Full Service</th>\n",
       "      <td>[\\n, \\n]</td>\n",
       "      <td>NaN</td>\n",
       "      <td>NaN</td>\n",
       "    </tr>\n",
       "    <tr>\n",
       "      <th>Non-smoking Vehicle</th>\n",
       "      <td>[\\n, \\n]</td>\n",
       "      <td>NaN</td>\n",
       "      <td>NaN</td>\n",
       "    </tr>\n",
       "    <tr>\n",
       "      <th>null</th>\n",
       "      <td>[]</td>\n",
       "      <td>[]</td>\n",
       "      <td>[]</td>\n",
       "    </tr>\n",
       "    <tr>\n",
       "      <th>Make</th>\n",
       "      <td>\\nAudi\\n</td>\n",
       "      <td>\\nAudi\\n</td>\n",
       "      <td>\\nAudi\\n</td>\n",
       "    </tr>\n",
       "    <tr>\n",
       "      <th>Model</th>\n",
       "      <td>[\\n, A1, \\n]</td>\n",
       "      <td>[\\n, A1, \\n]</td>\n",
       "      <td>[\\n, A1, \\n]</td>\n",
       "    </tr>\n",
       "    <tr>\n",
       "      <th>Offer Number</th>\n",
       "      <td>[\\nLR-062483\\n]</td>\n",
       "      <td>NaN</td>\n",
       "      <td>[\\nAM-95365\\n]</td>\n",
       "    </tr>\n",
       "    <tr>\n",
       "      <th>First Registration</th>\n",
       "      <td>[\\n, 2016, \\n]</td>\n",
       "      <td>[\\n, 2017, \\n]</td>\n",
       "      <td>[\\n, 2016, \\n]</td>\n",
       "    </tr>\n",
       "    <tr>\n",
       "      <th>Body Color</th>\n",
       "      <td>[\\n, Black, \\n]</td>\n",
       "      <td>[\\n, Red, \\n]</td>\n",
       "      <td>[\\n, Black, \\n]</td>\n",
       "    </tr>\n",
       "    <tr>\n",
       "      <th>Paint Type</th>\n",
       "      <td>[\\nMetallic\\n]</td>\n",
       "      <td>NaN</td>\n",
       "      <td>[\\nMetallic\\n]</td>\n",
       "    </tr>\n",
       "    <tr>\n",
       "      <th>Body Color Original</th>\n",
       "      <td>[\\nMythosschwarz\\n]</td>\n",
       "      <td>NaN</td>\n",
       "      <td>[\\nmythosschwarz metallic\\n]</td>\n",
       "    </tr>\n",
       "    <tr>\n",
       "      <th>Upholstery</th>\n",
       "      <td>[\\nCloth, Black\\n]</td>\n",
       "      <td>[\\nCloth, Grey\\n]</td>\n",
       "      <td>[\\nCloth, Black\\n]</td>\n",
       "    </tr>\n",
       "    <tr>\n",
       "      <th>Body</th>\n",
       "      <td>[\\n, Sedans, \\n]</td>\n",
       "      <td>[\\n, Sedans, \\n]</td>\n",
       "      <td>[\\n, Sedans, \\n]</td>\n",
       "    </tr>\n",
       "    <tr>\n",
       "      <th>Nr. of Doors</th>\n",
       "      <td>[\\n5\\n]</td>\n",
       "      <td>[\\n3\\n]</td>\n",
       "      <td>[\\n4\\n]</td>\n",
       "    </tr>\n",
       "    <tr>\n",
       "      <th>Nr. of Seats</th>\n",
       "      <td>[\\n5\\n]</td>\n",
       "      <td>[\\n4\\n]</td>\n",
       "      <td>[\\n4\\n]</td>\n",
       "    </tr>\n",
       "    <tr>\n",
       "      <th>Model Code</th>\n",
       "      <td>[\\n0588/BDF\\n]</td>\n",
       "      <td>[\\n0588/BCY\\n]</td>\n",
       "      <td>NaN</td>\n",
       "    </tr>\n",
       "    <tr>\n",
       "      <th>Gearing Type</th>\n",
       "      <td>[\\n, Automatic, \\n]</td>\n",
       "      <td>[\\n, Automatic, \\n]</td>\n",
       "      <td>[\\n, Automatic, \\n]</td>\n",
       "    </tr>\n",
       "    <tr>\n",
       "      <th>Displacement</th>\n",
       "      <td>[\\n1,422 cc\\n]</td>\n",
       "      <td>[\\n1,798 cc\\n]</td>\n",
       "      <td>[\\n1,598 cc\\n]</td>\n",
       "    </tr>\n",
       "    <tr>\n",
       "      <th>Cylinders</th>\n",
       "      <td>[\\n3\\n]</td>\n",
       "      <td>[\\n4\\n]</td>\n",
       "      <td>NaN</td>\n",
       "    </tr>\n",
       "    <tr>\n",
       "      <th>Weight</th>\n",
       "      <td>[\\n1,220 kg\\n]</td>\n",
       "      <td>[\\n1,255 kg\\n]</td>\n",
       "      <td>NaN</td>\n",
       "    </tr>\n",
       "    <tr>\n",
       "      <th>Drive chain</th>\n",
       "      <td>[\\nfront\\n]</td>\n",
       "      <td>[\\nfront\\n]</td>\n",
       "      <td>[\\nfront\\n]</td>\n",
       "    </tr>\n",
       "    <tr>\n",
       "      <th>Fuel</th>\n",
       "      <td>[\\n, Diesel (Particulate Filter), \\n]</td>\n",
       "      <td>[\\n, Gasoline, \\n]</td>\n",
       "      <td>[\\n, Diesel (Particulate Filter), \\n]</td>\n",
       "    </tr>\n",
       "    <tr>\n",
       "      <th>Consumption</th>\n",
       "      <td>[[3.8 l/100 km (comb)], [4.3 l/100 km (city)],...</td>\n",
       "      <td>[[5.6 l/100 km (comb)], [7.1 l/100 km (city)],...</td>\n",
       "      <td>[[3.8 l/100 km (comb)], [4.4 l/100 km (city)],...</td>\n",
       "    </tr>\n",
       "    <tr>\n",
       "      <th>CO2 Emission</th>\n",
       "      <td>[\\n99 g CO2/km (comb)\\n]</td>\n",
       "      <td>[\\n129 g CO2/km (comb)\\n]</td>\n",
       "      <td>[\\n99 g CO2/km (comb)\\n]</td>\n",
       "    </tr>\n",
       "    <tr>\n",
       "      <th>Emission Class</th>\n",
       "      <td>[\\nEuro 6\\n]</td>\n",
       "      <td>[\\nEuro 6\\n]</td>\n",
       "      <td>[\\nEuro 6\\n]</td>\n",
       "    </tr>\n",
       "    <tr>\n",
       "      <th>description</th>\n",
       "      <td>[\\n, Sicherheit:,  , Deaktivierung für Beifahr...</td>\n",
       "      <td>[\\nLangstreckenfahrzeug daher die hohe Kilomet...</td>\n",
       "      <td>[\\n, Fahrzeug-Nummer: AM-95365,  , Ehem. UPE 2...</td>\n",
       "    </tr>\n",
       "    <tr>\n",
       "      <th>Emission Label</th>\n",
       "      <td>NaN</td>\n",
       "      <td>[\\n4 (Green)\\n]</td>\n",
       "      <td>[\\n4 (Green)\\n]</td>\n",
       "    </tr>\n",
       "    <tr>\n",
       "      <th>Gears</th>\n",
       "      <td>NaN</td>\n",
       "      <td>[\\n7\\n]</td>\n",
       "      <td>NaN</td>\n",
       "    </tr>\n",
       "    <tr>\n",
       "      <th>Country version</th>\n",
       "      <td>NaN</td>\n",
       "      <td>NaN</td>\n",
       "      <td>NaN</td>\n",
       "    </tr>\n",
       "    <tr>\n",
       "      <th>Electricity consumption</th>\n",
       "      <td>NaN</td>\n",
       "      <td>NaN</td>\n",
       "      <td>NaN</td>\n",
       "    </tr>\n",
       "    <tr>\n",
       "      <th>Last Service Date</th>\n",
       "      <td>NaN</td>\n",
       "      <td>NaN</td>\n",
       "      <td>NaN</td>\n",
       "    </tr>\n",
       "    <tr>\n",
       "      <th>Other Fuel Types</th>\n",
       "      <td>NaN</td>\n",
       "      <td>NaN</td>\n",
       "      <td>NaN</td>\n",
       "    </tr>\n",
       "    <tr>\n",
       "      <th>Availability</th>\n",
       "      <td>NaN</td>\n",
       "      <td>NaN</td>\n",
       "      <td>NaN</td>\n",
       "    </tr>\n",
       "    <tr>\n",
       "      <th>Last Timing Belt Service Date</th>\n",
       "      <td>NaN</td>\n",
       "      <td>NaN</td>\n",
       "      <td>NaN</td>\n",
       "    </tr>\n",
       "    <tr>\n",
       "      <th>Available from</th>\n",
       "      <td>NaN</td>\n",
       "      <td>NaN</td>\n",
       "      <td>NaN</td>\n",
       "    </tr>\n",
       "    <tr>\n",
       "      <th>Comfort_Convenience</th>\n",
       "      <td>[Air conditioning, Armrest, Automatic climate ...</td>\n",
       "      <td>[Air conditioning, Automatic climate control, ...</td>\n",
       "      <td>[Air conditioning, Cruise control, Electrical ...</td>\n",
       "    </tr>\n",
       "    <tr>\n",
       "      <th>Entertainment_Media</th>\n",
       "      <td>[Bluetooth, Hands-free equipment, On-board com...</td>\n",
       "      <td>[Bluetooth, Hands-free equipment, On-board com...</td>\n",
       "      <td>[MP3, On-board computer]</td>\n",
       "    </tr>\n",
       "    <tr>\n",
       "      <th>Extras</th>\n",
       "      <td>[Alloy wheels, Catalytic Converter, Voice Cont...</td>\n",
       "      <td>[Alloy wheels, Sport seats, Sport suspension, ...</td>\n",
       "      <td>[Alloy wheels, Voice Control]</td>\n",
       "    </tr>\n",
       "    <tr>\n",
       "      <th>Safety_Security</th>\n",
       "      <td>[ABS, Central door lock, Daytime running light...</td>\n",
       "      <td>[ABS, Central door lock, Central door lock wit...</td>\n",
       "      <td>[ABS, Central door lock, Daytime running light...</td>\n",
       "    </tr>\n",
       "  </tbody>\n",
       "</table>\n",
       "</div>"
      ],
      "text/plain": [
       "                                                                               0  \\\n",
       "url                            https://www.autoscout24.com//offers/audi-a1-sp...   \n",
       "make_model                                                               Audi A1   \n",
       "short_description                    Sportback 1.4 TDI S-tronic Xenon Navi Klima   \n",
       "body_type                                                                 Sedans   \n",
       "price                                                                      15770   \n",
       "vat                                                               VAT deductible   \n",
       "km                                                                     56,013 km   \n",
       "registration                                                             01/2016   \n",
       "prev_owner                                                     2 previous owners   \n",
       "kW                                                                           NaN   \n",
       "hp                                                                         66 kW   \n",
       "Type                                     [, Used, , Diesel (Particulate Filter)]   \n",
       "Previous Owners                                                            \\n2\\n   \n",
       "Next Inspection                            [\\n06/2021\\n, \\n99 g CO2/km (comb)\\n]   \n",
       "Inspection new                                             [\\nYes\\n, \\nEuro 6\\n]   \n",
       "Warranty                                                 [\\n, \\n, \\n4 (Green)\\n]   \n",
       "Full Service                                                            [\\n, \\n]   \n",
       "Non-smoking Vehicle                                                     [\\n, \\n]   \n",
       "null                                                                          []   \n",
       "Make                                                                    \\nAudi\\n   \n",
       "Model                                                               [\\n, A1, \\n]   \n",
       "Offer Number                                                     [\\nLR-062483\\n]   \n",
       "First Registration                                                [\\n, 2016, \\n]   \n",
       "Body Color                                                       [\\n, Black, \\n]   \n",
       "Paint Type                                                        [\\nMetallic\\n]   \n",
       "Body Color Original                                          [\\nMythosschwarz\\n]   \n",
       "Upholstery                                                    [\\nCloth, Black\\n]   \n",
       "Body                                                            [\\n, Sedans, \\n]   \n",
       "Nr. of Doors                                                             [\\n5\\n]   \n",
       "Nr. of Seats                                                             [\\n5\\n]   \n",
       "Model Code                                                        [\\n0588/BDF\\n]   \n",
       "Gearing Type                                                 [\\n, Automatic, \\n]   \n",
       "Displacement                                                      [\\n1,422 cc\\n]   \n",
       "Cylinders                                                                [\\n3\\n]   \n",
       "Weight                                                            [\\n1,220 kg\\n]   \n",
       "Drive chain                                                          [\\nfront\\n]   \n",
       "Fuel                                       [\\n, Diesel (Particulate Filter), \\n]   \n",
       "Consumption                    [[3.8 l/100 km (comb)], [4.3 l/100 km (city)],...   \n",
       "CO2 Emission                                            [\\n99 g CO2/km (comb)\\n]   \n",
       "Emission Class                                                      [\\nEuro 6\\n]   \n",
       "description                    [\\n, Sicherheit:,  , Deaktivierung für Beifahr...   \n",
       "Emission Label                                                               NaN   \n",
       "Gears                                                                        NaN   \n",
       "Country version                                                              NaN   \n",
       "Electricity consumption                                                      NaN   \n",
       "Last Service Date                                                            NaN   \n",
       "Other Fuel Types                                                             NaN   \n",
       "Availability                                                                 NaN   \n",
       "Last Timing Belt Service Date                                                NaN   \n",
       "Available from                                                               NaN   \n",
       "Comfort_Convenience            [Air conditioning, Armrest, Automatic climate ...   \n",
       "Entertainment_Media            [Bluetooth, Hands-free equipment, On-board com...   \n",
       "Extras                         [Alloy wheels, Catalytic Converter, Voice Cont...   \n",
       "Safety_Security                [ABS, Central door lock, Daytime running light...   \n",
       "\n",
       "                                                                               1  \\\n",
       "url                            https://www.autoscout24.com//offers/audi-a1-1-...   \n",
       "make_model                                                               Audi A1   \n",
       "short_description                                                 1.8 TFSI sport   \n",
       "body_type                                                                 Sedans   \n",
       "price                                                                      14500   \n",
       "vat                                                             Price negotiable   \n",
       "km                                                                     80,000 km   \n",
       "registration                                                             03/2017   \n",
       "prev_owner                                                                  None   \n",
       "kW                                                                           NaN   \n",
       "hp                                                                        141 kW   \n",
       "Type                                                        [, Used, , Gasoline]   \n",
       "Previous Owners                                                              NaN   \n",
       "Next Inspection                                                              NaN   \n",
       "Inspection new                                                               NaN   \n",
       "Warranty                                                                     NaN   \n",
       "Full Service                                                                 NaN   \n",
       "Non-smoking Vehicle                                                          NaN   \n",
       "null                                                                          []   \n",
       "Make                                                                    \\nAudi\\n   \n",
       "Model                                                               [\\n, A1, \\n]   \n",
       "Offer Number                                                                 NaN   \n",
       "First Registration                                                [\\n, 2017, \\n]   \n",
       "Body Color                                                         [\\n, Red, \\n]   \n",
       "Paint Type                                                                   NaN   \n",
       "Body Color Original                                                          NaN   \n",
       "Upholstery                                                     [\\nCloth, Grey\\n]   \n",
       "Body                                                            [\\n, Sedans, \\n]   \n",
       "Nr. of Doors                                                             [\\n3\\n]   \n",
       "Nr. of Seats                                                             [\\n4\\n]   \n",
       "Model Code                                                        [\\n0588/BCY\\n]   \n",
       "Gearing Type                                                 [\\n, Automatic, \\n]   \n",
       "Displacement                                                      [\\n1,798 cc\\n]   \n",
       "Cylinders                                                                [\\n4\\n]   \n",
       "Weight                                                            [\\n1,255 kg\\n]   \n",
       "Drive chain                                                          [\\nfront\\n]   \n",
       "Fuel                                                          [\\n, Gasoline, \\n]   \n",
       "Consumption                    [[5.6 l/100 km (comb)], [7.1 l/100 km (city)],...   \n",
       "CO2 Emission                                           [\\n129 g CO2/km (comb)\\n]   \n",
       "Emission Class                                                      [\\nEuro 6\\n]   \n",
       "description                    [\\nLangstreckenfahrzeug daher die hohe Kilomet...   \n",
       "Emission Label                                                   [\\n4 (Green)\\n]   \n",
       "Gears                                                                    [\\n7\\n]   \n",
       "Country version                                                              NaN   \n",
       "Electricity consumption                                                      NaN   \n",
       "Last Service Date                                                            NaN   \n",
       "Other Fuel Types                                                             NaN   \n",
       "Availability                                                                 NaN   \n",
       "Last Timing Belt Service Date                                                NaN   \n",
       "Available from                                                               NaN   \n",
       "Comfort_Convenience            [Air conditioning, Automatic climate control, ...   \n",
       "Entertainment_Media            [Bluetooth, Hands-free equipment, On-board com...   \n",
       "Extras                         [Alloy wheels, Sport seats, Sport suspension, ...   \n",
       "Safety_Security                [ABS, Central door lock, Central door lock wit...   \n",
       "\n",
       "                                                                               2  \n",
       "url                            https://www.autoscout24.com//offers/audi-a1-sp...  \n",
       "make_model                                                               Audi A1  \n",
       "short_description              Sportback 1.6 TDI S tronic Einparkhilfe plus+m...  \n",
       "body_type                                                                 Sedans  \n",
       "price                                                                      14640  \n",
       "vat                                                               VAT deductible  \n",
       "km                                                                     83,450 km  \n",
       "registration                                                             02/2016  \n",
       "prev_owner                                                      1 previous owner  \n",
       "kW                                                                           NaN  \n",
       "hp                                                                         85 kW  \n",
       "Type                                     [, Used, , Diesel (Particulate Filter)]  \n",
       "Previous Owners                                                            \\n1\\n  \n",
       "Next Inspection                                                              NaN  \n",
       "Inspection new                                                               NaN  \n",
       "Warranty                                        [\\n, \\n, \\n99 g CO2/km (comb)\\n]  \n",
       "Full Service                                                                 NaN  \n",
       "Non-smoking Vehicle                                                          NaN  \n",
       "null                                                                          []  \n",
       "Make                                                                    \\nAudi\\n  \n",
       "Model                                                               [\\n, A1, \\n]  \n",
       "Offer Number                                                      [\\nAM-95365\\n]  \n",
       "First Registration                                                [\\n, 2016, \\n]  \n",
       "Body Color                                                       [\\n, Black, \\n]  \n",
       "Paint Type                                                        [\\nMetallic\\n]  \n",
       "Body Color Original                                 [\\nmythosschwarz metallic\\n]  \n",
       "Upholstery                                                    [\\nCloth, Black\\n]  \n",
       "Body                                                            [\\n, Sedans, \\n]  \n",
       "Nr. of Doors                                                             [\\n4\\n]  \n",
       "Nr. of Seats                                                             [\\n4\\n]  \n",
       "Model Code                                                                   NaN  \n",
       "Gearing Type                                                 [\\n, Automatic, \\n]  \n",
       "Displacement                                                      [\\n1,598 cc\\n]  \n",
       "Cylinders                                                                    NaN  \n",
       "Weight                                                                       NaN  \n",
       "Drive chain                                                          [\\nfront\\n]  \n",
       "Fuel                                       [\\n, Diesel (Particulate Filter), \\n]  \n",
       "Consumption                    [[3.8 l/100 km (comb)], [4.4 l/100 km (city)],...  \n",
       "CO2 Emission                                            [\\n99 g CO2/km (comb)\\n]  \n",
       "Emission Class                                                      [\\nEuro 6\\n]  \n",
       "description                    [\\n, Fahrzeug-Nummer: AM-95365,  , Ehem. UPE 2...  \n",
       "Emission Label                                                   [\\n4 (Green)\\n]  \n",
       "Gears                                                                        NaN  \n",
       "Country version                                                              NaN  \n",
       "Electricity consumption                                                      NaN  \n",
       "Last Service Date                                                            NaN  \n",
       "Other Fuel Types                                                             NaN  \n",
       "Availability                                                                 NaN  \n",
       "Last Timing Belt Service Date                                                NaN  \n",
       "Available from                                                               NaN  \n",
       "Comfort_Convenience            [Air conditioning, Cruise control, Electrical ...  \n",
       "Entertainment_Media                                     [MP3, On-board computer]  \n",
       "Extras                                             [Alloy wheels, Voice Control]  \n",
       "Safety_Security                [ABS, Central door lock, Daytime running light...  "
      ]
     },
     "execution_count": 293,
     "metadata": {},
     "output_type": "execute_result"
    }
   ],
   "source": [
    "# Second Method\n",
    "\n",
    "df[\"Comfort_Convenience\"] = df[\"\\nComfort & Convenience\\n\"]\n",
    "df[\"Entertainment_Media\"] = df[\"\\nEntertainment & Media\\n\"]\n",
    "df[\"Extras\"] = df[\"\\nExtras\\n\"]\n",
    "df[\"Safety_Security\"] = df[\"\\nSafety & Security\\n\"]\n",
    "\n",
    "drop_columns = [\"\\nComfort & Convenience\\n\", \"\\nEntertainment & Media\\n\", \"\\nExtras\\n\", \"\\nSafety & Security\\n\"]\n",
    "\n",
    "df.drop(drop_columns, axis=1, inplace=True)\n",
    "\n",
    "df.head(3).T"
   ]
  },
  {
   "cell_type": "code",
   "execution_count": 294,
   "metadata": {},
   "outputs": [],
   "source": [
    "#Third Method\n",
    "\n",
    "# df.rename(columns={\"\\nComfort & Convenience\\n\": \"Comfort_Convenience\",\n",
    "#                    \"\\nEntertainment & Media\\n\":\"Entertainment_Media\",\n",
    "#                    \"\\nExtras\\n\":\"Extras\",\n",
    "#                    \"\\nSafety & Security\\n\":\"Safety_Security\"}, inplace=True)\n",
    "\n",
    "# df.head(3).T"
   ]
  },
  {
   "cell_type": "code",
   "execution_count": 295,
   "metadata": {
    "scrolled": true
   },
   "outputs": [
    {
     "name": "stdout",
     "output_type": "stream",
     "text": [
      "<class 'pandas.core.frame.DataFrame'>\n",
      "RangeIndex: 15919 entries, 0 to 15918\n",
      "Data columns (total 54 columns):\n",
      " #   Column                         Non-Null Count  Dtype  \n",
      "---  ------                         --------------  -----  \n",
      " 0   url                            15919 non-null  object \n",
      " 1   make_model                     15919 non-null  object \n",
      " 2   short_description              15873 non-null  object \n",
      " 3   body_type                      15859 non-null  object \n",
      " 4   price                          15919 non-null  int64  \n",
      " 5   vat                            11406 non-null  object \n",
      " 6   km                             15919 non-null  object \n",
      " 7   registration                   15919 non-null  object \n",
      " 8   prev_owner                     9091 non-null   object \n",
      " 9   kW                             0 non-null      float64\n",
      " 10  hp                             15919 non-null  object \n",
      " 11  Type                           15917 non-null  object \n",
      " 12  Previous Owners                9279 non-null   object \n",
      " 13  Next Inspection                3535 non-null   object \n",
      " 14  Inspection new                 3932 non-null   object \n",
      " 15  Warranty                       10499 non-null  object \n",
      " 16  Full Service                   8215 non-null   object \n",
      " 17  Non-smoking Vehicle            7177 non-null   object \n",
      " 18  null                           15919 non-null  object \n",
      " 19  Make                           15919 non-null  object \n",
      " 20  Model                          15919 non-null  object \n",
      " 21  Offer Number                   12744 non-null  object \n",
      " 22  First Registration             14322 non-null  object \n",
      " 23  Body Color                     15322 non-null  object \n",
      " 24  Paint Type                     10147 non-null  object \n",
      " 25  Body Color Original            12160 non-null  object \n",
      " 26  Upholstery                     12199 non-null  object \n",
      " 27  Body                           15859 non-null  object \n",
      " 28  Nr. of Doors                   15707 non-null  object \n",
      " 29  Nr. of Seats                   14942 non-null  object \n",
      " 30  Model Code                     4978 non-null   object \n",
      " 31  Gearing Type                   15919 non-null  object \n",
      " 32  Displacement                   15423 non-null  object \n",
      " 33  Cylinders                      10239 non-null  object \n",
      " 34  Weight                         8945 non-null   object \n",
      " 35  Drive chain                    9061 non-null   object \n",
      " 36  Fuel                           15919 non-null  object \n",
      " 37  Consumption                    14013 non-null  object \n",
      " 38  CO2 Emission                   14111 non-null  object \n",
      " 39  Emission Class                 12898 non-null  object \n",
      " 40  description                    15919 non-null  object \n",
      " 41  Emission Label                 3985 non-null   object \n",
      " 42  Gears                          11207 non-null  object \n",
      " 43  Country version                7586 non-null   object \n",
      " 44  Electricity consumption        137 non-null    object \n",
      " 45  Last Service Date              566 non-null    object \n",
      " 46  Other Fuel Types               880 non-null    object \n",
      " 47  Availability                   635 non-null    object \n",
      " 48  Last Timing Belt Service Date  16 non-null     object \n",
      " 49  Available from                 272 non-null    object \n",
      " 50  Comfort_Convenience            14999 non-null  object \n",
      " 51  Entertainment_Media            14545 non-null  object \n",
      " 52  Extras                         12957 non-null  object \n",
      " 53  Safety_Security                14937 non-null  object \n",
      "dtypes: float64(1), int64(1), object(52)\n",
      "memory usage: 6.6+ MB\n"
     ]
    }
   ],
   "source": [
    "df.info()"
   ]
  },
  {
   "cell_type": "code",
   "execution_count": 296,
   "metadata": {
    "scrolled": true
   },
   "outputs": [
    {
     "data": {
      "text/plain": [
       "(15919, 54)"
      ]
     },
     "execution_count": 296,
     "metadata": {},
     "output_type": "execute_result"
    }
   ],
   "source": [
    "df.shape # we have 54 columns at the beginning"
   ]
  },
  {
   "cell_type": "code",
   "execution_count": 297,
   "metadata": {
    "scrolled": true
   },
   "outputs": [
    {
     "data": {
      "text/html": [
       "<div>\n",
       "<style scoped>\n",
       "    .dataframe tbody tr th:only-of-type {\n",
       "        vertical-align: middle;\n",
       "    }\n",
       "\n",
       "    .dataframe tbody tr th {\n",
       "        vertical-align: top;\n",
       "    }\n",
       "\n",
       "    .dataframe thead th {\n",
       "        text-align: right;\n",
       "    }\n",
       "</style>\n",
       "<table border=\"1\" class=\"dataframe\">\n",
       "  <thead>\n",
       "    <tr style=\"text-align: right;\">\n",
       "      <th></th>\n",
       "      <th>isnull</th>\n",
       "    </tr>\n",
       "  </thead>\n",
       "  <tbody>\n",
       "    <tr>\n",
       "      <th>url</th>\n",
       "      <td>0</td>\n",
       "    </tr>\n",
       "    <tr>\n",
       "      <th>make_model</th>\n",
       "      <td>0</td>\n",
       "    </tr>\n",
       "    <tr>\n",
       "      <th>short_description</th>\n",
       "      <td>46</td>\n",
       "    </tr>\n",
       "    <tr>\n",
       "      <th>body_type</th>\n",
       "      <td>60</td>\n",
       "    </tr>\n",
       "    <tr>\n",
       "      <th>price</th>\n",
       "      <td>0</td>\n",
       "    </tr>\n",
       "    <tr>\n",
       "      <th>vat</th>\n",
       "      <td>4513</td>\n",
       "    </tr>\n",
       "    <tr>\n",
       "      <th>km</th>\n",
       "      <td>0</td>\n",
       "    </tr>\n",
       "    <tr>\n",
       "      <th>registration</th>\n",
       "      <td>0</td>\n",
       "    </tr>\n",
       "    <tr>\n",
       "      <th>prev_owner</th>\n",
       "      <td>6828</td>\n",
       "    </tr>\n",
       "    <tr>\n",
       "      <th>kW</th>\n",
       "      <td>15919</td>\n",
       "    </tr>\n",
       "    <tr>\n",
       "      <th>hp</th>\n",
       "      <td>0</td>\n",
       "    </tr>\n",
       "    <tr>\n",
       "      <th>Type</th>\n",
       "      <td>2</td>\n",
       "    </tr>\n",
       "    <tr>\n",
       "      <th>Previous Owners</th>\n",
       "      <td>6640</td>\n",
       "    </tr>\n",
       "    <tr>\n",
       "      <th>Next Inspection</th>\n",
       "      <td>12384</td>\n",
       "    </tr>\n",
       "    <tr>\n",
       "      <th>Inspection new</th>\n",
       "      <td>11987</td>\n",
       "    </tr>\n",
       "    <tr>\n",
       "      <th>Warranty</th>\n",
       "      <td>5420</td>\n",
       "    </tr>\n",
       "    <tr>\n",
       "      <th>Full Service</th>\n",
       "      <td>7704</td>\n",
       "    </tr>\n",
       "    <tr>\n",
       "      <th>Non-smoking Vehicle</th>\n",
       "      <td>8742</td>\n",
       "    </tr>\n",
       "    <tr>\n",
       "      <th>null</th>\n",
       "      <td>0</td>\n",
       "    </tr>\n",
       "    <tr>\n",
       "      <th>Make</th>\n",
       "      <td>0</td>\n",
       "    </tr>\n",
       "    <tr>\n",
       "      <th>Model</th>\n",
       "      <td>0</td>\n",
       "    </tr>\n",
       "    <tr>\n",
       "      <th>Offer Number</th>\n",
       "      <td>3175</td>\n",
       "    </tr>\n",
       "    <tr>\n",
       "      <th>First Registration</th>\n",
       "      <td>1597</td>\n",
       "    </tr>\n",
       "    <tr>\n",
       "      <th>Body Color</th>\n",
       "      <td>597</td>\n",
       "    </tr>\n",
       "    <tr>\n",
       "      <th>Paint Type</th>\n",
       "      <td>5772</td>\n",
       "    </tr>\n",
       "    <tr>\n",
       "      <th>Body Color Original</th>\n",
       "      <td>3759</td>\n",
       "    </tr>\n",
       "    <tr>\n",
       "      <th>Upholstery</th>\n",
       "      <td>3720</td>\n",
       "    </tr>\n",
       "    <tr>\n",
       "      <th>Body</th>\n",
       "      <td>60</td>\n",
       "    </tr>\n",
       "    <tr>\n",
       "      <th>Nr. of Doors</th>\n",
       "      <td>212</td>\n",
       "    </tr>\n",
       "    <tr>\n",
       "      <th>Nr. of Seats</th>\n",
       "      <td>977</td>\n",
       "    </tr>\n",
       "    <tr>\n",
       "      <th>Model Code</th>\n",
       "      <td>10941</td>\n",
       "    </tr>\n",
       "    <tr>\n",
       "      <th>Gearing Type</th>\n",
       "      <td>0</td>\n",
       "    </tr>\n",
       "    <tr>\n",
       "      <th>Displacement</th>\n",
       "      <td>496</td>\n",
       "    </tr>\n",
       "    <tr>\n",
       "      <th>Cylinders</th>\n",
       "      <td>5680</td>\n",
       "    </tr>\n",
       "    <tr>\n",
       "      <th>Weight</th>\n",
       "      <td>6974</td>\n",
       "    </tr>\n",
       "    <tr>\n",
       "      <th>Drive chain</th>\n",
       "      <td>6858</td>\n",
       "    </tr>\n",
       "    <tr>\n",
       "      <th>Fuel</th>\n",
       "      <td>0</td>\n",
       "    </tr>\n",
       "    <tr>\n",
       "      <th>Consumption</th>\n",
       "      <td>1906</td>\n",
       "    </tr>\n",
       "    <tr>\n",
       "      <th>CO2 Emission</th>\n",
       "      <td>1808</td>\n",
       "    </tr>\n",
       "    <tr>\n",
       "      <th>Emission Class</th>\n",
       "      <td>3021</td>\n",
       "    </tr>\n",
       "    <tr>\n",
       "      <th>description</th>\n",
       "      <td>0</td>\n",
       "    </tr>\n",
       "    <tr>\n",
       "      <th>Emission Label</th>\n",
       "      <td>11934</td>\n",
       "    </tr>\n",
       "    <tr>\n",
       "      <th>Gears</th>\n",
       "      <td>4712</td>\n",
       "    </tr>\n",
       "    <tr>\n",
       "      <th>Country version</th>\n",
       "      <td>8333</td>\n",
       "    </tr>\n",
       "    <tr>\n",
       "      <th>Electricity consumption</th>\n",
       "      <td>15782</td>\n",
       "    </tr>\n",
       "    <tr>\n",
       "      <th>Last Service Date</th>\n",
       "      <td>15353</td>\n",
       "    </tr>\n",
       "    <tr>\n",
       "      <th>Other Fuel Types</th>\n",
       "      <td>15039</td>\n",
       "    </tr>\n",
       "    <tr>\n",
       "      <th>Availability</th>\n",
       "      <td>15284</td>\n",
       "    </tr>\n",
       "    <tr>\n",
       "      <th>Last Timing Belt Service Date</th>\n",
       "      <td>15903</td>\n",
       "    </tr>\n",
       "    <tr>\n",
       "      <th>Available from</th>\n",
       "      <td>15647</td>\n",
       "    </tr>\n",
       "    <tr>\n",
       "      <th>Comfort_Convenience</th>\n",
       "      <td>920</td>\n",
       "    </tr>\n",
       "    <tr>\n",
       "      <th>Entertainment_Media</th>\n",
       "      <td>1374</td>\n",
       "    </tr>\n",
       "    <tr>\n",
       "      <th>Extras</th>\n",
       "      <td>2962</td>\n",
       "    </tr>\n",
       "    <tr>\n",
       "      <th>Safety_Security</th>\n",
       "      <td>982</td>\n",
       "    </tr>\n",
       "  </tbody>\n",
       "</table>\n",
       "</div>"
      ],
      "text/plain": [
       "                               isnull\n",
       "url                                 0\n",
       "make_model                          0\n",
       "short_description                  46\n",
       "body_type                          60\n",
       "price                               0\n",
       "vat                              4513\n",
       "km                                  0\n",
       "registration                        0\n",
       "prev_owner                       6828\n",
       "kW                              15919\n",
       "hp                                  0\n",
       "Type                                2\n",
       "Previous Owners                  6640\n",
       "Next Inspection                 12384\n",
       "Inspection new                  11987\n",
       "Warranty                         5420\n",
       "Full Service                     7704\n",
       "Non-smoking Vehicle              8742\n",
       "null                                0\n",
       "Make                                0\n",
       "Model                               0\n",
       "Offer Number                     3175\n",
       "First Registration               1597\n",
       "Body Color                        597\n",
       "Paint Type                       5772\n",
       "Body Color Original              3759\n",
       "Upholstery                       3720\n",
       "Body                               60\n",
       "Nr. of Doors                      212\n",
       "Nr. of Seats                      977\n",
       "Model Code                      10941\n",
       "Gearing Type                        0\n",
       "Displacement                      496\n",
       "Cylinders                        5680\n",
       "Weight                           6974\n",
       "Drive chain                      6858\n",
       "Fuel                                0\n",
       "Consumption                      1906\n",
       "CO2 Emission                     1808\n",
       "Emission Class                   3021\n",
       "description                         0\n",
       "Emission Label                  11934\n",
       "Gears                            4712\n",
       "Country version                  8333\n",
       "Electricity consumption         15782\n",
       "Last Service Date               15353\n",
       "Other Fuel Types                15039\n",
       "Availability                    15284\n",
       "Last Timing Belt Service Date   15903\n",
       "Available from                  15647\n",
       "Comfort_Convenience               920\n",
       "Entertainment_Media              1374\n",
       "Extras                           2962\n",
       "Safety_Security                   982"
      ]
     },
     "execution_count": 297,
     "metadata": {},
     "output_type": "execute_result"
    }
   ],
   "source": [
    "is_null = pd.DataFrame(df.isnull().sum(), columns = ['isnull'])\n",
    "is_null # how many null do we have in the columns?"
   ]
  },
  {
   "cell_type": "code",
   "execution_count": 298,
   "metadata": {
    "scrolled": true
   },
   "outputs": [
    {
     "data": {
      "text/html": [
       "<div>\n",
       "<style scoped>\n",
       "    .dataframe tbody tr th:only-of-type {\n",
       "        vertical-align: middle;\n",
       "    }\n",
       "\n",
       "    .dataframe tbody tr th {\n",
       "        vertical-align: top;\n",
       "    }\n",
       "\n",
       "    .dataframe thead th {\n",
       "        text-align: right;\n",
       "    }\n",
       "</style>\n",
       "<table border=\"1\" class=\"dataframe\">\n",
       "  <thead>\n",
       "    <tr style=\"text-align: right;\">\n",
       "      <th></th>\n",
       "      <th>percentage_null</th>\n",
       "    </tr>\n",
       "  </thead>\n",
       "  <tbody>\n",
       "    <tr>\n",
       "      <th>url</th>\n",
       "      <td>0.00</td>\n",
       "    </tr>\n",
       "    <tr>\n",
       "      <th>make_model</th>\n",
       "      <td>0.00</td>\n",
       "    </tr>\n",
       "    <tr>\n",
       "      <th>short_description</th>\n",
       "      <td>0.29</td>\n",
       "    </tr>\n",
       "    <tr>\n",
       "      <th>body_type</th>\n",
       "      <td>0.38</td>\n",
       "    </tr>\n",
       "    <tr>\n",
       "      <th>price</th>\n",
       "      <td>0.00</td>\n",
       "    </tr>\n",
       "    <tr>\n",
       "      <th>vat</th>\n",
       "      <td>28.35</td>\n",
       "    </tr>\n",
       "    <tr>\n",
       "      <th>km</th>\n",
       "      <td>0.00</td>\n",
       "    </tr>\n",
       "    <tr>\n",
       "      <th>registration</th>\n",
       "      <td>0.00</td>\n",
       "    </tr>\n",
       "    <tr>\n",
       "      <th>prev_owner</th>\n",
       "      <td>42.89</td>\n",
       "    </tr>\n",
       "    <tr>\n",
       "      <th>kW</th>\n",
       "      <td>100.00</td>\n",
       "    </tr>\n",
       "    <tr>\n",
       "      <th>hp</th>\n",
       "      <td>0.00</td>\n",
       "    </tr>\n",
       "    <tr>\n",
       "      <th>Type</th>\n",
       "      <td>0.01</td>\n",
       "    </tr>\n",
       "    <tr>\n",
       "      <th>Previous Owners</th>\n",
       "      <td>41.71</td>\n",
       "    </tr>\n",
       "    <tr>\n",
       "      <th>Next Inspection</th>\n",
       "      <td>77.79</td>\n",
       "    </tr>\n",
       "    <tr>\n",
       "      <th>Inspection new</th>\n",
       "      <td>75.30</td>\n",
       "    </tr>\n",
       "    <tr>\n",
       "      <th>Warranty</th>\n",
       "      <td>34.05</td>\n",
       "    </tr>\n",
       "    <tr>\n",
       "      <th>Full Service</th>\n",
       "      <td>48.39</td>\n",
       "    </tr>\n",
       "    <tr>\n",
       "      <th>Non-smoking Vehicle</th>\n",
       "      <td>54.92</td>\n",
       "    </tr>\n",
       "    <tr>\n",
       "      <th>null</th>\n",
       "      <td>0.00</td>\n",
       "    </tr>\n",
       "    <tr>\n",
       "      <th>Make</th>\n",
       "      <td>0.00</td>\n",
       "    </tr>\n",
       "    <tr>\n",
       "      <th>Model</th>\n",
       "      <td>0.00</td>\n",
       "    </tr>\n",
       "    <tr>\n",
       "      <th>Offer Number</th>\n",
       "      <td>19.94</td>\n",
       "    </tr>\n",
       "    <tr>\n",
       "      <th>First Registration</th>\n",
       "      <td>10.03</td>\n",
       "    </tr>\n",
       "    <tr>\n",
       "      <th>Body Color</th>\n",
       "      <td>3.75</td>\n",
       "    </tr>\n",
       "    <tr>\n",
       "      <th>Paint Type</th>\n",
       "      <td>36.26</td>\n",
       "    </tr>\n",
       "    <tr>\n",
       "      <th>Body Color Original</th>\n",
       "      <td>23.61</td>\n",
       "    </tr>\n",
       "    <tr>\n",
       "      <th>Upholstery</th>\n",
       "      <td>23.37</td>\n",
       "    </tr>\n",
       "    <tr>\n",
       "      <th>Body</th>\n",
       "      <td>0.38</td>\n",
       "    </tr>\n",
       "    <tr>\n",
       "      <th>Nr. of Doors</th>\n",
       "      <td>1.33</td>\n",
       "    </tr>\n",
       "    <tr>\n",
       "      <th>Nr. of Seats</th>\n",
       "      <td>6.14</td>\n",
       "    </tr>\n",
       "    <tr>\n",
       "      <th>Model Code</th>\n",
       "      <td>68.73</td>\n",
       "    </tr>\n",
       "    <tr>\n",
       "      <th>Gearing Type</th>\n",
       "      <td>0.00</td>\n",
       "    </tr>\n",
       "    <tr>\n",
       "      <th>Displacement</th>\n",
       "      <td>3.12</td>\n",
       "    </tr>\n",
       "    <tr>\n",
       "      <th>Cylinders</th>\n",
       "      <td>35.68</td>\n",
       "    </tr>\n",
       "    <tr>\n",
       "      <th>Weight</th>\n",
       "      <td>43.81</td>\n",
       "    </tr>\n",
       "    <tr>\n",
       "      <th>Drive chain</th>\n",
       "      <td>43.08</td>\n",
       "    </tr>\n",
       "    <tr>\n",
       "      <th>Fuel</th>\n",
       "      <td>0.00</td>\n",
       "    </tr>\n",
       "    <tr>\n",
       "      <th>Consumption</th>\n",
       "      <td>11.97</td>\n",
       "    </tr>\n",
       "    <tr>\n",
       "      <th>CO2 Emission</th>\n",
       "      <td>11.36</td>\n",
       "    </tr>\n",
       "    <tr>\n",
       "      <th>Emission Class</th>\n",
       "      <td>18.98</td>\n",
       "    </tr>\n",
       "    <tr>\n",
       "      <th>description</th>\n",
       "      <td>0.00</td>\n",
       "    </tr>\n",
       "    <tr>\n",
       "      <th>Emission Label</th>\n",
       "      <td>74.97</td>\n",
       "    </tr>\n",
       "    <tr>\n",
       "      <th>Gears</th>\n",
       "      <td>29.60</td>\n",
       "    </tr>\n",
       "    <tr>\n",
       "      <th>Country version</th>\n",
       "      <td>52.35</td>\n",
       "    </tr>\n",
       "    <tr>\n",
       "      <th>Electricity consumption</th>\n",
       "      <td>99.14</td>\n",
       "    </tr>\n",
       "    <tr>\n",
       "      <th>Last Service Date</th>\n",
       "      <td>96.44</td>\n",
       "    </tr>\n",
       "    <tr>\n",
       "      <th>Other Fuel Types</th>\n",
       "      <td>94.47</td>\n",
       "    </tr>\n",
       "    <tr>\n",
       "      <th>Availability</th>\n",
       "      <td>96.01</td>\n",
       "    </tr>\n",
       "    <tr>\n",
       "      <th>Last Timing Belt Service Date</th>\n",
       "      <td>99.90</td>\n",
       "    </tr>\n",
       "    <tr>\n",
       "      <th>Available from</th>\n",
       "      <td>98.29</td>\n",
       "    </tr>\n",
       "    <tr>\n",
       "      <th>Comfort_Convenience</th>\n",
       "      <td>5.78</td>\n",
       "    </tr>\n",
       "    <tr>\n",
       "      <th>Entertainment_Media</th>\n",
       "      <td>8.63</td>\n",
       "    </tr>\n",
       "    <tr>\n",
       "      <th>Extras</th>\n",
       "      <td>18.61</td>\n",
       "    </tr>\n",
       "    <tr>\n",
       "      <th>Safety_Security</th>\n",
       "      <td>6.17</td>\n",
       "    </tr>\n",
       "  </tbody>\n",
       "</table>\n",
       "</div>"
      ],
      "text/plain": [
       "                               percentage_null\n",
       "url                                       0.00\n",
       "make_model                                0.00\n",
       "short_description                         0.29\n",
       "body_type                                 0.38\n",
       "price                                     0.00\n",
       "vat                                      28.35\n",
       "km                                        0.00\n",
       "registration                              0.00\n",
       "prev_owner                               42.89\n",
       "kW                                      100.00\n",
       "hp                                        0.00\n",
       "Type                                      0.01\n",
       "Previous Owners                          41.71\n",
       "Next Inspection                          77.79\n",
       "Inspection new                           75.30\n",
       "Warranty                                 34.05\n",
       "Full Service                             48.39\n",
       "Non-smoking Vehicle                      54.92\n",
       "null                                      0.00\n",
       "Make                                      0.00\n",
       "Model                                     0.00\n",
       "Offer Number                             19.94\n",
       "First Registration                       10.03\n",
       "Body Color                                3.75\n",
       "Paint Type                               36.26\n",
       "Body Color Original                      23.61\n",
       "Upholstery                               23.37\n",
       "Body                                      0.38\n",
       "Nr. of Doors                              1.33\n",
       "Nr. of Seats                              6.14\n",
       "Model Code                               68.73\n",
       "Gearing Type                              0.00\n",
       "Displacement                              3.12\n",
       "Cylinders                                35.68\n",
       "Weight                                   43.81\n",
       "Drive chain                              43.08\n",
       "Fuel                                      0.00\n",
       "Consumption                              11.97\n",
       "CO2 Emission                             11.36\n",
       "Emission Class                           18.98\n",
       "description                               0.00\n",
       "Emission Label                           74.97\n",
       "Gears                                    29.60\n",
       "Country version                          52.35\n",
       "Electricity consumption                  99.14\n",
       "Last Service Date                        96.44\n",
       "Other Fuel Types                         94.47\n",
       "Availability                             96.01\n",
       "Last Timing Belt Service Date            99.90\n",
       "Available from                           98.29\n",
       "Comfort_Convenience                       5.78\n",
       "Entertainment_Media                       8.63\n",
       "Extras                                   18.61\n",
       "Safety_Security                           6.17"
      ]
     },
     "execution_count": 298,
     "metadata": {},
     "output_type": "execute_result"
    }
   ],
   "source": [
    "percentage_null = pd.DataFrame(df.isnull().sum()/df.shape[0]*100, columns = ['percentage_null'])\n",
    "percentage_null # null percentage of the columns"
   ]
  },
  {
   "cell_type": "code",
   "execution_count": 299,
   "metadata": {
    "scrolled": true
   },
   "outputs": [
    {
     "data": {
      "text/html": [
       "<div>\n",
       "<style scoped>\n",
       "    .dataframe tbody tr th:only-of-type {\n",
       "        vertical-align: middle;\n",
       "    }\n",
       "\n",
       "    .dataframe tbody tr th {\n",
       "        vertical-align: top;\n",
       "    }\n",
       "\n",
       "    .dataframe thead th {\n",
       "        text-align: right;\n",
       "    }\n",
       "</style>\n",
       "<table border=\"1\" class=\"dataframe\">\n",
       "  <thead>\n",
       "    <tr style=\"text-align: right;\">\n",
       "      <th></th>\n",
       "      <th>Columns</th>\n",
       "      <th>isnull</th>\n",
       "      <th>percentage_null</th>\n",
       "    </tr>\n",
       "  </thead>\n",
       "  <tbody>\n",
       "    <tr>\n",
       "      <th>0</th>\n",
       "      <td>url</td>\n",
       "      <td>0</td>\n",
       "      <td>0.00</td>\n",
       "    </tr>\n",
       "    <tr>\n",
       "      <th>1</th>\n",
       "      <td>make_model</td>\n",
       "      <td>0</td>\n",
       "      <td>0.00</td>\n",
       "    </tr>\n",
       "    <tr>\n",
       "      <th>2</th>\n",
       "      <td>short_description</td>\n",
       "      <td>46</td>\n",
       "      <td>0.29</td>\n",
       "    </tr>\n",
       "    <tr>\n",
       "      <th>3</th>\n",
       "      <td>body_type</td>\n",
       "      <td>60</td>\n",
       "      <td>0.38</td>\n",
       "    </tr>\n",
       "    <tr>\n",
       "      <th>4</th>\n",
       "      <td>price</td>\n",
       "      <td>0</td>\n",
       "      <td>0.00</td>\n",
       "    </tr>\n",
       "    <tr>\n",
       "      <th>5</th>\n",
       "      <td>vat</td>\n",
       "      <td>4513</td>\n",
       "      <td>28.35</td>\n",
       "    </tr>\n",
       "    <tr>\n",
       "      <th>6</th>\n",
       "      <td>km</td>\n",
       "      <td>0</td>\n",
       "      <td>0.00</td>\n",
       "    </tr>\n",
       "    <tr>\n",
       "      <th>7</th>\n",
       "      <td>registration</td>\n",
       "      <td>0</td>\n",
       "      <td>0.00</td>\n",
       "    </tr>\n",
       "    <tr>\n",
       "      <th>8</th>\n",
       "      <td>prev_owner</td>\n",
       "      <td>6828</td>\n",
       "      <td>42.89</td>\n",
       "    </tr>\n",
       "    <tr>\n",
       "      <th>9</th>\n",
       "      <td>kW</td>\n",
       "      <td>15919</td>\n",
       "      <td>100.00</td>\n",
       "    </tr>\n",
       "    <tr>\n",
       "      <th>10</th>\n",
       "      <td>hp</td>\n",
       "      <td>0</td>\n",
       "      <td>0.00</td>\n",
       "    </tr>\n",
       "    <tr>\n",
       "      <th>11</th>\n",
       "      <td>Type</td>\n",
       "      <td>2</td>\n",
       "      <td>0.01</td>\n",
       "    </tr>\n",
       "    <tr>\n",
       "      <th>12</th>\n",
       "      <td>Previous Owners</td>\n",
       "      <td>6640</td>\n",
       "      <td>41.71</td>\n",
       "    </tr>\n",
       "    <tr>\n",
       "      <th>13</th>\n",
       "      <td>Next Inspection</td>\n",
       "      <td>12384</td>\n",
       "      <td>77.79</td>\n",
       "    </tr>\n",
       "    <tr>\n",
       "      <th>14</th>\n",
       "      <td>Inspection new</td>\n",
       "      <td>11987</td>\n",
       "      <td>75.30</td>\n",
       "    </tr>\n",
       "    <tr>\n",
       "      <th>15</th>\n",
       "      <td>Warranty</td>\n",
       "      <td>5420</td>\n",
       "      <td>34.05</td>\n",
       "    </tr>\n",
       "    <tr>\n",
       "      <th>16</th>\n",
       "      <td>Full Service</td>\n",
       "      <td>7704</td>\n",
       "      <td>48.39</td>\n",
       "    </tr>\n",
       "    <tr>\n",
       "      <th>17</th>\n",
       "      <td>Non-smoking Vehicle</td>\n",
       "      <td>8742</td>\n",
       "      <td>54.92</td>\n",
       "    </tr>\n",
       "    <tr>\n",
       "      <th>18</th>\n",
       "      <td>null</td>\n",
       "      <td>0</td>\n",
       "      <td>0.00</td>\n",
       "    </tr>\n",
       "    <tr>\n",
       "      <th>19</th>\n",
       "      <td>Make</td>\n",
       "      <td>0</td>\n",
       "      <td>0.00</td>\n",
       "    </tr>\n",
       "    <tr>\n",
       "      <th>20</th>\n",
       "      <td>Model</td>\n",
       "      <td>0</td>\n",
       "      <td>0.00</td>\n",
       "    </tr>\n",
       "    <tr>\n",
       "      <th>21</th>\n",
       "      <td>Offer Number</td>\n",
       "      <td>3175</td>\n",
       "      <td>19.94</td>\n",
       "    </tr>\n",
       "    <tr>\n",
       "      <th>22</th>\n",
       "      <td>First Registration</td>\n",
       "      <td>1597</td>\n",
       "      <td>10.03</td>\n",
       "    </tr>\n",
       "    <tr>\n",
       "      <th>23</th>\n",
       "      <td>Body Color</td>\n",
       "      <td>597</td>\n",
       "      <td>3.75</td>\n",
       "    </tr>\n",
       "    <tr>\n",
       "      <th>24</th>\n",
       "      <td>Paint Type</td>\n",
       "      <td>5772</td>\n",
       "      <td>36.26</td>\n",
       "    </tr>\n",
       "    <tr>\n",
       "      <th>25</th>\n",
       "      <td>Body Color Original</td>\n",
       "      <td>3759</td>\n",
       "      <td>23.61</td>\n",
       "    </tr>\n",
       "    <tr>\n",
       "      <th>26</th>\n",
       "      <td>Upholstery</td>\n",
       "      <td>3720</td>\n",
       "      <td>23.37</td>\n",
       "    </tr>\n",
       "    <tr>\n",
       "      <th>27</th>\n",
       "      <td>Body</td>\n",
       "      <td>60</td>\n",
       "      <td>0.38</td>\n",
       "    </tr>\n",
       "    <tr>\n",
       "      <th>28</th>\n",
       "      <td>Nr. of Doors</td>\n",
       "      <td>212</td>\n",
       "      <td>1.33</td>\n",
       "    </tr>\n",
       "    <tr>\n",
       "      <th>29</th>\n",
       "      <td>Nr. of Seats</td>\n",
       "      <td>977</td>\n",
       "      <td>6.14</td>\n",
       "    </tr>\n",
       "    <tr>\n",
       "      <th>30</th>\n",
       "      <td>Model Code</td>\n",
       "      <td>10941</td>\n",
       "      <td>68.73</td>\n",
       "    </tr>\n",
       "    <tr>\n",
       "      <th>31</th>\n",
       "      <td>Gearing Type</td>\n",
       "      <td>0</td>\n",
       "      <td>0.00</td>\n",
       "    </tr>\n",
       "    <tr>\n",
       "      <th>32</th>\n",
       "      <td>Displacement</td>\n",
       "      <td>496</td>\n",
       "      <td>3.12</td>\n",
       "    </tr>\n",
       "    <tr>\n",
       "      <th>33</th>\n",
       "      <td>Cylinders</td>\n",
       "      <td>5680</td>\n",
       "      <td>35.68</td>\n",
       "    </tr>\n",
       "    <tr>\n",
       "      <th>34</th>\n",
       "      <td>Weight</td>\n",
       "      <td>6974</td>\n",
       "      <td>43.81</td>\n",
       "    </tr>\n",
       "    <tr>\n",
       "      <th>35</th>\n",
       "      <td>Drive chain</td>\n",
       "      <td>6858</td>\n",
       "      <td>43.08</td>\n",
       "    </tr>\n",
       "    <tr>\n",
       "      <th>36</th>\n",
       "      <td>Fuel</td>\n",
       "      <td>0</td>\n",
       "      <td>0.00</td>\n",
       "    </tr>\n",
       "    <tr>\n",
       "      <th>37</th>\n",
       "      <td>Consumption</td>\n",
       "      <td>1906</td>\n",
       "      <td>11.97</td>\n",
       "    </tr>\n",
       "    <tr>\n",
       "      <th>38</th>\n",
       "      <td>CO2 Emission</td>\n",
       "      <td>1808</td>\n",
       "      <td>11.36</td>\n",
       "    </tr>\n",
       "    <tr>\n",
       "      <th>39</th>\n",
       "      <td>Emission Class</td>\n",
       "      <td>3021</td>\n",
       "      <td>18.98</td>\n",
       "    </tr>\n",
       "    <tr>\n",
       "      <th>40</th>\n",
       "      <td>description</td>\n",
       "      <td>0</td>\n",
       "      <td>0.00</td>\n",
       "    </tr>\n",
       "    <tr>\n",
       "      <th>41</th>\n",
       "      <td>Emission Label</td>\n",
       "      <td>11934</td>\n",
       "      <td>74.97</td>\n",
       "    </tr>\n",
       "    <tr>\n",
       "      <th>42</th>\n",
       "      <td>Gears</td>\n",
       "      <td>4712</td>\n",
       "      <td>29.60</td>\n",
       "    </tr>\n",
       "    <tr>\n",
       "      <th>43</th>\n",
       "      <td>Country version</td>\n",
       "      <td>8333</td>\n",
       "      <td>52.35</td>\n",
       "    </tr>\n",
       "    <tr>\n",
       "      <th>44</th>\n",
       "      <td>Electricity consumption</td>\n",
       "      <td>15782</td>\n",
       "      <td>99.14</td>\n",
       "    </tr>\n",
       "    <tr>\n",
       "      <th>45</th>\n",
       "      <td>Last Service Date</td>\n",
       "      <td>15353</td>\n",
       "      <td>96.44</td>\n",
       "    </tr>\n",
       "    <tr>\n",
       "      <th>46</th>\n",
       "      <td>Other Fuel Types</td>\n",
       "      <td>15039</td>\n",
       "      <td>94.47</td>\n",
       "    </tr>\n",
       "    <tr>\n",
       "      <th>47</th>\n",
       "      <td>Availability</td>\n",
       "      <td>15284</td>\n",
       "      <td>96.01</td>\n",
       "    </tr>\n",
       "    <tr>\n",
       "      <th>48</th>\n",
       "      <td>Last Timing Belt Service Date</td>\n",
       "      <td>15903</td>\n",
       "      <td>99.90</td>\n",
       "    </tr>\n",
       "    <tr>\n",
       "      <th>49</th>\n",
       "      <td>Available from</td>\n",
       "      <td>15647</td>\n",
       "      <td>98.29</td>\n",
       "    </tr>\n",
       "    <tr>\n",
       "      <th>50</th>\n",
       "      <td>Comfort_Convenience</td>\n",
       "      <td>920</td>\n",
       "      <td>5.78</td>\n",
       "    </tr>\n",
       "    <tr>\n",
       "      <th>51</th>\n",
       "      <td>Entertainment_Media</td>\n",
       "      <td>1374</td>\n",
       "      <td>8.63</td>\n",
       "    </tr>\n",
       "    <tr>\n",
       "      <th>52</th>\n",
       "      <td>Extras</td>\n",
       "      <td>2962</td>\n",
       "      <td>18.61</td>\n",
       "    </tr>\n",
       "    <tr>\n",
       "      <th>53</th>\n",
       "      <td>Safety_Security</td>\n",
       "      <td>982</td>\n",
       "      <td>6.17</td>\n",
       "    </tr>\n",
       "  </tbody>\n",
       "</table>\n",
       "</div>"
      ],
      "text/plain": [
       "                          Columns  isnull  percentage_null\n",
       "0                             url       0             0.00\n",
       "1                      make_model       0             0.00\n",
       "2               short_description      46             0.29\n",
       "3                       body_type      60             0.38\n",
       "4                           price       0             0.00\n",
       "5                             vat    4513            28.35\n",
       "6                              km       0             0.00\n",
       "7                    registration       0             0.00\n",
       "8                      prev_owner    6828            42.89\n",
       "9                              kW   15919           100.00\n",
       "10                             hp       0             0.00\n",
       "11                           Type       2             0.01\n",
       "12                Previous Owners    6640            41.71\n",
       "13                Next Inspection   12384            77.79\n",
       "14                 Inspection new   11987            75.30\n",
       "15                       Warranty    5420            34.05\n",
       "16                   Full Service    7704            48.39\n",
       "17            Non-smoking Vehicle    8742            54.92\n",
       "18                           null       0             0.00\n",
       "19                           Make       0             0.00\n",
       "20                          Model       0             0.00\n",
       "21                   Offer Number    3175            19.94\n",
       "22             First Registration    1597            10.03\n",
       "23                     Body Color     597             3.75\n",
       "24                     Paint Type    5772            36.26\n",
       "25            Body Color Original    3759            23.61\n",
       "26                     Upholstery    3720            23.37\n",
       "27                           Body      60             0.38\n",
       "28                   Nr. of Doors     212             1.33\n",
       "29                   Nr. of Seats     977             6.14\n",
       "30                     Model Code   10941            68.73\n",
       "31                   Gearing Type       0             0.00\n",
       "32                   Displacement     496             3.12\n",
       "33                      Cylinders    5680            35.68\n",
       "34                         Weight    6974            43.81\n",
       "35                    Drive chain    6858            43.08\n",
       "36                           Fuel       0             0.00\n",
       "37                    Consumption    1906            11.97\n",
       "38                   CO2 Emission    1808            11.36\n",
       "39                 Emission Class    3021            18.98\n",
       "40                    description       0             0.00\n",
       "41                 Emission Label   11934            74.97\n",
       "42                          Gears    4712            29.60\n",
       "43                Country version    8333            52.35\n",
       "44        Electricity consumption   15782            99.14\n",
       "45              Last Service Date   15353            96.44\n",
       "46               Other Fuel Types   15039            94.47\n",
       "47                   Availability   15284            96.01\n",
       "48  Last Timing Belt Service Date   15903            99.90\n",
       "49                 Available from   15647            98.29\n",
       "50            Comfort_Convenience     920             5.78\n",
       "51            Entertainment_Media    1374             8.63\n",
       "52                         Extras    2962            18.61\n",
       "53                Safety_Security     982             6.17"
      ]
     },
     "execution_count": 299,
     "metadata": {},
     "output_type": "execute_result"
    }
   ],
   "source": [
    "summary_null = pd.concat([is_null, percentage_null], axis = 1).reset_index().rename({'index':'Columns'},axis = 1)\n",
    "summary_null"
   ]
  },
  {
   "cell_type": "markdown",
   "metadata": {},
   "source": [
    "### Dropping columns which have missing values more than %80"
   ]
  },
  {
   "cell_type": "code",
   "execution_count": 300,
   "metadata": {
    "scrolled": true
   },
   "outputs": [],
   "source": [
    "\n",
    "def df_nans(df, limit): # gives us the columns which has null more than limit value\n",
    "    missing = df.isnull().sum()*100 / df.shape[0]\n",
    "    return missing.loc[lambda x : x >= limit]\n",
    "\n",
    "def column_nans(serial):\n",
    "    # display percentage of nans in a Series\n",
    "    return serial.isnull().sum()*100 / serial.shape[0]"
   ]
  },
  {
   "cell_type": "code",
   "execution_count": 301,
   "metadata": {},
   "outputs": [
    {
     "data": {
      "text/plain": [
       "kW                              100.00\n",
       "Electricity consumption          99.14\n",
       "Last Service Date                96.44\n",
       "Other Fuel Types                 94.47\n",
       "Availability                     96.01\n",
       "Last Timing Belt Service Date    99.90\n",
       "Available from                   98.29\n",
       "dtype: float64"
      ]
     },
     "execution_count": 301,
     "metadata": {},
     "output_type": "execute_result"
    }
   ],
   "source": [
    "df_nans(df, 80)"
   ]
  },
  {
   "cell_type": "code",
   "execution_count": 302,
   "metadata": {},
   "outputs": [
    {
     "data": {
      "text/plain": [
       "99.13939317796344"
      ]
     },
     "execution_count": 302,
     "metadata": {},
     "output_type": "execute_result"
    }
   ],
   "source": [
    "column_nans(df[\"Electricity consumption\"])"
   ]
  },
  {
   "cell_type": "code",
   "execution_count": 303,
   "metadata": {},
   "outputs": [
    {
     "data": {
      "text/plain": [
       "Index(['kW', 'Electricity consumption', 'Last Service Date',\n",
       "       'Other Fuel Types', 'Availability', 'Last Timing Belt Service Date',\n",
       "       'Available from'],\n",
       "      dtype='object')"
      ]
     },
     "execution_count": 303,
     "metadata": {},
     "output_type": "execute_result"
    }
   ],
   "source": [
    "df_nans(df, 80).index"
   ]
  },
  {
   "cell_type": "code",
   "execution_count": 304,
   "metadata": {},
   "outputs": [
    {
     "data": {
      "text/plain": [
       "array([100.        ,  99.13939318,  96.44450028,  94.47201457,\n",
       "        96.01105597,  99.89949117,  98.29134996])"
      ]
     },
     "execution_count": 304,
     "metadata": {},
     "output_type": "execute_result"
    }
   ],
   "source": [
    "df_nans(df, 80).values"
   ]
  },
  {
   "cell_type": "code",
   "execution_count": 305,
   "metadata": {},
   "outputs": [
    {
     "data": {
      "text/plain": [
       "Index(['kW', 'Electricity consumption', 'Last Service Date',\n",
       "       'Other Fuel Types', 'Availability', 'Last Timing Belt Service Date',\n",
       "       'Available from'],\n",
       "      dtype='object')"
      ]
     },
     "execution_count": 305,
     "metadata": {},
     "output_type": "execute_result"
    }
   ],
   "source": [
    "drop_columns = df_nans(df, 80).index\n",
    "drop_columns\n",
    "\n",
    "# the columns which has null values more than %80 are deleted"
   ]
  },
  {
   "cell_type": "code",
   "execution_count": 306,
   "metadata": {},
   "outputs": [],
   "source": [
    "df.drop(drop_columns, axis=1, inplace=True)"
   ]
  },
  {
   "cell_type": "code",
   "execution_count": 307,
   "metadata": {},
   "outputs": [
    {
     "data": {
      "text/plain": [
       "[]    15919\n",
       "Name: null, dtype: int64"
      ]
     },
     "execution_count": 307,
     "metadata": {},
     "output_type": "execute_result"
    }
   ],
   "source": [
    "df[\"null\"].value_counts()"
   ]
  },
  {
   "cell_type": "code",
   "execution_count": 308,
   "metadata": {},
   "outputs": [],
   "source": [
    "df.drop(\"null\", axis=1, inplace=True)"
   ]
  },
  {
   "cell_type": "code",
   "execution_count": 309,
   "metadata": {},
   "outputs": [
    {
     "name": "stdout",
     "output_type": "stream",
     "text": [
      "<class 'pandas.core.frame.DataFrame'>\n",
      "RangeIndex: 15919 entries, 0 to 15918\n",
      "Data columns (total 46 columns):\n",
      " #   Column               Non-Null Count  Dtype \n",
      "---  ------               --------------  ----- \n",
      " 0   url                  15919 non-null  object\n",
      " 1   make_model           15919 non-null  object\n",
      " 2   short_description    15873 non-null  object\n",
      " 3   body_type            15859 non-null  object\n",
      " 4   price                15919 non-null  int64 \n",
      " 5   vat                  11406 non-null  object\n",
      " 6   km                   15919 non-null  object\n",
      " 7   registration         15919 non-null  object\n",
      " 8   prev_owner           9091 non-null   object\n",
      " 9   hp                   15919 non-null  object\n",
      " 10  Type                 15917 non-null  object\n",
      " 11  Previous Owners      9279 non-null   object\n",
      " 12  Next Inspection      3535 non-null   object\n",
      " 13  Inspection new       3932 non-null   object\n",
      " 14  Warranty             10499 non-null  object\n",
      " 15  Full Service         8215 non-null   object\n",
      " 16  Non-smoking Vehicle  7177 non-null   object\n",
      " 17  Make                 15919 non-null  object\n",
      " 18  Model                15919 non-null  object\n",
      " 19  Offer Number         12744 non-null  object\n",
      " 20  First Registration   14322 non-null  object\n",
      " 21  Body Color           15322 non-null  object\n",
      " 22  Paint Type           10147 non-null  object\n",
      " 23  Body Color Original  12160 non-null  object\n",
      " 24  Upholstery           12199 non-null  object\n",
      " 25  Body                 15859 non-null  object\n",
      " 26  Nr. of Doors         15707 non-null  object\n",
      " 27  Nr. of Seats         14942 non-null  object\n",
      " 28  Model Code           4978 non-null   object\n",
      " 29  Gearing Type         15919 non-null  object\n",
      " 30  Displacement         15423 non-null  object\n",
      " 31  Cylinders            10239 non-null  object\n",
      " 32  Weight               8945 non-null   object\n",
      " 33  Drive chain          9061 non-null   object\n",
      " 34  Fuel                 15919 non-null  object\n",
      " 35  Consumption          14013 non-null  object\n",
      " 36  CO2 Emission         14111 non-null  object\n",
      " 37  Emission Class       12898 non-null  object\n",
      " 38  description          15919 non-null  object\n",
      " 39  Emission Label       3985 non-null   object\n",
      " 40  Gears                11207 non-null  object\n",
      " 41  Country version      7586 non-null   object\n",
      " 42  Comfort_Convenience  14999 non-null  object\n",
      " 43  Entertainment_Media  14545 non-null  object\n",
      " 44  Extras               12957 non-null  object\n",
      " 45  Safety_Security      14937 non-null  object\n",
      "dtypes: int64(1), object(45)\n",
      "memory usage: 5.6+ MB\n"
     ]
    }
   ],
   "source": [
    "df.info()"
   ]
  },
  {
   "cell_type": "markdown",
   "metadata": {
    "scrolled": true
   },
   "source": [
    "# The Examination of Columns "
   ]
  },
  {
   "cell_type": "markdown",
   "metadata": {},
   "source": [
    "## url"
   ]
  },
  {
   "cell_type": "code",
   "execution_count": 310,
   "metadata": {},
   "outputs": [
    {
     "data": {
      "text/plain": [
       "https://www.autoscout24.com//offers/audi-a1-sportback-1-4-tdi-s-tronic-xenon-navi-klima-diesel-black-bdab349a-caa5-41b0-98eb-c1345b84445e                  1\n",
       "https://www.autoscout24.com//offers/opel-insignia-bus-inno-2-0-cdti-aut-navi-bi-xe-led-e6-diesel-black-8710b253-dd98-4ed0-9d46-cbad2d79532b                1\n",
       "https://www.autoscout24.com//offers/opel-insignia-sport-tourer-opel-sport-tourer-1-6-cdti-136-ch-a-c-diesel-silver-10b7463b-9f56-4348-af35-df3432b2b585    1\n",
       "https://www.autoscout24.com//offers/opel-insignia-2-0cdti-st-business-innovation-navi-bt-diesel-black-ba5a3368-dedc-4e51-9127-3976b26e93c2                 1\n",
       "https://www.autoscout24.com//offers/opel-insignia-sport-tourer-opel-sport-tourer-1-6-cdti-136-ch-a-c-diesel-silver-7b52f054-78d3-4d5e-9370-8a7d081d7edd    1\n",
       "                                                                                                                                                          ..\n",
       "https://www.autoscout24.com//offers/audi-a3-sb-30-1-6-tdi-business-116cv-s-tronic-diesel-black-cf50f7b1-4d7b-466f-93a2-4e11ec0b4107                        1\n",
       "https://www.autoscout24.com//offers/audi-a3-sb-30-1-6-tdi-business-116cv-s-tronic-diesel-grey-3f47eb34-15c4-4763-860d-78fcbbd2c9ff                         1\n",
       "https://www.autoscout24.com//offers/audi-a3-sb-30-1-6-tdi-business-116cv-s-tronic-diesel-silver-f7a4bc95-b2ef-4bac-9497-6bcbcd05db0b                       1\n",
       "https://www.autoscout24.com//offers/audi-a3-sb-30-1-6-tdi-business-116cv-s-tronic-diesel-silver-1c94c7a2-67b5-49ca-ae42-42a6800fb3f5                       1\n",
       "https://www.autoscout24.com//offers/renault-espace-initiale-paris-tce-225-edc-gpf-navi-shz-aux-gasoline-grey-0bd690d9-7e93-4cab-bc5a-9d5b63402481          1\n",
       "Name: url, Length: 15919, dtype: int64"
      ]
     },
     "execution_count": 310,
     "metadata": {},
     "output_type": "execute_result"
    }
   ],
   "source": [
    "df.url.value_counts(dropna=False)"
   ]
  },
  {
   "cell_type": "code",
   "execution_count": 311,
   "metadata": {},
   "outputs": [],
   "source": [
    "# Even if url contains some information, we do NOT need it since this information can be obtained from other features.\n",
    "\n",
    "df.drop(\"url\", axis=1, inplace=True)"
   ]
  },
  {
   "cell_type": "code",
   "execution_count": 312,
   "metadata": {},
   "outputs": [
    {
     "data": {
      "text/plain": [
       "(15919, 45)"
      ]
     },
     "execution_count": 312,
     "metadata": {},
     "output_type": "execute_result"
    }
   ],
   "source": [
    "df.shape"
   ]
  },
  {
   "cell_type": "markdown",
   "metadata": {},
   "source": [
    "## make_model"
   ]
  },
  {
   "cell_type": "code",
   "execution_count": 313,
   "metadata": {},
   "outputs": [
    {
     "data": {
      "text/plain": [
       "Audi A3           3097\n",
       "Audi A1           2614\n",
       "Opel Insignia     2598\n",
       "Opel Astra        2526\n",
       "Opel Corsa        2219\n",
       "Renault Clio      1839\n",
       "Renault Espace     991\n",
       "Renault Duster      34\n",
       "Audi A2              1\n",
       "Name: make_model, dtype: int64"
      ]
     },
     "execution_count": 313,
     "metadata": {},
     "output_type": "execute_result"
    }
   ],
   "source": [
    "df.make_model.value_counts(dropna=False)"
   ]
  },
  {
   "cell_type": "markdown",
   "metadata": {},
   "source": [
    "**As seen, the \"make_model\" column gives us a more detailed information for our analysis so after the examination of the following columns, \"Make\" & \"Model\", we will decide which one/s we will continue.**"
   ]
  },
  {
   "cell_type": "markdown",
   "metadata": {},
   "source": [
    "## Make"
   ]
  },
  {
   "cell_type": "code",
   "execution_count": 314,
   "metadata": {},
   "outputs": [
    {
     "data": {
      "text/plain": [
       "\\nOpel\\n       7343\n",
       "\\nAudi\\n       5712\n",
       "\\nRenault\\n    2864\n",
       "Name: Make, dtype: int64"
      ]
     },
     "execution_count": 314,
     "metadata": {},
     "output_type": "execute_result"
    }
   ],
   "source": [
    "df.Make.value_counts(dropna=False)"
   ]
  },
  {
   "cell_type": "code",
   "execution_count": 315,
   "metadata": {},
   "outputs": [],
   "source": [
    "df[\"Make\"] = df.Make.str.strip('\\n')\n",
    "\n",
    "# df['Make'].map(lambda x : x.strip('\\n '), na_action = 'ignore')"
   ]
  },
  {
   "cell_type": "code",
   "execution_count": 316,
   "metadata": {},
   "outputs": [
    {
     "data": {
      "text/plain": [
       "Opel       7343\n",
       "Audi       5712\n",
       "Renault    2864\n",
       "Name: Make, dtype: int64"
      ]
     },
     "execution_count": 316,
     "metadata": {},
     "output_type": "execute_result"
    }
   ],
   "source": [
    "df.Make.value_counts(dropna=False)"
   ]
  },
  {
   "cell_type": "markdown",
   "metadata": {},
   "source": [
    "## Model"
   ]
  },
  {
   "cell_type": "code",
   "execution_count": 317,
   "metadata": {},
   "outputs": [
    {
     "data": {
      "text/plain": [
       "[\\n, A3, \\n]          3097\n",
       "[\\n, A1, \\n]          2614\n",
       "[\\n, Insignia, \\n]    2598\n",
       "[\\n, Astra, \\n]       2526\n",
       "[\\n, Corsa, \\n]       2219\n",
       "[\\n, Clio, \\n]        1839\n",
       "[\\n, Espace, \\n]       991\n",
       "[\\n, Duster, \\n]        34\n",
       "[\\n, A2, \\n]             1\n",
       "Name: Model, dtype: int64"
      ]
     },
     "execution_count": 317,
     "metadata": {},
     "output_type": "execute_result"
    }
   ],
   "source": [
    "df.Model.value_counts(dropna=False)"
   ]
  },
  {
   "cell_type": "code",
   "execution_count": 318,
   "metadata": {},
   "outputs": [
    {
     "data": {
      "text/plain": [
       "['\\n', 'A1', '\\n']"
      ]
     },
     "execution_count": 318,
     "metadata": {},
     "output_type": "execute_result"
    }
   ],
   "source": [
    "df[\"Model\"][0]"
   ]
  },
  {
   "cell_type": "code",
   "execution_count": 319,
   "metadata": {},
   "outputs": [
    {
     "data": {
      "text/plain": [
       "'A1'"
      ]
     },
     "execution_count": 319,
     "metadata": {},
     "output_type": "execute_result"
    }
   ],
   "source": [
    "df[\"Model\"][0][1]"
   ]
  },
  {
   "cell_type": "code",
   "execution_count": 320,
   "metadata": {},
   "outputs": [
    {
     "data": {
      "text/plain": [
       "0            A1\n",
       "1            A1\n",
       "2            A1\n",
       "3            A1\n",
       "4            A1\n",
       "          ...  \n",
       "15914    Espace\n",
       "15915    Espace\n",
       "15916    Espace\n",
       "15917    Espace\n",
       "15918    Espace\n",
       "Name: Model, Length: 15919, dtype: object"
      ]
     },
     "execution_count": 320,
     "metadata": {},
     "output_type": "execute_result"
    }
   ],
   "source": [
    "df[\"Model\"].apply(lambda x: x[1])\n",
    "\n",
    "# df['Model'].map(lambda x : x[1], na_action = 'ignore')"
   ]
  },
  {
   "cell_type": "code",
   "execution_count": 321,
   "metadata": {},
   "outputs": [
    {
     "data": {
      "text/plain": [
       "0            A1\n",
       "1            A1\n",
       "2            A1\n",
       "3            A1\n",
       "4            A1\n",
       "          ...  \n",
       "15914    Espace\n",
       "15915    Espace\n",
       "15916    Espace\n",
       "15917    Espace\n",
       "15918    Espace\n",
       "Name: Model, Length: 15919, dtype: object"
      ]
     },
     "execution_count": 321,
     "metadata": {},
     "output_type": "execute_result"
    }
   ],
   "source": [
    "df.Model.str[1] # method 2"
   ]
  },
  {
   "cell_type": "code",
   "execution_count": 322,
   "metadata": {},
   "outputs": [],
   "source": [
    "df[\"Model\"] = df.Model.str[1]"
   ]
  },
  {
   "cell_type": "code",
   "execution_count": 323,
   "metadata": {},
   "outputs": [
    {
     "data": {
      "text/plain": [
       "A3          3097\n",
       "A1          2614\n",
       "Insignia    2598\n",
       "Astra       2526\n",
       "Corsa       2219\n",
       "Clio        1839\n",
       "Espace       991\n",
       "Duster        34\n",
       "A2             1\n",
       "Name: Model, dtype: int64"
      ]
     },
     "execution_count": 323,
     "metadata": {},
     "output_type": "execute_result"
    }
   ],
   "source": [
    "df.Model.value_counts(dropna=False)"
   ]
  },
  {
   "cell_type": "code",
   "execution_count": 324,
   "metadata": {},
   "outputs": [
    {
     "data": {
      "text/html": [
       "<div>\n",
       "<style scoped>\n",
       "    .dataframe tbody tr th:only-of-type {\n",
       "        vertical-align: middle;\n",
       "    }\n",
       "\n",
       "    .dataframe tbody tr th {\n",
       "        vertical-align: top;\n",
       "    }\n",
       "\n",
       "    .dataframe thead th {\n",
       "        text-align: right;\n",
       "    }\n",
       "</style>\n",
       "<table border=\"1\" class=\"dataframe\">\n",
       "  <thead>\n",
       "    <tr style=\"text-align: right;\">\n",
       "      <th></th>\n",
       "      <th>make_model</th>\n",
       "      <th>Make</th>\n",
       "      <th>Model</th>\n",
       "    </tr>\n",
       "  </thead>\n",
       "  <tbody>\n",
       "    <tr>\n",
       "      <th>1877</th>\n",
       "      <td>Audi A1</td>\n",
       "      <td>Audi</td>\n",
       "      <td>A1</td>\n",
       "    </tr>\n",
       "    <tr>\n",
       "      <th>7666</th>\n",
       "      <td>Opel Astra</td>\n",
       "      <td>Opel</td>\n",
       "      <td>Astra</td>\n",
       "    </tr>\n",
       "    <tr>\n",
       "      <th>10502</th>\n",
       "      <td>Opel Insignia</td>\n",
       "      <td>Opel</td>\n",
       "      <td>Insignia</td>\n",
       "    </tr>\n",
       "    <tr>\n",
       "      <th>10730</th>\n",
       "      <td>Opel Insignia</td>\n",
       "      <td>Opel</td>\n",
       "      <td>Insignia</td>\n",
       "    </tr>\n",
       "    <tr>\n",
       "      <th>10228</th>\n",
       "      <td>Opel Corsa</td>\n",
       "      <td>Opel</td>\n",
       "      <td>Corsa</td>\n",
       "    </tr>\n",
       "    <tr>\n",
       "      <th>7012</th>\n",
       "      <td>Opel Astra</td>\n",
       "      <td>Opel</td>\n",
       "      <td>Astra</td>\n",
       "    </tr>\n",
       "    <tr>\n",
       "      <th>9470</th>\n",
       "      <td>Opel Corsa</td>\n",
       "      <td>Opel</td>\n",
       "      <td>Corsa</td>\n",
       "    </tr>\n",
       "    <tr>\n",
       "      <th>8963</th>\n",
       "      <td>Opel Corsa</td>\n",
       "      <td>Opel</td>\n",
       "      <td>Corsa</td>\n",
       "    </tr>\n",
       "    <tr>\n",
       "      <th>7486</th>\n",
       "      <td>Opel Astra</td>\n",
       "      <td>Opel</td>\n",
       "      <td>Astra</td>\n",
       "    </tr>\n",
       "    <tr>\n",
       "      <th>8219</th>\n",
       "      <td>Opel Astra</td>\n",
       "      <td>Opel</td>\n",
       "      <td>Astra</td>\n",
       "    </tr>\n",
       "    <tr>\n",
       "      <th>6770</th>\n",
       "      <td>Opel Astra</td>\n",
       "      <td>Opel</td>\n",
       "      <td>Astra</td>\n",
       "    </tr>\n",
       "    <tr>\n",
       "      <th>14251</th>\n",
       "      <td>Renault Clio</td>\n",
       "      <td>Renault</td>\n",
       "      <td>Clio</td>\n",
       "    </tr>\n",
       "    <tr>\n",
       "      <th>3426</th>\n",
       "      <td>Audi A3</td>\n",
       "      <td>Audi</td>\n",
       "      <td>A3</td>\n",
       "    </tr>\n",
       "    <tr>\n",
       "      <th>4652</th>\n",
       "      <td>Audi A3</td>\n",
       "      <td>Audi</td>\n",
       "      <td>A3</td>\n",
       "    </tr>\n",
       "    <tr>\n",
       "      <th>13747</th>\n",
       "      <td>Renault Clio</td>\n",
       "      <td>Renault</td>\n",
       "      <td>Clio</td>\n",
       "    </tr>\n",
       "    <tr>\n",
       "      <th>6517</th>\n",
       "      <td>Opel Astra</td>\n",
       "      <td>Opel</td>\n",
       "      <td>Astra</td>\n",
       "    </tr>\n",
       "    <tr>\n",
       "      <th>13321</th>\n",
       "      <td>Renault Clio</td>\n",
       "      <td>Renault</td>\n",
       "      <td>Clio</td>\n",
       "    </tr>\n",
       "    <tr>\n",
       "      <th>4961</th>\n",
       "      <td>Audi A3</td>\n",
       "      <td>Audi</td>\n",
       "      <td>A3</td>\n",
       "    </tr>\n",
       "    <tr>\n",
       "      <th>2034</th>\n",
       "      <td>Audi A1</td>\n",
       "      <td>Audi</td>\n",
       "      <td>A1</td>\n",
       "    </tr>\n",
       "    <tr>\n",
       "      <th>1943</th>\n",
       "      <td>Audi A1</td>\n",
       "      <td>Audi</td>\n",
       "      <td>A1</td>\n",
       "    </tr>\n",
       "  </tbody>\n",
       "</table>\n",
       "</div>"
      ],
      "text/plain": [
       "          make_model     Make     Model\n",
       "1877         Audi A1     Audi        A1\n",
       "7666      Opel Astra     Opel     Astra\n",
       "10502  Opel Insignia     Opel  Insignia\n",
       "10730  Opel Insignia     Opel  Insignia\n",
       "10228     Opel Corsa     Opel     Corsa\n",
       "7012      Opel Astra     Opel     Astra\n",
       "9470      Opel Corsa     Opel     Corsa\n",
       "8963      Opel Corsa     Opel     Corsa\n",
       "7486      Opel Astra     Opel     Astra\n",
       "8219      Opel Astra     Opel     Astra\n",
       "6770      Opel Astra     Opel     Astra\n",
       "14251   Renault Clio  Renault      Clio\n",
       "3426         Audi A3     Audi        A3\n",
       "4652         Audi A3     Audi        A3\n",
       "13747   Renault Clio  Renault      Clio\n",
       "6517      Opel Astra     Opel     Astra\n",
       "13321   Renault Clio  Renault      Clio\n",
       "4961         Audi A3     Audi        A3\n",
       "2034         Audi A1     Audi        A1\n",
       "1943         Audi A1     Audi        A1"
      ]
     },
     "execution_count": 324,
     "metadata": {},
     "output_type": "execute_result"
    }
   ],
   "source": [
    "df[['make_model', 'Make', 'Model']].sample(20)"
   ]
  },
  {
   "cell_type": "code",
   "execution_count": 325,
   "metadata": {},
   "outputs": [],
   "source": [
    "df.drop([\"Make\", \"Model\"], axis=1, inplace=True)"
   ]
  },
  {
   "cell_type": "code",
   "execution_count": 326,
   "metadata": {},
   "outputs": [
    {
     "data": {
      "text/plain": [
       "(15919, 43)"
      ]
     },
     "execution_count": 326,
     "metadata": {},
     "output_type": "execute_result"
    }
   ],
   "source": [
    "df.shape"
   ]
  },
  {
   "cell_type": "markdown",
   "metadata": {},
   "source": [
    "**After the examination, we have decided to drop the columns, \"Make\" & \"Model\" and kept the column of \"make_model.**"
   ]
  },
  {
   "cell_type": "markdown",
   "metadata": {},
   "source": [
    "## short_description"
   ]
  },
  {
   "cell_type": "code",
   "execution_count": 327,
   "metadata": {},
   "outputs": [
    {
     "data": {
      "text/plain": [
       "SPB 1.6 TDI 116 CV S tronic Sport                 64\n",
       "None                                              46\n",
       "1.4 66kW (90CV) Selective                         40\n",
       "MOVE KLIMA CD USB ALLWETTER BLUETOOTH             38\n",
       "SPB 30 TDI S tronic Business                      35\n",
       "                                                  ..\n",
       "K Sports Tourer Business **Navi*Voll**             1\n",
       "1.0 Turbo ecoFLEX Automatic Elective Park Navi     1\n",
       "1.6 CDTI Business *Navi*Automatik*Spurh.*          1\n",
       "1.6 136 CV Automatica Navi E 6 Garanzia Full       1\n",
       "TCe 225 EDC GPF LIM Deluxe Pano,RFK                1\n",
       "Name: short_description, Length: 10002, dtype: int64"
      ]
     },
     "execution_count": 327,
     "metadata": {},
     "output_type": "execute_result"
    }
   ],
   "source": [
    "df.short_description.value_counts(dropna=False)"
   ]
  },
  {
   "cell_type": "code",
   "execution_count": 328,
   "metadata": {},
   "outputs": [
    {
     "data": {
      "text/plain": [
       "10001"
      ]
     },
     "execution_count": 328,
     "metadata": {},
     "output_type": "execute_result"
    }
   ],
   "source": [
    "df['short_description'].nunique()"
   ]
  },
  {
   "cell_type": "code",
   "execution_count": 329,
   "metadata": {},
   "outputs": [],
   "source": [
    "df.drop(\"short_description\", axis=1, inplace=True)"
   ]
  },
  {
   "cell_type": "code",
   "execution_count": 330,
   "metadata": {},
   "outputs": [
    {
     "data": {
      "text/plain": [
       "(15919, 42)"
      ]
     },
     "execution_count": 330,
     "metadata": {},
     "output_type": "execute_result"
    }
   ],
   "source": [
    "df.shape"
   ]
  },
  {
   "cell_type": "markdown",
   "metadata": {},
   "source": [
    "## description "
   ]
  },
  {
   "cell_type": "code",
   "execution_count": 331,
   "metadata": {},
   "outputs": [
    {
     "data": {
      "text/plain": [
       "[]                                                                                                                                                                                                                                                                                                                                                                                                                                                                                                                                                                                                                                                                                                                                                                                                                                                                                                                                                                                                                                                                                                                                                                                                                                                                                                                                                                                                                                                                                                                                                                                                                                                                                                                                                                                                                                                                                                                                                                                                                                                                                                                                                                                                                                                                                                                                                                                                                                                                                                                                                                                                                                                                                                                                                                                                                                                                                               636\n",
       "['\\n', '\\n']                                                                                                                                                                                                                                                                                                                                                                                                                                                                                                                                                                                                                                                                                                                                                                                                                                                                                                                                                                                                                                                                                                                                                                                                                                                                                                                                                                                                                                                                                                                                                                                                                                                                                                                                                                                                                                                                                                                                                                                                                                                                                                                                                                                                                                                                                                                                                                                                                                                                                                                                                                                                                                                                                                                                                                                                                                                                                      30\n",
       "['\\n', 'Fahrzeugbeschreibung', ' Sichern Sie sich diesen Renault Clio 1.6 TCE Energy Sport Trophy zum Top-Preis inklusive dem ', 'AUTOHERO-RUNDUM-SORGLOS-PAKET', ' ', 'Infos:', ' 1.Hand, deutsche Auslieferung, Unfallfrei, scheckheftgepflegt', ' ', 'Highlights', ' ', 'Audio-Navigationssystem R-Link Evolution mit Touchscreen und Carminat TomTom', ' ', 'Sportsitze ', ' ', 'Sportfahrwerk', ' ', 'Scheinwerfer Full-LED ', 'Komfort', ' ', 'Geschwindigkeits-Regelanlage (Tempomat) ', ' ', 'Klimaanlage', ' ', 'Einparkhilfe hinten', ' ', 'Multifunktionslenkrad (Sport/Leder) mit Schaltwippen/-tasten ', ' ', 'Fensterheber elektr. mit Impulsgeber links/rechts vorn', ' ', 'Zentralverriegelung / Startanlage Handsfree Entry & Drive ', ' ', 'Berganfahr-Assistent (HSA) ', 'Multimedia', ' ', 'Audiosystem: Radio R & GO (Bluetooth, DAB-Tuner)', ' ', 'Bordcomputer', ' ', 'Freisprecheinrichtung Bluetooth ', ' ', 'USB-Anschluss inkl. AUX-IN-Anschluss (Plug & Music) ', 'Licht und Sicht', ' ', 'Außenspiegel elektr. verstell- und heizbar ', ' ', 'Licht- und Regensensor ', ' ', 'Tagfahrlicht LED ', ' ', 'Nebelscheinwerfer LED ', ' ', 'Coming-Home-Lichtfunktion ', ' ', 'Heckleuchten LED ', 'Sicherheit', ' ', 'Isofix-Aufnahmen für Kindersitz ', ' ', 'Seitenairbag vorn', ' ', 'Wegfahrsperre', ' ', 'Differentialsperre', ' ', 'Bremsassistent ', ' ', 'Elektron. Stabilitäts-Programm (ESP)', ' ', 'Anti-Blockier-System (ABS)', ' ', 'Anti-Submarining-Airbag im Fond', ' ', 'Airbag Fahrer-/Beifahrerseite ', ' ', 'Differentialsperre ', ' ', 'Reifendruck-Kontrollsystem ', ' ', 'Untersteuerungskontrolle (USC) ', ' ', 'Antischlupfregelung (ASR) ', 'Weiteres', ' ', 'Start/Stop-Anlage ', ' ', 'Servolenkung geschwindigkeitsabhängig', ' ', 'R.S. Drive (Fahrmodusschalter) ', ' ', 'Gepäckraumabdeckung / Rollo ', ' ', 'Heckdiffusor ', ' ', 'LM-Felgen ', ' ', 'Heckspoiler (Renault Sport) ', ' ', 'Pedale Aluminium ', ' ', 'Energierückgewinnung (Energy Smart Management) ', ' ', 'Elektr. Bremskraftverteilung ', ' ', 'Reifen-Reparaturkit ', ' ', 'Sitzbezug / Polsterung: Stoff ', ' Ihr ', 'AUTOHERO-RUNDUM-SORGLOS-PAKET', ' beinhaltet:', 'Kostenlose Lieferung in Ihre Nähe', 'Optische & technische Aufbereitung', 'Mindestens 12 Monate gültige HU und AU', '1-Jahr-Premium-Garantie', 'Zulassung inklusive ', '14-Tage-Rückgaberecht', 'Markenunabhängige Inzahlungnahme ', 'Individuelle Finanzierungen zu fairen Konditionen', ' ', 'HIER GEHT ES ZUR 360° - ANSICHT DES FAHRZEUGES:', ':', 'https://www.autohero.com/de/renault-clio-1-6-tce-energy-renault-sport-trophy/id/f7ca29bf-e005-453f-bbc9-8c6fe892dec6/', ' ', 'Haftungsausschluss', ':', 'Für Angaben vom Verkäufer, des Herstellers oder von Datenbankabfragen übernimmt Autohero keine Haftung. Änderungen, Zwischenverkauf und Irrtümer sind vorbehalten.\\n']     27\n",
       "['\\nPosibilidad de prueba del vehículo hasta 5 días. Consultar condiciones. PVP para particulares. Varias unidades y colores disponibles. Precios publicados para vehículos industriales (furgonetas) válidos para compradores autónomos o empresas, consultar condiciones para particulares. Las imágenes y kilómetros pueden no corresponder con el modelo anunciado. Para confirmar póngase en contacto con nuestro departamento comercial. Consulta las excepcionales condiciones de financiación que tenemos disponibles. Precio de venta final IVA y gastos de transferencia incluidos. Horario de atención al cliente: Lunes a Viernes de 09:00 a 18:00.\\n']                                                                                                                                                                                                                                                                                                                                                                                                                                                                                                                                                                                                                                                                                                                                                                                                                                                                                                                                                                                                                                                                                                                                                                                                                                                                                                                                                                                                                                                                                                                                                                                                                                                                                                                                                                                                                                                                                                                                                                                                                                                                                                                                                                                                                               27\n",
       "['\\nSichern Sie sich diesen RENAULT CLIO 1.2 LIMITED zum Top-Preis inklusive dem', 'AUTOHERO-RUNDUM-SORGLOS-PAKET', ' ', 'Infos:', ' 2.Hand, mindestens 12 Monate gültige HU und AU, deutsche Ausführung, unfallfrei ', ' ', 'Highlights', ' ', 'Audio-Navigationssystem mit Touchscreen-Farbdisplay', 'Komfort', ' ', 'Klimaanlage ', ' ', 'Multifunktionslenkrad in Leder ', ' ', 'Berganfahr-Assistent (HSA)', ' ', 'Fensterheber elektrisch vorn ', ' ', 'Geschwindigkeits-Regelanlage (Tempomat) ', ' ', 'Heckscheibe heizbar ', ' ', 'Sitz vorn links höhenverstellbar', ' ', 'Sitz vorn rechts umklappbar ', ' ', 'Stau-/Ablagefach im Laderaumboden ', ' ', 'Zentralverriegelung mit Fernbedienung ', 'Multimedia', ' ', 'Radio R&GO', ' ', 'Bluetooth Freisprechanlage ', ' ', 'USB-/AUX-Schnittstelle ', ' ', 'Bordcomputer', ' ', 'Licht und Sicht', ' ', 'Tagfahrlicht LED ', ' ', 'Außenspiegel elektrisch verstell- und heizbar', 'Sicherheit', ' ', 'Airbag für Fahrer und Beifahrer', ' ', 'Beifahrerairbag deaktivierbar ', ' ', 'Seitenairbags vorn ', ' ', 'Kopfairbagsystem', ' ', 'Anti-Blockier-System (ABS)', ' ', 'Elektronische Bremskraftverteilung ', ' ', 'Elektronische Stabilitäts-Programm (ESP) ', ' ', 'Reifen-Reparaturkit ', ' ', 'Reifendruck-Kontrollsystem ', ' ', 'Untersteuerungskontrolle (USC) ', ' ', 'ISOFIX Kindersitzverankerung ', 'Weiteres', ' ', 'Dachreling silber ', ' ', 'Look-Paket Chrom (außen) ', ' ', 'Look-Paket Grau (innen) ', ' ', 'R&GO-Paket ', ' ', 'Style-Paket ', ' Ihr ', 'AUTOHERO-RUNDUM-SORGLOS-PAKET', ' beinhaltet:', 'Kostenlose Lieferung in Ihre Nähe', 'Optische & technische Aufbereitung', 'Mindestens 12 Monate gültige HU und AU', '1-Jahr-Premium-Garantie', 'Zulassung inklusive ', '14-Tage-Rückgaberecht', 'Markenunabhängige Inzahlungnahme ', 'Individuelle Finanzierungen zu fairen Konditionen', ' ', 'HIER GEHT ES ZUR 360° - ANSICHT DES FAHRZEUGES:', ':', 'https://www.autohero.com/de/renault-clio-1-2-limited/id/30f99516-8785-47e7-a4a3-6cdac4d8e633/', ' ', 'Haftungsausschluss', ':', 'Für Angaben vom Verkäufer, des Herstellers oder von Datenbankabfragen übernimmt Autohero keine Haftung. Änderungen, Zwischenverkauf und Irrtümer sind vorbehalten.\\n']                                                                                                                                                                                                                                                                                                                                                                                                                                                                                                                                                                                                                                   27\n",
       "                                                                                                                                                                                                                                                                                                                                                                                                                                                                                                                                                                                                                                                                                                                                                                                                                                                                                                                                                                                                                                                                                                                                                                                                                                                                                                                                                                                                                                                                                                                                                                                                                                                                                                                                                                                                                                                                                                                                                                                                                                                                                                                                                                                                                                                                                                                                                                                                                                                                                                                                                                                                                                                                                                                                                                                                                                                                                                ... \n",
       "['\\nPratica\\xa067374', 'Airbag fullsize per conducente e passeggero, Alzacristalli elettrici ant. e post. con funzione attivaz. a pressione, Assetto dinamico, Audi drive select, Inserti in micrometallic argento, Kit riparazione pneumatici, Pacchetto di navigazione, Piano di copertura del vano bagagli estraibile, Presa AUX-IN, Proiettori allo Xenon Plus con reg. aut. prof. fari, Lavafari, Rivestimenti dei sedili in tessuto, Serbatoio AdBlue, Sistema controllo pressione pneumatici, Sistema di ancoraggio ISOFIX e 3° punto di ancoraggio Top Tether sui sedili post. laterali, Sistema di informazioni per il conducente con display monocromatico, Tappetini anteriori e posteriori, Versione Business, Volante sportivo multifunzionale in pelle 3 razze, ABS, EBV (Ripartitore elettronico della forza frenante), Airbag laterali anteriori integrati negli schienali dei sedili, Airbag per la testa, Airbag per le ginocchia (lato conducente), Appoggiatesta anteriori (2) e posteriori (3) regolabili, Radio MMI plus, Interfaccia Bluetooth, Appoggiabraccia centrale anteriore, Cambio manuale, Cerchi in lega 7 J x 16\" a 5 razze a stella, Chiusura centralizzata con telecomando, Regolatore di velocità, ESC - Sistema elettronico di controllo della stabilizzazione con bloccaggio trasversale elettronico, ASR - Dispositivo di controllo della trazione, EDS (Dispositivo antislittamento in partenza), Filtro anti particolato, Cinture di sicurezza con pretensionatore, Specchietti retrovisivi esterni riscaldabili e ripiegabili elettricamente, Schienale del sedile posteriore ribaltabile (divisibile in rapporto 40:60 o ribaltabile completam.), Sistema di ausilio al parcheggio posteriore, Servosterzo elettromeccanico, Tergilunotto\\n']                                                                                                                                                                                                                                                                                                                                                                                                                                                                                                                                                                                                                                                                                                                                                                                                                                                                                                                                                                                                                                                                                                          1\n",
       "['\\n', 'Getriebe:', ' Schaltgetriebe', 'Technik:', ' Bordcomputer, Start-Stop-Automatik', 'Assistenten:', ' Regensensor, Lichtsensor, Berganfahrassistent', 'Komfort:', ' Servolenkung, Zentralverriegelung, Elektrischer Fensterheber, Sitzheizung, Elektrische Aussenspiegel, Teilbare Ruecksitzlehne, Tempomat, Park Distance Control, Multifunktionslenkrad, Innenspiegel autom. abblendbar, Mittelarmlehne, Innenraumfilter, Lenksaeule einstellbar, Sportsitze, Klimaautomatik-2-Zonen', 'Sicht:', ' Xenon Scheinwerfer, Colorverglasung, Scheinwerferreinigung, Aussenspiegel beheizbar, Privacyverglasung', 'Sicherheit:', ' ABS, Airbag, Beifahrer-Airbag, Wegfahrsperre, Seitenairbags, ESP, Antriebsschlupfregelung, Reifendruckkontrolle, Traktionskontrolle, Kopfairbag, Knieairbag, Kindersitzbefestigung, Pannenkit', 'Entertainment:', ' CD, Radio, AUX-In, USB-Anschluss, MP3, Bluetooth, Freisprecheinrichtung', 'Umwelt:', ' Grüne Umweltplakette, ', 'Energieeffizienzklasse B', 'Qualität:', ' Garantie, Scheckheftgepflegt, HUAU neu, Nichtraucherfahrzeug', 'Sonstiges:', ' Metallic, Alufelgen, Dachreling, Gepaeckraumabdeckung, Stossfaenger in Wagenfarbe, Sportfahrwerk', 'Weiteres:', ' Connectivity-Paket inkl. Bluetooth-Schnittstelle, Klimaautomatik 2-Zonen, Optik-Paket schwarz Audi exclusive, Einparkhilfe (APS), Verglasung hinten abgedunkelt, Sitzheizung vorn, Dachreling (Aluminium), Soundsystem DSP / Audi Sound-System, Ablage- und Gepäckraum-Paket, Audi music interface, Scheibenwaschdüsen heizbar, Vorbereitung Navigationssystem, Adaptives Bremslicht, Anfahr-Assistent (hold assist), Antriebsart: Frontantrieb, Audi Drive Select, Außenspiegel Wagenfarbe, Blinkleuchten LED in Außenspiegel integriert, Bremsanlage mit Rekuperation - Bremsenergierückgewinnung, Bremsassistent, Dachspoiler, Dekoreinlagen Aluminium Mistral, Einstiegsleisten Aluminium, Elektron. Differentialsperre (EDS), Elektron. Stabilitätskontrolle (ESC), Elektron. Stabilitäts-Programm, Euro 6, Fahrer-Informations-System (FIS), Fensterheber elektrisch vorn und hinten, Frontscheibe Akustikglas, Fußmatten Velours, Getriebe 6-Gang, Heckscheibe heizbar, Interieur Aluminium-Optik, Isofix-Aufnahmen für Kindersitz, Kopfstützen hinten, Multi-Media-Interface MMI, Parkbremse elektro-mechanisch, Polster: Stoff Rallye, Servolenkung elektro-mechanisch, Sitze vorn mit ausziehbarer Oberschenkelauflage, Sitzhöhenverstellung, Sport/Lederlenkrad, Sport-Fahrwerk, Start/Stop-Anlage, Telefon-Vorbereitung mit Bluetooth-Schnittstelle, Wagenheber, Wärmeschutzverglasung, Xenon Plus, ZV mit Fernbedienung', '... Änderungen, Zwischenverkauf und Irrtümer vorbehalten.', ' by CG360.de\\n']                                                                                                                                                         1\n",
       "['\\n', 'Getriebe', '6-Gang', 'Licht und Sicht', 'Xenon-Scheinwerfer Plus (Abblend- und Fernlicht)', 'Technik und Sicherheit', 'Fahrerairbag', 'Airbag Fahrer-/Beifahrerseite', 'Seitenairbag vorn', 'Kopfairbags', 'Anti-Blockier-System (ABS)', 'Elektron. Stabilitätskontrolle (ESC)', 'Elektron. Differentialsperre (EDS)', 'Zentralverriegelung mit Fernbedienung', 'Schließ-/Startsystem Advanced Key (Komfortschlüssel)', 'Servolenkung elektro-mechanisch', 'Geschwindigkeits-Regelanlage (Tempomat)', 'Elektronische Wegfahrsperre', 'Bordcomputer', 'Reifendruck-Kontrollsystem', 'Assistenzsysteme', 'Fahrassistenz-System: Anfahr-Assistent (hold assist)', 'Multimedia', 'Multi-Media-Interface MMI Basic Plus / MMI Radio Plus', 'Audi Smartphone Interface', 'Komfort', 'Komfort-Klimaautomatik 2-Zonen', 'Einparkhilfe hinten (APS)', 'Fensterheber elektrisch', 'Licht- und Regensensor', 'Außenspiegel elektr. verstellbar beide', 'Scheibenwaschdüsen und Außenspiegel beheizt', 'Wärmeschutzverglasung grün getönt', 'Innenausstattung', 'Sitzheizung vorn', 'Lenkrad (Sport/Leder - 3-Speichen) mit Multifunktion', 'Mittelarmlehne vorn', 'Rücksitzlehne geteilt/klappbar', 'Aussenausstattung', 'LM-Felgen', 'Pakete', 'Komfort-Paket', 'Sonstiges', 'Rußpartikelfilter', 'Scheckheftgepflegt', 'Nichtraucherfahrzeug', 'Weitere Informationen', 'Schadstoffklasse: EURO 6D-TEMP', 'Connectivity-Paket', 'Glanz-Paket', 'LM-Felgen 7.5x17 (5-Speichen Y-Design)', 'Progressivlenkung', 'Antriebs-Schlupfregelung (ASR)', 'Elektron. Stabilitäts-Programm (ESP)', 'Getriebe 6-Gang', 'Lenkrad (Sport - 3-Speichen)', 'Parkbremse elektro-mechanisch', 'Sitze vorn höhenverstellbar', 'Vorrüstung Mobiltelefon/Handy mit Bluetooth-Schnittstelle', 'Audi music interface', 'Außenspiegel elektr. verstell- und heizbar beide', 'Vorbereitung Navigationssystem', 'Irrtümer und Änderungen vorbehalten.', 'Die im Internet angebotene Ausstattung ist kein Vertragsbestandteil.', 'Die Ausstattung muss vor Ort geprüft werden.', 'Das angebotene Fahrzeug kann von einer Rückrufaktion betroffen sein. Co2 Angaben können abweichen.', '\\n']                                                                                                                                                                                                                                                                                                                                                                                                                                                                                                                                                                                                                                                                                                                                   1\n",
       "['\\n', 'Aluminium-Gussräder im 5-Speichen-Stern-Design Größe 7 J x 16 mit Reifen 205/55 R 16', 'Dachreling eloxiert', 'Einparkhilfe hinten', 'Fahrerinformationssystem mit Farbdisplay', 'Lederlenkrad im 3-Speichen-Design mit Multifunktion plus', 'Ablage-/Gepäckraumpaket mit erweitertem USB-Buchsen-Angebot', 'Lichtpaket', \"Reifen 16'\", 'Anlaufvariante RdW', 'Vorbereitung für Anhängevorrichtung', 'Audi sound system', 'Reifen 205/55 R16 91W', 'Xenon plus', 'Allwetterlicht', 'Kopfstützen hinten (3 Stück)', 'MMI Radio plus', 'Zentralverriegelung mit Funkschlüssel', 'Bluetooth-Schnittstelle', 'Innenspiegel abblendbar', 'elektronische Stabilisierungskontrolle (ESC)', 'Airbags', '6-Gang-Schaltgetriebe', 'Seitenairbags vorn und Kopfairbagsystem', 'elektromechanische Servolenkung', 'Leuchtweitenregulierung automatisch-statisch', 'Scheibenwaschdüsen beheizbar vorn', 'Reifendruck-Kontrollanzeige', 'Tagfahrlicht', 'Start-Stop-System', 'AUX-IN-Anschluss', 'Kindersitzverankerung ISOFIX und Top Tether für die äußeren Fondsitze', 'Sitzbezüge in Stoff Index', 'Wärmeschutzverglasung', 'Akustikfrontscheibe', 'Außenspiegel links asphärisch', 'Außen-Sound Standard', 'Außenspiegel rechts (großes Sichtfeld) konvex', 'elektromechanische Parkbremse', 'Dachhimmel in Stoff felsgrau', 'Kraftstoffsystem Otto-Einspritzer', 'Linkslenker', 'Reifenreparaturset', 'Heckleuchten', 'Scheibenwaschanlage', 'Entriegelung Hintersitz Standard', 'Waschwasserstandsanzeige', 'Abgaskonzept EU6 AG/H/I', 'Frontantrieb', 'A3', 'Außenspiegelgehäuse in Wagenfarbe', 'Ohne erweitertem Sicherheitssystem', 'Geschwindigkeitsbegrenzungsanlage', 'Dachkantenspoiler', 'Heckscheibenwischer', 'Sportback', 'Kindersicherung manuell', 'Ohne Kamerasysteme/Umfeldsensorik', '4-Zyl. Ottomotor 1 5 L/110KW TSI Grundmotor ist: TJ7/N09/T9F', 'Nebelschlussleuchten', 'Nichtraucherausführung', 'Radstand', 'Doppeltonfanfare', 'Serienfahrwerk', '4 Türen', 'Modellbezeichnung gemäß neuer Leistungskennzeichnung', 'Warnleuchten', 'Zierleisten schwarz', 'Nichtraucherfahrzeug', 'Irrtümer Änderungen und Zwischenverkauf vorbehalten', 'sehr guter Zustand', 'Komfortklima', 'Aussenspiegel heizbar', 'elektrische Aussenspiegel', 'geteilte Rückbank', 'Scheckheft gepflegt', 'Fahrersitz höhenverstellbar', 'Beifahrersitz höhenverstellbar', '\\n']                                                                                                                                                                                                                                                                                                                                                                                                                                                                                                                 1\n",
       "['\\nDEK:[2691331]', 'Renault Espace Blue dCi 200CV EDC Business', 'Nuova da Immatricolare', 'COLORE: Grigio Titanio', 'INTERNO: Pelle+Tessuto', 'TRASMISSIONE: Cambio Automatico EDC', '---', 'ACCESSORI: ', '7 Posti', ', ', 'Cerchi in Lega 17, Navigatore con Display 8.7, Clima Automatico, Sensori di Parcheggio Anteriori e Posteriori con Retrocamera, Fari Full LED Pure Vision, Cruise Control, Renault Multisense', '---', 'Listino Nuovo 44.300 Euro', 'Prezzo Gruppo Carmeli: 39.700 Euro (Esclusa IPT e Messa in Strada)', 'IVA Esposta', 'In caso di Adesione alla PROMO GRUPPO CARMELI puoi Averla a 36.000 Euro', 'Contattaci per scoprire tutti i vantaggi della PROMO GRUPPO CARMELI', '____________________________________', 'Gruppo Carmeli S.p.A. è Concessionaria e Service ufficiale dei Marchi Renault, Dacia, Nissan, Mercedes e Smart per la provincia di Brescia e Bergamo ed opera nel mercato dell’auto da più di 40 anni.', 'Nelle sedi di Brescia (Nissan e Renault-Dacia Autospazio), di Coccaglio (Renault-Dacia e Nissan) e di Bergamo (Nissan) oltre a tutta la gamma di veicoli dei Marchi rappresentati, propone anche 2.000 auto a Km Zero e Aziendali di tutte le marche.', 'Offriamo Servizi:', '-VALUTAZIONE e PERMUTA del tuo USATO', '-ACQUISTO con pagamento immediato del tuo USATO', '-FINANZIAMENTI e LEASING agevolati', '-NOLEGGIO A LUNGO TERMINE di veicoli di tutte le marche', '-PACCHETTI ASSICURATIVI su misura con possibilità di garanzia del valore a Nuovo', '____________________________________', \"Sebbene sia stato fatto ogni ragionevole sforzo per assicurare l'esattezza delle informazioni riportate, vi potrebbero essere involontarie incongruenze riguardanti le immagini e la descrizione degli accessori, che pertanto non rappresentano vincolo contrattuale. Per ulteriori informazioni sulle condizioni economiche ti invitiamo a contattarci.\", '\\n']                                                                                                                                                                                                                                                                                                                                                                                                                                                                                                                                                                                                                                                                                                                                                                                                                                                                                                                                                                1\n",
       "Name: description, Length: 12874, dtype: int64"
      ]
     },
     "execution_count": 331,
     "metadata": {},
     "output_type": "execute_result"
    }
   ],
   "source": [
    "df['description'].astype('str').value_counts(dropna=False)"
   ]
  },
  {
   "cell_type": "code",
   "execution_count": 332,
   "metadata": {},
   "outputs": [
    {
     "data": {
      "text/plain": [
       "12874"
      ]
     },
     "execution_count": 332,
     "metadata": {},
     "output_type": "execute_result"
    }
   ],
   "source": [
    "df['description'].astype('str').nunique()"
   ]
  },
  {
   "cell_type": "code",
   "execution_count": 337,
   "metadata": {},
   "outputs": [
    {
     "ename": "KeyError",
     "evalue": "\"['description'] not found in axis\"",
     "output_type": "error",
     "traceback": [
      "\u001b[1;31m---------------------------------------------------------------------------\u001b[0m",
      "\u001b[1;31mKeyError\u001b[0m                                  Traceback (most recent call last)",
      "Input \u001b[1;32mIn [337]\u001b[0m, in \u001b[0;36m<cell line: 1>\u001b[1;34m()\u001b[0m\n\u001b[1;32m----> 1\u001b[0m \u001b[43mdf\u001b[49m\u001b[38;5;241;43m.\u001b[39;49m\u001b[43mdrop\u001b[49m\u001b[43m(\u001b[49m\u001b[38;5;124;43m\"\u001b[39;49m\u001b[38;5;124;43mdescription\u001b[39;49m\u001b[38;5;124;43m\"\u001b[39;49m\u001b[43m,\u001b[49m\u001b[43m \u001b[49m\u001b[43maxis\u001b[49m\u001b[38;5;241;43m=\u001b[39;49m\u001b[38;5;241;43m1\u001b[39;49m\u001b[43m,\u001b[49m\u001b[43m \u001b[49m\u001b[43minplace\u001b[49m\u001b[38;5;241;43m=\u001b[39;49m\u001b[38;5;28;43;01mTrue\u001b[39;49;00m\u001b[43m)\u001b[49m\n",
      "File \u001b[1;32m~\\anaconda3\\lib\\site-packages\\pandas\\util\\_decorators.py:311\u001b[0m, in \u001b[0;36mdeprecate_nonkeyword_arguments.<locals>.decorate.<locals>.wrapper\u001b[1;34m(*args, **kwargs)\u001b[0m\n\u001b[0;32m    305\u001b[0m \u001b[38;5;28;01mif\u001b[39;00m \u001b[38;5;28mlen\u001b[39m(args) \u001b[38;5;241m>\u001b[39m num_allow_args:\n\u001b[0;32m    306\u001b[0m     warnings\u001b[38;5;241m.\u001b[39mwarn(\n\u001b[0;32m    307\u001b[0m         msg\u001b[38;5;241m.\u001b[39mformat(arguments\u001b[38;5;241m=\u001b[39marguments),\n\u001b[0;32m    308\u001b[0m         \u001b[38;5;167;01mFutureWarning\u001b[39;00m,\n\u001b[0;32m    309\u001b[0m         stacklevel\u001b[38;5;241m=\u001b[39mstacklevel,\n\u001b[0;32m    310\u001b[0m     )\n\u001b[1;32m--> 311\u001b[0m \u001b[38;5;28;01mreturn\u001b[39;00m func(\u001b[38;5;241m*\u001b[39margs, \u001b[38;5;241m*\u001b[39m\u001b[38;5;241m*\u001b[39mkwargs)\n",
      "File \u001b[1;32m~\\anaconda3\\lib\\site-packages\\pandas\\core\\frame.py:4954\u001b[0m, in \u001b[0;36mDataFrame.drop\u001b[1;34m(self, labels, axis, index, columns, level, inplace, errors)\u001b[0m\n\u001b[0;32m   4806\u001b[0m \u001b[38;5;129m@deprecate_nonkeyword_arguments\u001b[39m(version\u001b[38;5;241m=\u001b[39m\u001b[38;5;28;01mNone\u001b[39;00m, allowed_args\u001b[38;5;241m=\u001b[39m[\u001b[38;5;124m\"\u001b[39m\u001b[38;5;124mself\u001b[39m\u001b[38;5;124m\"\u001b[39m, \u001b[38;5;124m\"\u001b[39m\u001b[38;5;124mlabels\u001b[39m\u001b[38;5;124m\"\u001b[39m])\n\u001b[0;32m   4807\u001b[0m \u001b[38;5;28;01mdef\u001b[39;00m \u001b[38;5;21mdrop\u001b[39m(\n\u001b[0;32m   4808\u001b[0m     \u001b[38;5;28mself\u001b[39m,\n\u001b[1;32m   (...)\u001b[0m\n\u001b[0;32m   4815\u001b[0m     errors: \u001b[38;5;28mstr\u001b[39m \u001b[38;5;241m=\u001b[39m \u001b[38;5;124m\"\u001b[39m\u001b[38;5;124mraise\u001b[39m\u001b[38;5;124m\"\u001b[39m,\n\u001b[0;32m   4816\u001b[0m ):\n\u001b[0;32m   4817\u001b[0m     \u001b[38;5;124;03m\"\"\"\u001b[39;00m\n\u001b[0;32m   4818\u001b[0m \u001b[38;5;124;03m    Drop specified labels from rows or columns.\u001b[39;00m\n\u001b[0;32m   4819\u001b[0m \n\u001b[1;32m   (...)\u001b[0m\n\u001b[0;32m   4952\u001b[0m \u001b[38;5;124;03m            weight  1.0     0.8\u001b[39;00m\n\u001b[0;32m   4953\u001b[0m \u001b[38;5;124;03m    \"\"\"\u001b[39;00m\n\u001b[1;32m-> 4954\u001b[0m     \u001b[38;5;28;01mreturn\u001b[39;00m \u001b[38;5;28;43msuper\u001b[39;49m\u001b[43m(\u001b[49m\u001b[43m)\u001b[49m\u001b[38;5;241;43m.\u001b[39;49m\u001b[43mdrop\u001b[49m\u001b[43m(\u001b[49m\n\u001b[0;32m   4955\u001b[0m \u001b[43m        \u001b[49m\u001b[43mlabels\u001b[49m\u001b[38;5;241;43m=\u001b[39;49m\u001b[43mlabels\u001b[49m\u001b[43m,\u001b[49m\n\u001b[0;32m   4956\u001b[0m \u001b[43m        \u001b[49m\u001b[43maxis\u001b[49m\u001b[38;5;241;43m=\u001b[39;49m\u001b[43maxis\u001b[49m\u001b[43m,\u001b[49m\n\u001b[0;32m   4957\u001b[0m \u001b[43m        \u001b[49m\u001b[43mindex\u001b[49m\u001b[38;5;241;43m=\u001b[39;49m\u001b[43mindex\u001b[49m\u001b[43m,\u001b[49m\n\u001b[0;32m   4958\u001b[0m \u001b[43m        \u001b[49m\u001b[43mcolumns\u001b[49m\u001b[38;5;241;43m=\u001b[39;49m\u001b[43mcolumns\u001b[49m\u001b[43m,\u001b[49m\n\u001b[0;32m   4959\u001b[0m \u001b[43m        \u001b[49m\u001b[43mlevel\u001b[49m\u001b[38;5;241;43m=\u001b[39;49m\u001b[43mlevel\u001b[49m\u001b[43m,\u001b[49m\n\u001b[0;32m   4960\u001b[0m \u001b[43m        \u001b[49m\u001b[43minplace\u001b[49m\u001b[38;5;241;43m=\u001b[39;49m\u001b[43minplace\u001b[49m\u001b[43m,\u001b[49m\n\u001b[0;32m   4961\u001b[0m \u001b[43m        \u001b[49m\u001b[43merrors\u001b[49m\u001b[38;5;241;43m=\u001b[39;49m\u001b[43merrors\u001b[49m\u001b[43m,\u001b[49m\n\u001b[0;32m   4962\u001b[0m \u001b[43m    \u001b[49m\u001b[43m)\u001b[49m\n",
      "File \u001b[1;32m~\\anaconda3\\lib\\site-packages\\pandas\\core\\generic.py:4267\u001b[0m, in \u001b[0;36mNDFrame.drop\u001b[1;34m(self, labels, axis, index, columns, level, inplace, errors)\u001b[0m\n\u001b[0;32m   4265\u001b[0m \u001b[38;5;28;01mfor\u001b[39;00m axis, labels \u001b[38;5;129;01min\u001b[39;00m axes\u001b[38;5;241m.\u001b[39mitems():\n\u001b[0;32m   4266\u001b[0m     \u001b[38;5;28;01mif\u001b[39;00m labels \u001b[38;5;129;01mis\u001b[39;00m \u001b[38;5;129;01mnot\u001b[39;00m \u001b[38;5;28;01mNone\u001b[39;00m:\n\u001b[1;32m-> 4267\u001b[0m         obj \u001b[38;5;241m=\u001b[39m \u001b[43mobj\u001b[49m\u001b[38;5;241;43m.\u001b[39;49m\u001b[43m_drop_axis\u001b[49m\u001b[43m(\u001b[49m\u001b[43mlabels\u001b[49m\u001b[43m,\u001b[49m\u001b[43m \u001b[49m\u001b[43maxis\u001b[49m\u001b[43m,\u001b[49m\u001b[43m \u001b[49m\u001b[43mlevel\u001b[49m\u001b[38;5;241;43m=\u001b[39;49m\u001b[43mlevel\u001b[49m\u001b[43m,\u001b[49m\u001b[43m \u001b[49m\u001b[43merrors\u001b[49m\u001b[38;5;241;43m=\u001b[39;49m\u001b[43merrors\u001b[49m\u001b[43m)\u001b[49m\n\u001b[0;32m   4269\u001b[0m \u001b[38;5;28;01mif\u001b[39;00m inplace:\n\u001b[0;32m   4270\u001b[0m     \u001b[38;5;28mself\u001b[39m\u001b[38;5;241m.\u001b[39m_update_inplace(obj)\n",
      "File \u001b[1;32m~\\anaconda3\\lib\\site-packages\\pandas\\core\\generic.py:4311\u001b[0m, in \u001b[0;36mNDFrame._drop_axis\u001b[1;34m(self, labels, axis, level, errors, consolidate, only_slice)\u001b[0m\n\u001b[0;32m   4309\u001b[0m         new_axis \u001b[38;5;241m=\u001b[39m axis\u001b[38;5;241m.\u001b[39mdrop(labels, level\u001b[38;5;241m=\u001b[39mlevel, errors\u001b[38;5;241m=\u001b[39merrors)\n\u001b[0;32m   4310\u001b[0m     \u001b[38;5;28;01melse\u001b[39;00m:\n\u001b[1;32m-> 4311\u001b[0m         new_axis \u001b[38;5;241m=\u001b[39m \u001b[43maxis\u001b[49m\u001b[38;5;241;43m.\u001b[39;49m\u001b[43mdrop\u001b[49m\u001b[43m(\u001b[49m\u001b[43mlabels\u001b[49m\u001b[43m,\u001b[49m\u001b[43m \u001b[49m\u001b[43merrors\u001b[49m\u001b[38;5;241;43m=\u001b[39;49m\u001b[43merrors\u001b[49m\u001b[43m)\u001b[49m\n\u001b[0;32m   4312\u001b[0m     indexer \u001b[38;5;241m=\u001b[39m axis\u001b[38;5;241m.\u001b[39mget_indexer(new_axis)\n\u001b[0;32m   4314\u001b[0m \u001b[38;5;66;03m# Case for non-unique axis\u001b[39;00m\n\u001b[0;32m   4315\u001b[0m \u001b[38;5;28;01melse\u001b[39;00m:\n",
      "File \u001b[1;32m~\\anaconda3\\lib\\site-packages\\pandas\\core\\indexes\\base.py:6644\u001b[0m, in \u001b[0;36mIndex.drop\u001b[1;34m(self, labels, errors)\u001b[0m\n\u001b[0;32m   6642\u001b[0m \u001b[38;5;28;01mif\u001b[39;00m mask\u001b[38;5;241m.\u001b[39many():\n\u001b[0;32m   6643\u001b[0m     \u001b[38;5;28;01mif\u001b[39;00m errors \u001b[38;5;241m!=\u001b[39m \u001b[38;5;124m\"\u001b[39m\u001b[38;5;124mignore\u001b[39m\u001b[38;5;124m\"\u001b[39m:\n\u001b[1;32m-> 6644\u001b[0m         \u001b[38;5;28;01mraise\u001b[39;00m \u001b[38;5;167;01mKeyError\u001b[39;00m(\u001b[38;5;124mf\u001b[39m\u001b[38;5;124m\"\u001b[39m\u001b[38;5;132;01m{\u001b[39;00m\u001b[38;5;28mlist\u001b[39m(labels[mask])\u001b[38;5;132;01m}\u001b[39;00m\u001b[38;5;124m not found in axis\u001b[39m\u001b[38;5;124m\"\u001b[39m)\n\u001b[0;32m   6645\u001b[0m     indexer \u001b[38;5;241m=\u001b[39m indexer[\u001b[38;5;241m~\u001b[39mmask]\n\u001b[0;32m   6646\u001b[0m \u001b[38;5;28;01mreturn\u001b[39;00m \u001b[38;5;28mself\u001b[39m\u001b[38;5;241m.\u001b[39mdelete(indexer)\n",
      "\u001b[1;31mKeyError\u001b[0m: \"['description'] not found in axis\""
     ]
    }
   ],
   "source": [
    "df.drop(\"description\", axis=1, inplace=True)"
   ]
  },
  {
   "cell_type": "code",
   "execution_count": 339,
   "metadata": {},
   "outputs": [
    {
     "data": {
      "text/plain": [
       "(15919, 41)"
      ]
     },
     "execution_count": 339,
     "metadata": {},
     "output_type": "execute_result"
    }
   ],
   "source": [
    "df.shape"
   ]
  },
  {
   "cell_type": "markdown",
   "metadata": {},
   "source": [
    "**Even if the columns of \"short_description\" & \"description\" contain detailed information, we do NOT need it since this information can be obtained from other features.**"
   ]
  },
  {
   "cell_type": "markdown",
   "metadata": {},
   "source": [
    "## body_type"
   ]
  },
  {
   "cell_type": "code",
   "execution_count": 340,
   "metadata": {},
   "outputs": [
    {
     "data": {
      "text/plain": [
       "Sedans           7903\n",
       "Station wagon    3553\n",
       "Compact          3153\n",
       "Van               783\n",
       "Other             290\n",
       "Transporter        88\n",
       "None               60\n",
       "Off-Road           56\n",
       "Coupe              25\n",
       "Convertible         8\n",
       "Name: body_type, dtype: int64"
      ]
     },
     "execution_count": 340,
     "metadata": {},
     "output_type": "execute_result"
    }
   ],
   "source": [
    "df.body_type.value_counts(dropna=False)"
   ]
  },
  {
   "cell_type": "markdown",
   "metadata": {},
   "source": [
    "## Body "
   ]
  },
  {
   "cell_type": "code",
   "execution_count": 341,
   "metadata": {},
   "outputs": [
    {
     "data": {
      "text/plain": [
       "['\\n', 'Sedans', '\\n']           7903\n",
       "['\\n', 'Station wagon', '\\n']    3553\n",
       "['\\n', 'Compact', '\\n']          3153\n",
       "['\\n', 'Van', '\\n']               783\n",
       "['\\n', 'Other', '\\n']             290\n",
       "['\\n', 'Transporter', '\\n']        88\n",
       "nan                                60\n",
       "['\\n', 'Off-Road', '\\n']           56\n",
       "['\\n', 'Coupe', '\\n']              25\n",
       "['\\n', 'Convertible', '\\n']         8\n",
       "Name: Body, dtype: int64"
      ]
     },
     "execution_count": 341,
     "metadata": {},
     "output_type": "execute_result"
    }
   ],
   "source": [
    "df.Body.astype('str').value_counts(dropna=False)"
   ]
  },
  {
   "cell_type": "code",
   "execution_count": 342,
   "metadata": {},
   "outputs": [],
   "source": [
    "df[\"Body\"] = df.Body.str[1]"
   ]
  },
  {
   "cell_type": "code",
   "execution_count": 343,
   "metadata": {},
   "outputs": [
    {
     "data": {
      "text/plain": [
       "Sedans           7903\n",
       "Station wagon    3553\n",
       "Compact          3153\n",
       "Van               783\n",
       "Other             290\n",
       "Transporter        88\n",
       "NaN                60\n",
       "Off-Road           56\n",
       "Coupe              25\n",
       "Convertible         8\n",
       "Name: Body, dtype: int64"
      ]
     },
     "execution_count": 343,
     "metadata": {},
     "output_type": "execute_result"
    }
   ],
   "source": [
    "df.Body.value_counts(dropna=False)"
   ]
  },
  {
   "cell_type": "code",
   "execution_count": 344,
   "metadata": {},
   "outputs": [
    {
     "data": {
      "text/html": [
       "<div>\n",
       "<style scoped>\n",
       "    .dataframe tbody tr th:only-of-type {\n",
       "        vertical-align: middle;\n",
       "    }\n",
       "\n",
       "    .dataframe tbody tr th {\n",
       "        vertical-align: top;\n",
       "    }\n",
       "\n",
       "    .dataframe thead th {\n",
       "        text-align: right;\n",
       "    }\n",
       "</style>\n",
       "<table border=\"1\" class=\"dataframe\">\n",
       "  <thead>\n",
       "    <tr style=\"text-align: right;\">\n",
       "      <th></th>\n",
       "      <th>body_type</th>\n",
       "      <th>Body</th>\n",
       "    </tr>\n",
       "  </thead>\n",
       "  <tbody>\n",
       "    <tr>\n",
       "      <th>12722</th>\n",
       "      <td>Station wagon</td>\n",
       "      <td>Station wagon</td>\n",
       "    </tr>\n",
       "    <tr>\n",
       "      <th>10564</th>\n",
       "      <td>Sedans</td>\n",
       "      <td>Sedans</td>\n",
       "    </tr>\n",
       "    <tr>\n",
       "      <th>15530</th>\n",
       "      <td>Van</td>\n",
       "      <td>Van</td>\n",
       "    </tr>\n",
       "    <tr>\n",
       "      <th>15554</th>\n",
       "      <td>Van</td>\n",
       "      <td>Van</td>\n",
       "    </tr>\n",
       "    <tr>\n",
       "      <th>12407</th>\n",
       "      <td>Station wagon</td>\n",
       "      <td>Station wagon</td>\n",
       "    </tr>\n",
       "    <tr>\n",
       "      <th>9908</th>\n",
       "      <td>Compact</td>\n",
       "      <td>Compact</td>\n",
       "    </tr>\n",
       "    <tr>\n",
       "      <th>8502</th>\n",
       "      <td>Compact</td>\n",
       "      <td>Compact</td>\n",
       "    </tr>\n",
       "    <tr>\n",
       "      <th>10091</th>\n",
       "      <td>Compact</td>\n",
       "      <td>Compact</td>\n",
       "    </tr>\n",
       "    <tr>\n",
       "      <th>11502</th>\n",
       "      <td>Station wagon</td>\n",
       "      <td>Station wagon</td>\n",
       "    </tr>\n",
       "    <tr>\n",
       "      <th>10224</th>\n",
       "      <td>Compact</td>\n",
       "      <td>Compact</td>\n",
       "    </tr>\n",
       "    <tr>\n",
       "      <th>905</th>\n",
       "      <td>Sedans</td>\n",
       "      <td>Sedans</td>\n",
       "    </tr>\n",
       "    <tr>\n",
       "      <th>3511</th>\n",
       "      <td>Sedans</td>\n",
       "      <td>Sedans</td>\n",
       "    </tr>\n",
       "    <tr>\n",
       "      <th>13698</th>\n",
       "      <td>Compact</td>\n",
       "      <td>Compact</td>\n",
       "    </tr>\n",
       "    <tr>\n",
       "      <th>6235</th>\n",
       "      <td>Sedans</td>\n",
       "      <td>Sedans</td>\n",
       "    </tr>\n",
       "    <tr>\n",
       "      <th>5996</th>\n",
       "      <td>Station wagon</td>\n",
       "      <td>Station wagon</td>\n",
       "    </tr>\n",
       "    <tr>\n",
       "      <th>12234</th>\n",
       "      <td>Sedans</td>\n",
       "      <td>Sedans</td>\n",
       "    </tr>\n",
       "    <tr>\n",
       "      <th>9844</th>\n",
       "      <td>Compact</td>\n",
       "      <td>Compact</td>\n",
       "    </tr>\n",
       "    <tr>\n",
       "      <th>5103</th>\n",
       "      <td>Station wagon</td>\n",
       "      <td>Station wagon</td>\n",
       "    </tr>\n",
       "    <tr>\n",
       "      <th>2918</th>\n",
       "      <td>Station wagon</td>\n",
       "      <td>Station wagon</td>\n",
       "    </tr>\n",
       "    <tr>\n",
       "      <th>12457</th>\n",
       "      <td>Station wagon</td>\n",
       "      <td>Station wagon</td>\n",
       "    </tr>\n",
       "  </tbody>\n",
       "</table>\n",
       "</div>"
      ],
      "text/plain": [
       "           body_type           Body\n",
       "12722  Station wagon  Station wagon\n",
       "10564         Sedans         Sedans\n",
       "15530            Van            Van\n",
       "15554            Van            Van\n",
       "12407  Station wagon  Station wagon\n",
       "9908         Compact        Compact\n",
       "8502         Compact        Compact\n",
       "10091        Compact        Compact\n",
       "11502  Station wagon  Station wagon\n",
       "10224        Compact        Compact\n",
       "905           Sedans         Sedans\n",
       "3511          Sedans         Sedans\n",
       "13698        Compact        Compact\n",
       "6235          Sedans         Sedans\n",
       "5996   Station wagon  Station wagon\n",
       "12234         Sedans         Sedans\n",
       "9844         Compact        Compact\n",
       "5103   Station wagon  Station wagon\n",
       "2918   Station wagon  Station wagon\n",
       "12457  Station wagon  Station wagon"
      ]
     },
     "execution_count": 344,
     "metadata": {},
     "output_type": "execute_result"
    }
   ],
   "source": [
    "df[['body_type', 'Body']].sample(20)"
   ]
  },
  {
   "cell_type": "code",
   "execution_count": 345,
   "metadata": {},
   "outputs": [],
   "source": [
    "df.drop(\"Body\", axis = 1, inplace = True)"
   ]
  },
  {
   "cell_type": "code",
   "execution_count": 346,
   "metadata": {},
   "outputs": [
    {
     "data": {
      "text/plain": [
       "(15919, 40)"
      ]
     },
     "execution_count": 346,
     "metadata": {},
     "output_type": "execute_result"
    }
   ],
   "source": [
    "df.shape"
   ]
  },
  {
   "cell_type": "markdown",
   "metadata": {},
   "source": [
    "**Both the columns of \"body_type\" & \"Body\" have the same information, we will keep the \"body_type\" column which is more readable.**"
   ]
  },
  {
   "cell_type": "markdown",
   "metadata": {},
   "source": [
    "## price (target column)"
   ]
  },
  {
   "cell_type": "code",
   "execution_count": 347,
   "metadata": {},
   "outputs": [
    {
     "data": {
      "text/plain": [
       "14990    154\n",
       "15990    151\n",
       "10990    139\n",
       "15900    106\n",
       "17990    102\n",
       "        ... \n",
       "17559      1\n",
       "17560      1\n",
       "17570      1\n",
       "17575      1\n",
       "39875      1\n",
       "Name: price, Length: 2956, dtype: int64"
      ]
     },
     "execution_count": 347,
     "metadata": {},
     "output_type": "execute_result"
    }
   ],
   "source": [
    "df.price.value_counts(dropna=False)"
   ]
  },
  {
   "cell_type": "code",
   "execution_count": 348,
   "metadata": {},
   "outputs": [
    {
     "data": {
      "text/plain": [
       "0"
      ]
     },
     "execution_count": 348,
     "metadata": {},
     "output_type": "execute_result"
    }
   ],
   "source": [
    "df.price.isnull().sum()"
   ]
  },
  {
   "cell_type": "code",
   "execution_count": 349,
   "metadata": {},
   "outputs": [
    {
     "data": {
      "text/plain": [
       "count   15919.00\n",
       "mean    18019.90\n",
       "std      7386.17\n",
       "min        13.00\n",
       "25%     12850.00\n",
       "50%     16900.00\n",
       "75%     21900.00\n",
       "max     74600.00\n",
       "Name: price, dtype: float64"
      ]
     },
     "execution_count": 349,
     "metadata": {},
     "output_type": "execute_result"
    }
   ],
   "source": [
    "df[\"price\"].describe()"
   ]
  },
  {
   "cell_type": "code",
   "execution_count": 350,
   "metadata": {},
   "outputs": [
    {
     "data": {
      "image/png": "[encoded data removed]",
      "text/plain": [
       "<Figure size 720x432 with 1 Axes>"
      ]
     },
     "metadata": {},
     "output_type": "display_data"
    }
   ],
   "source": [
    "sns.boxplot(df.price);"
   ]
  },
  {
   "cell_type": "code",
   "execution_count": 351,
   "metadata": {},
   "outputs": [
    {
     "data": {
      "image/png": "[encoded data removed]",
      "text/plain": [
       "<Figure size 720x432 with 1 Axes>"
      ]
     },
     "metadata": {},
     "output_type": "display_data"
    }
   ],
   "source": [
    "sns.distplot(df.price);"
   ]
  },
  {
   "cell_type": "markdown",
   "metadata": {},
   "source": [
    "## vat\n",
    "The **``\"Value Added Tax\"``** (VAT) in the European Union is a general, broadly based consumption tax assessed on the value added to goods and services."
   ]
  },
  {
   "cell_type": "code",
   "execution_count": 352,
   "metadata": {},
   "outputs": [
    {
     "data": {
      "text/plain": [
       "VAT deductible      10980\n",
       "None                 4513\n",
       "Price negotiable      426\n",
       "Name: vat, dtype: int64"
      ]
     },
     "execution_count": 352,
     "metadata": {},
     "output_type": "execute_result"
    }
   ],
   "source": [
    "df.vat.value_counts(dropna=False)"
   ]
  },
  {
   "cell_type": "markdown",
   "metadata": {},
   "source": [
    "## km"
   ]
  },
  {
   "cell_type": "code",
   "execution_count": 353,
   "metadata": {},
   "outputs": [
    {
     "data": {
      "text/plain": [
       "10 km        1045\n",
       "- km         1024\n",
       "1 km          367\n",
       "5 km          170\n",
       "50 km         148\n",
       "             ... \n",
       "67,469 km       1\n",
       "43,197 km       1\n",
       "10,027 km       1\n",
       "35,882 km       1\n",
       "57 km           1\n",
       "Name: km, Length: 6690, dtype: int64"
      ]
     },
     "execution_count": 353,
     "metadata": {},
     "output_type": "execute_result"
    }
   ],
   "source": [
    "df.km.value_counts(dropna=False)"
   ]
  },
  {
   "cell_type": "code",
   "execution_count": 354,
   "metadata": {},
   "outputs": [],
   "source": [
    "df[\"km\"] = df.km.str.replace(',', '').str.extract('(\\d{1,8})').astype('float')  \n",
    "                                   # .str.extract('(\\d+)')"
   ]
  },
  {
   "cell_type": "code",
   "execution_count": 355,
   "metadata": {},
   "outputs": [],
   "source": [
    "# This is another solution\n",
    "\n",
    "#df[\"km\"] = df.km.str.replace(',', '').str.rstrip(\" km\").replace('-', np.nan).astype('float')"
   ]
  },
  {
   "cell_type": "code",
   "execution_count": 356,
   "metadata": {},
   "outputs": [
    {
     "data": {
      "text/plain": [
       "10.00       1045\n",
       "NaN         1024\n",
       "1.00         367\n",
       "5.00         170\n",
       "50.00        148\n",
       "            ... \n",
       "67469.00       1\n",
       "43197.00       1\n",
       "10027.00       1\n",
       "35882.00       1\n",
       "57.00          1\n",
       "Name: km, Length: 6690, dtype: int64"
      ]
     },
     "execution_count": 356,
     "metadata": {},
     "output_type": "execute_result"
    }
   ],
   "source": [
    "df.km.value_counts(dropna=False)"
   ]
  },
  {
   "cell_type": "markdown",
   "metadata": {},
   "source": [
    "## registration & First Registration"
   ]
  },
  {
   "cell_type": "code",
   "execution_count": 357,
   "metadata": {
    "scrolled": true
   },
   "outputs": [
    {
     "data": {
      "text/plain": [
       "-/-        1597\n",
       "03/2018     695\n",
       "02/2019     585\n",
       "05/2018     572\n",
       "03/2019     543\n",
       "01/2019     541\n",
       "04/2018     541\n",
       "02/2018     539\n",
       "03/2016     536\n",
       "04/2016     532\n",
       "06/2018     532\n",
       "01/2018     511\n",
       "04/2019     506\n",
       "02/2016     472\n",
       "03/2017     471\n",
       "05/2016     459\n",
       "06/2016     452\n",
       "05/2019     440\n",
       "06/2017     409\n",
       "05/2017     404\n",
       "07/2018     396\n",
       "04/2017     380\n",
       "01/2016     376\n",
       "02/2017     368\n",
       "01/2017     306\n",
       "08/2018     285\n",
       "06/2019     224\n",
       "07/2017     215\n",
       "11/2017     180\n",
       "07/2016     176\n",
       "10/2016     160\n",
       "10/2017     154\n",
       "09/2017     149\n",
       "11/2016     142\n",
       "09/2018     141\n",
       "09/2016     141\n",
       "12/2016     134\n",
       "12/2017     123\n",
       "08/2017     114\n",
       "11/2018     110\n",
       "12/2018     103\n",
       "10/2018      97\n",
       "08/2016      94\n",
       "07/2019       6\n",
       "09/2019       5\n",
       "08/2019       1\n",
       "11/2019       1\n",
       "12/2019       1\n",
       "Name: registration, dtype: int64"
      ]
     },
     "execution_count": 357,
     "metadata": {},
     "output_type": "execute_result"
    }
   ],
   "source": [
    "df.registration.value_counts(dropna=False)"
   ]
  },
  {
   "cell_type": "code",
   "execution_count": 358,
   "metadata": {},
   "outputs": [],
   "source": [
    "# df.registration.str.split('/').str[1]\n",
    "# df.registration.str.extract(\"(\\d{2}).(\\d{4})\")\n",
    "# df.registration.str.extract(\"(\\d{4})\")"
   ]
  },
  {
   "cell_type": "code",
   "execution_count": 359,
   "metadata": {
    "scrolled": true
   },
   "outputs": [
    {
     "data": {
      "text/plain": [
       "['\\n', '2018', '\\n']    4522\n",
       "['\\n', '2016', '\\n']    3674\n",
       "['\\n', '2017', '\\n']    3273\n",
       "['\\n', '2019', '\\n']    2853\n",
       "nan                     1597\n",
       "Name: First Registration, dtype: int64"
      ]
     },
     "execution_count": 359,
     "metadata": {},
     "output_type": "execute_result"
    }
   ],
   "source": [
    "df[\"First Registration\"].astype('str').value_counts(dropna=False)"
   ]
  },
  {
   "cell_type": "markdown",
   "metadata": {},
   "source": [
    "**We prefer \"First Registration\" column because I don't need month values.**"
   ]
  },
  {
   "cell_type": "code",
   "execution_count": 360,
   "metadata": {},
   "outputs": [
    {
     "data": {
      "text/plain": [
       "0         True\n",
       "1         True\n",
       "2         True\n",
       "3         True\n",
       "4         True\n",
       "         ...  \n",
       "15914    False\n",
       "15915     True\n",
       "15916     True\n",
       "15917     True\n",
       "15918     True\n",
       "Name: First Registration, Length: 15919, dtype: bool"
      ]
     },
     "execution_count": 360,
     "metadata": {},
     "output_type": "execute_result"
    }
   ],
   "source": [
    "df['First Registration'].astype(str).str.contains(r\"(\\d{4})\")"
   ]
  },
  {
   "cell_type": "code",
   "execution_count": 361,
   "metadata": {},
   "outputs": [
    {
     "data": {
      "text/plain": [
       "0        2016\n",
       "1        2017\n",
       "2        2016\n",
       "3        2016\n",
       "4        2016\n",
       "         ... \n",
       "15914     NaN\n",
       "15915    2019\n",
       "15916    2019\n",
       "15917    2019\n",
       "15918    2019\n",
       "Name: First Registration, Length: 15919, dtype: object"
      ]
     },
     "execution_count": 361,
     "metadata": {},
     "output_type": "execute_result"
    }
   ],
   "source": [
    "# df['First Registration'].astype(str).str.findall(\"(\\w{4})\").str.join(\"\")\n",
    "# df['First Registration'].astype(str).str.extract(\"(\\w{4})\")\n",
    "# df['First Registration'].str.get(1)\n",
    "df['First Registration'].str[1]"
   ]
  },
  {
   "cell_type": "code",
   "execution_count": 362,
   "metadata": {},
   "outputs": [],
   "source": [
    "df['First Registration'] = df['First Registration'].str[1].astype('float')"
   ]
  },
  {
   "cell_type": "code",
   "execution_count": 363,
   "metadata": {},
   "outputs": [
    {
     "data": {
      "text/plain": [
       "2018.00    4522\n",
       "2016.00    3674\n",
       "2017.00    3273\n",
       "2019.00    2853\n",
       "NaN        1597\n",
       "Name: First Registration, dtype: int64"
      ]
     },
     "execution_count": 363,
     "metadata": {},
     "output_type": "execute_result"
    }
   ],
   "source": [
    "df[\"First Registration\"].value_counts(dropna=False)"
   ]
  },
  {
   "cell_type": "code",
   "execution_count": 364,
   "metadata": {},
   "outputs": [
    {
     "data": {
      "text/html": [
       "<div>\n",
       "<style scoped>\n",
       "    .dataframe tbody tr th:only-of-type {\n",
       "        vertical-align: middle;\n",
       "    }\n",
       "\n",
       "    .dataframe tbody tr th {\n",
       "        vertical-align: top;\n",
       "    }\n",
       "\n",
       "    .dataframe thead th {\n",
       "        text-align: right;\n",
       "    }\n",
       "</style>\n",
       "<table border=\"1\" class=\"dataframe\">\n",
       "  <thead>\n",
       "    <tr style=\"text-align: right;\">\n",
       "      <th></th>\n",
       "      <th>registration</th>\n",
       "      <th>First Registration</th>\n",
       "    </tr>\n",
       "  </thead>\n",
       "  <tbody>\n",
       "    <tr>\n",
       "      <th>11713</th>\n",
       "      <td>04/2017</td>\n",
       "      <td>2017.00</td>\n",
       "    </tr>\n",
       "    <tr>\n",
       "      <th>3063</th>\n",
       "      <td>06/2016</td>\n",
       "      <td>2016.00</td>\n",
       "    </tr>\n",
       "    <tr>\n",
       "      <th>8777</th>\n",
       "      <td>02/2016</td>\n",
       "      <td>2016.00</td>\n",
       "    </tr>\n",
       "    <tr>\n",
       "      <th>4669</th>\n",
       "      <td>-/-</td>\n",
       "      <td>NaN</td>\n",
       "    </tr>\n",
       "    <tr>\n",
       "      <th>8309</th>\n",
       "      <td>04/2018</td>\n",
       "      <td>2018.00</td>\n",
       "    </tr>\n",
       "    <tr>\n",
       "      <th>3131</th>\n",
       "      <td>03/2016</td>\n",
       "      <td>2016.00</td>\n",
       "    </tr>\n",
       "    <tr>\n",
       "      <th>1002</th>\n",
       "      <td>07/2018</td>\n",
       "      <td>2018.00</td>\n",
       "    </tr>\n",
       "    <tr>\n",
       "      <th>14220</th>\n",
       "      <td>04/2018</td>\n",
       "      <td>2018.00</td>\n",
       "    </tr>\n",
       "    <tr>\n",
       "      <th>4938</th>\n",
       "      <td>06/2018</td>\n",
       "      <td>2018.00</td>\n",
       "    </tr>\n",
       "    <tr>\n",
       "      <th>3966</th>\n",
       "      <td>05/2017</td>\n",
       "      <td>2017.00</td>\n",
       "    </tr>\n",
       "    <tr>\n",
       "      <th>4709</th>\n",
       "      <td>12/2018</td>\n",
       "      <td>2018.00</td>\n",
       "    </tr>\n",
       "    <tr>\n",
       "      <th>6055</th>\n",
       "      <td>01/2017</td>\n",
       "      <td>2017.00</td>\n",
       "    </tr>\n",
       "    <tr>\n",
       "      <th>3433</th>\n",
       "      <td>01/2016</td>\n",
       "      <td>2016.00</td>\n",
       "    </tr>\n",
       "    <tr>\n",
       "      <th>3662</th>\n",
       "      <td>03/2018</td>\n",
       "      <td>2018.00</td>\n",
       "    </tr>\n",
       "    <tr>\n",
       "      <th>960</th>\n",
       "      <td>-/-</td>\n",
       "      <td>NaN</td>\n",
       "    </tr>\n",
       "    <tr>\n",
       "      <th>1606</th>\n",
       "      <td>01/2018</td>\n",
       "      <td>2018.00</td>\n",
       "    </tr>\n",
       "    <tr>\n",
       "      <th>2050</th>\n",
       "      <td>01/2019</td>\n",
       "      <td>2019.00</td>\n",
       "    </tr>\n",
       "    <tr>\n",
       "      <th>5359</th>\n",
       "      <td>04/2019</td>\n",
       "      <td>2019.00</td>\n",
       "    </tr>\n",
       "    <tr>\n",
       "      <th>858</th>\n",
       "      <td>05/2018</td>\n",
       "      <td>2018.00</td>\n",
       "    </tr>\n",
       "    <tr>\n",
       "      <th>2190</th>\n",
       "      <td>-/-</td>\n",
       "      <td>NaN</td>\n",
       "    </tr>\n",
       "  </tbody>\n",
       "</table>\n",
       "</div>"
      ],
      "text/plain": [
       "      registration  First Registration\n",
       "11713      04/2017             2017.00\n",
       "3063       06/2016             2016.00\n",
       "8777       02/2016             2016.00\n",
       "4669           -/-                 NaN\n",
       "8309       04/2018             2018.00\n",
       "3131       03/2016             2016.00\n",
       "1002       07/2018             2018.00\n",
       "14220      04/2018             2018.00\n",
       "4938       06/2018             2018.00\n",
       "3966       05/2017             2017.00\n",
       "4709       12/2018             2018.00\n",
       "6055       01/2017             2017.00\n",
       "3433       01/2016             2016.00\n",
       "3662       03/2018             2018.00\n",
       "960            -/-                 NaN\n",
       "1606       01/2018             2018.00\n",
       "2050       01/2019             2019.00\n",
       "5359       04/2019             2019.00\n",
       "858        05/2018             2018.00\n",
       "2190           -/-                 NaN"
      ]
     },
     "execution_count": 364,
     "metadata": {},
     "output_type": "execute_result"
    }
   ],
   "source": [
    "df[['registration', 'First Registration']].sample(20)"
   ]
  },
  {
   "cell_type": "code",
   "execution_count": 366,
   "metadata": {},
   "outputs": [],
   "source": [
    "# The data used for this project were scraped in 2019.\n",
    "\n",
    "df['age'] = 2019 - df['First Registration']"
   ]
  },
  {
   "cell_type": "code",
   "execution_count": 367,
   "metadata": {},
   "outputs": [
    {
     "data": {
      "text/plain": [
       "1.00    4522\n",
       "3.00    3674\n",
       "2.00    3273\n",
       "0.00    2853\n",
       "NaN     1597\n",
       "Name: age, dtype: int64"
      ]
     },
     "execution_count": 367,
     "metadata": {},
     "output_type": "execute_result"
    }
   ],
   "source": [
    "df.age.value_counts(dropna=False)"
   ]
  },
  {
   "cell_type": "code",
   "execution_count": 368,
   "metadata": {},
   "outputs": [],
   "source": [
    "df.drop([\"registration\", \"First Registration\"], axis=1, inplace=True)"
   ]
  },
  {
   "cell_type": "code",
   "execution_count": 370,
   "metadata": {},
   "outputs": [
    {
     "data": {
      "text/plain": [
       "(15919, 39)"
      ]
     },
     "execution_count": 370,
     "metadata": {},
     "output_type": "execute_result"
    }
   ],
   "source": [
    "df.shape"
   ]
  },
  {
   "cell_type": "markdown",
   "metadata": {},
   "source": [
    "## prev_owner & Previous Owners"
   ]
  },
  {
   "cell_type": "code",
   "execution_count": 371,
   "metadata": {},
   "outputs": [
    {
     "data": {
      "text/plain": [
       "1 previous owner     8294\n",
       "None                 6828\n",
       "2 previous owners     778\n",
       "3 previous owners      17\n",
       "4 previous owners       2\n",
       "Name: prev_owner, dtype: int64"
      ]
     },
     "execution_count": 371,
     "metadata": {},
     "output_type": "execute_result"
    }
   ],
   "source": [
    "df.prev_owner.value_counts(dropna=False)"
   ]
  },
  {
   "cell_type": "code",
   "execution_count": 372,
   "metadata": {},
   "outputs": [
    {
     "data": {
      "text/plain": [
       "\\n1\\n                                                                                        8101\n",
       "NaN                                                                                          6640\n",
       "\\n2\\n                                                                                         766\n",
       "\\n0\\n                                                                                         163\n",
       "\\n3\\n                                                                                          17\n",
       "                                                                                             ... \n",
       "[\\n1\\n, \\n111 g CO2/km (comb)\\n]                                                                1\n",
       "[\\n1\\n, \\nEuro 6\\n]                                                                             1\n",
       "[\\n2\\n, \\n119 g CO2/km (comb)\\n]                                                                1\n",
       "[\\n1\\n, \\n, 6.6 l/100 km (comb), \\n, 8.1 l/100 km (city), \\n, 5.7 l/100 km (country), \\n]       1\n",
       "[\\n2\\n, \\n137 g CO2/km (comb)\\n]                                                                1\n",
       "Name: Previous Owners, Length: 103, dtype: int64"
      ]
     },
     "execution_count": 372,
     "metadata": {},
     "output_type": "execute_result"
    }
   ],
   "source": [
    "df[\"Previous Owners\"].value_counts(dropna=False)"
   ]
  },
  {
   "cell_type": "markdown",
   "metadata": {},
   "source": [
    "I prefer \"Previous Owners\" column because it has less NaN values. But before dropping \"prev_owner\", I'll fill \"Previous Owners\" with \"prev_owner\"."
   ]
  },
  {
   "cell_type": "code",
   "execution_count": 373,
   "metadata": {},
   "outputs": [
    {
     "data": {
      "text/plain": [
       "['\\n2\\n',\n",
       " nan,\n",
       " '\\n1\\n',\n",
       " '\\n1\\n',\n",
       " '\\n1\\n',\n",
       " '\\n1\\n',\n",
       " '\\n1\\n',\n",
       " '\\n1\\n',\n",
       " '\\n1\\n',\n",
       " nan,\n",
       " nan,\n",
       " '\\n1\\n',\n",
       " '\\n1\\n',\n",
       " nan,\n",
       " '\\n1\\n',\n",
       " '\\n1\\n',\n",
       " nan,\n",
       " '\\n1\\n',\n",
       " nan,\n",
       " nan,\n",
       " '\\n1\\n',\n",
       " '\\n1\\n',\n",
       " '\\n1\\n',\n",
       " nan,\n",
       " '\\n1\\n',\n",
       " nan,\n",
       " '\\n1\\n',\n",
       " '\\n1\\n',\n",
       " nan,\n",
       " nan,\n",
       " nan,\n",
       " '\\n1\\n',\n",
       " '\\n1\\n',\n",
       " '\\n1\\n',\n",
       " nan,\n",
       " '\\n1\\n',\n",
       " '\\n1\\n',\n",
       " '\\n1\\n',\n",
       " '\\n2\\n',\n",
       " '\\n1\\n',\n",
       " '\\n1\\n',\n",
       " '\\n1\\n',\n",
       " '\\n1\\n',\n",
       " '\\n1\\n',\n",
       " '\\n1\\n',\n",
       " '\\n1\\n',\n",
       " '\\n1\\n',\n",
       " '\\n0\\n',\n",
       " '\\n2\\n',\n",
       " '\\n1\\n',\n",
       " '\\n1\\n',\n",
       " '\\n1\\n',\n",
       " nan,\n",
       " nan,\n",
       " '\\n1\\n',\n",
       " '\\n1\\n',\n",
       " '\\n1\\n',\n",
       " '\\n1\\n',\n",
       " '\\n2\\n',\n",
       " nan,\n",
       " '\\n1\\n',\n",
       " '\\n1\\n',\n",
       " '\\n1\\n',\n",
       " '\\n1\\n',\n",
       " '\\n1\\n',\n",
       " nan,\n",
       " nan,\n",
       " nan,\n",
       " '\\n1\\n',\n",
       " '\\n1\\n',\n",
       " nan,\n",
       " '\\n1\\n',\n",
       " '\\n1\\n',\n",
       " '\\n1\\n',\n",
       " '\\n1\\n',\n",
       " '\\n1\\n',\n",
       " '\\n1\\n',\n",
       " '\\n1\\n',\n",
       " '\\n1\\n',\n",
       " '\\n1\\n',\n",
       " '\\n1\\n',\n",
       " nan,\n",
       " '\\n1\\n',\n",
       " '\\n1\\n',\n",
       " '\\n2\\n',\n",
       " nan,\n",
       " nan,\n",
       " '\\n1\\n',\n",
       " '\\n1\\n',\n",
       " '\\n1\\n',\n",
       " '\\n1\\n',\n",
       " '\\n1\\n',\n",
       " '\\n2\\n',\n",
       " '\\n1\\n',\n",
       " nan,\n",
       " nan,\n",
       " nan,\n",
       " nan,\n",
       " '\\n1\\n',\n",
       " '\\n1\\n',\n",
       " nan,\n",
       " nan,\n",
       " '\\n1\\n',\n",
       " nan,\n",
       " nan,\n",
       " nan,\n",
       " nan,\n",
       " nan,\n",
       " nan,\n",
       " nan,\n",
       " nan,\n",
       " nan,\n",
       " nan,\n",
       " nan,\n",
       " '\\n1\\n',\n",
       " nan,\n",
       " nan,\n",
       " '\\n1\\n',\n",
       " nan,\n",
       " '\\n1\\n',\n",
       " '\\n1\\n',\n",
       " '\\n1\\n',\n",
       " nan,\n",
       " '\\n1\\n',\n",
       " '\\n1\\n',\n",
       " '\\n1\\n',\n",
       " '\\n1\\n',\n",
       " '\\n1\\n',\n",
       " '\\n1\\n',\n",
       " '\\n1\\n',\n",
       " nan,\n",
       " nan,\n",
       " nan,\n",
       " '\\n1\\n',\n",
       " nan,\n",
       " '\\n1\\n',\n",
       " '\\n1\\n',\n",
       " '\\n1\\n',\n",
       " '\\n1\\n',\n",
       " '\\n2\\n',\n",
       " nan,\n",
       " nan,\n",
       " '\\n1\\n',\n",
       " '\\n1\\n',\n",
       " '\\n2\\n',\n",
       " '\\n1\\n',\n",
       " '\\n2\\n',\n",
       " '\\n2\\n',\n",
       " '\\n1\\n',\n",
       " '\\n1\\n',\n",
       " nan,\n",
       " '\\n1\\n',\n",
       " '\\n1\\n',\n",
       " '\\n1\\n',\n",
       " '\\n1\\n',\n",
       " '\\n2\\n',\n",
       " '\\n1\\n',\n",
       " '\\n1\\n',\n",
       " '\\n1\\n',\n",
       " nan,\n",
       " '\\n1\\n',\n",
       " '\\n1\\n',\n",
       " '\\n2\\n',\n",
       " '\\n1\\n',\n",
       " '\\n1\\n',\n",
       " '\\n2\\n',\n",
       " '\\n2\\n',\n",
       " '\\n1\\n',\n",
       " nan,\n",
       " '\\n1\\n',\n",
       " nan,\n",
       " nan,\n",
       " '\\n1\\n',\n",
       " nan,\n",
       " '\\n2\\n',\n",
       " '\\n1\\n',\n",
       " nan,\n",
       " '\\n2\\n',\n",
       " '\\n1\\n',\n",
       " '\\n2\\n',\n",
       " '\\n1\\n',\n",
       " '\\n2\\n',\n",
       " '\\n1\\n',\n",
       " '\\n1\\n',\n",
       " '\\n1\\n',\n",
       " '\\n1\\n',\n",
       " '\\n1\\n',\n",
       " '\\n1\\n',\n",
       " '\\n1\\n',\n",
       " '\\n1\\n',\n",
       " nan,\n",
       " nan,\n",
       " '\\n1\\n',\n",
       " '\\n1\\n',\n",
       " '\\n1\\n',\n",
       " nan,\n",
       " '\\n1\\n',\n",
       " nan,\n",
       " '\\n1\\n',\n",
       " '\\n1\\n',\n",
       " '\\n2\\n',\n",
       " nan,\n",
       " '\\n1\\n',\n",
       " '\\n1\\n',\n",
       " '\\n1\\n',\n",
       " nan,\n",
       " '\\n2\\n',\n",
       " '\\n2\\n',\n",
       " nan,\n",
       " '\\n1\\n',\n",
       " nan,\n",
       " '\\n1\\n',\n",
       " '\\n1\\n',\n",
       " '\\n1\\n',\n",
       " '\\n1\\n',\n",
       " '\\n1\\n',\n",
       " '\\n1\\n',\n",
       " '\\n1\\n',\n",
       " '\\n1\\n',\n",
       " nan,\n",
       " '\\n2\\n',\n",
       " '\\n1\\n',\n",
       " '\\n1\\n',\n",
       " '\\n1\\n',\n",
       " '\\n1\\n',\n",
       " '\\n1\\n',\n",
       " '\\n1\\n',\n",
       " nan,\n",
       " nan,\n",
       " nan,\n",
       " '\\n1\\n',\n",
       " nan,\n",
       " nan,\n",
       " nan,\n",
       " '\\n1\\n',\n",
       " '\\n1\\n',\n",
       " '\\n1\\n',\n",
       " '\\n1\\n',\n",
       " '\\n1\\n',\n",
       " '\\n1\\n',\n",
       " '\\n1\\n',\n",
       " '\\n2\\n',\n",
       " '\\n2\\n',\n",
       " '\\n1\\n',\n",
       " nan,\n",
       " '\\n1\\n',\n",
       " '\\n1\\n',\n",
       " nan,\n",
       " '\\n1\\n',\n",
       " '\\n1\\n',\n",
       " nan,\n",
       " '\\n2\\n',\n",
       " nan,\n",
       " nan,\n",
       " '\\n1\\n',\n",
       " '\\n1\\n',\n",
       " '\\n2\\n',\n",
       " '\\n1\\n',\n",
       " '\\n1\\n',\n",
       " '\\n2\\n',\n",
       " nan,\n",
       " nan,\n",
       " nan,\n",
       " '\\n1\\n',\n",
       " '\\n1\\n',\n",
       " '\\n1\\n',\n",
       " '\\n1\\n',\n",
       " '\\n2\\n',\n",
       " '\\n1\\n',\n",
       " '\\n1\\n',\n",
       " nan,\n",
       " '\\n1\\n',\n",
       " '\\n1\\n',\n",
       " '\\n1\\n',\n",
       " nan,\n",
       " nan,\n",
       " nan,\n",
       " '\\n1\\n',\n",
       " nan,\n",
       " '\\n2\\n',\n",
       " '\\n1\\n',\n",
       " '\\n1\\n',\n",
       " '\\n2\\n',\n",
       " '\\n1\\n',\n",
       " '\\n1\\n',\n",
       " '\\n1\\n',\n",
       " '\\n1\\n',\n",
       " '\\n1\\n',\n",
       " '\\n1\\n',\n",
       " '\\n1\\n',\n",
       " '\\n1\\n',\n",
       " '\\n1\\n',\n",
       " '\\n1\\n',\n",
       " '\\n1\\n',\n",
       " '\\n1\\n',\n",
       " '\\n1\\n',\n",
       " '\\n1\\n',\n",
       " '\\n1\\n',\n",
       " '\\n1\\n',\n",
       " '\\n1\\n',\n",
       " '\\n1\\n',\n",
       " '\\n1\\n',\n",
       " '\\n1\\n',\n",
       " '\\n2\\n',\n",
       " '\\n1\\n',\n",
       " '\\n1\\n',\n",
       " '\\n1\\n',\n",
       " '\\n1\\n',\n",
       " '\\n1\\n',\n",
       " nan,\n",
       " nan,\n",
       " '\\n1\\n',\n",
       " '\\n1\\n',\n",
       " '\\n1\\n',\n",
       " '\\n1\\n',\n",
       " '\\n1\\n',\n",
       " '\\n1\\n',\n",
       " '\\n1\\n',\n",
       " '\\n1\\n',\n",
       " '\\n1\\n',\n",
       " '\\n1\\n',\n",
       " '\\n1\\n',\n",
       " '\\n1\\n',\n",
       " '\\n1\\n',\n",
       " '\\n1\\n',\n",
       " '\\n1\\n',\n",
       " '\\n1\\n',\n",
       " nan,\n",
       " '\\n1\\n',\n",
       " '\\n1\\n',\n",
       " '\\n1\\n',\n",
       " nan,\n",
       " '\\n1\\n',\n",
       " '\\n1\\n',\n",
       " nan,\n",
       " '\\n2\\n',\n",
       " '\\n2\\n',\n",
       " '\\n2\\n',\n",
       " '\\n1\\n',\n",
       " '\\n2\\n',\n",
       " '\\n2\\n',\n",
       " '\\n2\\n',\n",
       " '\\n2\\n',\n",
       " '\\n2\\n',\n",
       " '\\n2\\n',\n",
       " '\\n2\\n',\n",
       " '\\n2\\n',\n",
       " '\\n1\\n',\n",
       " '\\n1\\n',\n",
       " '\\n2\\n',\n",
       " '\\n1\\n',\n",
       " '\\n2\\n',\n",
       " '\\n2\\n',\n",
       " '\\n1\\n',\n",
       " '\\n2\\n',\n",
       " nan,\n",
       " '\\n2\\n',\n",
       " '\\n2\\n',\n",
       " '\\n2\\n',\n",
       " '\\n2\\n',\n",
       " '\\n2\\n',\n",
       " nan,\n",
       " '\\n2\\n',\n",
       " '\\n2\\n',\n",
       " '\\n2\\n',\n",
       " '\\n1\\n',\n",
       " '\\n2\\n',\n",
       " nan,\n",
       " '\\n1\\n',\n",
       " '\\n2\\n',\n",
       " nan,\n",
       " '\\n1\\n',\n",
       " nan,\n",
       " '\\n1\\n',\n",
       " nan,\n",
       " '\\n2\\n',\n",
       " '\\n2\\n',\n",
       " '\\n2\\n',\n",
       " '\\n2\\n',\n",
       " '\\n2\\n',\n",
       " '\\n1\\n',\n",
       " nan,\n",
       " '\\n1\\n',\n",
       " '\\n2\\n',\n",
       " '\\n2\\n',\n",
       " '\\n2\\n',\n",
       " '\\n2\\n',\n",
       " nan,\n",
       " nan,\n",
       " '\\n1\\n',\n",
       " '\\n1\\n',\n",
       " '\\n1\\n',\n",
       " '\\n1\\n',\n",
       " '\\n1\\n',\n",
       " '\\n1\\n',\n",
       " '\\n1\\n',\n",
       " '\\n1\\n',\n",
       " nan,\n",
       " '\\n2\\n',\n",
       " '\\n1\\n',\n",
       " '\\n1\\n',\n",
       " '\\n1\\n',\n",
       " '\\n1\\n',\n",
       " '\\n1\\n',\n",
       " nan,\n",
       " nan,\n",
       " nan,\n",
       " nan,\n",
       " nan,\n",
       " '\\n1\\n',\n",
       " '\\n1\\n',\n",
       " '\\n1\\n',\n",
       " '\\n1\\n',\n",
       " '\\n1\\n',\n",
       " '\\n1\\n',\n",
       " '\\n1\\n',\n",
       " '\\n1\\n',\n",
       " '\\n1\\n',\n",
       " '\\n0\\n',\n",
       " nan,\n",
       " '\\n1\\n',\n",
       " '\\n1\\n',\n",
       " '\\n2\\n',\n",
       " '\\n2\\n',\n",
       " '\\n1\\n',\n",
       " '\\n1\\n',\n",
       " '\\n2\\n',\n",
       " nan,\n",
       " '\\n1\\n',\n",
       " '\\n1\\n',\n",
       " '\\n1\\n',\n",
       " '\\n1\\n',\n",
       " '\\n1\\n',\n",
       " '\\n2\\n',\n",
       " '\\n1\\n',\n",
       " nan,\n",
       " '\\n1\\n',\n",
       " '\\n1\\n',\n",
       " '\\n1\\n',\n",
       " '\\n1\\n',\n",
       " '\\n1\\n',\n",
       " '\\n1\\n',\n",
       " '\\n1\\n',\n",
       " '\\n2\\n',\n",
       " nan,\n",
       " '\\n1\\n',\n",
       " nan,\n",
       " nan,\n",
       " nan,\n",
       " '\\n1\\n',\n",
       " '\\n1\\n',\n",
       " '\\n1\\n',\n",
       " '\\n1\\n',\n",
       " '\\n1\\n',\n",
       " '\\n1\\n',\n",
       " '\\n1\\n',\n",
       " '\\n1\\n',\n",
       " nan,\n",
       " '\\n1\\n',\n",
       " nan,\n",
       " nan,\n",
       " nan,\n",
       " '\\n1\\n',\n",
       " '\\n1\\n',\n",
       " '\\n1\\n',\n",
       " '\\n1\\n',\n",
       " nan,\n",
       " '\\n1\\n',\n",
       " nan,\n",
       " nan,\n",
       " nan,\n",
       " '\\n2\\n',\n",
       " '\\n1\\n',\n",
       " '\\n1\\n',\n",
       " '\\n1\\n',\n",
       " '\\n1\\n',\n",
       " nan,\n",
       " '\\n1\\n',\n",
       " '\\n1\\n',\n",
       " nan,\n",
       " nan,\n",
       " '\\n1\\n',\n",
       " '\\n1\\n',\n",
       " nan,\n",
       " nan,\n",
       " nan,\n",
       " nan,\n",
       " nan,\n",
       " '\\n1\\n',\n",
       " nan,\n",
       " '\\n1\\n',\n",
       " '\\n1\\n',\n",
       " '\\n1\\n',\n",
       " '\\n1\\n',\n",
       " '\\n1\\n',\n",
       " '\\n1\\n',\n",
       " '\\n1\\n',\n",
       " nan,\n",
       " '\\n1\\n',\n",
       " '\\n1\\n',\n",
       " '\\n1\\n',\n",
       " nan,\n",
       " '\\n1\\n',\n",
       " '\\n2\\n',\n",
       " '\\n2\\n',\n",
       " nan,\n",
       " '\\n1\\n',\n",
       " '\\n1\\n',\n",
       " '\\n1\\n',\n",
       " '\\n1\\n',\n",
       " nan,\n",
       " '\\n1\\n',\n",
       " '\\n1\\n',\n",
       " '\\n2\\n',\n",
       " '\\n1\\n',\n",
       " nan,\n",
       " '\\n2\\n',\n",
       " nan,\n",
       " nan,\n",
       " '\\n1\\n',\n",
       " '\\n1\\n',\n",
       " '\\n1\\n',\n",
       " '\\n2\\n',\n",
       " '\\n1\\n',\n",
       " nan,\n",
       " '\\n1\\n',\n",
       " '\\n1\\n',\n",
       " '\\n1\\n',\n",
       " '\\n1\\n',\n",
       " '\\n1\\n',\n",
       " nan,\n",
       " '\\n1\\n',\n",
       " nan,\n",
       " '\\n1\\n',\n",
       " '\\n1\\n',\n",
       " '\\n1\\n',\n",
       " '\\n1\\n',\n",
       " '\\n1\\n',\n",
       " '\\n1\\n',\n",
       " '\\n1\\n',\n",
       " '\\n1\\n',\n",
       " '\\n1\\n',\n",
       " '\\n1\\n',\n",
       " '\\n1\\n',\n",
       " '\\n1\\n',\n",
       " '\\n1\\n',\n",
       " nan,\n",
       " nan,\n",
       " '\\n1\\n',\n",
       " '\\n1\\n',\n",
       " '\\n1\\n',\n",
       " '\\n1\\n',\n",
       " '\\n1\\n',\n",
       " '\\n1\\n',\n",
       " '\\n1\\n',\n",
       " '\\n1\\n',\n",
       " '\\n1\\n',\n",
       " '\\n1\\n',\n",
       " '\\n1\\n',\n",
       " '\\n1\\n',\n",
       " '\\n1\\n',\n",
       " '\\n1\\n',\n",
       " nan,\n",
       " nan,\n",
       " nan,\n",
       " nan,\n",
       " nan,\n",
       " '\\n2\\n',\n",
       " '\\n1\\n',\n",
       " nan,\n",
       " nan,\n",
       " '\\n1\\n',\n",
       " '\\n1\\n',\n",
       " '\\n1\\n',\n",
       " '\\n1\\n',\n",
       " '\\n1\\n',\n",
       " '\\n1\\n',\n",
       " nan,\n",
       " nan,\n",
       " '\\n1\\n',\n",
       " '\\n1\\n',\n",
       " nan,\n",
       " '\\n1\\n',\n",
       " '\\n1\\n',\n",
       " nan,\n",
       " '\\n2\\n',\n",
       " '\\n0\\n',\n",
       " '\\n1\\n',\n",
       " '\\n2\\n',\n",
       " nan,\n",
       " '\\n1\\n',\n",
       " '\\n1\\n',\n",
       " '\\n1\\n',\n",
       " '\\n1\\n',\n",
       " '\\n2\\n',\n",
       " nan,\n",
       " '\\n1\\n',\n",
       " '\\n1\\n',\n",
       " nan,\n",
       " '\\n1\\n',\n",
       " '\\n1\\n',\n",
       " nan,\n",
       " '\\n1\\n',\n",
       " '\\n1\\n',\n",
       " '\\n2\\n',\n",
       " nan,\n",
       " '\\n1\\n',\n",
       " '\\n1\\n',\n",
       " nan,\n",
       " '\\n1\\n',\n",
       " '\\n1\\n',\n",
       " '\\n1\\n',\n",
       " '\\n2\\n',\n",
       " '\\n1\\n',\n",
       " '\\n2\\n',\n",
       " '\\n1\\n',\n",
       " '\\n1\\n',\n",
       " nan,\n",
       " '\\n1\\n',\n",
       " '\\n1\\n',\n",
       " '\\n1\\n',\n",
       " '\\n1\\n',\n",
       " '\\n1\\n',\n",
       " nan,\n",
       " '\\n1\\n',\n",
       " '\\n1\\n',\n",
       " '\\n1\\n',\n",
       " '\\n2\\n',\n",
       " '\\n1\\n',\n",
       " '\\n1\\n',\n",
       " '\\n1\\n',\n",
       " '\\n1\\n',\n",
       " '\\n1\\n',\n",
       " '\\n1\\n',\n",
       " nan,\n",
       " '\\n1\\n',\n",
       " '\\n1\\n',\n",
       " nan,\n",
       " '\\n1\\n',\n",
       " '\\n2\\n',\n",
       " '\\n2\\n',\n",
       " nan,\n",
       " '\\n1\\n',\n",
       " nan,\n",
       " nan,\n",
       " '\\n1\\n',\n",
       " '\\n1\\n',\n",
       " nan,\n",
       " '\\n0\\n',\n",
       " '\\n1\\n',\n",
       " '\\n1\\n',\n",
       " '\\n2\\n',\n",
       " '\\n1\\n',\n",
       " '\\n2\\n',\n",
       " '\\n1\\n',\n",
       " nan,\n",
       " nan,\n",
       " '\\n1\\n',\n",
       " '\\n1\\n',\n",
       " '\\n1\\n',\n",
       " '\\n1\\n',\n",
       " nan,\n",
       " nan,\n",
       " '\\n2\\n',\n",
       " '\\n1\\n',\n",
       " nan,\n",
       " '\\n1\\n',\n",
       " '\\n1\\n',\n",
       " '\\n1\\n',\n",
       " '\\n1\\n',\n",
       " '\\n1\\n',\n",
       " nan,\n",
       " nan,\n",
       " '\\n1\\n',\n",
       " nan,\n",
       " '\\n1\\n',\n",
       " '\\n1\\n',\n",
       " '\\n1\\n',\n",
       " nan,\n",
       " '\\n3\\n',\n",
       " '\\n1\\n',\n",
       " nan,\n",
       " '\\n1\\n',\n",
       " '\\n1\\n',\n",
       " '\\n1\\n',\n",
       " '\\n1\\n',\n",
       " '\\n1\\n',\n",
       " '\\n1\\n',\n",
       " nan,\n",
       " nan,\n",
       " '\\n1\\n',\n",
       " '\\n1\\n',\n",
       " '\\n1\\n',\n",
       " '\\n1\\n',\n",
       " '\\n1\\n',\n",
       " nan,\n",
       " '\\n1\\n',\n",
       " '\\n1\\n',\n",
       " '\\n1\\n',\n",
       " '\\n1\\n',\n",
       " '\\n1\\n',\n",
       " '\\n1\\n',\n",
       " '\\n2\\n',\n",
       " '\\n1\\n',\n",
       " '\\n1\\n',\n",
       " '\\n1\\n',\n",
       " nan,\n",
       " '\\n1\\n',\n",
       " nan,\n",
       " '\\n1\\n',\n",
       " nan,\n",
       " '\\n1\\n',\n",
       " '\\n1\\n',\n",
       " nan,\n",
       " '\\n1\\n',\n",
       " '\\n1\\n',\n",
       " '\\n1\\n',\n",
       " '\\n1\\n',\n",
       " '\\n1\\n',\n",
       " '\\n1\\n',\n",
       " nan,\n",
       " '\\n1\\n',\n",
       " '\\n1\\n',\n",
       " nan,\n",
       " '\\n1\\n',\n",
       " '\\n2\\n',\n",
       " '\\n1\\n',\n",
       " '\\n2\\n',\n",
       " '\\n1\\n',\n",
       " '\\n1\\n',\n",
       " '\\n1\\n',\n",
       " '\\n1\\n',\n",
       " '\\n1\\n',\n",
       " nan,\n",
       " '\\n0\\n',\n",
       " nan,\n",
       " '\\n1\\n',\n",
       " '\\n1\\n',\n",
       " '\\n1\\n',\n",
       " '\\n1\\n',\n",
       " '\\n1\\n',\n",
       " nan,\n",
       " '\\n1\\n',\n",
       " '\\n0\\n',\n",
       " nan,\n",
       " '\\n1\\n',\n",
       " '\\n1\\n',\n",
       " '\\n1\\n',\n",
       " '\\n1\\n',\n",
       " '\\n1\\n',\n",
       " '\\n1\\n',\n",
       " '\\n2\\n',\n",
       " nan,\n",
       " '\\n1\\n',\n",
       " nan,\n",
       " nan,\n",
       " nan,\n",
       " nan,\n",
       " '\\n2\\n',\n",
       " '\\n1\\n',\n",
       " nan,\n",
       " '\\n1\\n',\n",
       " '\\n1\\n',\n",
       " '\\n1\\n',\n",
       " '\\n2\\n',\n",
       " '\\n1\\n',\n",
       " '\\n1\\n',\n",
       " nan,\n",
       " nan,\n",
       " nan,\n",
       " nan,\n",
       " nan,\n",
       " nan,\n",
       " nan,\n",
       " nan,\n",
       " nan,\n",
       " nan,\n",
       " nan,\n",
       " nan,\n",
       " nan,\n",
       " '\\n1\\n',\n",
       " nan,\n",
       " nan,\n",
       " nan,\n",
       " nan,\n",
       " nan,\n",
       " nan,\n",
       " nan,\n",
       " nan,\n",
       " '\\n1\\n',\n",
       " '\\n1\\n',\n",
       " nan,\n",
       " '\\n2\\n',\n",
       " '\\n1\\n',\n",
       " nan,\n",
       " nan,\n",
       " '\\n1\\n',\n",
       " '\\n1\\n',\n",
       " nan,\n",
       " '\\n1\\n',\n",
       " '\\n1\\n',\n",
       " '\\n1\\n',\n",
       " nan,\n",
       " '\\n2\\n',\n",
       " '\\n1\\n',\n",
       " nan,\n",
       " '\\n1\\n',\n",
       " '\\n1\\n',\n",
       " '\\n1\\n',\n",
       " '\\n2\\n',\n",
       " nan,\n",
       " nan,\n",
       " '\\n2\\n',\n",
       " nan,\n",
       " nan,\n",
       " '\\n2\\n',\n",
       " nan,\n",
       " '\\n1\\n',\n",
       " '\\n1\\n',\n",
       " '\\n1\\n',\n",
       " '\\n1\\n',\n",
       " '\\n1\\n',\n",
       " '\\n2\\n',\n",
       " '\\n2\\n',\n",
       " '\\n1\\n',\n",
       " '\\n1\\n',\n",
       " '\\n2\\n',\n",
       " '\\n1\\n',\n",
       " '\\n1\\n',\n",
       " '\\n1\\n',\n",
       " '\\n1\\n',\n",
       " nan,\n",
       " nan,\n",
       " nan,\n",
       " '\\n1\\n',\n",
       " '\\n1\\n',\n",
       " '\\n1\\n',\n",
       " nan,\n",
       " nan,\n",
       " '\\n1\\n',\n",
       " '\\n2\\n',\n",
       " '\\n1\\n',\n",
       " '\\n2\\n',\n",
       " nan,\n",
       " '\\n1\\n',\n",
       " '\\n1\\n',\n",
       " '\\n1\\n',\n",
       " '\\n1\\n',\n",
       " '\\n1\\n',\n",
       " '\\n1\\n',\n",
       " '\\n1\\n',\n",
       " '\\n1\\n',\n",
       " '\\n1\\n',\n",
       " '\\n1\\n',\n",
       " nan,\n",
       " nan,\n",
       " '\\n1\\n',\n",
       " '\\n2\\n',\n",
       " '\\n1\\n',\n",
       " '\\n1\\n',\n",
       " nan,\n",
       " nan,\n",
       " nan,\n",
       " nan,\n",
       " '\\n1\\n',\n",
       " nan,\n",
       " nan,\n",
       " nan,\n",
       " nan,\n",
       " '\\n0\\n',\n",
       " '\\n1\\n',\n",
       " '\\n1\\n',\n",
       " '\\n1\\n',\n",
       " '\\n1\\n',\n",
       " nan,\n",
       " nan,\n",
       " nan,\n",
       " nan,\n",
       " '\\n1\\n',\n",
       " nan,\n",
       " '\\n1\\n',\n",
       " nan,\n",
       " '\\n1\\n',\n",
       " '\\n1\\n',\n",
       " '\\n2\\n',\n",
       " nan,\n",
       " nan,\n",
       " '\\n1\\n',\n",
       " nan,\n",
       " nan,\n",
       " nan,\n",
       " '\\n1\\n',\n",
       " '\\n1\\n',\n",
       " '\\n1\\n',\n",
       " '\\n2\\n',\n",
       " '\\n1\\n',\n",
       " nan,\n",
       " '\\n1\\n',\n",
       " nan,\n",
       " nan,\n",
       " '\\n1\\n',\n",
       " nan,\n",
       " nan,\n",
       " nan,\n",
       " '\\n1\\n',\n",
       " '\\n1\\n',\n",
       " nan,\n",
       " '\\n1\\n',\n",
       " nan,\n",
       " '\\n1\\n',\n",
       " '\\n1\\n',\n",
       " '\\n1\\n',\n",
       " '\\n1\\n',\n",
       " '\\n1\\n',\n",
       " '\\n1\\n',\n",
       " '\\n1\\n',\n",
       " '\\n1\\n',\n",
       " '\\n1\\n',\n",
       " '\\n1\\n',\n",
       " '\\n1\\n',\n",
       " '\\n2\\n',\n",
       " '\\n1\\n',\n",
       " '\\n1\\n',\n",
       " '\\n1\\n',\n",
       " '\\n1\\n',\n",
       " '\\n1\\n',\n",
       " '\\n1\\n',\n",
       " nan,\n",
       " '\\n1\\n',\n",
       " '\\n1\\n',\n",
       " nan,\n",
       " '\\n2\\n',\n",
       " nan,\n",
       " nan,\n",
       " '\\n1\\n',\n",
       " '\\n1\\n',\n",
       " nan,\n",
       " nan,\n",
       " nan,\n",
       " nan,\n",
       " nan,\n",
       " nan,\n",
       " '\\n1\\n',\n",
       " '\\n1\\n',\n",
       " '\\n1\\n',\n",
       " '\\n1\\n',\n",
       " nan,\n",
       " '\\n1\\n',\n",
       " '\\n1\\n',\n",
       " '\\n1\\n',\n",
       " '\\n1\\n',\n",
       " '\\n1\\n',\n",
       " nan,\n",
       " nan,\n",
       " nan,\n",
       " '\\n2\\n',\n",
       " '\\n1\\n',\n",
       " '\\n2\\n',\n",
       " '\\n1\\n',\n",
       " '\\n1\\n',\n",
       " nan,\n",
       " nan,\n",
       " nan,\n",
       " '\\n1\\n',\n",
       " '\\n1\\n',\n",
       " '\\n1\\n',\n",
       " nan,\n",
       " '\\n1\\n',\n",
       " '\\n1\\n',\n",
       " nan,\n",
       " '\\n1\\n',\n",
       " '\\n1\\n',\n",
       " '\\n4\\n',\n",
       " '\\n1\\n',\n",
       " nan,\n",
       " '\\n1\\n',\n",
       " '\\n1\\n',\n",
       " nan,\n",
       " '\\n1\\n',\n",
       " '\\n1\\n',\n",
       " '\\n0\\n',\n",
       " '\\n1\\n',\n",
       " nan,\n",
       " '\\n1\\n',\n",
       " nan,\n",
       " '\\n1\\n',\n",
       " '\\n1\\n',\n",
       " nan,\n",
       " '\\n1\\n',\n",
       " '\\n1\\n',\n",
       " nan,\n",
       " nan,\n",
       " nan,\n",
       " nan,\n",
       " '\\n1\\n',\n",
       " '\\n1\\n',\n",
       " '\\n1\\n',\n",
       " '\\n1\\n',\n",
       " '\\n1\\n',\n",
       " '\\n1\\n',\n",
       " ...]"
      ]
     },
     "execution_count": 373,
     "metadata": {},
     "output_type": "execute_result"
    }
   ],
   "source": [
    "[item[0] if type(item) == list else item for item in df[\"Previous Owners\"]]"
   ]
  },
  {
   "cell_type": "code",
   "execution_count": 374,
   "metadata": {},
   "outputs": [
    {
     "data": {
      "text/plain": [
       "0        \\n2\\n\n",
       "1          NaN\n",
       "2        \\n1\\n\n",
       "3        \\n1\\n\n",
       "4        \\n1\\n\n",
       "         ...  \n",
       "15914      NaN\n",
       "15915    \\n1\\n\n",
       "15916    \\n1\\n\n",
       "15917      NaN\n",
       "15918    \\n1\\n\n",
       "Name: Previous_Owners, Length: 15919, dtype: object"
      ]
     },
     "execution_count": 374,
     "metadata": {},
     "output_type": "execute_result"
    }
   ],
   "source": [
    "# With list comprehension\n",
    "\n",
    "df[\"Previous_Owners\"] = [item[0] if type(item) == list else item for item in df[\"Previous Owners\"]]\n",
    "df[\"Previous_Owners\"]"
   ]
  },
  {
   "cell_type": "code",
   "execution_count": 375,
   "metadata": {},
   "outputs": [
    {
     "data": {
      "text/plain": [
       "0        \\n2\\n\n",
       "1          NaN\n",
       "2        \\n1\\n\n",
       "3        \\n1\\n\n",
       "4        \\n1\\n\n",
       "         ...  \n",
       "15914      NaN\n",
       "15915    \\n1\\n\n",
       "15916    \\n1\\n\n",
       "15917      NaN\n",
       "15918    \\n1\\n\n",
       "Name: Previous_Owners2, Length: 15919, dtype: object"
      ]
     },
     "execution_count": 375,
     "metadata": {},
     "output_type": "execute_result"
    }
   ],
   "source": [
    "# With apply() function\n",
    "\n",
    "df[\"Previous_Owners2\"] = df[\"Previous Owners\"].apply(lambda item: item[0] if type(item) == list else item)\n",
    "df[\"Previous_Owners2\"]"
   ]
  },
  {
   "cell_type": "code",
   "execution_count": 376,
   "metadata": {},
   "outputs": [],
   "source": [
    "df[\"Previous_Owners\"] = df[\"Previous_Owners\"].str.strip(\"\\n\").astype('float')"
   ]
  },
  {
   "cell_type": "code",
   "execution_count": 377,
   "metadata": {
    "scrolled": true
   },
   "outputs": [
    {
     "data": {
      "text/plain": [
       "1.00    8294\n",
       "NaN     6640\n",
       "2.00     778\n",
       "0.00     188\n",
       "3.00      17\n",
       "4.00       2\n",
       "Name: Previous_Owners, dtype: int64"
      ]
     },
     "execution_count": 377,
     "metadata": {},
     "output_type": "execute_result"
    }
   ],
   "source": [
    "df[\"Previous_Owners\"].value_counts(dropna=False)"
   ]
  },
  {
   "cell_type": "code",
   "execution_count": 378,
   "metadata": {},
   "outputs": [],
   "source": [
    "df[\"prev_owner\"] = df[\"prev_owner\"].str.extract(\"(\\d*)\").astype('float')"
   ]
  },
  {
   "cell_type": "code",
   "execution_count": 379,
   "metadata": {},
   "outputs": [],
   "source": [
    "#Alternative method\n",
    "\n",
    "#df[\"prev_owner\"] = df[\"prev_owner\"].str.split(\" \").str[0].astype('float')"
   ]
  },
  {
   "cell_type": "code",
   "execution_count": 380,
   "metadata": {},
   "outputs": [
    {
     "data": {
      "text/plain": [
       "1.00    8294\n",
       "NaN     6828\n",
       "2.00     778\n",
       "3.00      17\n",
       "4.00       2\n",
       "Name: prev_owner, dtype: int64"
      ]
     },
     "execution_count": 380,
     "metadata": {},
     "output_type": "execute_result"
    }
   ],
   "source": [
    "df[\"prev_owner\"].value_counts(dropna=False)"
   ]
  },
  {
   "cell_type": "code",
   "execution_count": 381,
   "metadata": {},
   "outputs": [
    {
     "data": {
      "text/html": [
       "<div>\n",
       "<style scoped>\n",
       "    .dataframe tbody tr th:only-of-type {\n",
       "        vertical-align: middle;\n",
       "    }\n",
       "\n",
       "    .dataframe tbody tr th {\n",
       "        vertical-align: top;\n",
       "    }\n",
       "\n",
       "    .dataframe thead th {\n",
       "        text-align: right;\n",
       "    }\n",
       "</style>\n",
       "<table border=\"1\" class=\"dataframe\">\n",
       "  <thead>\n",
       "    <tr style=\"text-align: right;\">\n",
       "      <th></th>\n",
       "      <th>make_model</th>\n",
       "      <th>body_type</th>\n",
       "      <th>price</th>\n",
       "      <th>vat</th>\n",
       "      <th>km</th>\n",
       "      <th>prev_owner</th>\n",
       "      <th>hp</th>\n",
       "      <th>Type</th>\n",
       "      <th>Previous Owners</th>\n",
       "      <th>Next Inspection</th>\n",
       "      <th>Inspection new</th>\n",
       "      <th>Warranty</th>\n",
       "      <th>Full Service</th>\n",
       "      <th>Non-smoking Vehicle</th>\n",
       "      <th>Offer Number</th>\n",
       "      <th>Body Color</th>\n",
       "      <th>Paint Type</th>\n",
       "      <th>Body Color Original</th>\n",
       "      <th>Upholstery</th>\n",
       "      <th>Nr. of Doors</th>\n",
       "      <th>Nr. of Seats</th>\n",
       "      <th>Model Code</th>\n",
       "      <th>Gearing Type</th>\n",
       "      <th>Displacement</th>\n",
       "      <th>Cylinders</th>\n",
       "      <th>Weight</th>\n",
       "      <th>Drive chain</th>\n",
       "      <th>Fuel</th>\n",
       "      <th>Consumption</th>\n",
       "      <th>CO2 Emission</th>\n",
       "      <th>Emission Class</th>\n",
       "      <th>Emission Label</th>\n",
       "      <th>Gears</th>\n",
       "      <th>Country version</th>\n",
       "      <th>Comfort_Convenience</th>\n",
       "      <th>Entertainment_Media</th>\n",
       "      <th>Extras</th>\n",
       "      <th>Safety_Security</th>\n",
       "      <th>age</th>\n",
       "      <th>Previous_Owners</th>\n",
       "      <th>Previous_Owners2</th>\n",
       "    </tr>\n",
       "  </thead>\n",
       "  <tbody>\n",
       "  </tbody>\n",
       "</table>\n",
       "</div>"
      ],
      "text/plain": [
       "Empty DataFrame\n",
       "Columns: [make_model, body_type, price, vat, km, prev_owner, hp, Type, Previous Owners, Next Inspection, Inspection new, Warranty, Full Service, Non-smoking Vehicle, Offer Number, Body Color, Paint Type, Body Color Original, Upholstery, Nr. of Doors, Nr. of Seats, Model Code, Gearing Type, Displacement, Cylinders, Weight, Drive chain, Fuel, Consumption, CO2 Emission, Emission Class, Emission Label, Gears, Country version, Comfort_Convenience, Entertainment_Media, Extras, Safety_Security, age, Previous_Owners, Previous_Owners2]\n",
       "Index: []"
      ]
     },
     "execution_count": 381,
     "metadata": {},
     "output_type": "execute_result"
    }
   ],
   "source": [
    "df[(df[\"Previous_Owners\"].isna()) & (df[\"prev_owner\"].notna())]#.value_counts()"
   ]
  },
  {
   "cell_type": "code",
   "execution_count": 382,
   "metadata": {},
   "outputs": [],
   "source": [
    "df[\"Previous_Owners\"].fillna(df[\"prev_owner\"], inplace=True)"
   ]
  },
  {
   "cell_type": "code",
   "execution_count": 383,
   "metadata": {},
   "outputs": [
    {
     "data": {
      "text/plain": [
       "1.00    8294\n",
       "NaN     6640\n",
       "2.00     778\n",
       "0.00     188\n",
       "3.00      17\n",
       "4.00       2\n",
       "Name: Previous_Owners, dtype: int64"
      ]
     },
     "execution_count": 383,
     "metadata": {},
     "output_type": "execute_result"
    }
   ],
   "source": [
    "df[\"Previous_Owners\"].value_counts(dropna=False)"
   ]
  },
  {
   "cell_type": "code",
   "execution_count": 384,
   "metadata": {},
   "outputs": [
    {
     "data": {
      "text/html": [
       "<div>\n",
       "<style scoped>\n",
       "    .dataframe tbody tr th:only-of-type {\n",
       "        vertical-align: middle;\n",
       "    }\n",
       "\n",
       "    .dataframe tbody tr th {\n",
       "        vertical-align: top;\n",
       "    }\n",
       "\n",
       "    .dataframe thead th {\n",
       "        text-align: right;\n",
       "    }\n",
       "</style>\n",
       "<table border=\"1\" class=\"dataframe\">\n",
       "  <thead>\n",
       "    <tr style=\"text-align: right;\">\n",
       "      <th></th>\n",
       "      <th>make_model</th>\n",
       "      <th>body_type</th>\n",
       "      <th>price</th>\n",
       "      <th>vat</th>\n",
       "      <th>km</th>\n",
       "      <th>prev_owner</th>\n",
       "      <th>hp</th>\n",
       "      <th>Type</th>\n",
       "      <th>Previous Owners</th>\n",
       "      <th>Next Inspection</th>\n",
       "      <th>Inspection new</th>\n",
       "      <th>Warranty</th>\n",
       "      <th>Full Service</th>\n",
       "      <th>Non-smoking Vehicle</th>\n",
       "      <th>Offer Number</th>\n",
       "      <th>Body Color</th>\n",
       "      <th>Paint Type</th>\n",
       "      <th>Body Color Original</th>\n",
       "      <th>Upholstery</th>\n",
       "      <th>Nr. of Doors</th>\n",
       "      <th>Nr. of Seats</th>\n",
       "      <th>Model Code</th>\n",
       "      <th>Gearing Type</th>\n",
       "      <th>Displacement</th>\n",
       "      <th>Cylinders</th>\n",
       "      <th>Weight</th>\n",
       "      <th>Drive chain</th>\n",
       "      <th>Fuel</th>\n",
       "      <th>Consumption</th>\n",
       "      <th>CO2 Emission</th>\n",
       "      <th>Emission Class</th>\n",
       "      <th>Emission Label</th>\n",
       "      <th>Gears</th>\n",
       "      <th>Country version</th>\n",
       "      <th>Comfort_Convenience</th>\n",
       "      <th>Entertainment_Media</th>\n",
       "      <th>Extras</th>\n",
       "      <th>Safety_Security</th>\n",
       "      <th>age</th>\n",
       "      <th>Previous_Owners</th>\n",
       "      <th>Previous_Owners2</th>\n",
       "    </tr>\n",
       "  </thead>\n",
       "  <tbody>\n",
       "  </tbody>\n",
       "</table>\n",
       "</div>"
      ],
      "text/plain": [
       "Empty DataFrame\n",
       "Columns: [make_model, body_type, price, vat, km, prev_owner, hp, Type, Previous Owners, Next Inspection, Inspection new, Warranty, Full Service, Non-smoking Vehicle, Offer Number, Body Color, Paint Type, Body Color Original, Upholstery, Nr. of Doors, Nr. of Seats, Model Code, Gearing Type, Displacement, Cylinders, Weight, Drive chain, Fuel, Consumption, CO2 Emission, Emission Class, Emission Label, Gears, Country version, Comfort_Convenience, Entertainment_Media, Extras, Safety_Security, age, Previous_Owners, Previous_Owners2]\n",
       "Index: []"
      ]
     },
     "execution_count": 384,
     "metadata": {},
     "output_type": "execute_result"
    }
   ],
   "source": [
    "df[(df[\"Previous_Owners\"].isna()) & (df[\"prev_owner\"].notna())]#.value_counts()"
   ]
  },
  {
   "cell_type": "code",
   "execution_count": 385,
   "metadata": {},
   "outputs": [],
   "source": [
    "df.drop([\"prev_owner\", \"Previous Owners\", \"Previous_Owners2\"], axis=1, inplace=True)"
   ]
  },
  {
   "cell_type": "code",
   "execution_count": 386,
   "metadata": {
    "scrolled": true
   },
   "outputs": [
    {
     "data": {
      "text/plain": [
       "(15919, 38)"
      ]
     },
     "execution_count": 386,
     "metadata": {},
     "output_type": "execute_result"
    }
   ],
   "source": [
    "df.shape"
   ]
  },
  {
   "cell_type": "markdown",
   "metadata": {},
   "source": [
    "## hp "
   ]
  },
  {
   "cell_type": "code",
   "execution_count": 387,
   "metadata": {
    "scrolled": true
   },
   "outputs": [
    {
     "data": {
      "text/plain": [
       "85 kW     2542\n",
       "66 kW     2122\n",
       "81 kW     1402\n",
       "100 kW    1308\n",
       "110 kW    1112\n",
       "70 kW      888\n",
       "125 kW     707\n",
       "51 kW      695\n",
       "55 kW      569\n",
       "118 kW     516\n",
       "92 kW      466\n",
       "121 kW     392\n",
       "147 kW     380\n",
       "77 kW      345\n",
       "56 kW      286\n",
       "54 kW      276\n",
       "103 kW     253\n",
       "87 kW      232\n",
       "165 kW     194\n",
       "88 kW      177\n",
       "60 kW      160\n",
       "162 kW      98\n",
       "- kW        88\n",
       "74 kW       81\n",
       "96 kW       72\n",
       "71 kW       59\n",
       "101 kW      47\n",
       "67 kW       40\n",
       "154 kW      39\n",
       "122 kW      35\n",
       "119 kW      30\n",
       "164 kW      27\n",
       "135 kW      24\n",
       "82 kW       22\n",
       "52 kW       22\n",
       "78 kW       20\n",
       "1 kW        20\n",
       "294 kW      18\n",
       "146 kW      18\n",
       "141 kW      16\n",
       "57 kW       10\n",
       "104 kW       8\n",
       "120 kW       8\n",
       "191 kW       7\n",
       "112 kW       7\n",
       "155 kW       6\n",
       "117 kW       6\n",
       "184 kW       5\n",
       "90 kW        4\n",
       "76 kW        4\n",
       "65 kW        4\n",
       "149 kW       3\n",
       "80 kW        3\n",
       "168 kW       3\n",
       "98 kW        3\n",
       "93 kW        3\n",
       "228 kW       2\n",
       "270 kW       2\n",
       "53 kW        2\n",
       "140 kW       2\n",
       "86 kW        2\n",
       "167 kW       2\n",
       "127 kW       2\n",
       "89 kW        2\n",
       "143 kW       2\n",
       "63 kW        2\n",
       "40 kW        2\n",
       "150 kW       2\n",
       "163 kW       1\n",
       "115 kW       1\n",
       "132 kW       1\n",
       "75 kW        1\n",
       "4 kW         1\n",
       "137 kW       1\n",
       "123 kW       1\n",
       "133 kW       1\n",
       "84 kW        1\n",
       "195 kW       1\n",
       "44 kW        1\n",
       "239 kW       1\n",
       "9 kW         1\n",
       "Name: hp, dtype: int64"
      ]
     },
     "execution_count": 387,
     "metadata": {},
     "output_type": "execute_result"
    }
   ],
   "source": [
    "df.hp.value_counts(dropna=False)"
   ]
  },
  {
   "cell_type": "code",
   "execution_count": 388,
   "metadata": {},
   "outputs": [],
   "source": [
    "df[\"hp_kW\"] = df.hp.str.extract('(\\d{1,4})').astype('float') # str.extract('(\\d+)')\n",
    "\n",
    "# df['hp_kW'] = df['hp'].str.strip(' kW').replace('-', np.nan).astype(float)"
   ]
  },
  {
   "cell_type": "code",
   "execution_count": 389,
   "metadata": {},
   "outputs": [],
   "source": [
    "#Alternative method\n",
    "\n",
    "#df.replace({\"hp\" : {\" kW\" : \"\"}}, regex = True, inplace = True)\n",
    "#df[\"hp_kw\"] = pd.to_numeric(df.hp)"
   ]
  },
  {
   "cell_type": "code",
   "execution_count": 390,
   "metadata": {
    "scrolled": true
   },
   "outputs": [
    {
     "data": {
      "text/plain": [
       "85.00     2542\n",
       "66.00     2122\n",
       "81.00     1402\n",
       "100.00    1308\n",
       "110.00    1112\n",
       "70.00      888\n",
       "125.00     707\n",
       "51.00      695\n",
       "55.00      569\n",
       "118.00     516\n",
       "92.00      466\n",
       "121.00     392\n",
       "147.00     380\n",
       "77.00      345\n",
       "56.00      286\n",
       "54.00      276\n",
       "103.00     253\n",
       "87.00      232\n",
       "165.00     194\n",
       "88.00      177\n",
       "60.00      160\n",
       "162.00      98\n",
       "NaN         88\n",
       "74.00       81\n",
       "96.00       72\n",
       "71.00       59\n",
       "101.00      47\n",
       "67.00       40\n",
       "154.00      39\n",
       "122.00      35\n",
       "119.00      30\n",
       "164.00      27\n",
       "135.00      24\n",
       "82.00       22\n",
       "52.00       22\n",
       "78.00       20\n",
       "1.00        20\n",
       "294.00      18\n",
       "146.00      18\n",
       "141.00      16\n",
       "57.00       10\n",
       "104.00       8\n",
       "120.00       8\n",
       "191.00       7\n",
       "112.00       7\n",
       "155.00       6\n",
       "117.00       6\n",
       "184.00       5\n",
       "90.00        4\n",
       "76.00        4\n",
       "65.00        4\n",
       "149.00       3\n",
       "80.00        3\n",
       "168.00       3\n",
       "98.00        3\n",
       "93.00        3\n",
       "228.00       2\n",
       "270.00       2\n",
       "53.00        2\n",
       "140.00       2\n",
       "86.00        2\n",
       "167.00       2\n",
       "127.00       2\n",
       "89.00        2\n",
       "143.00       2\n",
       "63.00        2\n",
       "40.00        2\n",
       "150.00       2\n",
       "163.00       1\n",
       "115.00       1\n",
       "132.00       1\n",
       "75.00        1\n",
       "4.00         1\n",
       "137.00       1\n",
       "123.00       1\n",
       "133.00       1\n",
       "84.00        1\n",
       "195.00       1\n",
       "44.00        1\n",
       "239.00       1\n",
       "9.00         1\n",
       "Name: hp_kW, dtype: int64"
      ]
     },
     "execution_count": 390,
     "metadata": {},
     "output_type": "execute_result"
    }
   ],
   "source": [
    "df.hp_kW.value_counts(dropna=False)"
   ]
  },
  {
   "cell_type": "code",
   "execution_count": 391,
   "metadata": {},
   "outputs": [],
   "source": [
    "df.drop('hp', axis=1, inplace=True)"
   ]
  },
  {
   "cell_type": "code",
   "execution_count": 392,
   "metadata": {},
   "outputs": [
    {
     "data": {
      "text/plain": [
       "(15919, 38)"
      ]
     },
     "execution_count": 392,
     "metadata": {},
     "output_type": "execute_result"
    }
   ],
   "source": [
    "df.shape"
   ]
  },
  {
   "cell_type": "markdown",
   "metadata": {},
   "source": [
    "## Type"
   ]
  },
  {
   "cell_type": "code",
   "execution_count": 393,
   "metadata": {},
   "outputs": [
    {
     "data": {
      "text/plain": [
       "['', 'Used', '', 'Diesel (Particulate Filter)']                                                                                 3475\n",
       "['', 'Used', '', 'Diesel']                                                                                                      2516\n",
       "['', 'Used', '', 'Gasoline']                                                                                                    2367\n",
       "['', 'Used', '', 'Super 95']                                                                                                    1818\n",
       "['', 'Pre-registered', '', 'Super 95']                                                                                           500\n",
       "                                                                                                                                ... \n",
       "['', 'New', '', 'Regular/Benzine 91 / Super 95 / Super Plus 98 / Regular/Benzine E10 91 / Super Plus E10 98 / Super E10 95']       1\n",
       "['', 'Used', '', 'Super 95 / Super Plus 98 / Super E10 95 / Super Plus E10 98 (Particulate Filter)']                               1\n",
       "['', 'Demonstration', '', 'Super Plus 98']                                                                                         1\n",
       "['', 'New', '', 'Super Plus E10 98']                                                                                               1\n",
       "['', 'Demonstration', '', 'Regular/Benzine E10 91']                                                                                1\n",
       "Name: Type, Length: 170, dtype: int64"
      ]
     },
     "execution_count": 393,
     "metadata": {},
     "output_type": "execute_result"
    }
   ],
   "source": [
    "df.Type.astype('str').value_counts()"
   ]
  },
  {
   "cell_type": "code",
   "execution_count": 394,
   "metadata": {},
   "outputs": [],
   "source": [
    "df[\"Type\"] = df.Type.str[1]\n",
    "\n",
    "# df['Type'].map(lambda x : x[1], na_action = 'ignore')"
   ]
  },
  {
   "cell_type": "code",
   "execution_count": 395,
   "metadata": {},
   "outputs": [
    {
     "data": {
      "text/plain": [
       "Used              11096\n",
       "New                1650\n",
       "Pre-registered     1364\n",
       "Employee's car     1011\n",
       "Demonstration       796\n",
       "NaN                   2\n",
       "Name: Type, dtype: int64"
      ]
     },
     "execution_count": 395,
     "metadata": {},
     "output_type": "execute_result"
    }
   ],
   "source": [
    "df['Type'].value_counts(dropna=False)"
   ]
  },
  {
   "cell_type": "markdown",
   "metadata": {},
   "source": [
    "## Next Inspection & Inspection new"
   ]
  },
  {
   "cell_type": "code",
   "execution_count": 396,
   "metadata": {},
   "outputs": [
    {
     "data": {
      "text/plain": [
       "nan                                           12384\n",
       "\\n04/2022\\n                                      62\n",
       "\\n03/2021\\n                                      38\n",
       "\\n03/2022\\n                                      36\n",
       "\\n06/2021\\n                                      34\n",
       "                                              ...  \n",
       "['\\n12/2018\\n', '\\n97 g CO2/km (comb)\\n']         1\n",
       "['\\n03/2022\\n', '\\n1 (No sticker)\\n']             1\n",
       "['\\n05/2021\\n', '\\n93 g CO2/km (comb)\\n']         1\n",
       "['\\n06/2021\\n', '\\n93 g CO2/km (comb)\\n']         1\n",
       "['\\n01/2022\\n', '\\n168 g CO2/km (comb)\\n']        1\n",
       "Name: Next Inspection, Length: 1400, dtype: int64"
      ]
     },
     "execution_count": 396,
     "metadata": {},
     "output_type": "execute_result"
    }
   ],
   "source": [
    "df[\"Next Inspection\"].astype('str').value_counts(dropna=False)"
   ]
  },
  {
   "cell_type": "code",
   "execution_count": 397,
   "metadata": {},
   "outputs": [
    {
     "data": {
      "text/plain": [
       "nan                                                                                                            11987\n",
       "['\\nYes\\n', '\\nEuro 6\\n']                                                                                        523\n",
       "\\nYes\\n                                                                                                          362\n",
       "['\\nYes\\n', '\\n102 g CO2/km (comb)\\n']                                                                           174\n",
       "['\\nYes\\n', '\\n4 (Green)\\n']                                                                                     166\n",
       "                                                                                                               ...  \n",
       "['\\nYes\\n', '\\n', '6 l/100 km (comb)', '\\n', '8 l/100 km (city)', '\\n', '4.9 l/100 km (country)', '\\n']            1\n",
       "['\\nYes\\n', '\\n', '6.8 l/100 km (comb)', '\\n', '8.5 l/100 km (city)', '\\n', '6.1 l/100 km (country)', '\\n']        1\n",
       "['\\nYes\\n', '\\n', '4.1 l/100 km (comb)', '\\n', '7.5 l/100 km (city)', '\\n', '5.2 l/100 km (country)', '\\n']        1\n",
       "['\\nYes\\n', '\\n', '5.2 l/100 km (comb)', '\\n', '6.8 l/100 km (city)', '\\n', '4.3 l/100 km (country)', '\\n']        1\n",
       "['\\nYes\\n', '\\n172 g CO2/km (comb)\\n']                                                                             1\n",
       "Name: Inspection new, Length: 203, dtype: int64"
      ]
     },
     "execution_count": 397,
     "metadata": {},
     "output_type": "execute_result"
    }
   ],
   "source": [
    "df[\"Inspection new\"].astype('str').value_counts(dropna=False)"
   ]
  },
  {
   "cell_type": "code",
   "execution_count": 398,
   "metadata": {},
   "outputs": [],
   "source": [
    "df[\"Inspection_new\"] = [item[0] if type(item) == list else item for item in df[\"Inspection new\"]]\n",
    "\n",
    "df[\"Inspection_new\"] = df[\"Inspection_new\"].str.strip(\"\\n\")"
   ]
  },
  {
   "cell_type": "code",
   "execution_count": 399,
   "metadata": {},
   "outputs": [
    {
     "data": {
      "text/plain": [
       "NaN    11987\n",
       "Yes     3932\n",
       "Name: Inspection_new, dtype: int64"
      ]
     },
     "execution_count": 399,
     "metadata": {},
     "output_type": "execute_result"
    }
   ],
   "source": [
    "df[\"Inspection_new\"].value_counts(dropna=False)"
   ]
  },
  {
   "cell_type": "code",
   "execution_count": 400,
   "metadata": {},
   "outputs": [],
   "source": [
    "df.drop([\"Next Inspection\", \"Inspection new\"], axis=1, inplace=True)"
   ]
  },
  {
   "cell_type": "code",
   "execution_count": 401,
   "metadata": {},
   "outputs": [
    {
     "data": {
      "text/plain": [
       "(15919, 37)"
      ]
     },
     "execution_count": 401,
     "metadata": {},
     "output_type": "execute_result"
    }
   ],
   "source": [
    "df.shape"
   ]
  },
  {
   "cell_type": "markdown",
   "metadata": {},
   "source": [
    "## Warranty"
   ]
  },
  {
   "cell_type": "code",
   "execution_count": 402,
   "metadata": {},
   "outputs": [
    {
     "data": {
      "text/plain": [
       "nan                                                                                                                5420\n",
       "['\\n', '\\n', '\\nEuro 6\\n']                                                                                         1868\n",
       "\\n12 months\\n                                                                                                      1177\n",
       "\\n                                                                                                                  979\n",
       "\\n24 months\\n                                                                                                       566\n",
       "                                                                                                                   ... \n",
       "['\\n72 months\\n', '\\n125 g CO2/km (comb)\\n']                                                                          1\n",
       "['\\n60 months\\n', '\\n14 g CO2/km (comb)\\n']                                                                           1\n",
       "['\\n24 months\\n', '\\n121 g CO2/km (comb)\\n']                                                                          1\n",
       "['\\n12 months\\n', '\\nEuro 6d\\n']                                                                                      1\n",
       "['\\n36 months\\n', '\\n', '7.4 l/100 km (comb)', '\\n', '9.6 l/100 km (city)', '\\n', '6 l/100 km (country)', '\\n']       1\n",
       "Name: Warranty, Length: 516, dtype: int64"
      ]
     },
     "execution_count": 402,
     "metadata": {},
     "output_type": "execute_result"
    }
   ],
   "source": [
    "df.Warranty.astype('str').value_counts(dropna=False)"
   ]
  },
  {
   "cell_type": "code",
   "execution_count": 403,
   "metadata": {},
   "outputs": [],
   "source": [
    "df[\"Warranty\"] = df.Warranty.apply(lambda x : x[0] if type(x)==list else x)"
   ]
  },
  {
   "cell_type": "code",
   "execution_count": 404,
   "metadata": {},
   "outputs": [],
   "source": [
    "df[\"Warranty\"] = df.Warranty.str.strip(\"\\n\").str.extract('(\\d{1,2})').astype(\"float\") # str.extract('(\\d+)')"
   ]
  },
  {
   "cell_type": "code",
   "execution_count": 405,
   "metadata": {},
   "outputs": [
    {
     "data": {
      "text/plain": [
       "NaN      11066\n",
       "12.00     2594\n",
       "24.00     1118\n",
       "60.00      401\n",
       "36.00      279\n",
       "48.00      149\n",
       "6.00       125\n",
       "72.00       59\n",
       "3.00        33\n",
       "23.00       11\n",
       "18.00       10\n",
       "20.00        7\n",
       "25.00        6\n",
       "2.00         5\n",
       "50.00        4\n",
       "26.00        4\n",
       "16.00        4\n",
       "4.00         3\n",
       "1.00         3\n",
       "19.00        3\n",
       "34.00        3\n",
       "13.00        3\n",
       "28.00        2\n",
       "22.00        2\n",
       "14.00        2\n",
       "11.00        2\n",
       "46.00        2\n",
       "21.00        2\n",
       "9.00         2\n",
       "17.00        2\n",
       "45.00        2\n",
       "33.00        1\n",
       "40.00        1\n",
       "65.00        1\n",
       "10.00        1\n",
       "15.00        1\n",
       "7.00         1\n",
       "8.00         1\n",
       "56.00        1\n",
       "49.00        1\n",
       "47.00        1\n",
       "30.00        1\n",
       "Name: Warranty, dtype: int64"
      ]
     },
     "execution_count": 405,
     "metadata": {},
     "output_type": "execute_result"
    }
   ],
   "source": [
    "df.Warranty.value_counts(dropna=False)"
   ]
  },
  {
   "cell_type": "markdown",
   "metadata": {},
   "source": [
    "## Full Service "
   ]
  },
  {
   "cell_type": "code",
   "execution_count": 406,
   "metadata": {},
   "outputs": [
    {
     "data": {
      "text/plain": [
       "nan                                                                                                             7704\n",
       "['\\n', '\\n', '\\n4 (Green)\\n']                                                                                   2235\n",
       "['\\n', '\\n', '\\nEuro 6\\n']                                                                                      2097\n",
       "['\\n', '\\n']                                                                                                    1702\n",
       "['\\n', '\\n', '\\nEuro 6d-TEMP\\n']                                                                                 399\n",
       "                                                                                                                ... \n",
       "['\\n', '\\n', '\\n80 g CO2/km (comb)\\n']                                                                             1\n",
       "['\\n', '\\n', '\\n84 g CO2/km (comb)\\n']                                                                             1\n",
       "['\\n', '\\n', '\\n', '6 l/100 km (comb)', '\\n', '8 l/100 km (city)', '\\n', '4.9 l/100 km (country)', '\\n']           1\n",
       "['\\n', '\\n', '\\n', '4.9 l/100 km (comb)', '\\n', '6.2 l/100 km (city)', '\\n', '4.1 l/100 km (country)', '\\n']       1\n",
       "['\\n', '\\n', '\\nEuro 4\\n']                                                                                         1\n",
       "Name: Full Service, Length: 123, dtype: int64"
      ]
     },
     "execution_count": 406,
     "metadata": {},
     "output_type": "execute_result"
    }
   ],
   "source": [
    "df['Full Service'].astype('str').value_counts(dropna=False)"
   ]
  },
  {
   "cell_type": "code",
   "execution_count": 407,
   "metadata": {},
   "outputs": [],
   "source": [
    "df.drop(\"Full Service\", axis=1, inplace=True)"
   ]
  },
  {
   "cell_type": "code",
   "execution_count": 408,
   "metadata": {},
   "outputs": [
    {
     "data": {
      "text/plain": [
       "(15919, 36)"
      ]
     },
     "execution_count": 408,
     "metadata": {},
     "output_type": "execute_result"
    }
   ],
   "source": [
    "df.shape"
   ]
  },
  {
   "cell_type": "markdown",
   "metadata": {},
   "source": [
    "## Non-smoking Vehicle"
   ]
  },
  {
   "cell_type": "code",
   "execution_count": 409,
   "metadata": {},
   "outputs": [
    {
     "data": {
      "text/plain": [
       "NaN                                                                                           8742\n",
       "[\\n, \\n]                                                                                      3647\n",
       "[\\n, \\n, \\n4 (Green)\\n]                                                                       1240\n",
       "[\\n, \\n, \\nEuro 6\\n]                                                                          1127\n",
       "[\\n, \\n, \\nEuro 6d-TEMP\\n]                                                                     345\n",
       "\\n                                                                                              70\n",
       "[\\n, \\n, \\n120 g CO2/km (comb)\\n]                                                               63\n",
       "[\\n, \\n, \\n85 g CO2/km (comb)\\n]                                                                46\n",
       "[\\n, \\n, \\n104 g CO2/km (comb)\\n]                                                               36\n",
       "[\\n, \\n, \\n107 g CO2/km (comb)\\n]                                                               36\n",
       "[\\n, \\n, \\n153 g CO2/km (comb)\\n]                                                               31\n",
       "[\\n, \\n, \\n124 g CO2/km (comb)\\n]                                                               29\n",
       "[\\n, \\n, \\n1 (No sticker)\\n]                                                                    24\n",
       "[\\n, \\n, \\n99 g CO2/km (comb)\\n]                                                                23\n",
       "[\\n, \\n, \\n106 g CO2/km (comb)\\n]                                                               20\n",
       "[\\n, \\n, \\n97 g CO2/km (comb)\\n]                                                                20\n",
       "[\\n, \\n, \\n108 g CO2/km (comb)\\n]                                                               19\n",
       "[\\n, \\n, \\n113 g CO2/km (comb)\\n]                                                               18\n",
       "[\\n, \\n, \\n100 g CO2/km (comb)\\n]                                                               18\n",
       "[\\n, \\n, \\n109 g CO2/km (comb)\\n]                                                               18\n",
       "[\\n, \\n, \\n105 g CO2/km (comb)\\n]                                                               18\n",
       "[\\n, \\n, \\nEuro 6c\\n]                                                                           17\n",
       "[\\n, \\n, \\n98 g CO2/km (comb)\\n]                                                                15\n",
       "[\\n, \\n, \\n129 g CO2/km (comb)\\n]                                                               14\n",
       "[\\n, \\n, \\n131 g CO2/km (comb)\\n]                                                               13\n",
       "[\\n, \\n, \\n133 g CO2/km (comb)\\n]                                                               12\n",
       "[\\n, \\n, \\n103 g CO2/km (comb)\\n]                                                               12\n",
       "[\\n, \\n, \\n114 g CO2/km (comb)\\n]                                                               12\n",
       "[\\n, \\n, \\n116 g CO2/km (comb)\\n]                                                               11\n",
       "[\\n, \\n, \\n135 g CO2/km (comb)\\n]                                                               11\n",
       "[\\n, \\n, \\n102 g CO2/km (comb)\\n]                                                               11\n",
       "[\\n, \\n, \\n127 g CO2/km (comb)\\n]                                                               10\n",
       "[\\n, \\n, \\n143 g CO2/km (comb)\\n]                                                               10\n",
       "[\\n, \\n, \\n92 g CO2/km (comb)\\n]                                                                 9\n",
       "[\\n, \\n, \\nEuro 6d\\n]                                                                            9\n",
       "[\\n, \\n, \\n112 g CO2/km (comb)\\n]                                                                9\n",
       "[\\n, \\n, \\n5 (Blue)\\n]                                                                           8\n",
       "[\\n, \\n, \\n118 g CO2/km (comb)\\n]                                                                8\n",
       "[\\n, \\n, \\n139 g CO2/km (comb)\\n]                                                                7\n",
       "[\\n, \\n, \\n128 g CO2/km (comb)\\n]                                                                7\n",
       "[\\n, \\n, \\n147 g CO2/km (comb)\\n]                                                                7\n",
       "[\\n, \\n, \\n126 g CO2/km (comb)\\n]                                                                6\n",
       "[\\n, \\n, \\n137 g CO2/km (comb)\\n]                                                                6\n",
       "[\\n, \\n, \\n117 g CO2/km (comb)\\n]                                                                6\n",
       "[\\n, \\n, \\n140 g CO2/km (comb)\\n]                                                                6\n",
       "[\\n, \\n, \\n130 g CO2/km (comb)\\n]                                                                5\n",
       "[\\n, \\n, \\n115 g CO2/km (comb)\\n]                                                                5\n",
       "[\\n, \\n, \\nEuro 5\\n]                                                                             4\n",
       "[\\n, \\n, \\n, 5.2 l/100 km (comb), \\n, 5.8 l/100 km (city), \\n, 4.8 l/100 km (country), \\n]       4\n",
       "[\\n, \\n, \\n123 g CO2/km (comb)\\n]                                                                4\n",
       "[\\n, \\n, \\n151 g CO2/km (comb)\\n]                                                                4\n",
       "[\\n, \\n, \\n95 g CO2/km (comb)\\n]                                                                 3\n",
       "[\\n, \\n, \\n119 g CO2/km (comb)\\n]                                                                3\n",
       "[\\n, \\n, \\n148 g CO2/km (comb)\\n]                                                                3\n",
       "[\\n, \\n, \\n157 g CO2/km (comb)\\n]                                                                3\n",
       "[\\n, \\n, \\n136 g CO2/km (comb)\\n]                                                                3\n",
       "[\\n, \\n, \\n110 g CO2/km (comb)\\n]                                                                3\n",
       "[\\n, \\n, \\n149 g CO2/km (comb)\\n]                                                                3\n",
       "[\\n, \\n, \\n138 g CO2/km (comb)\\n]                                                                2\n",
       "[\\n, \\n, \\n125 g CO2/km (comb)\\n]                                                                2\n",
       "[\\n, \\n, \\n, 5.2 l/100 km (comb), \\n, 6.4 l/100 km (city), \\n, 4.4 l/100 km (country), \\n]       2\n",
       "[\\n, \\n, \\n166 g CO2/km (comb)\\n]                                                                2\n",
       "[\\n, \\n, \\n121 g CO2/km (comb)\\n]                                                                2\n",
       "[\\n, \\n, \\n142 g CO2/km (comb)\\n]                                                                2\n",
       "[\\n, \\n, \\n90 g CO2/km (comb)\\n]                                                                 2\n",
       "[\\n, \\n, \\n111 g CO2/km (comb)\\n]                                                                2\n",
       "[\\n, \\n, \\n134 g CO2/km (comb)\\n]                                                                2\n",
       "[\\n, \\n, \\n, 6.5 l/100 km (comb), \\n, 8.5 l/100 km (city), \\n, 5.4 l/100 km (country), \\n]       1\n",
       "[\\n, \\n, \\n, 6.4 l/100 km (comb), \\n, 8.1 l/100 km (city), \\n, 5.4 l/100 km (country), \\n]       1\n",
       "[\\n, \\n, \\n161 g CO2/km (comb)\\n]                                                                1\n",
       "[\\n, \\n, \\n172 g CO2/km (comb)\\n]                                                                1\n",
       "[\\n, \\n, \\n189 g CO2/km (comb)\\n]                                                                1\n",
       "[\\n, \\n, \\n82 g CO2/km (comb)\\n]                                                                 1\n",
       "[\\n, \\n, \\n154 g CO2/km (comb)\\n]                                                                1\n",
       "[\\n, \\n, \\n, 6.5 l/100 km (comb), \\n, 7.9 l/100 km (city), \\n, 5.6 l/100 km (country), \\n]       1\n",
       "[\\n, \\n, \\n, 6.3 l/100 km (comb), \\n, 8 l/100 km (city), \\n, 5.3 l/100 km (country), \\n]         1\n",
       "[\\n, \\n, \\n146 g CO2/km (comb)\\n]                                                                1\n",
       "[\\n, \\n, \\n, 5.7 l/100 km (comb), \\n, 7.3 l/100 km (city), \\n, 4.7 l/100 km (country), \\n]       1\n",
       "[\\n, \\n, \\n, 6.1 l/100 km (comb), \\n, 7.7 l/100 km (city), \\n, 5.2 l/100 km (country), \\n]       1\n",
       "[\\n, \\n, \\n156 g CO2/km (comb)\\n]                                                                1\n",
       "[\\n, \\n, \\n, 6.1 l/100 km (comb), \\n, 7.8 l/100 km (city), \\n, 5.1 l/100 km (country), \\n]       1\n",
       "[\\n, \\n, \\n, 6.2 l/100 km (comb), \\n, 7.9 l/100 km (city), \\n, 5.3 l/100 km (country), \\n]       1\n",
       "[\\n, \\n, \\n152 g CO2/km (comb)\\n]                                                                1\n",
       "[\\n, \\n, \\n144 g CO2/km (comb)\\n]                                                                1\n",
       "[\\n, \\n, \\n132 g CO2/km (comb)\\n]                                                                1\n",
       "[\\n, \\n, \\n, 1.6 l/100 km (comb), \\n, \\n, \\n]                                                    1\n",
       "[\\n, \\n, \\n169 g CO2/km (comb)\\n]                                                                1\n",
       "[\\n, \\n, \\n101 g CO2/km (comb)\\n]                                                                1\n",
       "[\\n, \\n, \\n159 g CO2/km (comb)\\n]                                                                1\n",
       "[\\n, \\n, \\n91 g CO2/km (comb)\\n]                                                                 1\n",
       "[\\n, \\n, \\n, 5.6 l/100 km (comb), \\n, 7.3 l/100 km (city), \\n, 4.7 l/100 km (country), \\n]       1\n",
       "[\\n, \\n, \\n122 g CO2/km (comb)\\n]                                                                1\n",
       "[\\n, \\n, \\n158 g CO2/km (comb)\\n]                                                                1\n",
       "[\\n, \\n, \\n150 g CO2/km (comb)\\n]                                                                1\n",
       "[\\n, \\n, \\n175 g CO2/km (comb)\\n]                                                                1\n",
       "Name: Non-smoking Vehicle, dtype: int64"
      ]
     },
     "execution_count": 409,
     "metadata": {},
     "output_type": "execute_result"
    }
   ],
   "source": [
    "df['Non-smoking Vehicle'].value_counts(dropna=False)"
   ]
  },
  {
   "cell_type": "code",
   "execution_count": 410,
   "metadata": {},
   "outputs": [
    {
     "data": {
      "text/plain": [
       "(15919, 35)"
      ]
     },
     "execution_count": 410,
     "metadata": {},
     "output_type": "execute_result"
    }
   ],
   "source": [
    "df.drop(\"Non-smoking Vehicle\", axis=1, inplace=True)\n",
    "df.shape"
   ]
  },
  {
   "cell_type": "markdown",
   "metadata": {},
   "source": [
    "## Offer Number"
   ]
  },
  {
   "cell_type": "code",
   "execution_count": 411,
   "metadata": {},
   "outputs": [
    {
     "data": {
      "text/plain": [
       "nan                                                 3175\n",
       "['\\nLT67679\\n']                                       27\n",
       "['\\nUN89904\\n']                                       27\n",
       "['\\nXJ38068\\n']                                       27\n",
       "['\\nJV03654\\n']                                       27\n",
       "                                                    ... \n",
       "['\\n160_dcbb6c3e-a6da-43a3-8754-ccd994cec93b\\n']       1\n",
       "['\\n6701576\\n']                                        1\n",
       "['\\n6701569\\n']                                        1\n",
       "['\\n158121\\n']                                         1\n",
       "['\\nRe_30000008029\\n']                                 1\n",
       "Name: Offer Number, Length: 11441, dtype: int64"
      ]
     },
     "execution_count": 411,
     "metadata": {},
     "output_type": "execute_result"
    }
   ],
   "source": [
    "df['Offer Number'].astype('str').value_counts(dropna=False)"
   ]
  },
  {
   "cell_type": "code",
   "execution_count": 412,
   "metadata": {},
   "outputs": [],
   "source": [
    "df['Offer Number'] = df['Offer Number'].str[0].str.strip('\\n')"
   ]
  },
  {
   "cell_type": "code",
   "execution_count": 413,
   "metadata": {},
   "outputs": [
    {
     "data": {
      "text/plain": [
       "LT67679                                     27\n",
       "AK13780                                     27\n",
       "TP62881                                     27\n",
       "TA76392                                     27\n",
       "XT61649                                     27\n",
       "                                            ..\n",
       "160_dcbb6c3e-a6da-43a3-8754-ccd994cec93b     1\n",
       "6701576                                      1\n",
       "6701569                                      1\n",
       "158121                                       1\n",
       "Re_30000008029                               1\n",
       "Name: Offer Number, Length: 11440, dtype: int64"
      ]
     },
     "execution_count": 413,
     "metadata": {},
     "output_type": "execute_result"
    }
   ],
   "source": [
    "df['Offer Number'].value_counts()"
   ]
  },
  {
   "cell_type": "code",
   "execution_count": 414,
   "metadata": {},
   "outputs": [],
   "source": [
    "df.drop(\"Offer Number\", axis=1, inplace=True)"
   ]
  },
  {
   "cell_type": "code",
   "execution_count": 415,
   "metadata": {},
   "outputs": [
    {
     "data": {
      "text/plain": [
       "(15919, 34)"
      ]
     },
     "execution_count": 415,
     "metadata": {},
     "output_type": "execute_result"
    }
   ],
   "source": [
    "df.shape"
   ]
  },
  {
   "cell_type": "markdown",
   "metadata": {},
   "source": [
    "## Body Color & Body Color Original"
   ]
  },
  {
   "cell_type": "code",
   "execution_count": 416,
   "metadata": {},
   "outputs": [
    {
     "data": {
      "text/plain": [
       "['\\n', 'Black', '\\n']     3745\n",
       "['\\n', 'Grey', '\\n']      3505\n",
       "['\\n', 'White', '\\n']     3406\n",
       "['\\n', 'Silver', '\\n']    1647\n",
       "['\\n', 'Blue', '\\n']      1431\n",
       "['\\n', 'Red', '\\n']        957\n",
       "nan                        597\n",
       "['\\n', 'Brown', '\\n']      289\n",
       "['\\n', 'Green', '\\n']      154\n",
       "['\\n', 'Beige', '\\n']      108\n",
       "['\\n', 'Yellow', '\\n']      51\n",
       "['\\n', 'Violet', '\\n']      18\n",
       "['\\n', 'Bronze', '\\n']       6\n",
       "['\\n', 'Orange', '\\n']       3\n",
       "['\\n', 'Gold', '\\n']         2\n",
       "Name: Body Color, dtype: int64"
      ]
     },
     "execution_count": 416,
     "metadata": {},
     "output_type": "execute_result"
    }
   ],
   "source": [
    "df['Body Color'].astype('str').value_counts(dropna=False)"
   ]
  },
  {
   "cell_type": "code",
   "execution_count": 417,
   "metadata": {},
   "outputs": [],
   "source": [
    "df['Body Color'] = df['Body Color'].map(lambda x : x[1], na_action = 'ignore')"
   ]
  },
  {
   "cell_type": "code",
   "execution_count": 418,
   "metadata": {},
   "outputs": [
    {
     "data": {
      "text/plain": [
       "Black     3745\n",
       "Grey      3505\n",
       "White     3406\n",
       "Silver    1647\n",
       "Blue      1431\n",
       "Red        957\n",
       "NaN        597\n",
       "Brown      289\n",
       "Green      154\n",
       "Beige      108\n",
       "Yellow      51\n",
       "Violet      18\n",
       "Bronze       6\n",
       "Orange       3\n",
       "Gold         2\n",
       "Name: Body Color, dtype: int64"
      ]
     },
     "execution_count": 418,
     "metadata": {},
     "output_type": "execute_result"
    }
   ],
   "source": [
    "df['Body Color'].value_counts(dropna=False)"
   ]
  },
  {
   "cell_type": "markdown",
   "metadata": {},
   "source": [
    "## Body Color Original"
   ]
  },
  {
   "cell_type": "code",
   "execution_count": 419,
   "metadata": {},
   "outputs": [
    {
     "data": {
      "text/plain": [
       "NaN                              3759\n",
       "Onyx Schwarz                      338\n",
       "Bianco                            282\n",
       "Mythosschwarz Metallic            238\n",
       "Brillantschwarz                   216\n",
       "                                 ... \n",
       "Rouge-Braun (G0Y)                   1\n",
       "VARI COLRI DISPONIBILI              1\n",
       "Kokosnussbraun Metallic             1\n",
       "Farbe frei wählbar                  1\n",
       "Perlmutt-Weiß Metallic (Weiß)       1\n",
       "Name: Body Color Original, Length: 1928, dtype: int64"
      ]
     },
     "execution_count": 419,
     "metadata": {},
     "output_type": "execute_result"
    }
   ],
   "source": [
    "df['Body Color Original'].astype('str').value_counts(dropna=False)\n",
    "\n",
    "df['Body Color Original'] = df['Body Color Original'].map(lambda x : x[0].strip('\\n'), na_action = 'ignore')\n",
    "\n",
    "df['Body Color Original'].value_counts(dropna=False)"
   ]
  },
  {
   "cell_type": "code",
   "execution_count": 420,
   "metadata": {},
   "outputs": [
    {
     "data": {
      "text/html": [
       "<div>\n",
       "<style scoped>\n",
       "    .dataframe tbody tr th:only-of-type {\n",
       "        vertical-align: middle;\n",
       "    }\n",
       "\n",
       "    .dataframe tbody tr th {\n",
       "        vertical-align: top;\n",
       "    }\n",
       "\n",
       "    .dataframe thead th {\n",
       "        text-align: right;\n",
       "    }\n",
       "</style>\n",
       "<table border=\"1\" class=\"dataframe\">\n",
       "  <thead>\n",
       "    <tr style=\"text-align: right;\">\n",
       "      <th></th>\n",
       "      <th>Body Color Original</th>\n",
       "      <th>Body Color</th>\n",
       "    </tr>\n",
       "  </thead>\n",
       "  <tbody>\n",
       "    <tr>\n",
       "      <th>70</th>\n",
       "      <td>gris nano</td>\n",
       "      <td>NaN</td>\n",
       "    </tr>\n",
       "    <tr>\n",
       "      <th>122</th>\n",
       "      <td>wählbar</td>\n",
       "      <td>NaN</td>\n",
       "    </tr>\n",
       "    <tr>\n",
       "      <th>150</th>\n",
       "      <td>BLEU UTOPIA</td>\n",
       "      <td>NaN</td>\n",
       "    </tr>\n",
       "    <tr>\n",
       "      <th>195</th>\n",
       "      <td>BLEU UTOPIA</td>\n",
       "      <td>NaN</td>\n",
       "    </tr>\n",
       "    <tr>\n",
       "      <th>198</th>\n",
       "      <td>null</td>\n",
       "      <td>NaN</td>\n",
       "    </tr>\n",
       "    <tr>\n",
       "      <th>...</th>\n",
       "      <td>...</td>\n",
       "      <td>...</td>\n",
       "    </tr>\n",
       "    <tr>\n",
       "      <th>15382</th>\n",
       "      <td>TEINTE CAISS</td>\n",
       "      <td>NaN</td>\n",
       "    </tr>\n",
       "    <tr>\n",
       "      <th>15527</th>\n",
       "      <td>null</td>\n",
       "      <td>NaN</td>\n",
       "    </tr>\n",
       "    <tr>\n",
       "      <th>15619</th>\n",
       "      <td>wählbar - ggf gegen Aufpreis</td>\n",
       "      <td>NaN</td>\n",
       "    </tr>\n",
       "    <tr>\n",
       "      <th>15785</th>\n",
       "      <td>GNE NOIR ETOILE</td>\n",
       "      <td>NaN</td>\n",
       "    </tr>\n",
       "    <tr>\n",
       "      <th>15849</th>\n",
       "      <td>Farbe: Sonstige</td>\n",
       "      <td>NaN</td>\n",
       "    </tr>\n",
       "  </tbody>\n",
       "</table>\n",
       "<p>407 rows × 2 columns</p>\n",
       "</div>"
      ],
      "text/plain": [
       "                Body Color Original Body Color\n",
       "70                        gris nano        NaN\n",
       "122                         wählbar        NaN\n",
       "150                     BLEU UTOPIA        NaN\n",
       "195                     BLEU UTOPIA        NaN\n",
       "198                            null        NaN\n",
       "...                             ...        ...\n",
       "15382                  TEINTE CAISS        NaN\n",
       "15527                          null        NaN\n",
       "15619  wählbar - ggf gegen Aufpreis        NaN\n",
       "15785               GNE NOIR ETOILE        NaN\n",
       "15849               Farbe: Sonstige        NaN\n",
       "\n",
       "[407 rows x 2 columns]"
      ]
     },
     "execution_count": 420,
     "metadata": {},
     "output_type": "execute_result"
    }
   ],
   "source": [
    "df[df['Body Color Original'].notnull() & df['Body Color'].isnull()][['Body Color Original', 'Body Color']]"
   ]
  },
  {
   "cell_type": "code",
   "execution_count": 421,
   "metadata": {},
   "outputs": [
    {
     "data": {
      "text/plain": [
       "(15919, 32)"
      ]
     },
     "execution_count": 421,
     "metadata": {},
     "output_type": "execute_result"
    }
   ],
   "source": [
    "df.drop([\"Body Color\", \"Body Color Original\"], axis=1, inplace=True)\n",
    "\n",
    "df.shape"
   ]
  },
  {
   "cell_type": "markdown",
   "metadata": {
    "id": "tkRUrCqxV7Ez"
   },
   "source": [
    "## Paint Type"
   ]
  },
  {
   "cell_type": "code",
   "execution_count": 424,
   "metadata": {
    "id": "B3BtVjIEV7E0",
    "outputId": "477ad236-cedb-4fba-f834-8ba9e8d53572"
   },
   "outputs": [
    {
     "ename": "KeyError",
     "evalue": "'Paint Type'",
     "output_type": "error",
     "traceback": [
      "\u001b[1;31m---------------------------------------------------------------------------\u001b[0m",
      "\u001b[1;31mKeyError\u001b[0m                                  Traceback (most recent call last)",
      "File \u001b[1;32m~\\anaconda3\\lib\\site-packages\\pandas\\core\\indexes\\base.py:3621\u001b[0m, in \u001b[0;36mIndex.get_loc\u001b[1;34m(self, key, method, tolerance)\u001b[0m\n\u001b[0;32m   3620\u001b[0m \u001b[38;5;28;01mtry\u001b[39;00m:\n\u001b[1;32m-> 3621\u001b[0m     \u001b[38;5;28;01mreturn\u001b[39;00m \u001b[38;5;28;43mself\u001b[39;49m\u001b[38;5;241;43m.\u001b[39;49m\u001b[43m_engine\u001b[49m\u001b[38;5;241;43m.\u001b[39;49m\u001b[43mget_loc\u001b[49m\u001b[43m(\u001b[49m\u001b[43mcasted_key\u001b[49m\u001b[43m)\u001b[49m\n\u001b[0;32m   3622\u001b[0m \u001b[38;5;28;01mexcept\u001b[39;00m \u001b[38;5;167;01mKeyError\u001b[39;00m \u001b[38;5;28;01mas\u001b[39;00m err:\n",
      "File \u001b[1;32m~\\anaconda3\\lib\\site-packages\\pandas\\_libs\\index.pyx:136\u001b[0m, in \u001b[0;36mpandas._libs.index.IndexEngine.get_loc\u001b[1;34m()\u001b[0m\n",
      "File \u001b[1;32m~\\anaconda3\\lib\\site-packages\\pandas\\_libs\\index.pyx:163\u001b[0m, in \u001b[0;36mpandas._libs.index.IndexEngine.get_loc\u001b[1;34m()\u001b[0m\n",
      "File \u001b[1;32mpandas\\_libs\\hashtable_class_helper.pxi:5198\u001b[0m, in \u001b[0;36mpandas._libs.hashtable.PyObjectHashTable.get_item\u001b[1;34m()\u001b[0m\n",
      "File \u001b[1;32mpandas\\_libs\\hashtable_class_helper.pxi:5206\u001b[0m, in \u001b[0;36mpandas._libs.hashtable.PyObjectHashTable.get_item\u001b[1;34m()\u001b[0m\n",
      "\u001b[1;31mKeyError\u001b[0m: 'Paint Type'",
      "\nThe above exception was the direct cause of the following exception:\n",
      "\u001b[1;31mKeyError\u001b[0m                                  Traceback (most recent call last)",
      "Input \u001b[1;32mIn [424]\u001b[0m, in \u001b[0;36m<cell line: 1>\u001b[1;34m()\u001b[0m\n\u001b[1;32m----> 1\u001b[0m \u001b[43mdf\u001b[49m\u001b[43m[\u001b[49m\u001b[38;5;124;43m'\u001b[39;49m\u001b[38;5;124;43mPaint Type\u001b[39;49m\u001b[38;5;124;43m'\u001b[39;49m\u001b[43m]\u001b[49m\u001b[38;5;241m.\u001b[39mastype(\u001b[38;5;124m'\u001b[39m\u001b[38;5;124mstr\u001b[39m\u001b[38;5;124m'\u001b[39m)\u001b[38;5;241m.\u001b[39mvalue_counts(dropna\u001b[38;5;241m=\u001b[39m\u001b[38;5;28;01mFalse\u001b[39;00m)\n",
      "File \u001b[1;32m~\\anaconda3\\lib\\site-packages\\pandas\\core\\frame.py:3505\u001b[0m, in \u001b[0;36mDataFrame.__getitem__\u001b[1;34m(self, key)\u001b[0m\n\u001b[0;32m   3503\u001b[0m \u001b[38;5;28;01mif\u001b[39;00m \u001b[38;5;28mself\u001b[39m\u001b[38;5;241m.\u001b[39mcolumns\u001b[38;5;241m.\u001b[39mnlevels \u001b[38;5;241m>\u001b[39m \u001b[38;5;241m1\u001b[39m:\n\u001b[0;32m   3504\u001b[0m     \u001b[38;5;28;01mreturn\u001b[39;00m \u001b[38;5;28mself\u001b[39m\u001b[38;5;241m.\u001b[39m_getitem_multilevel(key)\n\u001b[1;32m-> 3505\u001b[0m indexer \u001b[38;5;241m=\u001b[39m \u001b[38;5;28;43mself\u001b[39;49m\u001b[38;5;241;43m.\u001b[39;49m\u001b[43mcolumns\u001b[49m\u001b[38;5;241;43m.\u001b[39;49m\u001b[43mget_loc\u001b[49m\u001b[43m(\u001b[49m\u001b[43mkey\u001b[49m\u001b[43m)\u001b[49m\n\u001b[0;32m   3506\u001b[0m \u001b[38;5;28;01mif\u001b[39;00m is_integer(indexer):\n\u001b[0;32m   3507\u001b[0m     indexer \u001b[38;5;241m=\u001b[39m [indexer]\n",
      "File \u001b[1;32m~\\anaconda3\\lib\\site-packages\\pandas\\core\\indexes\\base.py:3623\u001b[0m, in \u001b[0;36mIndex.get_loc\u001b[1;34m(self, key, method, tolerance)\u001b[0m\n\u001b[0;32m   3621\u001b[0m     \u001b[38;5;28;01mreturn\u001b[39;00m \u001b[38;5;28mself\u001b[39m\u001b[38;5;241m.\u001b[39m_engine\u001b[38;5;241m.\u001b[39mget_loc(casted_key)\n\u001b[0;32m   3622\u001b[0m \u001b[38;5;28;01mexcept\u001b[39;00m \u001b[38;5;167;01mKeyError\u001b[39;00m \u001b[38;5;28;01mas\u001b[39;00m err:\n\u001b[1;32m-> 3623\u001b[0m     \u001b[38;5;28;01mraise\u001b[39;00m \u001b[38;5;167;01mKeyError\u001b[39;00m(key) \u001b[38;5;28;01mfrom\u001b[39;00m \u001b[38;5;21;01merr\u001b[39;00m\n\u001b[0;32m   3624\u001b[0m \u001b[38;5;28;01mexcept\u001b[39;00m \u001b[38;5;167;01mTypeError\u001b[39;00m:\n\u001b[0;32m   3625\u001b[0m     \u001b[38;5;66;03m# If we have a listlike key, _check_indexing_error will raise\u001b[39;00m\n\u001b[0;32m   3626\u001b[0m     \u001b[38;5;66;03m#  InvalidIndexError. Otherwise we fall through and re-raise\u001b[39;00m\n\u001b[0;32m   3627\u001b[0m     \u001b[38;5;66;03m#  the TypeError.\u001b[39;00m\n\u001b[0;32m   3628\u001b[0m     \u001b[38;5;28mself\u001b[39m\u001b[38;5;241m.\u001b[39m_check_indexing_error(key)\n",
      "\u001b[1;31mKeyError\u001b[0m: 'Paint Type'"
     ]
    }
   ],
   "source": [
    "df['Paint Type'].astype('str').value_counts(dropna=False)"
   ]
  },
  {
   "cell_type": "code",
   "execution_count": null,
   "metadata": {
    "id": "Zk1VU4eHV7E0"
   },
   "outputs": [],
   "source": [
    "df['Paint_Type'] = df['Paint Type'].str[0].str.strip('\\n')"
   ]
  },
  {
   "cell_type": "code",
   "execution_count": null,
   "metadata": {
    "id": "PV7nI43wV7E0",
    "outputId": "31f75f4b-0742-4d29-ccfb-adbabbd0a6b1"
   },
   "outputs": [],
   "source": [
    "df['Paint_Type'].value_counts(dropna=False)"
   ]
  },
  {
   "cell_type": "code",
   "execution_count": null,
   "metadata": {
    "id": "T3j9f4zzV7E0"
   },
   "outputs": [],
   "source": [
    "df.drop(\"Paint Type\", axis=1, inplace=True)"
   ]
  },
  {
   "cell_type": "code",
   "execution_count": 425,
   "metadata": {
    "scrolled": true
   },
   "outputs": [
    {
     "data": {
      "text/plain": [
       "(15919, 32)"
      ]
     },
     "execution_count": 425,
     "metadata": {},
     "output_type": "execute_result"
    }
   ],
   "source": [
    "df.shape"
   ]
  },
  {
   "cell_type": "markdown",
   "metadata": {
    "id": "W2CYSFXqV7E0"
   },
   "source": [
    "## Upholstery"
   ]
  },
  {
   "cell_type": "code",
   "execution_count": 426,
   "metadata": {
    "id": "jcipy2z8V7E0",
    "outputId": "d78ad94d-65c2-4486-d887-cd4aa8e8cdc4"
   },
   "outputs": [
    {
     "data": {
      "text/plain": [
       "['\\nCloth, Black\\n']           5821\n",
       "nan                            3720\n",
       "['\\nPart leather, Black\\n']    1121\n",
       "['\\nCloth\\n']                  1005\n",
       "['\\nCloth, Grey\\n']             891\n",
       "['\\nCloth, Other\\n']            639\n",
       "['\\nFull leather, Black\\n']     575\n",
       "['\\nBlack\\n']                   491\n",
       "['\\nGrey\\n']                    273\n",
       "['\\nOther, Other\\n']            182\n",
       "['\\nPart leather\\n']            140\n",
       "['\\nFull leather\\n']            139\n",
       "['\\nFull leather, Brown\\n']     116\n",
       "['\\nPart leather, Grey\\n']      116\n",
       "['\\nOther, Black\\n']            110\n",
       "['\\nFull leather, Other\\n']      72\n",
       "['\\nFull leather, Grey\\n']       67\n",
       "['\\nPart leather, Other\\n']      65\n",
       "['\\nOther\\n']                    56\n",
       "['\\nPart leather, Brown\\n']      50\n",
       "['\\nalcantara, Black\\n']         47\n",
       "['\\nVelour, Black\\n']            36\n",
       "['\\nFull leather, Beige\\n']      36\n",
       "['\\nCloth, Brown\\n']             28\n",
       "['\\nVelour\\n']                   16\n",
       "['\\nOther, Grey\\n']              15\n",
       "['\\nCloth, Beige\\n']             13\n",
       "['\\nBrown\\n']                    12\n",
       "['\\nCloth, Blue\\n']              12\n",
       "['\\nVelour, Grey\\n']              8\n",
       "['\\nCloth, White\\n']              8\n",
       "['\\nalcantara, Grey\\n']           6\n",
       "['\\nCloth, Red\\n']                5\n",
       "['\\nOther, Yellow\\n']             4\n",
       "['\\nPart leather, Red\\n']         3\n",
       "['\\nBeige\\n']                     3\n",
       "['\\nPart leather, White\\n']       2\n",
       "['\\nFull leather, Blue\\n']        2\n",
       "['\\nalcantara, Other\\n']          2\n",
       "['\\nalcantara\\n']                 2\n",
       "['\\nWhite\\n']                     2\n",
       "['\\nPart leather, Beige\\n']       2\n",
       "['\\nBlue\\n']                      2\n",
       "['\\nCloth, Orange\\n']             1\n",
       "['\\nFull leather, Red\\n']         1\n",
       "['\\nOther, Brown\\n']              1\n",
       "['\\nFull leather, White\\n']       1\n",
       "Name: Upholstery, dtype: int64"
      ]
     },
     "execution_count": 426,
     "metadata": {},
     "output_type": "execute_result"
    }
   ],
   "source": [
    "df['Upholstery'].astype('str').value_counts(dropna=False)"
   ]
  },
  {
   "cell_type": "code",
   "execution_count": 427,
   "metadata": {
    "id": "7nghS3cVV7E1"
   },
   "outputs": [],
   "source": [
    "df[\"Upholstery\"] = [item[0] if type(item) == list else item for item in df.Upholstery]"
   ]
  },
  {
   "cell_type": "code",
   "execution_count": 428,
   "metadata": {
    "id": "HSbGhtdCV7E1",
    "outputId": "40a07a23-e05d-4b8f-b28e-d12b3278b7ff"
   },
   "outputs": [
    {
     "data": {
      "text/plain": [
       "\\nCloth, Black\\n           5821\n",
       "NaN                        3720\n",
       "\\nPart leather, Black\\n    1121\n",
       "\\nCloth\\n                  1005\n",
       "\\nCloth, Grey\\n             891\n",
       "\\nCloth, Other\\n            639\n",
       "\\nFull leather, Black\\n     575\n",
       "\\nBlack\\n                   491\n",
       "\\nGrey\\n                    273\n",
       "\\nOther, Other\\n            182\n",
       "\\nPart leather\\n            140\n",
       "\\nFull leather\\n            139\n",
       "\\nFull leather, Brown\\n     116\n",
       "\\nPart leather, Grey\\n      116\n",
       "\\nOther, Black\\n            110\n",
       "\\nFull leather, Other\\n      72\n",
       "\\nFull leather, Grey\\n       67\n",
       "\\nPart leather, Other\\n      65\n",
       "\\nOther\\n                    56\n",
       "\\nPart leather, Brown\\n      50\n",
       "\\nalcantara, Black\\n         47\n",
       "\\nVelour, Black\\n            36\n",
       "\\nFull leather, Beige\\n      36\n",
       "\\nCloth, Brown\\n             28\n",
       "\\nVelour\\n                   16\n",
       "\\nOther, Grey\\n              15\n",
       "\\nCloth, Beige\\n             13\n",
       "\\nBrown\\n                    12\n",
       "\\nCloth, Blue\\n              12\n",
       "\\nVelour, Grey\\n              8\n",
       "\\nCloth, White\\n              8\n",
       "\\nalcantara, Grey\\n           6\n",
       "\\nCloth, Red\\n                5\n",
       "\\nOther, Yellow\\n             4\n",
       "\\nPart leather, Red\\n         3\n",
       "\\nBeige\\n                     3\n",
       "\\nPart leather, White\\n       2\n",
       "\\nFull leather, Blue\\n        2\n",
       "\\nalcantara, Other\\n          2\n",
       "\\nalcantara\\n                 2\n",
       "\\nWhite\\n                     2\n",
       "\\nPart leather, Beige\\n       2\n",
       "\\nBlue\\n                      2\n",
       "\\nCloth, Orange\\n             1\n",
       "\\nFull leather, Red\\n         1\n",
       "\\nOther, Brown\\n              1\n",
       "\\nFull leather, White\\n       1\n",
       "Name: Upholstery, dtype: int64"
      ]
     },
     "execution_count": 428,
     "metadata": {},
     "output_type": "execute_result"
    }
   ],
   "source": [
    "df[\"Upholstery\"].value_counts(dropna=False)"
   ]
  },
  {
   "cell_type": "code",
   "execution_count": 429,
   "metadata": {
    "id": "XUTL83KBV7E1"
   },
   "outputs": [],
   "source": [
    "df[\"Upholstery\"] = df.Upholstery.str.strip(\"\\n\").str.split(\", \")"
   ]
  },
  {
   "cell_type": "code",
   "execution_count": 430,
   "metadata": {
    "id": "zEEOSp8dV7E2",
    "outputId": "f345b717-6a30-4e56-9588-f2f0d27c52c3"
   },
   "outputs": [
    {
     "data": {
      "text/plain": [
       "['Cloth', 'Black']           5821\n",
       "nan                          3720\n",
       "['Part leather', 'Black']    1121\n",
       "['Cloth']                    1005\n",
       "['Cloth', 'Grey']             891\n",
       "['Cloth', 'Other']            639\n",
       "['Full leather', 'Black']     575\n",
       "['Black']                     491\n",
       "['Grey']                      273\n",
       "['Other', 'Other']            182\n",
       "['Part leather']              140\n",
       "['Full leather']              139\n",
       "['Full leather', 'Brown']     116\n",
       "['Part leather', 'Grey']      116\n",
       "['Other', 'Black']            110\n",
       "['Full leather', 'Other']      72\n",
       "['Full leather', 'Grey']       67\n",
       "['Part leather', 'Other']      65\n",
       "['Other']                      56\n",
       "['Part leather', 'Brown']      50\n",
       "['alcantara', 'Black']         47\n",
       "['Velour', 'Black']            36\n",
       "['Full leather', 'Beige']      36\n",
       "['Cloth', 'Brown']             28\n",
       "['Velour']                     16\n",
       "['Other', 'Grey']              15\n",
       "['Cloth', 'Beige']             13\n",
       "['Brown']                      12\n",
       "['Cloth', 'Blue']              12\n",
       "['Velour', 'Grey']              8\n",
       "['Cloth', 'White']              8\n",
       "['alcantara', 'Grey']           6\n",
       "['Cloth', 'Red']                5\n",
       "['Other', 'Yellow']             4\n",
       "['Part leather', 'Red']         3\n",
       "['Beige']                       3\n",
       "['Part leather', 'White']       2\n",
       "['Full leather', 'Blue']        2\n",
       "['alcantara', 'Other']          2\n",
       "['alcantara']                   2\n",
       "['White']                       2\n",
       "['Part leather', 'Beige']       2\n",
       "['Blue']                        2\n",
       "['Cloth', 'Orange']             1\n",
       "['Full leather', 'Red']         1\n",
       "['Other', 'Brown']              1\n",
       "['Full leather', 'White']       1\n",
       "Name: Upholstery, dtype: int64"
      ]
     },
     "execution_count": 430,
     "metadata": {},
     "output_type": "execute_result"
    }
   ],
   "source": [
    "df[\"Upholstery\"].astype('str').value_counts(dropna=False)"
   ]
  },
  {
   "cell_type": "code",
   "execution_count": 431,
   "metadata": {
    "id": "0TbSxHwaV7E2"
   },
   "outputs": [],
   "source": [
    "u_type = [\"Cloth\", 'Part leather', 'Full leather', 'Velour', 'alcantara']\n",
    "\n",
    "df[\"Upholstery_type\"] = df[\"Upholstery\"].apply(lambda x : x[0] if type(x) == list and x[0] in u_type else np.nan)"
   ]
  },
  {
   "cell_type": "code",
   "execution_count": 432,
   "metadata": {
    "id": "l3p9tLTKV7E3",
    "outputId": "7b3fe1a0-60fd-4da3-f56e-3b17cfde8b67"
   },
   "outputs": [
    {
     "data": {
      "text/plain": [
       "Cloth           8423\n",
       "NaN             4871\n",
       "Part leather    1499\n",
       "Full leather    1009\n",
       "Velour            60\n",
       "alcantara         57\n",
       "Name: Upholstery_type, dtype: int64"
      ]
     },
     "execution_count": 432,
     "metadata": {},
     "output_type": "execute_result"
    }
   ],
   "source": [
    "df[\"Upholstery_type\"].value_counts(dropna=False)"
   ]
  },
  {
   "cell_type": "code",
   "execution_count": 433,
   "metadata": {
    "id": "roVWB8mBV7E3"
   },
   "outputs": [],
   "source": [
    "color = ['Black', 'Grey', 'Brown', 'Beige', 'White', 'Blue', 'Red', 'Yellow', 'Orange']\n",
    "\n",
    "def color_finder(x):\n",
    "    if type(x) == list and len(x) == 2:\n",
    "        return x[1]\n",
    "    elif type(x) == list and x[0] in color:\n",
    "        return x[0]\n",
    "    else:\n",
    "        return np.nan\n",
    "    \n",
    "df['Upholstery_color'] = df.Upholstery.apply(color_finder)"
   ]
  },
  {
   "cell_type": "code",
   "execution_count": 434,
   "metadata": {
    "id": "ZCX6f_zvV7E3",
    "outputId": "0d3d0e33-0477-41e6-a5d5-57d733996ade"
   },
   "outputs": [
    {
     "data": {
      "text/plain": [
       "Black     8201\n",
       "NaN       5078\n",
       "Grey      1376\n",
       "Other      960\n",
       "Brown      207\n",
       "Beige       54\n",
       "Blue        16\n",
       "White       13\n",
       "Red          9\n",
       "Yellow       4\n",
       "Orange       1\n",
       "Name: Upholstery_color, dtype: int64"
      ]
     },
     "execution_count": 434,
     "metadata": {},
     "output_type": "execute_result"
    }
   ],
   "source": [
    "df[\"Upholstery_color\"].value_counts(dropna=False)"
   ]
  },
  {
   "cell_type": "code",
   "execution_count": 435,
   "metadata": {
    "id": "TpWiQwYqV7E3"
   },
   "outputs": [],
   "source": [
    "df.drop(\"Upholstery\", axis=1, inplace=True)"
   ]
  },
  {
   "cell_type": "code",
   "execution_count": 436,
   "metadata": {},
   "outputs": [
    {
     "data": {
      "text/plain": [
       "(15919, 33)"
      ]
     },
     "execution_count": 436,
     "metadata": {},
     "output_type": "execute_result"
    }
   ],
   "source": [
    "df.shape"
   ]
  },
  {
   "cell_type": "markdown",
   "metadata": {
    "id": "HI8uMR1lV7E3"
   },
   "source": [
    "## Nr. of Doors"
   ]
  },
  {
   "cell_type": "code",
   "execution_count": 437,
   "metadata": {
    "id": "pucNdt5RV7E4",
    "outputId": "e04e276b-2005-49f2-b433-244c6689074e"
   },
   "outputs": [
    {
     "data": {
      "text/plain": [
       "['\\n5\\n']    11575\n",
       "['\\n4\\n']     3079\n",
       "['\\n3\\n']      832\n",
       "['\\n2\\n']      219\n",
       "nan            212\n",
       "['\\n1\\n']        1\n",
       "['\\n7\\n']        1\n",
       "Name: Nr. of Doors, dtype: int64"
      ]
     },
     "execution_count": 437,
     "metadata": {},
     "output_type": "execute_result"
    }
   ],
   "source": [
    "df[\"Nr. of Doors\"].astype('str').value_counts(dropna=False)"
   ]
  },
  {
   "cell_type": "code",
   "execution_count": 438,
   "metadata": {
    "id": "_FxZpoBKV7E4"
   },
   "outputs": [],
   "source": [
    "df['Nr_of_Doors'] = df['Nr. of Doors'].str[0].str.strip('\\n').astype('float')"
   ]
  },
  {
   "cell_type": "code",
   "execution_count": 439,
   "metadata": {
    "id": "C16H9o7-V7E4",
    "outputId": "ca67fa34-fbf0-4997-a05c-bbb92bd4558b"
   },
   "outputs": [
    {
     "data": {
      "text/plain": [
       "5.00    11575\n",
       "4.00     3079\n",
       "3.00      832\n",
       "2.00      219\n",
       "NaN       212\n",
       "1.00        1\n",
       "7.00        1\n",
       "Name: Nr_of_Doors, dtype: int64"
      ]
     },
     "execution_count": 439,
     "metadata": {},
     "output_type": "execute_result"
    }
   ],
   "source": [
    "df[\"Nr_of_Doors\"].value_counts(dropna=False)"
   ]
  },
  {
   "cell_type": "code",
   "execution_count": 440,
   "metadata": {
    "id": "7ufdweZBV7E5"
   },
   "outputs": [],
   "source": [
    "df.drop(\"Nr. of Doors\", axis=1, inplace=True)"
   ]
  },
  {
   "cell_type": "code",
   "execution_count": 441,
   "metadata": {},
   "outputs": [
    {
     "data": {
      "text/plain": [
       "(15919, 33)"
      ]
     },
     "execution_count": 441,
     "metadata": {},
     "output_type": "execute_result"
    }
   ],
   "source": [
    "df.shape"
   ]
  },
  {
   "cell_type": "code",
   "execution_count": 163,
   "metadata": {},
   "outputs": [
    {
     "data": {
      "text/plain": [
       "(15919, 33)"
      ]
     },
     "execution_count": 163,
     "metadata": {},
     "output_type": "execute_result"
    }
   ],
   "source": [
    "df.shape"
   ]
  },
  {
   "cell_type": "markdown",
   "metadata": {
    "id": "sKeuHmYnV7E5"
   },
   "source": [
    "## Nr. of Seats"
   ]
  },
  {
   "cell_type": "code",
   "execution_count": 443,
   "metadata": {
    "id": "BscNi-DpV7E5",
    "outputId": "cf9ac75e-1eec-4fd6-a568-6a687ef7b5d1",
    "scrolled": true
   },
   "outputs": [
    {
     "data": {
      "text/plain": [
       "['\\n5\\n']    13336\n",
       "['\\n4\\n']     1125\n",
       "nan            977\n",
       "['\\n7\\n']      362\n",
       "['\\n2\\n']      116\n",
       "['\\n6\\n']        2\n",
       "['\\n3\\n']        1\n",
       "Name: Nr. of Seats, dtype: int64"
      ]
     },
     "execution_count": 443,
     "metadata": {},
     "output_type": "execute_result"
    }
   ],
   "source": [
    "df[\"Nr. of Seats\"].astype('str').value_counts(dropna=False)"
   ]
  },
  {
   "cell_type": "code",
   "execution_count": 445,
   "metadata": {
    "id": "jl_OHTl9V7E5"
   },
   "outputs": [],
   "source": [
    "df['Nr_of_Seats'] = df['Nr. of Seats'].str[0].str.strip('\\n').astype('float')"
   ]
  },
  {
   "cell_type": "code",
   "execution_count": 446,
   "metadata": {
    "id": "2qtFR2T8V7E6",
    "outputId": "eb75c94a-297d-47a8-a39d-f3352b0d9a4d",
    "scrolled": true
   },
   "outputs": [
    {
     "data": {
      "text/plain": [
       "5.00    13336\n",
       "4.00     1125\n",
       "NaN       977\n",
       "7.00      362\n",
       "2.00      116\n",
       "6.00        2\n",
       "3.00        1\n",
       "Name: Nr_of_Seats, dtype: int64"
      ]
     },
     "execution_count": 446,
     "metadata": {},
     "output_type": "execute_result"
    }
   ],
   "source": [
    "df[\"Nr_of_Seats\"].value_counts(dropna=False)"
   ]
  },
  {
   "cell_type": "code",
   "execution_count": 447,
   "metadata": {
    "id": "LQf88ZC0V7E6"
   },
   "outputs": [],
   "source": [
    "df.drop(\"Nr. of Seats\", axis=1, inplace=True)"
   ]
  },
  {
   "cell_type": "code",
   "execution_count": 448,
   "metadata": {},
   "outputs": [
    {
     "data": {
      "text/plain": [
       "(15919, 33)"
      ]
     },
     "execution_count": 448,
     "metadata": {},
     "output_type": "execute_result"
    }
   ],
   "source": [
    "df.shape"
   ]
  },
  {
   "cell_type": "markdown",
   "metadata": {
    "id": "jrmKTgAOV7E6"
   },
   "source": [
    "## Model Code"
   ]
  },
  {
   "cell_type": "code",
   "execution_count": 449,
   "metadata": {
    "id": "9R8ur55JV7E6",
    "outputId": "4100a57d-b9fb-488e-f895-eebd3e99a77f"
   },
   "outputs": [
    {
     "data": {
      "text/plain": [
       "nan                 10941\n",
       "['\\n0035/BCB\\n']      268\n",
       "['\\n0588/BNO\\n']      245\n",
       "['\\n0588/BDB\\n']      206\n",
       "['\\n0588/BHX\\n']      188\n",
       "                    ...  \n",
       "['\\n0035/AVN\\n']        1\n",
       "['\\n0035/BEM\\n']        1\n",
       "['\\n0035/BAG\\n']        1\n",
       "['\\n0035/BAA\\n']        1\n",
       "['\\n3333/BKG\\n']        1\n",
       "Name: Model Code, Length: 233, dtype: int64"
      ]
     },
     "execution_count": 449,
     "metadata": {},
     "output_type": "execute_result"
    }
   ],
   "source": [
    "df[\"Model Code\"].astype('str').value_counts(dropna=False)"
   ]
  },
  {
   "cell_type": "code",
   "execution_count": 450,
   "metadata": {
    "id": "5npgAqyMV7E6"
   },
   "outputs": [],
   "source": [
    "df.drop(\"Model Code\", axis=1, inplace=True)"
   ]
  },
  {
   "cell_type": "code",
   "execution_count": 451,
   "metadata": {},
   "outputs": [
    {
     "data": {
      "text/plain": [
       "(15919, 32)"
      ]
     },
     "execution_count": 451,
     "metadata": {},
     "output_type": "execute_result"
    }
   ],
   "source": [
    "df.shape"
   ]
  },
  {
   "cell_type": "markdown",
   "metadata": {
    "id": "HknS0IfVV7E6"
   },
   "source": [
    "## Gearing Type"
   ]
  },
  {
   "cell_type": "code",
   "execution_count": 452,
   "metadata": {
    "id": "1vslQKIFV7E7",
    "outputId": "c726736a-c901-4802-f72f-0a439cd6f0a5",
    "scrolled": true
   },
   "outputs": [
    {
     "data": {
      "text/plain": [
       "['\\n', 'Manual', '\\n']            8153\n",
       "['\\n', 'Automatic', '\\n']         7297\n",
       "['\\n', 'Semi-automatic', '\\n']     469\n",
       "Name: Gearing Type, dtype: int64"
      ]
     },
     "execution_count": 452,
     "metadata": {},
     "output_type": "execute_result"
    }
   ],
   "source": [
    "df[\"Gearing Type\"].astype('str').value_counts(dropna=False)"
   ]
  },
  {
   "cell_type": "code",
   "execution_count": 453,
   "metadata": {
    "id": "vpTuGcEWV7E7"
   },
   "outputs": [],
   "source": [
    "df['Gearing_Type'] = df['Gearing Type'].str[1]"
   ]
  },
  {
   "cell_type": "code",
   "execution_count": 454,
   "metadata": {
    "id": "v-kGanc3V7E7",
    "outputId": "9a31156a-49d5-4b17-adb0-999eab51d769"
   },
   "outputs": [
    {
     "data": {
      "text/plain": [
       "Manual            8153\n",
       "Automatic         7297\n",
       "Semi-automatic     469\n",
       "Name: Gearing_Type, dtype: int64"
      ]
     },
     "execution_count": 454,
     "metadata": {},
     "output_type": "execute_result"
    }
   ],
   "source": [
    "df[\"Gearing_Type\"].value_counts(dropna=False)"
   ]
  },
  {
   "cell_type": "code",
   "execution_count": 455,
   "metadata": {
    "id": "OapkjJviV7E7"
   },
   "outputs": [],
   "source": [
    "df.drop(\"Gearing Type\", axis=1, inplace=True)"
   ]
  },
  {
   "cell_type": "code",
   "execution_count": 456,
   "metadata": {},
   "outputs": [
    {
     "data": {
      "text/plain": [
       "(15919, 32)"
      ]
     },
     "execution_count": 456,
     "metadata": {},
     "output_type": "execute_result"
    }
   ],
   "source": [
    "df.shape"
   ]
  },
  {
   "cell_type": "markdown",
   "metadata": {
    "id": "l8bg0KPEV7E7"
   },
   "source": [
    "## Displacement"
   ]
  },
  {
   "cell_type": "code",
   "execution_count": 458,
   "metadata": {
    "id": "JjvH4azVV7E7",
    "outputId": "00d3833c-eb82-4672-cc61-ae606eea4681"
   },
   "outputs": [
    {
     "data": {
      "text/plain": [
       "['\\n1,598 cc\\n']     4761\n",
       "['\\n999 cc\\n']       2438\n",
       "['\\n1,398 cc\\n']     1314\n",
       "['\\n1,399 cc\\n']      749\n",
       "['\\n1,229 cc\\n']      677\n",
       "['\\n1,956 cc\\n']      670\n",
       "['\\n1,461 cc\\n']      595\n",
       "['\\n1,490 cc\\n']      559\n",
       "nan                   496\n",
       "['\\n1,422 cc\\n']      467\n",
       "['\\n1,197 cc\\n']      353\n",
       "['\\n898 cc\\n']        351\n",
       "['\\n1,395 cc\\n']      320\n",
       "['\\n1,968 cc\\n']      301\n",
       "['\\n1,149 cc\\n']      288\n",
       "['\\n1,618 cc\\n']      212\n",
       "['\\n1,798 cc\\n']      210\n",
       "['\\n1,498 cc\\n']      196\n",
       "['\\n1,600 cc\\n']      130\n",
       "['\\n1,248 cc\\n']      110\n",
       "['\\n1,997 cc\\n']      103\n",
       "['\\n1,364 cc\\n']      102\n",
       "['\\n1,400 cc\\n']       90\n",
       "['\\n998 cc\\n']         72\n",
       "['\\n1,500 cc\\n']       50\n",
       "['\\n2,000 cc\\n']       46\n",
       "['\\n1,000 cc\\n']       40\n",
       "['\\n1 cc\\n']           36\n",
       "['\\n1,998 cc\\n']       25\n",
       "['\\n2,480 cc\\n']       20\n",
       "['\\n1,200 cc\\n']       18\n",
       "['\\n1,984 cc\\n']       18\n",
       "['\\n1,397 cc\\n']       11\n",
       "['\\n899 cc\\n']         11\n",
       "['\\n160 cc\\n']          6\n",
       "['\\n929 cc\\n']          5\n",
       "['\\n1,499 cc\\n']        5\n",
       "['\\n997 cc\\n']          4\n",
       "['\\n1,596 cc\\n']        4\n",
       "['\\n139 cc\\n']          4\n",
       "['\\n900 cc\\n']          4\n",
       "['\\n1,599 cc\\n']        3\n",
       "['\\n1,199 cc\\n']        3\n",
       "['\\n1,396 cc\\n']        3\n",
       "['\\n1,495 cc\\n']        2\n",
       "['\\n1,589 cc\\n']        2\n",
       "['\\n1,300 cc\\n']        2\n",
       "['\\n2 cc\\n']            2\n",
       "['\\n995 cc\\n']          2\n",
       "['\\n1,496 cc\\n']        1\n",
       "['\\n890 cc\\n']          1\n",
       "['\\n1,580 cc\\n']        1\n",
       "['\\n1,995 cc\\n']        1\n",
       "['\\n1,333 cc\\n']        1\n",
       "['\\n54 cc\\n']           1\n",
       "['\\n1,533 cc\\n']        1\n",
       "['\\n1,100 cc\\n']        1\n",
       "['\\n1,350 cc\\n']        1\n",
       "['\\n16,000 cc\\n']       1\n",
       "['\\n1,856 cc\\n']        1\n",
       "['\\n1,568 cc\\n']        1\n",
       "['\\n1,896 cc\\n']        1\n",
       "['\\n1,584 cc\\n']        1\n",
       "['\\n996 cc\\n']          1\n",
       "['\\n1,696 cc\\n']        1\n",
       "['\\n1,686 cc\\n']        1\n",
       "['\\n15,898 cc\\n']       1\n",
       "['\\n1,368 cc\\n']        1\n",
       "['\\n140 cc\\n']          1\n",
       "['\\n973 cc\\n']          1\n",
       "['\\n1,239 cc\\n']        1\n",
       "['\\n1,369 cc\\n']        1\n",
       "['\\n1,390 cc\\n']        1\n",
       "['\\n122 cc\\n']          1\n",
       "['\\n1,198 cc\\n']        1\n",
       "['\\n1,195 cc\\n']        1\n",
       "['\\n2,967 cc\\n']        1\n",
       "['\\n1,800 cc\\n']        1\n",
       "Name: Displacement, dtype: int64"
      ]
     },
     "execution_count": 458,
     "metadata": {},
     "output_type": "execute_result"
    }
   ],
   "source": [
    "df[\"Displacement\"].astype('str').value_counts(dropna=False)"
   ]
  },
  {
   "cell_type": "code",
   "execution_count": 459,
   "metadata": {
    "id": "oqeMTMPkV7E8"
   },
   "outputs": [],
   "source": [
    "df[\"Displacement_cc\"] = df.Displacement.str[0].str.strip('\\n').str.replace(',', '').str.extract('(\\d{1,5})').astype(\"float\")\n",
    "                                                                                 # .str.extract('(\\d+)')"
   ]
  },
  {
   "cell_type": "code",
   "execution_count": 460,
   "metadata": {
    "id": "RtD7miluV7E8",
    "outputId": "79a972c7-892b-45c0-dc67-0768283a1ecb"
   },
   "outputs": [
    {
     "data": {
      "text/plain": [
       "1598.00     4761\n",
       "999.00      2438\n",
       "1398.00     1314\n",
       "1399.00      749\n",
       "1229.00      677\n",
       "1956.00      670\n",
       "1461.00      595\n",
       "1490.00      559\n",
       "NaN          496\n",
       "1422.00      467\n",
       "1197.00      353\n",
       "898.00       351\n",
       "1395.00      320\n",
       "1968.00      301\n",
       "1149.00      288\n",
       "1618.00      212\n",
       "1798.00      210\n",
       "1498.00      196\n",
       "1600.00      130\n",
       "1248.00      110\n",
       "1997.00      103\n",
       "1364.00      102\n",
       "1400.00       90\n",
       "998.00        72\n",
       "1500.00       50\n",
       "2000.00       46\n",
       "1000.00       40\n",
       "1.00          36\n",
       "1998.00       25\n",
       "2480.00       20\n",
       "1200.00       18\n",
       "1984.00       18\n",
       "1397.00       11\n",
       "899.00        11\n",
       "160.00         6\n",
       "929.00         5\n",
       "1499.00        5\n",
       "997.00         4\n",
       "1596.00        4\n",
       "139.00         4\n",
       "900.00         4\n",
       "1599.00        3\n",
       "1199.00        3\n",
       "1396.00        3\n",
       "1495.00        2\n",
       "1589.00        2\n",
       "1300.00        2\n",
       "2.00           2\n",
       "995.00         2\n",
       "1496.00        1\n",
       "890.00         1\n",
       "1580.00        1\n",
       "1995.00        1\n",
       "1333.00        1\n",
       "54.00          1\n",
       "1533.00        1\n",
       "1100.00        1\n",
       "1350.00        1\n",
       "16000.00       1\n",
       "1856.00        1\n",
       "1568.00        1\n",
       "1896.00        1\n",
       "1584.00        1\n",
       "996.00         1\n",
       "1696.00        1\n",
       "1686.00        1\n",
       "15898.00       1\n",
       "1368.00        1\n",
       "140.00         1\n",
       "973.00         1\n",
       "1239.00        1\n",
       "1369.00        1\n",
       "1390.00        1\n",
       "122.00         1\n",
       "1198.00        1\n",
       "1195.00        1\n",
       "2967.00        1\n",
       "1800.00        1\n",
       "Name: Displacement_cc, dtype: int64"
      ]
     },
     "execution_count": 460,
     "metadata": {},
     "output_type": "execute_result"
    }
   ],
   "source": [
    "df[\"Displacement_cc\"].value_counts(dropna=False)"
   ]
  },
  {
   "cell_type": "code",
   "execution_count": 461,
   "metadata": {
    "id": "lTE1_CrqV7E8"
   },
   "outputs": [],
   "source": [
    "df.drop(\"Displacement\", axis=1, inplace=True)"
   ]
  },
  {
   "cell_type": "code",
   "execution_count": 462,
   "metadata": {},
   "outputs": [
    {
     "data": {
      "text/plain": [
       "(15919, 32)"
      ]
     },
     "execution_count": 462,
     "metadata": {},
     "output_type": "execute_result"
    }
   ],
   "source": [
    "df.shape"
   ]
  },
  {
   "cell_type": "markdown",
   "metadata": {
    "id": "t0BiZ3ZoV7E8"
   },
   "source": [
    "## Cylinders"
   ]
  },
  {
   "cell_type": "code",
   "execution_count": 463,
   "metadata": {
    "id": "3APD8XmhV7E9",
    "outputId": "83b448e3-0a15-4541-ebdc-8a7fd5630db9",
    "scrolled": true
   },
   "outputs": [
    {
     "data": {
      "text/plain": [
       "['\\n4\\n']    8105\n",
       "nan          5680\n",
       "['\\n3\\n']    2104\n",
       "['\\n5\\n']      22\n",
       "['\\n6\\n']       3\n",
       "['\\n8\\n']       2\n",
       "['\\n2\\n']       2\n",
       "['\\n1\\n']       1\n",
       "Name: Cylinders, dtype: int64"
      ]
     },
     "execution_count": 463,
     "metadata": {},
     "output_type": "execute_result"
    }
   ],
   "source": [
    "df[\"Cylinders\"].astype('str').value_counts(dropna=False)"
   ]
  },
  {
   "cell_type": "code",
   "execution_count": 464,
   "metadata": {
    "id": "PZAi8P_2V7E9"
   },
   "outputs": [],
   "source": [
    "df[\"Cylinders\"] = df.Cylinders.str[0].str.strip('\\n').astype(\"float\")"
   ]
  },
  {
   "cell_type": "code",
   "execution_count": 465,
   "metadata": {
    "id": "NjFq5I4dV7E9",
    "outputId": "e3f54e44-7177-4395-ff53-3dfb138129a1"
   },
   "outputs": [
    {
     "data": {
      "text/plain": [
       "4.00    8105\n",
       "NaN     5680\n",
       "3.00    2104\n",
       "5.00      22\n",
       "6.00       3\n",
       "8.00       2\n",
       "2.00       2\n",
       "1.00       1\n",
       "Name: Cylinders, dtype: int64"
      ]
     },
     "execution_count": 465,
     "metadata": {},
     "output_type": "execute_result"
    }
   ],
   "source": [
    "df[\"Cylinders\"].value_counts(dropna=False)"
   ]
  },
  {
   "cell_type": "markdown",
   "metadata": {
    "id": "cwmaEIkGV7E9"
   },
   "source": [
    "## Weight"
   ]
  },
  {
   "cell_type": "code",
   "execution_count": 466,
   "metadata": {
    "id": "jk7-NTYsV7E9",
    "outputId": "b70cebef-ed03-495c-bb6c-29d6a1756722"
   },
   "outputs": [
    {
     "data": {
      "text/plain": [
       "nan                 6974\n",
       "['\\n1,163 kg\\n']     574\n",
       "['\\n1,360 kg\\n']     356\n",
       "['\\n1,165 kg\\n']     301\n",
       "['\\n1,335 kg\\n']     242\n",
       "                    ... \n",
       "['\\n1,960 kg\\n']       1\n",
       "['\\n1,258 kg\\n']       1\n",
       "['\\n1,167 kg\\n']       1\n",
       "['\\n1,331 kg\\n']       1\n",
       "['\\n2,037 kg\\n']       1\n",
       "Name: Weight, Length: 435, dtype: int64"
      ]
     },
     "execution_count": 466,
     "metadata": {},
     "output_type": "execute_result"
    }
   ],
   "source": [
    "df[\"Weight\"].astype('str').value_counts(dropna=False)"
   ]
  },
  {
   "cell_type": "code",
   "execution_count": 467,
   "metadata": {
    "id": "CHNIpD6GV7E-"
   },
   "outputs": [],
   "source": [
    "df[\"Weight_kg\"] = df.Weight.str[0].str.strip('\\n').str.replace(',', '').str.extract('(\\d{1,6})').astype('float') \n",
    "                                                                     # .str.extract('(\\d+)')"
   ]
  },
  {
   "cell_type": "code",
   "execution_count": 468,
   "metadata": {
    "id": "3x6RpNIKV7E-",
    "outputId": "26dfd33e-bb4a-4347-d605-5b49ae255f2e"
   },
   "outputs": [
    {
     "data": {
      "text/plain": [
       "NaN        6974\n",
       "1163.00     574\n",
       "1360.00     356\n",
       "1165.00     301\n",
       "1335.00     242\n",
       "           ... \n",
       "1960.00       1\n",
       "1258.00       1\n",
       "1167.00       1\n",
       "1331.00       1\n",
       "2037.00       1\n",
       "Name: Weight_kg, Length: 435, dtype: int64"
      ]
     },
     "execution_count": 468,
     "metadata": {},
     "output_type": "execute_result"
    }
   ],
   "source": [
    "df[\"Weight_kg\"].value_counts(dropna=False)"
   ]
  },
  {
   "cell_type": "code",
   "execution_count": 469,
   "metadata": {
    "id": "JYllUE41V7E-"
   },
   "outputs": [],
   "source": [
    "df.drop(\"Weight\", axis=1, inplace=True)"
   ]
  },
  {
   "cell_type": "code",
   "execution_count": 470,
   "metadata": {},
   "outputs": [
    {
     "data": {
      "text/plain": [
       "(15919, 32)"
      ]
     },
     "execution_count": 470,
     "metadata": {},
     "output_type": "execute_result"
    }
   ],
   "source": [
    "df.shape"
   ]
  },
  {
   "cell_type": "markdown",
   "metadata": {
    "id": "vWu1_LVbV7E-"
   },
   "source": [
    "## Drive chain"
   ]
  },
  {
   "cell_type": "code",
   "execution_count": 471,
   "metadata": {
    "id": "e7FsDYhlV7E-",
    "outputId": "90f46033-6a52-4ff0-aef9-75cb03b95c3a"
   },
   "outputs": [
    {
     "data": {
      "text/plain": [
       "['\\nfront\\n']    8886\n",
       "nan              6858\n",
       "['\\n4WD\\n']       171\n",
       "['\\nrear\\n']        4\n",
       "Name: Drive chain, dtype: int64"
      ]
     },
     "execution_count": 471,
     "metadata": {},
     "output_type": "execute_result"
    }
   ],
   "source": [
    "df[\"Drive chain\"].astype('str').value_counts(dropna=False)"
   ]
  },
  {
   "cell_type": "code",
   "execution_count": 472,
   "metadata": {
    "id": "PvC4brapV7E-"
   },
   "outputs": [],
   "source": [
    "df['Drive_chain'] = df['Drive chain'].str[0].str.strip('\\n')"
   ]
  },
  {
   "cell_type": "code",
   "execution_count": 473,
   "metadata": {
    "id": "PcqCTfVqV7E_",
    "outputId": "97f88576-b9f1-4578-da51-0373f3302a11"
   },
   "outputs": [
    {
     "data": {
      "text/plain": [
       "front    8886\n",
       "NaN      6858\n",
       "4WD       171\n",
       "rear        4\n",
       "Name: Drive_chain, dtype: int64"
      ]
     },
     "execution_count": 473,
     "metadata": {},
     "output_type": "execute_result"
    }
   ],
   "source": [
    "df[\"Drive_chain\"].value_counts(dropna=False)"
   ]
  },
  {
   "cell_type": "code",
   "execution_count": 474,
   "metadata": {
    "id": "KFdEpss1V7E_"
   },
   "outputs": [],
   "source": [
    "df.drop(\"Drive chain\", axis=1, inplace=True)"
   ]
  },
  {
   "cell_type": "code",
   "execution_count": 475,
   "metadata": {},
   "outputs": [
    {
     "data": {
      "text/plain": [
       "(15919, 32)"
      ]
     },
     "execution_count": 475,
     "metadata": {},
     "output_type": "execute_result"
    }
   ],
   "source": [
    "df.shape"
   ]
  },
  {
   "cell_type": "markdown",
   "metadata": {
    "id": "Hl04_GjpV7E_"
   },
   "source": [
    "## Fuel"
   ]
  },
  {
   "cell_type": "code",
   "execution_count": 476,
   "metadata": {
    "id": "bRNhp_R_V7E_",
    "outputId": "a8cc2ee1-abd2-4207-ba42-47601c7b4a8a"
   },
   "outputs": [
    {
     "data": {
      "text/plain": [
       "['\\n', 'Diesel (Particulate Filter)', '\\n']                                                                                                       4315\n",
       "['\\n', 'Super 95', '\\n']                                                                                                                          3338\n",
       "['\\n', 'Gasoline', '\\n']                                                                                                                          3175\n",
       "['\\n', 'Diesel', '\\n']                                                                                                                            2984\n",
       "['\\n', 'Super 95 / Regular/Benzine 91', '\\n']                                                                                                      424\n",
       "['\\n', 'Regular/Benzine 91', '\\n']                                                                                                                 354\n",
       "['\\n', 'Super E10 95', '\\n']                                                                                                                       331\n",
       "['\\n', 'Super 95 (Particulate Filter)', '\\n']                                                                                                      268\n",
       "['\\n', 'Super 95 / Super E10 95', '\\n']                                                                                                            131\n",
       "['\\n', 'Regular/Benzine 91 (Particulate Filter)', '\\n']                                                                                            100\n",
       "['\\n', 'Super 95 / Super Plus 98', '\\n']                                                                                                            85\n",
       "['\\n', 'Gasoline (Particulate Filter)', '\\n']                                                                                                       77\n",
       "['\\n', 'Super 95 / Super Plus 98 / Super E10 95 / Super Plus E10 98', '\\n']                                                                         40\n",
       "['\\n', 'Super E10 95 / Super 95', '\\n']                                                                                                             38\n",
       "['\\n', 'CNG', '\\n']                                                                                                                                 33\n",
       "['\\n', 'Super 95 / Super E10 95 (Particulate Filter)', '\\n']                                                                                        25\n",
       "['\\n', 'Super E10 95 / Super 95 / Super Plus 98 / Super Plus E10 98', '\\n']                                                                         19\n",
       "['\\n', 'LPG', '\\n']                                                                                                                                 16\n",
       "['\\n', 'Super 95 / Super Plus 98 (Particulate Filter)', '\\n']                                                                                       14\n",
       "['\\n', 'Regular/Benzine 91 / Super 95 / Super Plus 98 / Regular/Benzine E10 91 / Super E10 95 / Super Plus E10 98', '\\n']                           13\n",
       "['\\n', 'Regular/Benzine E10 91', '\\n']                                                                                                              11\n",
       "['\\n', 'Liquid petroleum gas (LPG)', '\\n']                                                                                                          10\n",
       "['\\n', 'Super 95 / Super Plus 98 / Super E10 95', '\\n']                                                                                              8\n",
       "['\\n', 'Regular/Benzine 91 / Regular/Benzine E10 91', '\\n']                                                                                          7\n",
       "['\\n', 'Super 95 / Regular/Benzine 91 / Super Plus 98 / Regular/Benzine E10 91 / Super E10 95 / Super Plus E10 98', '\\n']                            7\n",
       "['\\n', 'Super Plus 98', '\\n']                                                                                                                        7\n",
       "['\\n', 'Super E10 95 (Particulate Filter)', '\\n']                                                                                                    7\n",
       "['\\n', 'Super 95 / Super Plus 98 / Super Plus E10 98 / Super E10 95', '\\n']                                                                          5\n",
       "['\\n', 'Others', '\\n']                                                                                                                               5\n",
       "['\\n', 'Super E10 95 / Super Plus E10 98', '\\n']                                                                                                     4\n",
       "['\\n', 'Electric/Gasoline', '\\n']                                                                                                                    4\n",
       "['\\n', 'Super 95 / Super Plus 98 / Super E10 95 / Super Plus E10 98 (Particulate Filter)', '\\n']                                                     4\n",
       "['\\n', 'Super 95 / Super E10 95 / Super Plus E10 98 / Super Plus 98', '\\n']                                                                          4\n",
       "['\\n', 'Regular/Benzine 91 / Super 95 / Super Plus 98 / Regular/Benzine E10 91 / Super Plus E10 98 / Super E10 95', '\\n']                            4\n",
       "['\\n', 'CNG (Particulate Filter)', '\\n']                                                                                                             3\n",
       "['\\n', 'Super E10 95 / Super 95 / Super Plus 98 / Super Plus E10 98 (Particulate Filter)', '\\n']                                                     3\n",
       "['\\n', 'Super E10 95 / Super 95 / Super Plus 98', '\\n']                                                                                              3\n",
       "['\\n', 'Super E10 95 / Regular/Benzine 91', '\\n']                                                                                                    2\n",
       "['\\n', 'Super 95 / Regular/Benzine 91 / Super Plus 98', '\\n']                                                                                        2\n",
       "['\\n', 'Regular/Benzine 91 / Super 95 / Super Plus 98 / Super Plus E10 98 / Super E10 95 / Regular/Benzine E10 91', '\\n']                            2\n",
       "['\\n', 'Regular/Benzine 91 / Super 95 / Super E10 95', '\\n']                                                                                         1\n",
       "['\\n', 'Electric', '\\n']                                                                                                                             1\n",
       "['\\n', 'Regular/Benzine 91 / Super 95 / Super E10 95 / Super Plus E10 98 / Super Plus 98 / Regular/Benzine E10 91', '\\n']                            1\n",
       "['\\n', 'Super 95 / Super E10 95 / Super Plus E10 98', '\\n']                                                                                          1\n",
       "['\\n', 'Super 95 / Super E10 95 / Super Plus 98', '\\n']                                                                                              1\n",
       "['\\n', 'Regular/Benzine 91 / Super 95 / Super Plus E10 98 / Super E10 95 / Regular/Benzine E10 91 / Super Plus 98', '\\n']                            1\n",
       "['\\n', 'Super 95 / Super Plus 98 / Regular/Benzine E10 91 / Super Plus E10 98 / Super E10 95 / Regular/Benzine 91', '\\n']                            1\n",
       "['\\n', 'Super 95 / Regular/Benzine E10 91', '\\n']                                                                                                    1\n",
       "['\\n', 'Super E10 95 / Regular/Benzine 91 / Regular/Benzine E10 91 / Super 95', '\\n']                                                                1\n",
       "['\\n', 'Super Plus 98 / Regular/Benzine 91', '\\n']                                                                                                   1\n",
       "['\\n', 'Super 95 / Regular/Benzine 91 / Super E10 95 / Super Plus 98 / Super Plus E10 98 / Regular/Benzine E10 91', '\\n']                            1\n",
       "['\\n', 'Super 95 / Super Plus 98 / Super Plus E10 98', '\\n']                                                                                         1\n",
       "['\\n', 'Super 95 / Regular/Benzine 91 (Particulate Filter)', '\\n']                                                                                   1\n",
       "['\\n', 'Super 95 / Super E10 95 / Regular/Benzine 91', '\\n']                                                                                         1\n",
       "['\\n', 'Regular/Benzine 91 / Super 95 / Super E10 95 / Regular/Benzine E10 91', '\\n']                                                                1\n",
       "['\\n', 'Super 95 / Regular/Benzine E10 91 / Super E10 95', '\\n']                                                                                     1\n",
       "['\\n', 'Super 95 / Regular/Benzine 91 / Super Plus 98 / Regular/Benzine E10 91 / Super Plus E10 98 / Super E10 95', '\\n']                            1\n",
       "['\\n', 'Regular/Benzine E10 91 / Super E10 95 / Super Plus E10 98 / Super Plus 98 / Super 95 / Regular/Benzine 91', '\\n']                            1\n",
       "['\\n', 'Super 95 / Regular/Benzine 91 / Super E10 95 / Super Plus E10 98 / Super Plus 98', '\\n']                                                     1\n",
       "['\\n', 'Others (Particulate Filter)', '\\n']                                                                                                          1\n",
       "['\\n', 'Biogas', '\\n']                                                                                                                               1\n",
       "['\\n', 'Super 95 / Biodiesel', '\\n']                                                                                                                 1\n",
       "['\\n', 'Regular/Benzine 91 / Super 95 / Super Plus 98 / Super Plus E10 98 / Super E10 95 / Regular/Benzine E10 91 (Particulate Filter)', '\\n']       1\n",
       "['\\n', 'Regular/Benzine 91 / Super 95 / Super Plus 98', '\\n']                                                                                        1\n",
       "['\\n', 'Regular/Benzine 91 / Super 95', '\\n']                                                                                                        1\n",
       "['\\n', 'Regular/Benzine E10 91 / Regular/Benzine 91 / Super 95 / Super Plus 98 / Super E10 95 / Super Plus E10 98', '\\n']                            1\n",
       "['\\n', 'Domestic gas H', '\\n']                                                                                                                       1\n",
       "['\\n', 'Super E10 95 / Regular/Benzine 91 / Super 95 / Super Plus 98 / Regular/Benzine E10 91 / Super Plus E10 98', '\\n']                            1\n",
       "['\\n', 'Super Plus E10 98 / Super 95 / Super Plus 98 / Super E10 95', '\\n']                                                                          1\n",
       "['\\n', 'Super 95 / Regular/Benzine 91 / Super E10 95 / Super Plus E10 98 / Super Plus 98 / Regular/Benzine E10 91', '\\n']                            1\n",
       "['\\n', 'Super Plus 98 / Super 95 / Super E10 95', '\\n']                                                                                              1\n",
       "['\\n', 'Super Plus E10 98', '\\n']                                                                                                                    1\n",
       "['\\n', 'Regular/Benzine 91 / Super 95 / Regular/Benzine E10 91', '\\n']                                                                               1\n",
       "['\\n', 'Super Plus 98 / Super E10 95', '\\n']                                                                                                         1\n",
       "['\\n', 'Regular/Benzine 91 / Super 95 / Regular/Benzine E10 91 / Super E10 95 / Super Plus 98 / Super Plus E10 98', '\\n']                            1\n",
       "['\\n', 'Regular/Benzine 91 / Super Plus 98 / Regular/Benzine E10 91 / Super 95 / Super E10 95 / Super Plus E10 98', '\\n']                            1\n",
       "['\\n', 'Super Plus 98 / Super 95 / Super Plus E10 98', '\\n']                                                                                         1\n",
       "Name: Fuel, dtype: int64"
      ]
     },
     "execution_count": 476,
     "metadata": {},
     "output_type": "execute_result"
    }
   ],
   "source": [
    "df[\"Fuel\"].astype('str').value_counts(dropna=False)"
   ]
  },
  {
   "cell_type": "code",
   "execution_count": 477,
   "metadata": {
    "id": "jFbNMcUnV7E_"
   },
   "outputs": [],
   "source": [
    "df[\"Fuel\"] = df.Fuel.str[1].str.split(\"/\").str[0].str.strip()"
   ]
  },
  {
   "cell_type": "code",
   "execution_count": 478,
   "metadata": {
    "id": "x_mMlMynV7E_",
    "outputId": "d650c58a-25fc-48a2-a6b2-aeb457693ab6"
   },
   "outputs": [
    {
     "data": {
      "text/plain": [
       "Diesel (Particulate Filter)          4315\n",
       "Super 95                             4100\n",
       "Gasoline                             3175\n",
       "Diesel                               2984\n",
       "Regular                               503\n",
       "Super E10 95                          402\n",
       "Super 95 (Particulate Filter)         268\n",
       "Gasoline (Particulate Filter)          77\n",
       "CNG                                    33\n",
       "LPG                                    16\n",
       "Super Plus 98                          11\n",
       "Liquid petroleum gas (LPG)             10\n",
       "Super E10 95 (Particulate Filter)       7\n",
       "Electric                                5\n",
       "Others                                  5\n",
       "CNG (Particulate Filter)                3\n",
       "Super Plus E10 98                       2\n",
       "Others (Particulate Filter)             1\n",
       "Biogas                                  1\n",
       "Domestic gas H                          1\n",
       "Name: Fuel, dtype: int64"
      ]
     },
     "execution_count": 478,
     "metadata": {},
     "output_type": "execute_result"
    }
   ],
   "source": [
    "df[\"Fuel\"].value_counts(dropna=False)"
   ]
  },
  {
   "cell_type": "code",
   "execution_count": 479,
   "metadata": {
    "id": "9cXE9gW5V7FA"
   },
   "outputs": [],
   "source": [
    "df[\"Fuel\"] = df.Fuel.str.split(\"(\").str[0].str.strip()"
   ]
  },
  {
   "cell_type": "code",
   "execution_count": 199,
   "metadata": {
    "id": "rR7HPkEWV7FA",
    "outputId": "4352ce66-f0d0-4faa-9e72-1b65599446fe"
   },
   "outputs": [
    {
     "data": {
      "text/plain": [
       "Diesel                  7299\n",
       "Super 95                4368\n",
       "Gasoline                3252\n",
       "Regular                  503\n",
       "Super E10 95             409\n",
       "CNG                       36\n",
       "LPG                       16\n",
       "Super Plus 98             11\n",
       "Liquid petroleum gas      10\n",
       "Others                     6\n",
       "Electric                   5\n",
       "Super Plus E10 98          2\n",
       "Biogas                     1\n",
       "Domestic gas H             1\n",
       "Name: Fuel, dtype: int64"
      ]
     },
     "execution_count": 199,
     "metadata": {},
     "output_type": "execute_result"
    }
   ],
   "source": [
    "df[\"Fuel\"].value_counts(dropna=False)"
   ]
  },
  {
   "cell_type": "code",
   "execution_count": 200,
   "metadata": {
    "id": "Z80ECkvyV7FA"
   },
   "outputs": [],
   "source": [
    "# benzine = [\"Gasoline\", \"Super\", \"Regular\", \"Others\"]\n",
    "# diesel = [\"Biodiesel\", \"Diesel\"]\n",
    "# lpg = [\"CNG\", \"Biogas\", \"Domestic gas H\", \"LPG\", \"Liquid\"]\n",
    "# hybrit = [\"Electric\", \"Electric/Gasoline\"]\n",
    "\n",
    "\n",
    "# def fueltype(x):\n",
    "#     if any(i in x for i in hybrit):\n",
    "#         return \"Hybrit\"\n",
    "#     elif any(i in x for i in lpg):\n",
    "#         return \"LPG/CNG\"\n",
    "#     elif any(i in x for i in benzine):\n",
    "#         return \"Benzine\" \n",
    "#     elif any(i in x for i in diesel):\n",
    "#         return \"Diesel\"          \n",
    "#     else:\n",
    "#         return x\n",
    "\n",
    "# df[\"Fuel\"] = df.Fuel.apply(fueltype)"
   ]
  },
  {
   "cell_type": "code",
   "execution_count": 480,
   "metadata": {
    "id": "tOL3vKLOV7FA"
   },
   "outputs": [],
   "source": [
    "benzine = [\"Gasoline\", \"Super 95\", \"Regular\", \"Super E10 95\", \"Super Plus 98\", \"Super Plus E10 98\", \"Others\"]\n",
    "lpg = [\"LPG\", \"Liquid petroleum gas\", \"CNG\", \"Biogas\", \"Domestic gas H\"]\n",
    "\n",
    "def fueltype(x):\n",
    "    if x in benzine:\n",
    "        return \"Benzine\"\n",
    "    elif x in lpg:\n",
    "        return \"LPG/CNG\"\n",
    "    else:\n",
    "        return x\n",
    "\n",
    "df[\"Fuel\"] = df.Fuel.apply(fueltype)"
   ]
  },
  {
   "cell_type": "code",
   "execution_count": 481,
   "metadata": {
    "id": "NSggNhARV7FA",
    "outputId": "af6e1fce-5cff-4cae-af90-35239e2dc0b3"
   },
   "outputs": [
    {
     "data": {
      "text/plain": [
       "Benzine     8551\n",
       "Diesel      7299\n",
       "LPG/CNG       64\n",
       "Electric       5\n",
       "Name: Fuel, dtype: int64"
      ]
     },
     "execution_count": 481,
     "metadata": {},
     "output_type": "execute_result"
    }
   ],
   "source": [
    "df.Fuel.value_counts(dropna=False)"
   ]
  },
  {
   "cell_type": "code",
   "execution_count": 482,
   "metadata": {
    "id": "2BxJeIo3V7FB",
    "outputId": "0dfc3147-641e-4163-8cda-a75343857430",
    "scrolled": true
   },
   "outputs": [
    {
     "data": {
      "text/html": [
       "<div>\n",
       "<style scoped>\n",
       "    .dataframe tbody tr th:only-of-type {\n",
       "        vertical-align: middle;\n",
       "    }\n",
       "\n",
       "    .dataframe tbody tr th {\n",
       "        vertical-align: top;\n",
       "    }\n",
       "\n",
       "    .dataframe thead th {\n",
       "        text-align: right;\n",
       "    }\n",
       "</style>\n",
       "<table border=\"1\" class=\"dataframe\">\n",
       "  <thead>\n",
       "    <tr style=\"text-align: right;\">\n",
       "      <th></th>\n",
       "      <th>make_model</th>\n",
       "      <th>body_type</th>\n",
       "      <th>CO2 Emission</th>\n",
       "      <th>Gears</th>\n",
       "      <th>hp_kW</th>\n",
       "      <th>Consumption</th>\n",
       "      <th>price</th>\n",
       "    </tr>\n",
       "  </thead>\n",
       "  <tbody>\n",
       "    <tr>\n",
       "      <th>3356</th>\n",
       "      <td>Audi A3</td>\n",
       "      <td>Compact</td>\n",
       "      <td>NaN</td>\n",
       "      <td>[\\n6\\n]</td>\n",
       "      <td>150.00</td>\n",
       "      <td>NaN</td>\n",
       "      <td>24950</td>\n",
       "    </tr>\n",
       "    <tr>\n",
       "      <th>3612</th>\n",
       "      <td>Audi A3</td>\n",
       "      <td>Sedans</td>\n",
       "      <td>[\\n36 g CO2/km (comb)\\n]</td>\n",
       "      <td>[\\n6\\n]</td>\n",
       "      <td>110.00</td>\n",
       "      <td>[\\n, 1.6 l/100 km (comb), \\n, \\n, \\n]</td>\n",
       "      <td>38450</td>\n",
       "    </tr>\n",
       "    <tr>\n",
       "      <th>3615</th>\n",
       "      <td>Audi A3</td>\n",
       "      <td>Sedans</td>\n",
       "      <td>[\\n36 g CO2/km (comb)\\n]</td>\n",
       "      <td>[\\n6\\n]</td>\n",
       "      <td>110.00</td>\n",
       "      <td>[\\n, 1.6 l/100 km (comb), \\n, \\n, \\n]</td>\n",
       "      <td>35899</td>\n",
       "    </tr>\n",
       "    <tr>\n",
       "      <th>3617</th>\n",
       "      <td>Audi A3</td>\n",
       "      <td>Sedans</td>\n",
       "      <td>[\\n36 g CO2/km (comb)\\n]</td>\n",
       "      <td>[\\n6\\n]</td>\n",
       "      <td>110.00</td>\n",
       "      <td>[\\n, 1.6 l/100 km (comb), \\n, \\n, \\n]</td>\n",
       "      <td>38000</td>\n",
       "    </tr>\n",
       "    <tr>\n",
       "      <th>13397</th>\n",
       "      <td>Renault Clio</td>\n",
       "      <td>Sedans</td>\n",
       "      <td>[[], [], []]</td>\n",
       "      <td>NaN</td>\n",
       "      <td>NaN</td>\n",
       "      <td>NaN</td>\n",
       "      <td>8490</td>\n",
       "    </tr>\n",
       "  </tbody>\n",
       "</table>\n",
       "</div>"
      ],
      "text/plain": [
       "         make_model body_type              CO2 Emission    Gears  hp_kW  \\\n",
       "3356        Audi A3   Compact                       NaN  [\\n6\\n] 150.00   \n",
       "3612        Audi A3    Sedans  [\\n36 g CO2/km (comb)\\n]  [\\n6\\n] 110.00   \n",
       "3615        Audi A3    Sedans  [\\n36 g CO2/km (comb)\\n]  [\\n6\\n] 110.00   \n",
       "3617        Audi A3    Sedans  [\\n36 g CO2/km (comb)\\n]  [\\n6\\n] 110.00   \n",
       "13397  Renault Clio    Sedans              [[], [], []]      NaN    NaN   \n",
       "\n",
       "                                 Consumption  price  \n",
       "3356                                     NaN  24950  \n",
       "3612   [\\n, 1.6 l/100 km (comb), \\n, \\n, \\n]  38450  \n",
       "3615   [\\n, 1.6 l/100 km (comb), \\n, \\n, \\n]  35899  \n",
       "3617   [\\n, 1.6 l/100 km (comb), \\n, \\n, \\n]  38000  \n",
       "13397                                    NaN   8490  "
      ]
     },
     "execution_count": 482,
     "metadata": {},
     "output_type": "execute_result"
    }
   ],
   "source": [
    "df[df.Fuel == \"Electric\"][[\"make_model\", \"body_type\", \"CO2 Emission\", \"Gears\", \"hp_kW\", \"Consumption\", \"price\"]]"
   ]
  },
  {
   "cell_type": "code",
   "execution_count": 204,
   "metadata": {
    "id": "R1UoDqUKV7FB"
   },
   "outputs": [],
   "source": [
    "#alternative method\n",
    "\n",
    "#df[\"fuel_new\"] = df.Fuel.str[1]\n",
    "#diesel_bool = df[\"fuel_new\"].str.contains(\"diesel\", case = False, regex = True)\n",
    "#lpg_bool = df[\"fuel_new\"].str.contains(\"lpg|cng|bio|domestic|electric\", case=False, regex=True)\n",
    "#df.loc[diesel_bool, \"fuel_new\"] = \"Diesel\"\n",
    "#df.loc[lpg_bool, \"fuel_new\"] = \"LPG/CNG\"\n",
    "#benz = list(df.fuel_new.loc[lambda x : x != \"Diesel\"][lambda x : x != \"LPG/CNG\"].index)\n",
    "#df.fuel_new.iloc[benz] = \"Benzine\""
   ]
  },
  {
   "cell_type": "markdown",
   "metadata": {
    "id": "vHrpMKtPV7FB"
   },
   "source": [
    "## Consumption"
   ]
  },
  {
   "cell_type": "code",
   "execution_count": 483,
   "metadata": {
    "id": "JP_tIMuSV7FB",
    "outputId": "9f95e72f-8d07-4cff-bb96-53c384a07b04",
    "scrolled": true
   },
   "outputs": [
    {
     "data": {
      "text/plain": [
       "nan                                                                                                 1906\n",
       "[['3.9 l/100 km (comb)'], ['4.1 l/100 km (city)'], ['3.7 l/100 km (country)']]                       304\n",
       "[['4.2 l/100 km (comb)'], ['5 l/100 km (city)'], ['3.7 l/100 km (country)']]                         276\n",
       "[['5.4 l/100 km (comb)'], ['6.8 l/100 km (city)'], ['4.5 l/100 km (country)']]                       257\n",
       "[['3.8 l/100 km (comb)'], ['4.3 l/100 km (city)'], ['3.5 l/100 km (country)']]                       253\n",
       "                                                                                                    ... \n",
       "[['4.2 l/100 km (comb)'], ['5.3 l/100 km (city)'], ['3.6 l/100 km (country)']]                         1\n",
       "['\\n', '5.1 l/100 km (comb)', '\\n', '6.4 l/100 km (city)', '\\n', '4.3 l/100 km (country)', '\\n']       1\n",
       "[['4.6 l/100 km (comb)'], ['5.4 l/100 km (city)'], ['6.7 l/100 km (country)']]                         1\n",
       "['\\n', '6.3 l/100 km (comb)', '\\n', '\\n', '\\n']                                                        1\n",
       "['\\n', '7.4 l/100 km (comb)', '\\n', '9.6 l/100 km (city)', '\\n', '6 l/100 km (country)', '\\n']         1\n",
       "Name: Consumption, Length: 882, dtype: int64"
      ]
     },
     "execution_count": 483,
     "metadata": {},
     "output_type": "execute_result"
    }
   ],
   "source": [
    "df[\"Consumption\"].astype('str').value_counts(dropna=False)"
   ]
  },
  {
   "cell_type": "code",
   "execution_count": 484,
   "metadata": {
    "id": "m9Yxk7jwV7FB"
   },
   "outputs": [],
   "source": [
    "def cons_comb(x):\n",
    "    \n",
    "    if type(x)==list and len(x)==3:\n",
    "        if x[0] != []: return x[0][0]\n",
    "        else: return None\n",
    "        \n",
    "    if type(x)==list and len(x)==5:\n",
    "        return x[1]\n",
    "    \n",
    "    if type(x)==list and len(x)==7:\n",
    "        return x[1]\n",
    "    \n",
    "    else:\n",
    "        return None"
   ]
  },
  {
   "cell_type": "code",
   "execution_count": 485,
   "metadata": {
    "id": "J6ApNzVUV7FF"
   },
   "outputs": [],
   "source": [
    "def cons_city(x):\n",
    "    \n",
    "    if type(x)==list and len(x)==3:\n",
    "        if x[1] != []: return x[1][0]\n",
    "        else: return None\n",
    "        \n",
    "    if type(x)==list and len(x)==5:\n",
    "        return None\n",
    "    \n",
    "    if type(x)==list and len(x)==7:\n",
    "        return x[3]\n",
    "    \n",
    "    else:\n",
    "        return None"
   ]
  },
  {
   "cell_type": "code",
   "execution_count": 486,
   "metadata": {
    "id": "q_V0BuHvV7FF"
   },
   "outputs": [],
   "source": [
    "def cons_country(x):\n",
    "    \n",
    "    if type(x)==list and len(x)==3:\n",
    "        if x[2] != []: return x[2][0]\n",
    "        else: return None\n",
    "        \n",
    "    if type(x)==list and len(x)==5:\n",
    "        return None\n",
    "    \n",
    "    if type(x)==list and len(x)==7:\n",
    "        return x[5]\n",
    "    \n",
    "    else:\n",
    "        return None"
   ]
  },
  {
   "cell_type": "code",
   "execution_count": 487,
   "metadata": {
    "id": "w5UvSTO8V7FG"
   },
   "outputs": [],
   "source": [
    "df['cons_comb'] = df.Consumption.apply(cons_comb).str.extract('(\\d{1,2}.\\d|\\d{1,3})').astype(\"float\") # str.extract('(\\S+)')\n",
    "df['cons_city'] = df.Consumption.apply(cons_city).str.extract('(\\d{1,2}.\\d|\\d{1,3})').astype(\"float\")\n",
    "df['cons_country'] = df.Consumption.apply(cons_country).str.extract('(\\d{1,2}.\\d|\\d{1,3})').astype(\"float\")"
   ]
  },
  {
   "cell_type": "code",
   "execution_count": 488,
   "metadata": {
    "id": "Tmy9f1ivV7FG",
    "outputId": "72b45e27-e264-484f-f32b-93c9dffdb584",
    "scrolled": false
   },
   "outputs": [
    {
     "data": {
      "text/plain": [
       "NaN     2033\n",
       "5.40     770\n",
       "3.90     733\n",
       "4.00     713\n",
       "5.10     657\n",
       "Name: cons_comb, dtype: int64"
      ]
     },
     "execution_count": 488,
     "metadata": {},
     "output_type": "execute_result"
    }
   ],
   "source": [
    "df[\"cons_comb\"].value_counts(dropna=False).head()"
   ]
  },
  {
   "cell_type": "code",
   "execution_count": 489,
   "metadata": {
    "id": "MIuNXabnV7FG",
    "outputId": "f79a0ea4-e7a1-4f06-91d1-54275e50c6b1"
   },
   "outputs": [
    {
     "data": {
      "text/plain": [
       "NaN     2436\n",
       "5.00     669\n",
       "5.80     633\n",
       "4.50     580\n",
       "4.30     533\n",
       "Name: cons_city, dtype: int64"
      ]
     },
     "execution_count": 489,
     "metadata": {},
     "output_type": "execute_result"
    }
   ],
   "source": [
    "df[\"cons_city\"].value_counts(dropna=False).head()"
   ]
  },
  {
   "cell_type": "code",
   "execution_count": 490,
   "metadata": {
    "id": "LNE0Lnj3V7FG",
    "outputId": "8fb0d013-6748-4b99-eaaa-697771c730a6"
   },
   "outputs": [
    {
     "data": {
      "text/plain": [
       "NaN     2376\n",
       "4.20    1178\n",
       "3.70    1089\n",
       "4.40     898\n",
       "4.50     848\n",
       "Name: cons_country, dtype: int64"
      ]
     },
     "execution_count": 490,
     "metadata": {},
     "output_type": "execute_result"
    }
   ],
   "source": [
    "df[\"cons_country\"].value_counts(dropna=False).head()"
   ]
  },
  {
   "cell_type": "code",
   "execution_count": 491,
   "metadata": {
    "id": "y8Y2CwuLV7FG"
   },
   "outputs": [],
   "source": [
    "df.drop('Consumption', axis=1,inplace=True)"
   ]
  },
  {
   "cell_type": "code",
   "execution_count": 492,
   "metadata": {},
   "outputs": [
    {
     "data": {
      "text/plain": [
       "(15919, 34)"
      ]
     },
     "execution_count": 492,
     "metadata": {},
     "output_type": "execute_result"
    }
   ],
   "source": [
    "df.shape"
   ]
  },
  {
   "cell_type": "markdown",
   "metadata": {
    "id": "AqWYEt4zV7FG"
   },
   "source": [
    "## CO2 Emission"
   ]
  },
  {
   "cell_type": "code",
   "execution_count": 493,
   "metadata": {
    "id": "BPeLP6B4V7FH",
    "outputId": "892a6502-16f4-465d-bdc2-63f6d7cfaabd"
   },
   "outputs": [
    {
     "data": {
      "text/plain": [
       "nan                              1808\n",
       "['\\n120 g CO2/km (comb)\\n']       740\n",
       "[[], [], []]                      628\n",
       "['\\n99 g CO2/km (comb)\\n']        545\n",
       "['\\n97 g CO2/km (comb)\\n']        537\n",
       "                                 ... \n",
       "['\\n14 g CO2/km (comb)\\n']          1\n",
       "['\\n1,060 g CO2/km (comb)\\n']       1\n",
       "['\\n51 g CO2/km (comb)\\n']          1\n",
       "['\\n165 g CO2/km (comb)\\n']         1\n",
       "['\\n193 g CO2/km (comb)\\n']         1\n",
       "Name: CO2 Emission, Length: 124, dtype: int64"
      ]
     },
     "execution_count": 493,
     "metadata": {},
     "output_type": "execute_result"
    }
   ],
   "source": [
    "df[\"CO2 Emission\"].astype('str').value_counts(dropna=False)"
   ]
  },
  {
   "cell_type": "code",
   "execution_count": 494,
   "metadata": {
    "id": "pxb6O-vOV7FH"
   },
   "outputs": [],
   "source": [
    "df[\"CO2_Emission\"] = df['CO2 Emission'].str[0].str.strip().str.replace(',', '').str.extract('(\\d+)').astype('float')\n",
    "\n",
    "#df[\"CO2_Emission\"] = [item[0] if type(item) == list else item for item in df[\"CO2 Emission\"]]\n",
    "#df[\"CO2_Emission\"] = df[\"CO2_Emission\"].str.strip(\"\\n\").str.rstrip(\" g CO2/km (comb)\").str.replace(\",\", \"\").astype(\"float\")"
   ]
  },
  {
   "cell_type": "code",
   "execution_count": 495,
   "metadata": {
    "id": "clBAeklxV7FH",
    "outputId": "f96b6c1d-ab45-49e8-f7d6-c83e2b8057aa"
   },
   "outputs": [
    {
     "data": {
      "text/plain": [
       "NaN        2436\n",
       "120.00      740\n",
       "99.00       545\n",
       "97.00       537\n",
       "104.00      501\n",
       "           ... \n",
       "14.00         1\n",
       "1060.00       1\n",
       "51.00         1\n",
       "165.00        1\n",
       "193.00        1\n",
       "Name: CO2_Emission, Length: 123, dtype: int64"
      ]
     },
     "execution_count": 495,
     "metadata": {},
     "output_type": "execute_result"
    }
   ],
   "source": [
    "df[\"CO2_Emission\"].value_counts(dropna=False)"
   ]
  },
  {
   "cell_type": "code",
   "execution_count": 496,
   "metadata": {
    "id": "iAjeLDk2V7FH"
   },
   "outputs": [],
   "source": [
    "df.drop(\"CO2 Emission\", axis=1, inplace=True)"
   ]
  },
  {
   "cell_type": "code",
   "execution_count": 497,
   "metadata": {},
   "outputs": [
    {
     "data": {
      "text/plain": [
       "(15919, 34)"
      ]
     },
     "execution_count": 497,
     "metadata": {},
     "output_type": "execute_result"
    }
   ],
   "source": [
    "df.shape"
   ]
  },
  {
   "cell_type": "markdown",
   "metadata": {
    "id": "AsUIGrRrV7FH"
   },
   "source": [
    "## Emission Class"
   ]
  },
  {
   "cell_type": "code",
   "execution_count": 498,
   "metadata": {
    "id": "vLO2mIYcV7FH",
    "outputId": "44c14a33-229c-4e53-f366-53cb647d29a7",
    "scrolled": true
   },
   "outputs": [
    {
     "data": {
      "text/plain": [
       "['\\nEuro 6\\n']          10139\n",
       "nan                      3021\n",
       "['\\nEuro 6d-TEMP\\n']     1845\n",
       "[[], [], []]              607\n",
       "['\\nEuro 6c\\n']           127\n",
       "['\\nEuro 5\\n']             78\n",
       "['\\nEuro 6d\\n']            62\n",
       "['\\nEuro 4\\n']             40\n",
       "Name: Emission Class, dtype: int64"
      ]
     },
     "execution_count": 498,
     "metadata": {},
     "output_type": "execute_result"
    }
   ],
   "source": [
    "df[\"Emission Class\"].astype('str').value_counts(dropna=False)"
   ]
  },
  {
   "cell_type": "code",
   "execution_count": 499,
   "metadata": {
    "id": "LrroCD7IV7FH"
   },
   "outputs": [],
   "source": [
    "df[\"Emission_Class\"] = [item[0] if type(item) == list else item for item in df[\"Emission Class\"]]\n",
    "df[\"Emission_Class\"] = df[\"Emission_Class\"].str.strip(\"\\n\")"
   ]
  },
  {
   "cell_type": "code",
   "execution_count": 500,
   "metadata": {
    "id": "GLoyiXxAV7FI",
    "outputId": "927bc4cb-afc2-4350-dd92-a3a525d385c5",
    "scrolled": false
   },
   "outputs": [
    {
     "data": {
      "text/plain": [
       "Euro 6          10139\n",
       "NaN              3628\n",
       "Euro 6d-TEMP     1845\n",
       "Euro 6c           127\n",
       "Euro 5             78\n",
       "Euro 6d            62\n",
       "Euro 4             40\n",
       "Name: Emission_Class, dtype: int64"
      ]
     },
     "execution_count": 500,
     "metadata": {},
     "output_type": "execute_result"
    }
   ],
   "source": [
    "df[\"Emission_Class\"].value_counts(dropna=False)"
   ]
  },
  {
   "cell_type": "code",
   "execution_count": 501,
   "metadata": {
    "id": "1DaK-fTZV7FI"
   },
   "outputs": [],
   "source": [
    "df.replace({\"Emission_Class\" : {\"Euro 6d-TEMP\": \"Euro 6\", \"Euro 6c\": \"Euro 6\", \"Euro 6d\": \"Euro 6\"}}, regex=True, inplace=True)"
   ]
  },
  {
   "cell_type": "code",
   "execution_count": 502,
   "metadata": {
    "id": "5qOZR94xV7FI",
    "outputId": "73f15405-d322-4da0-a213-438025d9f649"
   },
   "outputs": [
    {
     "data": {
      "text/plain": [
       "Euro 6    12173\n",
       "NaN        3628\n",
       "Euro 5       78\n",
       "Euro 4       40\n",
       "Name: Emission_Class, dtype: int64"
      ]
     },
     "execution_count": 502,
     "metadata": {},
     "output_type": "execute_result"
    }
   ],
   "source": [
    "df[\"Emission_Class\"].value_counts(dropna=False)"
   ]
  },
  {
   "cell_type": "code",
   "execution_count": 503,
   "metadata": {
    "id": "aeMQJ0IXV7FI"
   },
   "outputs": [],
   "source": [
    "df.drop(\"Emission Class\", axis=1, inplace=True)"
   ]
  },
  {
   "cell_type": "code",
   "execution_count": 504,
   "metadata": {},
   "outputs": [
    {
     "data": {
      "text/plain": [
       "(15919, 34)"
      ]
     },
     "execution_count": 504,
     "metadata": {},
     "output_type": "execute_result"
    }
   ],
   "source": [
    "df.shape"
   ]
  },
  {
   "cell_type": "markdown",
   "metadata": {
    "id": "dH_qeIUIV7FI"
   },
   "source": [
    "## Emission Label"
   ]
  },
  {
   "cell_type": "code",
   "execution_count": 505,
   "metadata": {
    "id": "US0X6VyPV7FI",
    "outputId": "4576adf9-69ca-4abc-96f1-68068fe4317a",
    "scrolled": true
   },
   "outputs": [
    {
     "data": {
      "text/plain": [
       "nan                       11934\n",
       "['\\n4 (Green)\\n']          3553\n",
       "['\\n1 (No sticker)\\n']      381\n",
       "[[], [], []]                 40\n",
       "['\\n5 (Blue)\\n']              8\n",
       "['\\n3 (Yellow)\\n']            2\n",
       "['\\n2 (Red)\\n']               1\n",
       "Name: Emission Label, dtype: int64"
      ]
     },
     "execution_count": 505,
     "metadata": {},
     "output_type": "execute_result"
    }
   ],
   "source": [
    "df[\"Emission Label\"].astype('str').value_counts(dropna=False)"
   ]
  },
  {
   "cell_type": "code",
   "execution_count": 506,
   "metadata": {
    "id": "e1kFxCBmV7FJ"
   },
   "outputs": [],
   "source": [
    "df.drop(\"Emission Label\", axis=1, inplace=True)"
   ]
  },
  {
   "cell_type": "code",
   "execution_count": 507,
   "metadata": {
    "scrolled": true
   },
   "outputs": [
    {
     "data": {
      "text/plain": [
       "(15919, 33)"
      ]
     },
     "execution_count": 507,
     "metadata": {},
     "output_type": "execute_result"
    }
   ],
   "source": [
    "df.shape"
   ]
  },
  {
   "cell_type": "markdown",
   "metadata": {
    "id": "wrLXYg2BV7FJ"
   },
   "source": [
    "## Gears"
   ]
  },
  {
   "cell_type": "code",
   "execution_count": 508,
   "metadata": {
    "id": "BMG1ajjwV7FJ",
    "outputId": "39dc2eaa-1476-492f-b5f8-a97228fa93ca",
    "scrolled": true
   },
   "outputs": [
    {
     "data": {
      "text/plain": [
       "['\\n6\\n']     5822\n",
       "nan           4712\n",
       "['\\n5\\n']     3239\n",
       "['\\n7\\n']     1908\n",
       "['\\n8\\n']      224\n",
       "['\\n9\\n']        6\n",
       "['\\n1\\n']        2\n",
       "['\\n3\\n']        2\n",
       "['\\n4\\n']        2\n",
       "['\\n2\\n']        1\n",
       "['\\n50\\n']       1\n",
       "Name: Gears, dtype: int64"
      ]
     },
     "execution_count": 508,
     "metadata": {},
     "output_type": "execute_result"
    }
   ],
   "source": [
    "df[\"Gears\"].astype('str').value_counts(dropna=False)"
   ]
  },
  {
   "cell_type": "code",
   "execution_count": 509,
   "metadata": {
    "id": "IfnLl_kDV7FJ"
   },
   "outputs": [],
   "source": [
    "df[\"Gears\"] = df.Gears.str[0].str.strip('\\n')"
   ]
  },
  {
   "cell_type": "code",
   "execution_count": 510,
   "metadata": {
    "id": "DVdzQXtOV7FJ",
    "outputId": "0fa29b20-be4d-4519-a07f-25c79881980b"
   },
   "outputs": [
    {
     "data": {
      "text/plain": [
       "6      5822\n",
       "NaN    4712\n",
       "5      3239\n",
       "7      1908\n",
       "8       224\n",
       "9         6\n",
       "1         2\n",
       "3         2\n",
       "4         2\n",
       "2         1\n",
       "50        1\n",
       "Name: Gears, dtype: int64"
      ]
     },
     "execution_count": 510,
     "metadata": {},
     "output_type": "execute_result"
    }
   ],
   "source": [
    "df[\"Gears\"].value_counts(dropna=False)"
   ]
  },
  {
   "cell_type": "markdown",
   "metadata": {
    "id": "g_9pa1H7V7FJ"
   },
   "source": [
    "## Country version"
   ]
  },
  {
   "cell_type": "code",
   "execution_count": 511,
   "metadata": {
    "id": "7EkS-AH5V7FK",
    "outputId": "e32cf57c-de55-4404-9fc3-a98a9244d42d"
   },
   "outputs": [
    {
     "data": {
      "text/plain": [
       "nan                       8333\n",
       "['\\nGermany\\n']           4502\n",
       "['\\nItaly\\n']             1038\n",
       "['\\nEuropean Union\\n']     507\n",
       "['\\nNetherlands\\n']        464\n",
       "['\\nSpain\\n']              325\n",
       "['\\nBelgium\\n']            314\n",
       "['\\nAustria\\n']            208\n",
       "['\\nCzech Republic\\n']      52\n",
       "['\\nPoland\\n']              49\n",
       "['\\nFrance\\n']              38\n",
       "['\\nDenmark\\n']             33\n",
       "['\\nHungary\\n']             28\n",
       "['\\nJapan\\n']                8\n",
       "['\\nSlovakia\\n']             4\n",
       "['\\nCroatia\\n']              4\n",
       "['\\nSweden\\n']               3\n",
       "['\\nRomania\\n']              2\n",
       "['\\nBulgaria\\n']             2\n",
       "['\\nLuxembourg\\n']           1\n",
       "['\\nSwitzerland\\n']          1\n",
       "['\\nSlovenia\\n']             1\n",
       "['\\nEgypt\\n']                1\n",
       "['\\nSerbia\\n']               1\n",
       "Name: Country version, dtype: int64"
      ]
     },
     "execution_count": 511,
     "metadata": {},
     "output_type": "execute_result"
    }
   ],
   "source": [
    "df[\"Country version\"].astype('str').value_counts(dropna=False)"
   ]
  },
  {
   "cell_type": "code",
   "execution_count": 512,
   "metadata": {
    "id": "vZrsRsmsV7FK"
   },
   "outputs": [],
   "source": [
    "df.drop(\"Country version\", axis=1, inplace=True)"
   ]
  },
  {
   "cell_type": "code",
   "execution_count": 513,
   "metadata": {},
   "outputs": [
    {
     "data": {
      "text/plain": [
       "(15919, 32)"
      ]
     },
     "execution_count": 513,
     "metadata": {},
     "output_type": "execute_result"
    }
   ],
   "source": [
    "df.shape"
   ]
  },
  {
   "cell_type": "markdown",
   "metadata": {
    "id": "Mw_9uwtsV7FK"
   },
   "source": [
    "## Comfort_Convenience"
   ]
  },
  {
   "cell_type": "code",
   "execution_count": 514,
   "metadata": {
    "id": "7XVNhNh7V7FK",
    "outputId": "9b880bed-7157-44ed-b924-9b7987b140cb"
   },
   "outputs": [
    {
     "data": {
      "text/plain": [
       "nan                                                                                                                                                                                                                                                                                                                                                                                                       920\n",
       "['Air conditioning', 'Electrical side mirrors', 'Hill Holder', 'Power windows']                                                                                                                                                                                                                                                                                                                           216\n",
       "['Air conditioning', 'Electrical side mirrors', 'Power windows']                                                                                                                                                                                                                                                                                                                                          134\n",
       "['Air conditioning', 'Power windows']                                                                                                                                                                                                                                                                                                                                                                     130\n",
       "['Air conditioning', 'Armrest', 'Automatic climate control', 'Cruise control', 'Electrical side mirrors', 'Leather steering wheel', 'Light sensor', 'Lumbar support', 'Multi-function steering wheel', 'Navigation system', 'Park Distance Control', 'Parking assist system sensors front', 'Parking assist system sensors rear', 'Power windows', 'Rain sensor', 'Seat heating', 'Start-stop system']    105\n",
       "Name: Comfort_Convenience, dtype: int64"
      ]
     },
     "execution_count": 514,
     "metadata": {},
     "output_type": "execute_result"
    }
   ],
   "source": [
    "df[\"Comfort_Convenience\"].astype('str').value_counts(dropna=False).head()"
   ]
  },
  {
   "cell_type": "code",
   "execution_count": 515,
   "metadata": {
    "id": "27MNkkdyV7FK"
   },
   "outputs": [],
   "source": [
    "df[\"Comfort_Convenience\"] = [\", \".join(item) if type(item) == list else item for item in df[\"Comfort_Convenience\"]]"
   ]
  },
  {
   "cell_type": "code",
   "execution_count": 516,
   "metadata": {
    "id": "wmSVdAOSV7FL",
    "outputId": "18e93bad-df36-47d2-c4ca-388910600e22"
   },
   "outputs": [
    {
     "data": {
      "text/plain": [
       "NaN                                                                                                                                                                                                                                                                                                                                                                   920\n",
       "Air conditioning, Electrical side mirrors, Hill Holder, Power windows                                                                                                                                                                                                                                                                                                 216\n",
       "Air conditioning, Electrical side mirrors, Power windows                                                                                                                                                                                                                                                                                                              134\n",
       "Air conditioning, Power windows                                                                                                                                                                                                                                                                                                                                       130\n",
       "Air conditioning, Armrest, Automatic climate control, Cruise control, Electrical side mirrors, Leather steering wheel, Light sensor, Lumbar support, Multi-function steering wheel, Navigation system, Park Distance Control, Parking assist system sensors front, Parking assist system sensors rear, Power windows, Rain sensor, Seat heating, Start-stop system    105\n",
       "Name: Comfort_Convenience, dtype: int64"
      ]
     },
     "execution_count": 516,
     "metadata": {},
     "output_type": "execute_result"
    }
   ],
   "source": [
    "df[\"Comfort_Convenience\"].value_counts(dropna=False).head()"
   ]
  },
  {
   "cell_type": "markdown",
   "metadata": {
    "id": "BSUah0W_V7FL"
   },
   "source": [
    "## Entertainment_Media"
   ]
  },
  {
   "cell_type": "code",
   "execution_count": 517,
   "metadata": {
    "id": "mpHvr1mIV7FL",
    "outputId": "cb47c743-e5ea-4c4c-ad62-1b8080040541"
   },
   "outputs": [
    {
     "data": {
      "text/plain": [
       "nan                                                                                               1374\n",
       "['Bluetooth', 'Hands-free equipment', 'On-board computer', 'Radio', 'USB']                        1282\n",
       "['Bluetooth', 'Hands-free equipment', 'MP3', 'On-board computer', 'Radio', 'USB']                  982\n",
       "['Bluetooth', 'CD player', 'Hands-free equipment', 'MP3', 'On-board computer', 'Radio', 'USB']     783\n",
       "['On-board computer', 'Radio']                                                                     487\n",
       "Name: Entertainment_Media, dtype: int64"
      ]
     },
     "execution_count": 517,
     "metadata": {},
     "output_type": "execute_result"
    }
   ],
   "source": [
    "df[\"Entertainment_Media\"].astype('str').value_counts(dropna=False).head()"
   ]
  },
  {
   "cell_type": "code",
   "execution_count": 518,
   "metadata": {
    "id": "dUVn3MhHV7FL"
   },
   "outputs": [],
   "source": [
    "df[\"Entertainment_Media\"] = [\", \".join(item) if type(item) == list else item for item in df[\"Entertainment_Media\"]]"
   ]
  },
  {
   "cell_type": "code",
   "execution_count": 519,
   "metadata": {
    "id": "3bcZx7HRV7FL",
    "outputId": "e6d95193-cd2c-4c39-a576-aca97b94de22"
   },
   "outputs": [
    {
     "data": {
      "text/plain": [
       "NaN                                                                               1374\n",
       "Bluetooth, Hands-free equipment, On-board computer, Radio, USB                    1282\n",
       "Bluetooth, Hands-free equipment, MP3, On-board computer, Radio, USB                982\n",
       "Bluetooth, CD player, Hands-free equipment, MP3, On-board computer, Radio, USB     783\n",
       "On-board computer, Radio                                                           487\n",
       "Name: Entertainment_Media, dtype: int64"
      ]
     },
     "execution_count": 519,
     "metadata": {},
     "output_type": "execute_result"
    }
   ],
   "source": [
    "df[\"Entertainment_Media\"].value_counts(dropna=False).head()"
   ]
  },
  {
   "cell_type": "markdown",
   "metadata": {
    "id": "avrRiooxV7FM"
   },
   "source": [
    "## Extras"
   ]
  },
  {
   "cell_type": "code",
   "execution_count": 520,
   "metadata": {
    "id": "CB-ffzBaV7FM",
    "outputId": "2168a30a-0b37-4032-d82c-1d4c6f27a9a4"
   },
   "outputs": [
    {
     "data": {
      "text/plain": [
       "['Alloy wheels']                                     3245\n",
       "nan                                                  2962\n",
       "['Alloy wheels', 'Touch screen']                      697\n",
       "['Alloy wheels', 'Voice Control']                     577\n",
       "['Alloy wheels', 'Touch screen', 'Voice Control']     541\n",
       "Name: Extras, dtype: int64"
      ]
     },
     "execution_count": 520,
     "metadata": {},
     "output_type": "execute_result"
    }
   ],
   "source": [
    "df[\"Extras\"].astype('str').value_counts(dropna=False).head()"
   ]
  },
  {
   "cell_type": "code",
   "execution_count": 521,
   "metadata": {
    "id": "hLm_GAaAV7FM"
   },
   "outputs": [],
   "source": [
    "df[\"Extras\"] = [\", \".join(item) if type(item) == list else item for item in df[\"Extras\"]]"
   ]
  },
  {
   "cell_type": "code",
   "execution_count": 522,
   "metadata": {
    "id": "JYVh2IieV7FM",
    "outputId": "fbb6acf0-59bc-417e-b154-1f861af0a0f7"
   },
   "outputs": [
    {
     "data": {
      "text/plain": [
       "Alloy wheels                                 3245\n",
       "NaN                                          2962\n",
       "Alloy wheels, Touch screen                    697\n",
       "Alloy wheels, Voice Control                   577\n",
       "Alloy wheels, Touch screen, Voice Control     541\n",
       "Name: Extras, dtype: int64"
      ]
     },
     "execution_count": 522,
     "metadata": {},
     "output_type": "execute_result"
    }
   ],
   "source": [
    "df[\"Extras\"].value_counts(dropna=False).head()"
   ]
  },
  {
   "cell_type": "markdown",
   "metadata": {
    "id": "inqJNmeyV7FM"
   },
   "source": [
    "## Safety_Security"
   ]
  },
  {
   "cell_type": "code",
   "execution_count": 523,
   "metadata": {
    "id": "mJxLdda-V7FN",
    "outputId": "f1bfe549-570f-4071-b3ab-ee30530847dc",
    "scrolled": false
   },
   "outputs": [
    {
     "data": {
      "text/plain": [
       "nan                                                                                                                                                                                                                                                                                                   982\n",
       "['ABS', 'Central door lock', 'Daytime running lights', 'Driver-side airbag', 'Electronic stability control', 'Fog lights', 'Immobilizer', 'Isofix', 'Passenger-side airbag', 'Power steering', 'Side airbag', 'Tire pressure monitoring system', 'Traction control']                                  538\n",
       "['ABS', 'Central door lock', 'Daytime running lights', 'Driver-side airbag', 'Electronic stability control', 'Immobilizer', 'Isofix', 'Passenger-side airbag', 'Power steering', 'Side airbag', 'Tire pressure monitoring system', 'Traction control']                                                480\n",
       "['ABS', 'Central door lock', 'Daytime running lights', 'Driver-side airbag', 'Electronic stability control', 'Immobilizer', 'Isofix', 'Passenger-side airbag', 'Power steering', 'Side airbag', 'Tire pressure monitoring system', 'Traction control', 'Xenon headlights']                            275\n",
       "['ABS', 'Central door lock', 'Daytime running lights', 'Driver-side airbag', 'Electronic stability control', 'Fog lights', 'Immobilizer', 'Isofix', 'LED Daytime Running Lights', 'Passenger-side airbag', 'Power steering', 'Side airbag', 'Tire pressure monitoring system', 'Traction control']    272\n",
       "Name: Safety_Security, dtype: int64"
      ]
     },
     "execution_count": 523,
     "metadata": {},
     "output_type": "execute_result"
    }
   ],
   "source": [
    "df[\"Safety_Security\"].astype('str').value_counts(dropna=False).head()"
   ]
  },
  {
   "cell_type": "code",
   "execution_count": 524,
   "metadata": {
    "id": "gLEImtE5V7FN"
   },
   "outputs": [],
   "source": [
    "df[\"Safety_Security\"] = [\", \".join(item) if type(item) == list else item for item in df[\"Safety_Security\"]]"
   ]
  },
  {
   "cell_type": "code",
   "execution_count": 525,
   "metadata": {
    "id": "SjOlnJ-ZV7FN",
    "outputId": "c6e2985f-799f-4a19-80f4-0582e861dfd2",
    "scrolled": true
   },
   "outputs": [
    {
     "data": {
      "text/plain": [
       "NaN                                                                                                                                                                                                                                                                     982\n",
       "ABS, Central door lock, Daytime running lights, Driver-side airbag, Electronic stability control, Fog lights, Immobilizer, Isofix, Passenger-side airbag, Power steering, Side airbag, Tire pressure monitoring system, Traction control                                538\n",
       "ABS, Central door lock, Daytime running lights, Driver-side airbag, Electronic stability control, Immobilizer, Isofix, Passenger-side airbag, Power steering, Side airbag, Tire pressure monitoring system, Traction control                                            480\n",
       "ABS, Central door lock, Daytime running lights, Driver-side airbag, Electronic stability control, Immobilizer, Isofix, Passenger-side airbag, Power steering, Side airbag, Tire pressure monitoring system, Traction control, Xenon headlights                          275\n",
       "ABS, Central door lock, Daytime running lights, Driver-side airbag, Electronic stability control, Fog lights, Immobilizer, Isofix, LED Daytime Running Lights, Passenger-side airbag, Power steering, Side airbag, Tire pressure monitoring system, Traction control    272\n",
       "Name: Safety_Security, dtype: int64"
      ]
     },
     "execution_count": 525,
     "metadata": {},
     "output_type": "execute_result"
    }
   ],
   "source": [
    "df[\"Safety_Security\"].value_counts(dropna=False).head()"
   ]
  },
  {
   "cell_type": "markdown",
   "metadata": {
    "id": "iaLXXIQiV7FN"
   },
   "source": [
    "**Now we can save our cleaned file as in csv format.**"
   ]
  },
  {
   "cell_type": "code",
   "execution_count": 526,
   "metadata": {
    "id": "JRGAJOxOV7FN",
    "outputId": "8161c2c9-f54a-4c7d-fa1f-b1af11e50bd5"
   },
   "outputs": [
    {
     "data": {
      "text/plain": [
       "(15919, 32)"
      ]
     },
     "execution_count": 526,
     "metadata": {},
     "output_type": "execute_result"
    }
   ],
   "source": [
    "df.shape"
   ]
  },
  {
   "cell_type": "markdown",
   "metadata": {
    "id": "0F3MJZxEV7FO"
   },
   "source": [
    "**We started with 54 columns at the beginning of the analysis, now we have 32 columns.**"
   ]
  },
  {
   "cell_type": "code",
   "execution_count": 527,
   "metadata": {
    "id": "PX5_e5yAV7FO",
    "outputId": "68a7cbb3-b369-4002-ae44-9a6b1566ccbf",
    "scrolled": true
   },
   "outputs": [
    {
     "data": {
      "text/html": [
       "<div>\n",
       "<style scoped>\n",
       "    .dataframe tbody tr th:only-of-type {\n",
       "        vertical-align: middle;\n",
       "    }\n",
       "\n",
       "    .dataframe tbody tr th {\n",
       "        vertical-align: top;\n",
       "    }\n",
       "\n",
       "    .dataframe thead th {\n",
       "        text-align: right;\n",
       "    }\n",
       "</style>\n",
       "<table border=\"1\" class=\"dataframe\">\n",
       "  <thead>\n",
       "    <tr style=\"text-align: right;\">\n",
       "      <th></th>\n",
       "      <th>0</th>\n",
       "      <th>1</th>\n",
       "      <th>2</th>\n",
       "    </tr>\n",
       "  </thead>\n",
       "  <tbody>\n",
       "    <tr>\n",
       "      <th>make_model</th>\n",
       "      <td>Audi A1</td>\n",
       "      <td>Audi A1</td>\n",
       "      <td>Audi A1</td>\n",
       "    </tr>\n",
       "    <tr>\n",
       "      <th>body_type</th>\n",
       "      <td>Sedans</td>\n",
       "      <td>Sedans</td>\n",
       "      <td>Sedans</td>\n",
       "    </tr>\n",
       "    <tr>\n",
       "      <th>price</th>\n",
       "      <td>15770</td>\n",
       "      <td>14500</td>\n",
       "      <td>14640</td>\n",
       "    </tr>\n",
       "    <tr>\n",
       "      <th>vat</th>\n",
       "      <td>VAT deductible</td>\n",
       "      <td>Price negotiable</td>\n",
       "      <td>VAT deductible</td>\n",
       "    </tr>\n",
       "    <tr>\n",
       "      <th>km</th>\n",
       "      <td>56013.00</td>\n",
       "      <td>80000.00</td>\n",
       "      <td>83450.00</td>\n",
       "    </tr>\n",
       "    <tr>\n",
       "      <th>Type</th>\n",
       "      <td>Used</td>\n",
       "      <td>Used</td>\n",
       "      <td>Used</td>\n",
       "    </tr>\n",
       "    <tr>\n",
       "      <th>Warranty</th>\n",
       "      <td>NaN</td>\n",
       "      <td>NaN</td>\n",
       "      <td>NaN</td>\n",
       "    </tr>\n",
       "    <tr>\n",
       "      <th>Cylinders</th>\n",
       "      <td>3.00</td>\n",
       "      <td>4.00</td>\n",
       "      <td>NaN</td>\n",
       "    </tr>\n",
       "    <tr>\n",
       "      <th>Fuel</th>\n",
       "      <td>Diesel</td>\n",
       "      <td>Benzine</td>\n",
       "      <td>Diesel</td>\n",
       "    </tr>\n",
       "    <tr>\n",
       "      <th>Gears</th>\n",
       "      <td>NaN</td>\n",
       "      <td>7</td>\n",
       "      <td>NaN</td>\n",
       "    </tr>\n",
       "    <tr>\n",
       "      <th>Comfort_Convenience</th>\n",
       "      <td>Air conditioning, Armrest, Automatic climate c...</td>\n",
       "      <td>Air conditioning, Automatic climate control, H...</td>\n",
       "      <td>Air conditioning, Cruise control, Electrical s...</td>\n",
       "    </tr>\n",
       "    <tr>\n",
       "      <th>Entertainment_Media</th>\n",
       "      <td>Bluetooth, Hands-free equipment, On-board comp...</td>\n",
       "      <td>Bluetooth, Hands-free equipment, On-board comp...</td>\n",
       "      <td>MP3, On-board computer</td>\n",
       "    </tr>\n",
       "    <tr>\n",
       "      <th>Extras</th>\n",
       "      <td>Alloy wheels, Catalytic Converter, Voice Control</td>\n",
       "      <td>Alloy wheels, Sport seats, Sport suspension, V...</td>\n",
       "      <td>Alloy wheels, Voice Control</td>\n",
       "    </tr>\n",
       "    <tr>\n",
       "      <th>Safety_Security</th>\n",
       "      <td>ABS, Central door lock, Daytime running lights...</td>\n",
       "      <td>ABS, Central door lock, Central door lock with...</td>\n",
       "      <td>ABS, Central door lock, Daytime running lights...</td>\n",
       "    </tr>\n",
       "    <tr>\n",
       "      <th>age</th>\n",
       "      <td>3.00</td>\n",
       "      <td>2.00</td>\n",
       "      <td>3.00</td>\n",
       "    </tr>\n",
       "    <tr>\n",
       "      <th>Previous_Owners</th>\n",
       "      <td>2.00</td>\n",
       "      <td>NaN</td>\n",
       "      <td>1.00</td>\n",
       "    </tr>\n",
       "    <tr>\n",
       "      <th>hp_kW</th>\n",
       "      <td>66.00</td>\n",
       "      <td>141.00</td>\n",
       "      <td>85.00</td>\n",
       "    </tr>\n",
       "    <tr>\n",
       "      <th>Inspection_new</th>\n",
       "      <td>Yes</td>\n",
       "      <td>NaN</td>\n",
       "      <td>NaN</td>\n",
       "    </tr>\n",
       "    <tr>\n",
       "      <th>Paint_Type</th>\n",
       "      <td>Metallic</td>\n",
       "      <td>NaN</td>\n",
       "      <td>Metallic</td>\n",
       "    </tr>\n",
       "    <tr>\n",
       "      <th>Upholstery_type</th>\n",
       "      <td>Cloth</td>\n",
       "      <td>Cloth</td>\n",
       "      <td>Cloth</td>\n",
       "    </tr>\n",
       "    <tr>\n",
       "      <th>Upholstery_color</th>\n",
       "      <td>Black</td>\n",
       "      <td>Grey</td>\n",
       "      <td>Black</td>\n",
       "    </tr>\n",
       "    <tr>\n",
       "      <th>Nr_of_Doors</th>\n",
       "      <td>5.00</td>\n",
       "      <td>3.00</td>\n",
       "      <td>4.00</td>\n",
       "    </tr>\n",
       "    <tr>\n",
       "      <th>Nr_of_Seats</th>\n",
       "      <td>5.00</td>\n",
       "      <td>4.00</td>\n",
       "      <td>4.00</td>\n",
       "    </tr>\n",
       "    <tr>\n",
       "      <th>Gearing_Type</th>\n",
       "      <td>Automatic</td>\n",
       "      <td>Automatic</td>\n",
       "      <td>Automatic</td>\n",
       "    </tr>\n",
       "    <tr>\n",
       "      <th>Displacement_cc</th>\n",
       "      <td>1422.00</td>\n",
       "      <td>1798.00</td>\n",
       "      <td>1598.00</td>\n",
       "    </tr>\n",
       "    <tr>\n",
       "      <th>Weight_kg</th>\n",
       "      <td>1220.00</td>\n",
       "      <td>1255.00</td>\n",
       "      <td>NaN</td>\n",
       "    </tr>\n",
       "    <tr>\n",
       "      <th>Drive_chain</th>\n",
       "      <td>front</td>\n",
       "      <td>front</td>\n",
       "      <td>front</td>\n",
       "    </tr>\n",
       "    <tr>\n",
       "      <th>cons_comb</th>\n",
       "      <td>3.80</td>\n",
       "      <td>5.60</td>\n",
       "      <td>3.80</td>\n",
       "    </tr>\n",
       "    <tr>\n",
       "      <th>cons_city</th>\n",
       "      <td>4.30</td>\n",
       "      <td>7.10</td>\n",
       "      <td>4.40</td>\n",
       "    </tr>\n",
       "    <tr>\n",
       "      <th>cons_country</th>\n",
       "      <td>3.50</td>\n",
       "      <td>4.70</td>\n",
       "      <td>3.40</td>\n",
       "    </tr>\n",
       "    <tr>\n",
       "      <th>CO2_Emission</th>\n",
       "      <td>99.00</td>\n",
       "      <td>129.00</td>\n",
       "      <td>99.00</td>\n",
       "    </tr>\n",
       "    <tr>\n",
       "      <th>Emission_Class</th>\n",
       "      <td>Euro 6</td>\n",
       "      <td>Euro 6</td>\n",
       "      <td>Euro 6</td>\n",
       "    </tr>\n",
       "  </tbody>\n",
       "</table>\n",
       "</div>"
      ],
      "text/plain": [
       "                                                                     0  \\\n",
       "make_model                                                     Audi A1   \n",
       "body_type                                                       Sedans   \n",
       "price                                                            15770   \n",
       "vat                                                     VAT deductible   \n",
       "km                                                            56013.00   \n",
       "Type                                                              Used   \n",
       "Warranty                                                           NaN   \n",
       "Cylinders                                                         3.00   \n",
       "Fuel                                                            Diesel   \n",
       "Gears                                                              NaN   \n",
       "Comfort_Convenience  Air conditioning, Armrest, Automatic climate c...   \n",
       "Entertainment_Media  Bluetooth, Hands-free equipment, On-board comp...   \n",
       "Extras                Alloy wheels, Catalytic Converter, Voice Control   \n",
       "Safety_Security      ABS, Central door lock, Daytime running lights...   \n",
       "age                                                               3.00   \n",
       "Previous_Owners                                                   2.00   \n",
       "hp_kW                                                            66.00   \n",
       "Inspection_new                                                     Yes   \n",
       "Paint_Type                                                    Metallic   \n",
       "Upholstery_type                                                  Cloth   \n",
       "Upholstery_color                                                 Black   \n",
       "Nr_of_Doors                                                       5.00   \n",
       "Nr_of_Seats                                                       5.00   \n",
       "Gearing_Type                                                 Automatic   \n",
       "Displacement_cc                                                1422.00   \n",
       "Weight_kg                                                      1220.00   \n",
       "Drive_chain                                                      front   \n",
       "cons_comb                                                         3.80   \n",
       "cons_city                                                         4.30   \n",
       "cons_country                                                      3.50   \n",
       "CO2_Emission                                                     99.00   \n",
       "Emission_Class                                                  Euro 6   \n",
       "\n",
       "                                                                     1  \\\n",
       "make_model                                                     Audi A1   \n",
       "body_type                                                       Sedans   \n",
       "price                                                            14500   \n",
       "vat                                                   Price negotiable   \n",
       "km                                                            80000.00   \n",
       "Type                                                              Used   \n",
       "Warranty                                                           NaN   \n",
       "Cylinders                                                         4.00   \n",
       "Fuel                                                           Benzine   \n",
       "Gears                                                                7   \n",
       "Comfort_Convenience  Air conditioning, Automatic climate control, H...   \n",
       "Entertainment_Media  Bluetooth, Hands-free equipment, On-board comp...   \n",
       "Extras               Alloy wheels, Sport seats, Sport suspension, V...   \n",
       "Safety_Security      ABS, Central door lock, Central door lock with...   \n",
       "age                                                               2.00   \n",
       "Previous_Owners                                                    NaN   \n",
       "hp_kW                                                           141.00   \n",
       "Inspection_new                                                     NaN   \n",
       "Paint_Type                                                         NaN   \n",
       "Upholstery_type                                                  Cloth   \n",
       "Upholstery_color                                                  Grey   \n",
       "Nr_of_Doors                                                       3.00   \n",
       "Nr_of_Seats                                                       4.00   \n",
       "Gearing_Type                                                 Automatic   \n",
       "Displacement_cc                                                1798.00   \n",
       "Weight_kg                                                      1255.00   \n",
       "Drive_chain                                                      front   \n",
       "cons_comb                                                         5.60   \n",
       "cons_city                                                         7.10   \n",
       "cons_country                                                      4.70   \n",
       "CO2_Emission                                                    129.00   \n",
       "Emission_Class                                                  Euro 6   \n",
       "\n",
       "                                                                     2  \n",
       "make_model                                                     Audi A1  \n",
       "body_type                                                       Sedans  \n",
       "price                                                            14640  \n",
       "vat                                                     VAT deductible  \n",
       "km                                                            83450.00  \n",
       "Type                                                              Used  \n",
       "Warranty                                                           NaN  \n",
       "Cylinders                                                          NaN  \n",
       "Fuel                                                            Diesel  \n",
       "Gears                                                              NaN  \n",
       "Comfort_Convenience  Air conditioning, Cruise control, Electrical s...  \n",
       "Entertainment_Media                             MP3, On-board computer  \n",
       "Extras                                     Alloy wheels, Voice Control  \n",
       "Safety_Security      ABS, Central door lock, Daytime running lights...  \n",
       "age                                                               3.00  \n",
       "Previous_Owners                                                   1.00  \n",
       "hp_kW                                                            85.00  \n",
       "Inspection_new                                                     NaN  \n",
       "Paint_Type                                                    Metallic  \n",
       "Upholstery_type                                                  Cloth  \n",
       "Upholstery_color                                                 Black  \n",
       "Nr_of_Doors                                                       4.00  \n",
       "Nr_of_Seats                                                       4.00  \n",
       "Gearing_Type                                                 Automatic  \n",
       "Displacement_cc                                                1598.00  \n",
       "Weight_kg                                                          NaN  \n",
       "Drive_chain                                                      front  \n",
       "cons_comb                                                         3.80  \n",
       "cons_city                                                         4.40  \n",
       "cons_country                                                      3.40  \n",
       "CO2_Emission                                                     99.00  \n",
       "Emission_Class                                                  Euro 6  "
      ]
     },
     "execution_count": 527,
     "metadata": {},
     "output_type": "execute_result"
    }
   ],
   "source": [
    "df.head(3).T"
   ]
  },
  {
   "cell_type": "code",
   "execution_count": 528,
   "metadata": {
    "id": "Lu1dazYgV7FO",
    "outputId": "b9d84cc1-96bf-4501-a196-ba23c994b39e",
    "scrolled": true
   },
   "outputs": [
    {
     "name": "stdout",
     "output_type": "stream",
     "text": [
      "<class 'pandas.core.frame.DataFrame'>\n",
      "RangeIndex: 15919 entries, 0 to 15918\n",
      "Data columns (total 32 columns):\n",
      " #   Column               Non-Null Count  Dtype  \n",
      "---  ------               --------------  -----  \n",
      " 0   make_model           15919 non-null  object \n",
      " 1   body_type            15859 non-null  object \n",
      " 2   price                15919 non-null  int64  \n",
      " 3   vat                  11406 non-null  object \n",
      " 4   km                   14895 non-null  float64\n",
      " 5   Type                 15917 non-null  object \n",
      " 6   Warranty             4853 non-null   float64\n",
      " 7   Cylinders            10239 non-null  float64\n",
      " 8   Fuel                 15919 non-null  object \n",
      " 9   Gears                11207 non-null  object \n",
      " 10  Comfort_Convenience  14999 non-null  object \n",
      " 11  Entertainment_Media  14545 non-null  object \n",
      " 12  Extras               12957 non-null  object \n",
      " 13  Safety_Security      14937 non-null  object \n",
      " 14  age                  14322 non-null  float64\n",
      " 15  Previous_Owners      9279 non-null   float64\n",
      " 16  hp_kW                15831 non-null  float64\n",
      " 17  Inspection_new       3932 non-null   object \n",
      " 18  Paint_Type           10147 non-null  object \n",
      " 19  Upholstery_type      11048 non-null  object \n",
      " 20  Upholstery_color     10841 non-null  object \n",
      " 21  Nr_of_Doors          15707 non-null  float64\n",
      " 22  Nr_of_Seats          14942 non-null  float64\n",
      " 23  Gearing_Type         15919 non-null  object \n",
      " 24  Displacement_cc      15423 non-null  float64\n",
      " 25  Weight_kg            8945 non-null   float64\n",
      " 26  Drive_chain          9061 non-null   object \n",
      " 27  cons_comb            13886 non-null  float64\n",
      " 28  cons_city            13483 non-null  float64\n",
      " 29  cons_country         13543 non-null  float64\n",
      " 30  CO2_Emission         13483 non-null  float64\n",
      " 31  Emission_Class       12291 non-null  object \n",
      "dtypes: float64(14), int64(1), object(17)\n",
      "memory usage: 3.9+ MB\n"
     ]
    }
   ],
   "source": [
    "df.info()"
   ]
  },
  {
   "cell_type": "code",
   "execution_count": 529,
   "metadata": {
    "id": "fm4fWqDvV7FO"
   },
   "outputs": [],
   "source": [
    "df.to_csv(\"clean_scout.csv\", index=False)"
   ]
  },
  {
   "cell_type": "markdown",
   "metadata": {},
   "source": [
    "## <p style=\"background-color:#FDFEFE; font-family:newtimeroman; color:#9d4f8c; font-size:150%; text-align:center; border-radius:10px 10px;\">The End of Data Cleaning (Part - 01)</p>"
   ]
  },
  {
   "cell_type": "markdown",
   "metadata": {
    "id": "uGeKSdYds1MD"
   },
   "source": [
    "# PART- 2 `( Handling With Missing Vales )`"
   ]
  },
  {
   "cell_type": "code",
   "execution_count": null,
   "metadata": {
    "id": "WDZnqBhbs1ME"
   },
   "outputs": [],
   "source": []
  },
  {
   "cell_type": "markdown",
   "metadata": {
    "id": "gPPdPAu5s1ME"
   },
   "source": [
    "# PART- 3 `( Handling With Outliers )`"
   ]
  },
  {
   "cell_type": "code",
   "execution_count": null,
   "metadata": {
    "id": "Is4HLjHWs1MF"
   },
   "outputs": [],
   "source": []
  },
  {
   "cell_type": "markdown",
   "metadata": {
    "id": "EKxmsgfts1MG"
   },
   "source": [
    "# Final Step (Checking final situation of data via graphs)"
   ]
  },
  {
   "cell_type": "code",
   "execution_count": null,
   "metadata": {
    "id": "8mgL_Bd0s1MG"
   },
   "outputs": [],
   "source": []
  },
  {
   "cell_type": "markdown",
   "metadata": {
    "id": "2PgUVPoes1MH"
   },
   "source": [
    "## Export dataframe to csv file (without dummy)"
   ]
  },
  {
   "cell_type": "code",
   "execution_count": null,
   "metadata": {
    "id": "Byg_o2ZMs1MI"
   },
   "outputs": [],
   "source": [
    "df.to_csv(\"final_scout_not_dummy.csv\", index=False)"
   ]
  },
  {
   "cell_type": "markdown",
   "metadata": {
    "id": "hrw9hr-3s1MJ"
   },
   "source": [
    "# Dummy Operation"
   ]
  },
  {
   "cell_type": "code",
   "execution_count": null,
   "metadata": {
    "id": "faDyWTC9s1MJ"
   },
   "outputs": [],
   "source": []
  },
  {
   "cell_type": "markdown",
   "metadata": {
    "id": "DUOdihlqs1MJ"
   },
   "source": [
    "## Export dataframe to csv file (dummy)"
   ]
  },
  {
   "cell_type": "code",
   "execution_count": null,
   "metadata": {
    "id": "IJT7Yl1Us1MK"
   },
   "outputs": [],
   "source": [
    "df_dummied.to_csv(\"final_scout_dummy.csv\", index=False)"
   ]
  }
 ],
 "metadata": {
  "colab": {
   "name": "DAwPy-Capstone_Project_(AutoScout)_Student.ipynb",
   "provenance": []
  },
  "kernelspec": {
   "display_name": "Python 3 (ipykernel)",
   "language": "python",
   "name": "python3"
  },
  "language_info": {
   "codemirror_mode": {
    "name": "ipython",
    "version": 3
   },
   "file_extension": ".py",
   "mimetype": "text/x-python",
   "name": "python",
   "nbconvert_exporter": "python",
   "pygments_lexer": "ipython3",
   "version": "3.9.12"
  },
  "toc": {
   "base_numbering": 1,
   "nav_menu": {},
   "number_sections": false,
   "sideBar": true,
   "skip_h1_title": false,
   "title_cell": "Table of Contents",
   "title_sidebar": "Contents",
   "toc_cell": false,
   "toc_position": {},
   "toc_section_display": true,
   "toc_window_display": false
  },
  "varInspector": {
   "cols": {
    "lenName": 16,
    "lenType": 16,
    "lenVar": 40
   },
   "kernels_config": {
    "python": {
     "delete_cmd_postfix": "",
     "delete_cmd_prefix": "del ",
     "library": "var_list.py",
     "varRefreshCmd": "print(var_dic_list())"
    },
    "r": {
     "delete_cmd_postfix": ") ",
     "delete_cmd_prefix": "rm(",
     "library": "var_list.r",
     "varRefreshCmd": "cat(var_dic_list()) "
    }
   },
   "types_to_exclude": [
    "module",
    "function",
    "builtin_function_or_method",
    "instance",
    "_Feature"
   ],
   "window_display": false
  }
 },
 "nbformat": 4,
 "nbformat_minor": 1
}
