{
 "cells": [
  {
   "cell_type": "markdown",
   "id": "85b6c609",
   "metadata": {
    "id": "Bv1I7_aas1L3"
   },
   "source": [
    "\n",
    "## <p style=\"background-color:#FDFEFE; font-family:newtimeroman; color:#9d4f8c; font-size:100%; text-align:center; border-radius:10px 10px;\">Osman Öztürk</p>"
   ]
  },
  {
   "cell_type": "markdown",
   "id": "20faf8ac",
   "metadata": {
    "id": "Bkw3_pB0s1L-"
   },
   "source": [
    "<img src=https://i.ibb.co/wJW61Y2/Used-cars.jpg width=\"700\" height=\"200\">\n",
    "\n",
    "## <p style=\"background-color:#FDFEFE; font-family:newtimeroman; color:#060108; font-size:200%; text-align:center; border-radius:10px 10px;\">The Capstone Project of Data Analytics Module</p>\n",
    "\n",
    "## <p style=\"background-color:#FDFEFE; font-family:newtimeroman; color:#060108; font-size:150%; text-align:center; border-radius:10px 10px;\">Car Price Prediction EDA</p>"
   ]
  },
  {
   "cell_type": "markdown",
   "id": "2b1e657a",
   "metadata": {
    "id": "uGeKSdYds1MD"
   },
   "source": [
    "# PART- 2 `( Handling With Missing Values )`"
   ]
  },
  {
   "cell_type": "code",
   "execution_count": 419,
   "id": "a41b2bfe",
   "metadata": {},
   "outputs": [],
   "source": [
    "import numpy as np\n",
    "import pandas as pd\n",
    "import seaborn as sns \n",
    "import matplotlib.pyplot as plt\n",
    "from scipy import stats\n",
    "from scipy.stats.mstats import winsorize\n",
    "\n",
    "import warnings\n",
    "warnings.filterwarnings(\"ignore\")\n",
    "warnings.warn(\"this will not show\")\n",
    "\n",
    "%matplotlib inline\n",
    "# %matplotlib notebook\n",
    "\n",
    "plt.rcParams[\"figure.figsize\"] = (10, 6)\n",
    "# plt.rcParams['figure.dpi'] = 100\n",
    "\n",
    "sns.set_style(\"whitegrid\")\n",
    "pd.set_option('display.float_format', lambda x: '%.3f' % x)\n",
    "\n",
    "pd.options.display.max_rows = 1000\n",
    "pd.options.display.max_columns = 150"
   ]
  },
  {
   "cell_type": "code",
   "execution_count": 420,
   "id": "548efd04",
   "metadata": {
    "id": "oIu9PLN4WDTu"
   },
   "outputs": [],
   "source": [
    "df = pd.read_csv(\"clean_scout.csv\")"
   ]
  },
  {
   "cell_type": "code",
   "execution_count": 421,
   "id": "e8a20f4d",
   "metadata": {
    "id": "EsWWaSSMWDTu",
    "outputId": "7d5882ed-a734-4d4c-c4b5-0d8a1c18586c"
   },
   "outputs": [
    {
     "data": {
      "text/plain": [
       "(15919, 32)"
      ]
     },
     "execution_count": 421,
     "metadata": {},
     "output_type": "execute_result"
    }
   ],
   "source": [
    "df.shape"
   ]
  },
  {
   "cell_type": "code",
   "execution_count": 422,
   "id": "64d2129a",
   "metadata": {
    "id": "zavqsDqqWDTw",
    "outputId": "50353460-ab98-4a95-ff55-cf36f0d9c57c"
   },
   "outputs": [
    {
     "data": {
      "text/html": [
       "<div>\n",
       "<style scoped>\n",
       "    .dataframe tbody tr th:only-of-type {\n",
       "        vertical-align: middle;\n",
       "    }\n",
       "\n",
       "    .dataframe tbody tr th {\n",
       "        vertical-align: top;\n",
       "    }\n",
       "\n",
       "    .dataframe thead th {\n",
       "        text-align: right;\n",
       "    }\n",
       "</style>\n",
       "<table border=\"1\" class=\"dataframe\">\n",
       "  <thead>\n",
       "    <tr style=\"text-align: right;\">\n",
       "      <th></th>\n",
       "      <th>0</th>\n",
       "      <th>1</th>\n",
       "      <th>2</th>\n",
       "    </tr>\n",
       "  </thead>\n",
       "  <tbody>\n",
       "    <tr>\n",
       "      <th>make_model</th>\n",
       "      <td>Audi A1</td>\n",
       "      <td>Audi A1</td>\n",
       "      <td>Audi A1</td>\n",
       "    </tr>\n",
       "    <tr>\n",
       "      <th>body_type</th>\n",
       "      <td>Sedans</td>\n",
       "      <td>Sedans</td>\n",
       "      <td>Sedans</td>\n",
       "    </tr>\n",
       "    <tr>\n",
       "      <th>price</th>\n",
       "      <td>15770</td>\n",
       "      <td>14500</td>\n",
       "      <td>14640</td>\n",
       "    </tr>\n",
       "    <tr>\n",
       "      <th>vat</th>\n",
       "      <td>VAT deductible</td>\n",
       "      <td>Price negotiable</td>\n",
       "      <td>VAT deductible</td>\n",
       "    </tr>\n",
       "    <tr>\n",
       "      <th>km</th>\n",
       "      <td>56013.000</td>\n",
       "      <td>80000.000</td>\n",
       "      <td>83450.000</td>\n",
       "    </tr>\n",
       "    <tr>\n",
       "      <th>Type</th>\n",
       "      <td>Used</td>\n",
       "      <td>Used</td>\n",
       "      <td>Used</td>\n",
       "    </tr>\n",
       "    <tr>\n",
       "      <th>Warranty</th>\n",
       "      <td>NaN</td>\n",
       "      <td>NaN</td>\n",
       "      <td>NaN</td>\n",
       "    </tr>\n",
       "    <tr>\n",
       "      <th>Cylinders</th>\n",
       "      <td>3.000</td>\n",
       "      <td>4.000</td>\n",
       "      <td>NaN</td>\n",
       "    </tr>\n",
       "    <tr>\n",
       "      <th>Fuel</th>\n",
       "      <td>Diesel</td>\n",
       "      <td>Benzine</td>\n",
       "      <td>Diesel</td>\n",
       "    </tr>\n",
       "    <tr>\n",
       "      <th>Gears</th>\n",
       "      <td>NaN</td>\n",
       "      <td>7.000</td>\n",
       "      <td>NaN</td>\n",
       "    </tr>\n",
       "    <tr>\n",
       "      <th>Comfort_Convenience</th>\n",
       "      <td>Air conditioning, Armrest, Automatic climate c...</td>\n",
       "      <td>Air conditioning, Automatic climate control, H...</td>\n",
       "      <td>Air conditioning, Cruise control, Electrical s...</td>\n",
       "    </tr>\n",
       "    <tr>\n",
       "      <th>Entertainment_Media</th>\n",
       "      <td>Bluetooth, Hands-free equipment, On-board comp...</td>\n",
       "      <td>Bluetooth, Hands-free equipment, On-board comp...</td>\n",
       "      <td>MP3, On-board computer</td>\n",
       "    </tr>\n",
       "    <tr>\n",
       "      <th>Extras</th>\n",
       "      <td>Alloy wheels, Catalytic Converter, Voice Control</td>\n",
       "      <td>Alloy wheels, Sport seats, Sport suspension, V...</td>\n",
       "      <td>Alloy wheels, Voice Control</td>\n",
       "    </tr>\n",
       "    <tr>\n",
       "      <th>Safety_Security</th>\n",
       "      <td>ABS, Central door lock, Daytime running lights...</td>\n",
       "      <td>ABS, Central door lock, Central door lock with...</td>\n",
       "      <td>ABS, Central door lock, Daytime running lights...</td>\n",
       "    </tr>\n",
       "    <tr>\n",
       "      <th>age</th>\n",
       "      <td>3.000</td>\n",
       "      <td>2.000</td>\n",
       "      <td>3.000</td>\n",
       "    </tr>\n",
       "    <tr>\n",
       "      <th>Previous_Owners</th>\n",
       "      <td>2.000</td>\n",
       "      <td>NaN</td>\n",
       "      <td>1.000</td>\n",
       "    </tr>\n",
       "    <tr>\n",
       "      <th>hp_kW</th>\n",
       "      <td>66.000</td>\n",
       "      <td>141.000</td>\n",
       "      <td>85.000</td>\n",
       "    </tr>\n",
       "    <tr>\n",
       "      <th>Inspection_new</th>\n",
       "      <td>Yes</td>\n",
       "      <td>NaN</td>\n",
       "      <td>NaN</td>\n",
       "    </tr>\n",
       "    <tr>\n",
       "      <th>Paint_Type</th>\n",
       "      <td>Metallic</td>\n",
       "      <td>NaN</td>\n",
       "      <td>Metallic</td>\n",
       "    </tr>\n",
       "    <tr>\n",
       "      <th>Upholstery_type</th>\n",
       "      <td>Cloth</td>\n",
       "      <td>Cloth</td>\n",
       "      <td>Cloth</td>\n",
       "    </tr>\n",
       "    <tr>\n",
       "      <th>Upholstery_color</th>\n",
       "      <td>Black</td>\n",
       "      <td>Grey</td>\n",
       "      <td>Black</td>\n",
       "    </tr>\n",
       "    <tr>\n",
       "      <th>Nr_of_Doors</th>\n",
       "      <td>5.000</td>\n",
       "      <td>3.000</td>\n",
       "      <td>4.000</td>\n",
       "    </tr>\n",
       "    <tr>\n",
       "      <th>Nr_of_Seats</th>\n",
       "      <td>5.000</td>\n",
       "      <td>4.000</td>\n",
       "      <td>4.000</td>\n",
       "    </tr>\n",
       "    <tr>\n",
       "      <th>Gearing_Type</th>\n",
       "      <td>Automatic</td>\n",
       "      <td>Automatic</td>\n",
       "      <td>Automatic</td>\n",
       "    </tr>\n",
       "    <tr>\n",
       "      <th>Displacement_cc</th>\n",
       "      <td>1422.000</td>\n",
       "      <td>1798.000</td>\n",
       "      <td>1598.000</td>\n",
       "    </tr>\n",
       "    <tr>\n",
       "      <th>Weight_kg</th>\n",
       "      <td>1220.000</td>\n",
       "      <td>1255.000</td>\n",
       "      <td>NaN</td>\n",
       "    </tr>\n",
       "    <tr>\n",
       "      <th>Drive_chain</th>\n",
       "      <td>front</td>\n",
       "      <td>front</td>\n",
       "      <td>front</td>\n",
       "    </tr>\n",
       "    <tr>\n",
       "      <th>cons_comb</th>\n",
       "      <td>3.800</td>\n",
       "      <td>5.600</td>\n",
       "      <td>3.800</td>\n",
       "    </tr>\n",
       "    <tr>\n",
       "      <th>cons_city</th>\n",
       "      <td>4.300</td>\n",
       "      <td>7.100</td>\n",
       "      <td>4.400</td>\n",
       "    </tr>\n",
       "    <tr>\n",
       "      <th>cons_country</th>\n",
       "      <td>3.500</td>\n",
       "      <td>4.700</td>\n",
       "      <td>3.400</td>\n",
       "    </tr>\n",
       "    <tr>\n",
       "      <th>CO2_Emission</th>\n",
       "      <td>99.000</td>\n",
       "      <td>129.000</td>\n",
       "      <td>99.000</td>\n",
       "    </tr>\n",
       "    <tr>\n",
       "      <th>Emission_Class</th>\n",
       "      <td>Euro 6</td>\n",
       "      <td>Euro 6</td>\n",
       "      <td>Euro 6</td>\n",
       "    </tr>\n",
       "  </tbody>\n",
       "</table>\n",
       "</div>"
      ],
      "text/plain": [
       "                                                                     0  \\\n",
       "make_model                                                     Audi A1   \n",
       "body_type                                                       Sedans   \n",
       "price                                                            15770   \n",
       "vat                                                     VAT deductible   \n",
       "km                                                           56013.000   \n",
       "Type                                                              Used   \n",
       "Warranty                                                           NaN   \n",
       "Cylinders                                                        3.000   \n",
       "Fuel                                                            Diesel   \n",
       "Gears                                                              NaN   \n",
       "Comfort_Convenience  Air conditioning, Armrest, Automatic climate c...   \n",
       "Entertainment_Media  Bluetooth, Hands-free equipment, On-board comp...   \n",
       "Extras                Alloy wheels, Catalytic Converter, Voice Control   \n",
       "Safety_Security      ABS, Central door lock, Daytime running lights...   \n",
       "age                                                              3.000   \n",
       "Previous_Owners                                                  2.000   \n",
       "hp_kW                                                           66.000   \n",
       "Inspection_new                                                     Yes   \n",
       "Paint_Type                                                    Metallic   \n",
       "Upholstery_type                                                  Cloth   \n",
       "Upholstery_color                                                 Black   \n",
       "Nr_of_Doors                                                      5.000   \n",
       "Nr_of_Seats                                                      5.000   \n",
       "Gearing_Type                                                 Automatic   \n",
       "Displacement_cc                                               1422.000   \n",
       "Weight_kg                                                     1220.000   \n",
       "Drive_chain                                                      front   \n",
       "cons_comb                                                        3.800   \n",
       "cons_city                                                        4.300   \n",
       "cons_country                                                     3.500   \n",
       "CO2_Emission                                                    99.000   \n",
       "Emission_Class                                                  Euro 6   \n",
       "\n",
       "                                                                     1  \\\n",
       "make_model                                                     Audi A1   \n",
       "body_type                                                       Sedans   \n",
       "price                                                            14500   \n",
       "vat                                                   Price negotiable   \n",
       "km                                                           80000.000   \n",
       "Type                                                              Used   \n",
       "Warranty                                                           NaN   \n",
       "Cylinders                                                        4.000   \n",
       "Fuel                                                           Benzine   \n",
       "Gears                                                            7.000   \n",
       "Comfort_Convenience  Air conditioning, Automatic climate control, H...   \n",
       "Entertainment_Media  Bluetooth, Hands-free equipment, On-board comp...   \n",
       "Extras               Alloy wheels, Sport seats, Sport suspension, V...   \n",
       "Safety_Security      ABS, Central door lock, Central door lock with...   \n",
       "age                                                              2.000   \n",
       "Previous_Owners                                                    NaN   \n",
       "hp_kW                                                          141.000   \n",
       "Inspection_new                                                     NaN   \n",
       "Paint_Type                                                         NaN   \n",
       "Upholstery_type                                                  Cloth   \n",
       "Upholstery_color                                                  Grey   \n",
       "Nr_of_Doors                                                      3.000   \n",
       "Nr_of_Seats                                                      4.000   \n",
       "Gearing_Type                                                 Automatic   \n",
       "Displacement_cc                                               1798.000   \n",
       "Weight_kg                                                     1255.000   \n",
       "Drive_chain                                                      front   \n",
       "cons_comb                                                        5.600   \n",
       "cons_city                                                        7.100   \n",
       "cons_country                                                     4.700   \n",
       "CO2_Emission                                                   129.000   \n",
       "Emission_Class                                                  Euro 6   \n",
       "\n",
       "                                                                     2  \n",
       "make_model                                                     Audi A1  \n",
       "body_type                                                       Sedans  \n",
       "price                                                            14640  \n",
       "vat                                                     VAT deductible  \n",
       "km                                                           83450.000  \n",
       "Type                                                              Used  \n",
       "Warranty                                                           NaN  \n",
       "Cylinders                                                          NaN  \n",
       "Fuel                                                            Diesel  \n",
       "Gears                                                              NaN  \n",
       "Comfort_Convenience  Air conditioning, Cruise control, Electrical s...  \n",
       "Entertainment_Media                             MP3, On-board computer  \n",
       "Extras                                     Alloy wheels, Voice Control  \n",
       "Safety_Security      ABS, Central door lock, Daytime running lights...  \n",
       "age                                                              3.000  \n",
       "Previous_Owners                                                  1.000  \n",
       "hp_kW                                                           85.000  \n",
       "Inspection_new                                                     NaN  \n",
       "Paint_Type                                                    Metallic  \n",
       "Upholstery_type                                                  Cloth  \n",
       "Upholstery_color                                                 Black  \n",
       "Nr_of_Doors                                                      4.000  \n",
       "Nr_of_Seats                                                      4.000  \n",
       "Gearing_Type                                                 Automatic  \n",
       "Displacement_cc                                               1598.000  \n",
       "Weight_kg                                                          NaN  \n",
       "Drive_chain                                                      front  \n",
       "cons_comb                                                        3.800  \n",
       "cons_city                                                        4.400  \n",
       "cons_country                                                     3.400  \n",
       "CO2_Emission                                                    99.000  \n",
       "Emission_Class                                                  Euro 6  "
      ]
     },
     "execution_count": 422,
     "metadata": {},
     "output_type": "execute_result"
    }
   ],
   "source": [
    "df.head(3).T"
   ]
  },
  {
   "cell_type": "code",
   "execution_count": 423,
   "id": "fd085a96",
   "metadata": {
    "scrolled": true
   },
   "outputs": [
    {
     "data": {
      "text/html": [
       "<div>\n",
       "<style scoped>\n",
       "    .dataframe tbody tr th:only-of-type {\n",
       "        vertical-align: middle;\n",
       "    }\n",
       "\n",
       "    .dataframe tbody tr th {\n",
       "        vertical-align: top;\n",
       "    }\n",
       "\n",
       "    .dataframe thead th {\n",
       "        text-align: right;\n",
       "    }\n",
       "</style>\n",
       "<table border=\"1\" class=\"dataframe\">\n",
       "  <thead>\n",
       "    <tr style=\"text-align: right;\">\n",
       "      <th></th>\n",
       "      <th>15916</th>\n",
       "      <th>15917</th>\n",
       "      <th>15918</th>\n",
       "    </tr>\n",
       "  </thead>\n",
       "  <tbody>\n",
       "    <tr>\n",
       "      <th>make_model</th>\n",
       "      <td>Renault Espace</td>\n",
       "      <td>Renault Espace</td>\n",
       "      <td>Renault Espace</td>\n",
       "    </tr>\n",
       "    <tr>\n",
       "      <th>body_type</th>\n",
       "      <td>Van</td>\n",
       "      <td>Van</td>\n",
       "      <td>Van</td>\n",
       "    </tr>\n",
       "    <tr>\n",
       "      <th>price</th>\n",
       "      <td>39875</td>\n",
       "      <td>39700</td>\n",
       "      <td>40999</td>\n",
       "    </tr>\n",
       "    <tr>\n",
       "      <th>vat</th>\n",
       "      <td>VAT deductible</td>\n",
       "      <td>VAT deductible</td>\n",
       "      <td>VAT deductible</td>\n",
       "    </tr>\n",
       "    <tr>\n",
       "      <th>km</th>\n",
       "      <td>15.000</td>\n",
       "      <td>10.000</td>\n",
       "      <td>NaN</td>\n",
       "    </tr>\n",
       "    <tr>\n",
       "      <th>Type</th>\n",
       "      <td>Pre-registered</td>\n",
       "      <td>Pre-registered</td>\n",
       "      <td>Demonstration</td>\n",
       "    </tr>\n",
       "    <tr>\n",
       "      <th>Warranty</th>\n",
       "      <td>NaN</td>\n",
       "      <td>NaN</td>\n",
       "      <td>NaN</td>\n",
       "    </tr>\n",
       "    <tr>\n",
       "      <th>Cylinders</th>\n",
       "      <td>4.000</td>\n",
       "      <td>4.000</td>\n",
       "      <td>4.000</td>\n",
       "    </tr>\n",
       "    <tr>\n",
       "      <th>Fuel</th>\n",
       "      <td>Diesel</td>\n",
       "      <td>Diesel</td>\n",
       "      <td>Benzine</td>\n",
       "    </tr>\n",
       "    <tr>\n",
       "      <th>Gears</th>\n",
       "      <td>6.000</td>\n",
       "      <td>6.000</td>\n",
       "      <td>NaN</td>\n",
       "    </tr>\n",
       "    <tr>\n",
       "      <th>Comfort_Convenience</th>\n",
       "      <td>Air conditioning, Armrest, Automatic climate c...</td>\n",
       "      <td>Air conditioning, Automatic climate control, C...</td>\n",
       "      <td>Air conditioning, Automatic climate control, C...</td>\n",
       "    </tr>\n",
       "    <tr>\n",
       "      <th>Entertainment_Media</th>\n",
       "      <td>Bluetooth, Hands-free equipment, On-board comp...</td>\n",
       "      <td>Bluetooth, Digital radio, Radio, USB</td>\n",
       "      <td>USB</td>\n",
       "    </tr>\n",
       "    <tr>\n",
       "      <th>Extras</th>\n",
       "      <td>Alloy wheels</td>\n",
       "      <td>Alloy wheels, Touch screen</td>\n",
       "      <td>Alloy wheels, Touch screen</td>\n",
       "    </tr>\n",
       "    <tr>\n",
       "      <th>Safety_Security</th>\n",
       "      <td>ABS, Adaptive Cruise Control, Blind spot monit...</td>\n",
       "      <td>ABS, Blind spot monitor, Driver-side airbag, E...</td>\n",
       "      <td>ABS, Blind spot monitor, Daytime running light...</td>\n",
       "    </tr>\n",
       "    <tr>\n",
       "      <th>age</th>\n",
       "      <td>0.000</td>\n",
       "      <td>0.000</td>\n",
       "      <td>0.000</td>\n",
       "    </tr>\n",
       "    <tr>\n",
       "      <th>Previous_Owners</th>\n",
       "      <td>1.000</td>\n",
       "      <td>NaN</td>\n",
       "      <td>1.000</td>\n",
       "    </tr>\n",
       "    <tr>\n",
       "      <th>hp_kW</th>\n",
       "      <td>146.000</td>\n",
       "      <td>147.000</td>\n",
       "      <td>165.000</td>\n",
       "    </tr>\n",
       "    <tr>\n",
       "      <th>Inspection_new</th>\n",
       "      <td>Yes</td>\n",
       "      <td>NaN</td>\n",
       "      <td>Yes</td>\n",
       "    </tr>\n",
       "    <tr>\n",
       "      <th>Paint_Type</th>\n",
       "      <td>NaN</td>\n",
       "      <td>NaN</td>\n",
       "      <td>Metallic</td>\n",
       "    </tr>\n",
       "    <tr>\n",
       "      <th>Upholstery_type</th>\n",
       "      <td>Full leather</td>\n",
       "      <td>Part leather</td>\n",
       "      <td>Full leather</td>\n",
       "    </tr>\n",
       "    <tr>\n",
       "      <th>Upholstery_color</th>\n",
       "      <td>Black</td>\n",
       "      <td>NaN</td>\n",
       "      <td>Brown</td>\n",
       "    </tr>\n",
       "    <tr>\n",
       "      <th>Nr_of_Doors</th>\n",
       "      <td>5.000</td>\n",
       "      <td>5.000</td>\n",
       "      <td>5.000</td>\n",
       "    </tr>\n",
       "    <tr>\n",
       "      <th>Nr_of_Seats</th>\n",
       "      <td>7.000</td>\n",
       "      <td>7.000</td>\n",
       "      <td>5.000</td>\n",
       "    </tr>\n",
       "    <tr>\n",
       "      <th>Gearing_Type</th>\n",
       "      <td>Automatic</td>\n",
       "      <td>Automatic</td>\n",
       "      <td>Automatic</td>\n",
       "    </tr>\n",
       "    <tr>\n",
       "      <th>Displacement_cc</th>\n",
       "      <td>1997.000</td>\n",
       "      <td>1997.000</td>\n",
       "      <td>1798.000</td>\n",
       "    </tr>\n",
       "    <tr>\n",
       "      <th>Weight_kg</th>\n",
       "      <td>NaN</td>\n",
       "      <td>1758.000</td>\n",
       "      <td>1685.000</td>\n",
       "    </tr>\n",
       "    <tr>\n",
       "      <th>Drive_chain</th>\n",
       "      <td>front</td>\n",
       "      <td>front</td>\n",
       "      <td>4WD</td>\n",
       "    </tr>\n",
       "    <tr>\n",
       "      <th>cons_comb</th>\n",
       "      <td>5.300</td>\n",
       "      <td>5.300</td>\n",
       "      <td>6.800</td>\n",
       "    </tr>\n",
       "    <tr>\n",
       "      <th>cons_city</th>\n",
       "      <td>6.200</td>\n",
       "      <td>6.200</td>\n",
       "      <td>8.700</td>\n",
       "    </tr>\n",
       "    <tr>\n",
       "      <th>cons_country</th>\n",
       "      <td>4.700</td>\n",
       "      <td>4.700</td>\n",
       "      <td>5.700</td>\n",
       "    </tr>\n",
       "    <tr>\n",
       "      <th>CO2_Emission</th>\n",
       "      <td>139.000</td>\n",
       "      <td>139.000</td>\n",
       "      <td>153.000</td>\n",
       "    </tr>\n",
       "    <tr>\n",
       "      <th>Emission_Class</th>\n",
       "      <td>Euro 6</td>\n",
       "      <td>Euro 6</td>\n",
       "      <td>Euro 6</td>\n",
       "    </tr>\n",
       "  </tbody>\n",
       "</table>\n",
       "</div>"
      ],
      "text/plain": [
       "                                                                 15916  \\\n",
       "make_model                                              Renault Espace   \n",
       "body_type                                                          Van   \n",
       "price                                                            39875   \n",
       "vat                                                     VAT deductible   \n",
       "km                                                              15.000   \n",
       "Type                                                    Pre-registered   \n",
       "Warranty                                                           NaN   \n",
       "Cylinders                                                        4.000   \n",
       "Fuel                                                            Diesel   \n",
       "Gears                                                            6.000   \n",
       "Comfort_Convenience  Air conditioning, Armrest, Automatic climate c...   \n",
       "Entertainment_Media  Bluetooth, Hands-free equipment, On-board comp...   \n",
       "Extras                                                    Alloy wheels   \n",
       "Safety_Security      ABS, Adaptive Cruise Control, Blind spot monit...   \n",
       "age                                                              0.000   \n",
       "Previous_Owners                                                  1.000   \n",
       "hp_kW                                                          146.000   \n",
       "Inspection_new                                                     Yes   \n",
       "Paint_Type                                                         NaN   \n",
       "Upholstery_type                                           Full leather   \n",
       "Upholstery_color                                                 Black   \n",
       "Nr_of_Doors                                                      5.000   \n",
       "Nr_of_Seats                                                      7.000   \n",
       "Gearing_Type                                                 Automatic   \n",
       "Displacement_cc                                               1997.000   \n",
       "Weight_kg                                                          NaN   \n",
       "Drive_chain                                                      front   \n",
       "cons_comb                                                        5.300   \n",
       "cons_city                                                        6.200   \n",
       "cons_country                                                     4.700   \n",
       "CO2_Emission                                                   139.000   \n",
       "Emission_Class                                                  Euro 6   \n",
       "\n",
       "                                                                 15917  \\\n",
       "make_model                                              Renault Espace   \n",
       "body_type                                                          Van   \n",
       "price                                                            39700   \n",
       "vat                                                     VAT deductible   \n",
       "km                                                              10.000   \n",
       "Type                                                    Pre-registered   \n",
       "Warranty                                                           NaN   \n",
       "Cylinders                                                        4.000   \n",
       "Fuel                                                            Diesel   \n",
       "Gears                                                            6.000   \n",
       "Comfort_Convenience  Air conditioning, Automatic climate control, C...   \n",
       "Entertainment_Media               Bluetooth, Digital radio, Radio, USB   \n",
       "Extras                                      Alloy wheels, Touch screen   \n",
       "Safety_Security      ABS, Blind spot monitor, Driver-side airbag, E...   \n",
       "age                                                              0.000   \n",
       "Previous_Owners                                                    NaN   \n",
       "hp_kW                                                          147.000   \n",
       "Inspection_new                                                     NaN   \n",
       "Paint_Type                                                         NaN   \n",
       "Upholstery_type                                           Part leather   \n",
       "Upholstery_color                                                   NaN   \n",
       "Nr_of_Doors                                                      5.000   \n",
       "Nr_of_Seats                                                      7.000   \n",
       "Gearing_Type                                                 Automatic   \n",
       "Displacement_cc                                               1997.000   \n",
       "Weight_kg                                                     1758.000   \n",
       "Drive_chain                                                      front   \n",
       "cons_comb                                                        5.300   \n",
       "cons_city                                                        6.200   \n",
       "cons_country                                                     4.700   \n",
       "CO2_Emission                                                   139.000   \n",
       "Emission_Class                                                  Euro 6   \n",
       "\n",
       "                                                                 15918  \n",
       "make_model                                              Renault Espace  \n",
       "body_type                                                          Van  \n",
       "price                                                            40999  \n",
       "vat                                                     VAT deductible  \n",
       "km                                                                 NaN  \n",
       "Type                                                     Demonstration  \n",
       "Warranty                                                           NaN  \n",
       "Cylinders                                                        4.000  \n",
       "Fuel                                                           Benzine  \n",
       "Gears                                                              NaN  \n",
       "Comfort_Convenience  Air conditioning, Automatic climate control, C...  \n",
       "Entertainment_Media                                                USB  \n",
       "Extras                                      Alloy wheels, Touch screen  \n",
       "Safety_Security      ABS, Blind spot monitor, Daytime running light...  \n",
       "age                                                              0.000  \n",
       "Previous_Owners                                                  1.000  \n",
       "hp_kW                                                          165.000  \n",
       "Inspection_new                                                     Yes  \n",
       "Paint_Type                                                    Metallic  \n",
       "Upholstery_type                                           Full leather  \n",
       "Upholstery_color                                                 Brown  \n",
       "Nr_of_Doors                                                      5.000  \n",
       "Nr_of_Seats                                                      5.000  \n",
       "Gearing_Type                                                 Automatic  \n",
       "Displacement_cc                                               1798.000  \n",
       "Weight_kg                                                     1685.000  \n",
       "Drive_chain                                                        4WD  \n",
       "cons_comb                                                        6.800  \n",
       "cons_city                                                        8.700  \n",
       "cons_country                                                     5.700  \n",
       "CO2_Emission                                                   153.000  \n",
       "Emission_Class                                                  Euro 6  "
      ]
     },
     "execution_count": 423,
     "metadata": {},
     "output_type": "execute_result"
    }
   ],
   "source": [
    "df.tail(3).T"
   ]
  },
  {
   "cell_type": "code",
   "execution_count": 424,
   "id": "66c0b917",
   "metadata": {
    "scrolled": true
   },
   "outputs": [
    {
     "name": "stdout",
     "output_type": "stream",
     "text": [
      "<class 'pandas.core.frame.DataFrame'>\n",
      "RangeIndex: 15919 entries, 0 to 15918\n",
      "Data columns (total 32 columns):\n",
      " #   Column               Non-Null Count  Dtype  \n",
      "---  ------               --------------  -----  \n",
      " 0   make_model           15919 non-null  object \n",
      " 1   body_type            15859 non-null  object \n",
      " 2   price                15919 non-null  int64  \n",
      " 3   vat                  11406 non-null  object \n",
      " 4   km                   14895 non-null  float64\n",
      " 5   Type                 15917 non-null  object \n",
      " 6   Warranty             4853 non-null   float64\n",
      " 7   Cylinders            10239 non-null  float64\n",
      " 8   Fuel                 15919 non-null  object \n",
      " 9   Gears                11207 non-null  float64\n",
      " 10  Comfort_Convenience  14999 non-null  object \n",
      " 11  Entertainment_Media  14545 non-null  object \n",
      " 12  Extras               12957 non-null  object \n",
      " 13  Safety_Security      14937 non-null  object \n",
      " 14  age                  14322 non-null  float64\n",
      " 15  Previous_Owners      9279 non-null   float64\n",
      " 16  hp_kW                15831 non-null  float64\n",
      " 17  Inspection_new       3932 non-null   object \n",
      " 18  Paint_Type           10147 non-null  object \n",
      " 19  Upholstery_type      11048 non-null  object \n",
      " 20  Upholstery_color     10841 non-null  object \n",
      " 21  Nr_of_Doors          15707 non-null  float64\n",
      " 22  Nr_of_Seats          14942 non-null  float64\n",
      " 23  Gearing_Type         15919 non-null  object \n",
      " 24  Displacement_cc      15423 non-null  float64\n",
      " 25  Weight_kg            8945 non-null   float64\n",
      " 26  Drive_chain          9061 non-null   object \n",
      " 27  cons_comb            13886 non-null  float64\n",
      " 28  cons_city            13483 non-null  float64\n",
      " 29  cons_country         13543 non-null  float64\n",
      " 30  CO2_Emission         13483 non-null  float64\n",
      " 31  Emission_Class       12291 non-null  object \n",
      "dtypes: float64(15), int64(1), object(16)\n",
      "memory usage: 3.9+ MB\n"
     ]
    }
   ],
   "source": [
    "df.info()"
   ]
  },
  {
   "cell_type": "code",
   "execution_count": 425,
   "id": "62df1b99",
   "metadata": {
    "scrolled": true
   },
   "outputs": [
    {
     "data": {
      "text/html": [
       "<div>\n",
       "<style scoped>\n",
       "    .dataframe tbody tr th:only-of-type {\n",
       "        vertical-align: middle;\n",
       "    }\n",
       "\n",
       "    .dataframe tbody tr th {\n",
       "        vertical-align: top;\n",
       "    }\n",
       "\n",
       "    .dataframe thead th {\n",
       "        text-align: right;\n",
       "    }\n",
       "</style>\n",
       "<table border=\"1\" class=\"dataframe\">\n",
       "  <thead>\n",
       "    <tr style=\"text-align: right;\">\n",
       "      <th></th>\n",
       "      <th>count</th>\n",
       "      <th>mean</th>\n",
       "      <th>std</th>\n",
       "      <th>min</th>\n",
       "      <th>25%</th>\n",
       "      <th>50%</th>\n",
       "      <th>75%</th>\n",
       "      <th>max</th>\n",
       "    </tr>\n",
       "  </thead>\n",
       "  <tbody>\n",
       "    <tr>\n",
       "      <th>price</th>\n",
       "      <td>15919.000</td>\n",
       "      <td>18019.897</td>\n",
       "      <td>7386.169</td>\n",
       "      <td>13.000</td>\n",
       "      <td>12850.000</td>\n",
       "      <td>16900.000</td>\n",
       "      <td>21900.000</td>\n",
       "      <td>74600.000</td>\n",
       "    </tr>\n",
       "    <tr>\n",
       "      <th>km</th>\n",
       "      <td>14895.000</td>\n",
       "      <td>34130.128</td>\n",
       "      <td>37352.978</td>\n",
       "      <td>0.000</td>\n",
       "      <td>5153.000</td>\n",
       "      <td>22740.000</td>\n",
       "      <td>49371.500</td>\n",
       "      <td>317000.000</td>\n",
       "    </tr>\n",
       "    <tr>\n",
       "      <th>Warranty</th>\n",
       "      <td>4853.000</td>\n",
       "      <td>21.927</td>\n",
       "      <td>15.771</td>\n",
       "      <td>1.000</td>\n",
       "      <td>12.000</td>\n",
       "      <td>12.000</td>\n",
       "      <td>24.000</td>\n",
       "      <td>72.000</td>\n",
       "    </tr>\n",
       "    <tr>\n",
       "      <th>Cylinders</th>\n",
       "      <td>10239.000</td>\n",
       "      <td>3.797</td>\n",
       "      <td>0.415</td>\n",
       "      <td>1.000</td>\n",
       "      <td>4.000</td>\n",
       "      <td>4.000</td>\n",
       "      <td>4.000</td>\n",
       "      <td>8.000</td>\n",
       "    </tr>\n",
       "    <tr>\n",
       "      <th>Gears</th>\n",
       "      <td>11207.000</td>\n",
       "      <td>5.925</td>\n",
       "      <td>0.848</td>\n",
       "      <td>1.000</td>\n",
       "      <td>5.000</td>\n",
       "      <td>6.000</td>\n",
       "      <td>6.000</td>\n",
       "      <td>50.000</td>\n",
       "    </tr>\n",
       "    <tr>\n",
       "      <th>age</th>\n",
       "      <td>14322.000</td>\n",
       "      <td>1.542</td>\n",
       "      <td>1.077</td>\n",
       "      <td>0.000</td>\n",
       "      <td>1.000</td>\n",
       "      <td>1.000</td>\n",
       "      <td>3.000</td>\n",
       "      <td>3.000</td>\n",
       "    </tr>\n",
       "    <tr>\n",
       "      <th>Previous_Owners</th>\n",
       "      <td>9279.000</td>\n",
       "      <td>1.068</td>\n",
       "      <td>0.330</td>\n",
       "      <td>0.000</td>\n",
       "      <td>1.000</td>\n",
       "      <td>1.000</td>\n",
       "      <td>1.000</td>\n",
       "      <td>4.000</td>\n",
       "    </tr>\n",
       "    <tr>\n",
       "      <th>hp_kW</th>\n",
       "      <td>15831.000</td>\n",
       "      <td>88.368</td>\n",
       "      <td>26.835</td>\n",
       "      <td>1.000</td>\n",
       "      <td>66.000</td>\n",
       "      <td>85.000</td>\n",
       "      <td>101.000</td>\n",
       "      <td>294.000</td>\n",
       "    </tr>\n",
       "    <tr>\n",
       "      <th>Nr_of_Doors</th>\n",
       "      <td>15707.000</td>\n",
       "      <td>4.656</td>\n",
       "      <td>0.645</td>\n",
       "      <td>1.000</td>\n",
       "      <td>4.000</td>\n",
       "      <td>5.000</td>\n",
       "      <td>5.000</td>\n",
       "      <td>7.000</td>\n",
       "    </tr>\n",
       "    <tr>\n",
       "      <th>Nr_of_Seats</th>\n",
       "      <td>14942.000</td>\n",
       "      <td>4.950</td>\n",
       "      <td>0.490</td>\n",
       "      <td>2.000</td>\n",
       "      <td>5.000</td>\n",
       "      <td>5.000</td>\n",
       "      <td>5.000</td>\n",
       "      <td>7.000</td>\n",
       "    </tr>\n",
       "    <tr>\n",
       "      <th>Displacement_cc</th>\n",
       "      <td>15423.000</td>\n",
       "      <td>1423.541</td>\n",
       "      <td>333.531</td>\n",
       "      <td>1.000</td>\n",
       "      <td>1229.000</td>\n",
       "      <td>1461.000</td>\n",
       "      <td>1598.000</td>\n",
       "      <td>16000.000</td>\n",
       "    </tr>\n",
       "    <tr>\n",
       "      <th>Weight_kg</th>\n",
       "      <td>8945.000</td>\n",
       "      <td>1351.107</td>\n",
       "      <td>220.662</td>\n",
       "      <td>1.000</td>\n",
       "      <td>1165.000</td>\n",
       "      <td>1288.000</td>\n",
       "      <td>1487.000</td>\n",
       "      <td>2471.000</td>\n",
       "    </tr>\n",
       "    <tr>\n",
       "      <th>cons_comb</th>\n",
       "      <td>13886.000</td>\n",
       "      <td>4.896</td>\n",
       "      <td>1.635</td>\n",
       "      <td>0.000</td>\n",
       "      <td>4.100</td>\n",
       "      <td>4.800</td>\n",
       "      <td>5.500</td>\n",
       "      <td>55.000</td>\n",
       "    </tr>\n",
       "    <tr>\n",
       "      <th>cons_city</th>\n",
       "      <td>13483.000</td>\n",
       "      <td>5.948</td>\n",
       "      <td>1.967</td>\n",
       "      <td>0.000</td>\n",
       "      <td>4.700</td>\n",
       "      <td>5.800</td>\n",
       "      <td>7.000</td>\n",
       "      <td>66.000</td>\n",
       "    </tr>\n",
       "    <tr>\n",
       "      <th>cons_country</th>\n",
       "      <td>13543.000</td>\n",
       "      <td>4.238</td>\n",
       "      <td>1.194</td>\n",
       "      <td>0.000</td>\n",
       "      <td>3.700</td>\n",
       "      <td>4.200</td>\n",
       "      <td>4.600</td>\n",
       "      <td>44.000</td>\n",
       "    </tr>\n",
       "    <tr>\n",
       "      <th>CO2_Emission</th>\n",
       "      <td>13483.000</td>\n",
       "      <td>123.740</td>\n",
       "      <td>269.952</td>\n",
       "      <td>0.000</td>\n",
       "      <td>104.000</td>\n",
       "      <td>116.000</td>\n",
       "      <td>129.000</td>\n",
       "      <td>14457.000</td>\n",
       "    </tr>\n",
       "  </tbody>\n",
       "</table>\n",
       "</div>"
      ],
      "text/plain": [
       "                    count      mean       std    min       25%       50%  \\\n",
       "price           15919.000 18019.897  7386.169 13.000 12850.000 16900.000   \n",
       "km              14895.000 34130.128 37352.978  0.000  5153.000 22740.000   \n",
       "Warranty         4853.000    21.927    15.771  1.000    12.000    12.000   \n",
       "Cylinders       10239.000     3.797     0.415  1.000     4.000     4.000   \n",
       "Gears           11207.000     5.925     0.848  1.000     5.000     6.000   \n",
       "age             14322.000     1.542     1.077  0.000     1.000     1.000   \n",
       "Previous_Owners  9279.000     1.068     0.330  0.000     1.000     1.000   \n",
       "hp_kW           15831.000    88.368    26.835  1.000    66.000    85.000   \n",
       "Nr_of_Doors     15707.000     4.656     0.645  1.000     4.000     5.000   \n",
       "Nr_of_Seats     14942.000     4.950     0.490  2.000     5.000     5.000   \n",
       "Displacement_cc 15423.000  1423.541   333.531  1.000  1229.000  1461.000   \n",
       "Weight_kg        8945.000  1351.107   220.662  1.000  1165.000  1288.000   \n",
       "cons_comb       13886.000     4.896     1.635  0.000     4.100     4.800   \n",
       "cons_city       13483.000     5.948     1.967  0.000     4.700     5.800   \n",
       "cons_country    13543.000     4.238     1.194  0.000     3.700     4.200   \n",
       "CO2_Emission    13483.000   123.740   269.952  0.000   104.000   116.000   \n",
       "\n",
       "                      75%        max  \n",
       "price           21900.000  74600.000  \n",
       "km              49371.500 317000.000  \n",
       "Warranty           24.000     72.000  \n",
       "Cylinders           4.000      8.000  \n",
       "Gears               6.000     50.000  \n",
       "age                 3.000      3.000  \n",
       "Previous_Owners     1.000      4.000  \n",
       "hp_kW             101.000    294.000  \n",
       "Nr_of_Doors         5.000      7.000  \n",
       "Nr_of_Seats         5.000      7.000  \n",
       "Displacement_cc  1598.000  16000.000  \n",
       "Weight_kg        1487.000   2471.000  \n",
       "cons_comb           5.500     55.000  \n",
       "cons_city           7.000     66.000  \n",
       "cons_country        4.600     44.000  \n",
       "CO2_Emission      129.000  14457.000  "
      ]
     },
     "execution_count": 425,
     "metadata": {},
     "output_type": "execute_result"
    }
   ],
   "source": [
    "df.describe().T"
   ]
  },
  {
   "cell_type": "code",
   "execution_count": 426,
   "id": "197152df",
   "metadata": {
    "scrolled": true
   },
   "outputs": [
    {
     "data": {
      "text/html": [
       "<div>\n",
       "<style scoped>\n",
       "    .dataframe tbody tr th:only-of-type {\n",
       "        vertical-align: middle;\n",
       "    }\n",
       "\n",
       "    .dataframe tbody tr th {\n",
       "        vertical-align: top;\n",
       "    }\n",
       "\n",
       "    .dataframe thead th {\n",
       "        text-align: right;\n",
       "    }\n",
       "</style>\n",
       "<table border=\"1\" class=\"dataframe\">\n",
       "  <thead>\n",
       "    <tr style=\"text-align: right;\">\n",
       "      <th></th>\n",
       "      <th>count</th>\n",
       "      <th>unique</th>\n",
       "      <th>top</th>\n",
       "      <th>freq</th>\n",
       "    </tr>\n",
       "  </thead>\n",
       "  <tbody>\n",
       "    <tr>\n",
       "      <th>make_model</th>\n",
       "      <td>15919</td>\n",
       "      <td>9</td>\n",
       "      <td>Audi A3</td>\n",
       "      <td>3097</td>\n",
       "    </tr>\n",
       "    <tr>\n",
       "      <th>body_type</th>\n",
       "      <td>15859</td>\n",
       "      <td>9</td>\n",
       "      <td>Sedans</td>\n",
       "      <td>7903</td>\n",
       "    </tr>\n",
       "    <tr>\n",
       "      <th>vat</th>\n",
       "      <td>11406</td>\n",
       "      <td>2</td>\n",
       "      <td>VAT deductible</td>\n",
       "      <td>10980</td>\n",
       "    </tr>\n",
       "    <tr>\n",
       "      <th>Type</th>\n",
       "      <td>15917</td>\n",
       "      <td>5</td>\n",
       "      <td>Used</td>\n",
       "      <td>11096</td>\n",
       "    </tr>\n",
       "    <tr>\n",
       "      <th>Fuel</th>\n",
       "      <td>15919</td>\n",
       "      <td>4</td>\n",
       "      <td>Benzine</td>\n",
       "      <td>8551</td>\n",
       "    </tr>\n",
       "    <tr>\n",
       "      <th>Comfort_Convenience</th>\n",
       "      <td>14999</td>\n",
       "      <td>6198</td>\n",
       "      <td>Air conditioning, Electrical side mirrors, Hil...</td>\n",
       "      <td>216</td>\n",
       "    </tr>\n",
       "    <tr>\n",
       "      <th>Entertainment_Media</th>\n",
       "      <td>14545</td>\n",
       "      <td>346</td>\n",
       "      <td>Bluetooth, Hands-free equipment, On-board comp...</td>\n",
       "      <td>1282</td>\n",
       "    </tr>\n",
       "    <tr>\n",
       "      <th>Extras</th>\n",
       "      <td>12957</td>\n",
       "      <td>659</td>\n",
       "      <td>Alloy wheels</td>\n",
       "      <td>3245</td>\n",
       "    </tr>\n",
       "    <tr>\n",
       "      <th>Safety_Security</th>\n",
       "      <td>14937</td>\n",
       "      <td>4443</td>\n",
       "      <td>ABS, Central door lock, Daytime running lights...</td>\n",
       "      <td>538</td>\n",
       "    </tr>\n",
       "    <tr>\n",
       "      <th>Inspection_new</th>\n",
       "      <td>3932</td>\n",
       "      <td>1</td>\n",
       "      <td>Yes</td>\n",
       "      <td>3932</td>\n",
       "    </tr>\n",
       "    <tr>\n",
       "      <th>Paint_Type</th>\n",
       "      <td>10147</td>\n",
       "      <td>3</td>\n",
       "      <td>Metallic</td>\n",
       "      <td>9794</td>\n",
       "    </tr>\n",
       "    <tr>\n",
       "      <th>Upholstery_type</th>\n",
       "      <td>11048</td>\n",
       "      <td>5</td>\n",
       "      <td>Cloth</td>\n",
       "      <td>8423</td>\n",
       "    </tr>\n",
       "    <tr>\n",
       "      <th>Upholstery_color</th>\n",
       "      <td>10841</td>\n",
       "      <td>10</td>\n",
       "      <td>Black</td>\n",
       "      <td>8201</td>\n",
       "    </tr>\n",
       "    <tr>\n",
       "      <th>Gearing_Type</th>\n",
       "      <td>15919</td>\n",
       "      <td>3</td>\n",
       "      <td>Manual</td>\n",
       "      <td>8153</td>\n",
       "    </tr>\n",
       "    <tr>\n",
       "      <th>Drive_chain</th>\n",
       "      <td>9061</td>\n",
       "      <td>3</td>\n",
       "      <td>front</td>\n",
       "      <td>8886</td>\n",
       "    </tr>\n",
       "    <tr>\n",
       "      <th>Emission_Class</th>\n",
       "      <td>12291</td>\n",
       "      <td>3</td>\n",
       "      <td>Euro 6</td>\n",
       "      <td>12173</td>\n",
       "    </tr>\n",
       "  </tbody>\n",
       "</table>\n",
       "</div>"
      ],
      "text/plain": [
       "                     count unique  \\\n",
       "make_model           15919      9   \n",
       "body_type            15859      9   \n",
       "vat                  11406      2   \n",
       "Type                 15917      5   \n",
       "Fuel                 15919      4   \n",
       "Comfort_Convenience  14999   6198   \n",
       "Entertainment_Media  14545    346   \n",
       "Extras               12957    659   \n",
       "Safety_Security      14937   4443   \n",
       "Inspection_new        3932      1   \n",
       "Paint_Type           10147      3   \n",
       "Upholstery_type      11048      5   \n",
       "Upholstery_color     10841     10   \n",
       "Gearing_Type         15919      3   \n",
       "Drive_chain           9061      3   \n",
       "Emission_Class       12291      3   \n",
       "\n",
       "                                                                   top   freq  \n",
       "make_model                                                     Audi A3   3097  \n",
       "body_type                                                       Sedans   7903  \n",
       "vat                                                     VAT deductible  10980  \n",
       "Type                                                              Used  11096  \n",
       "Fuel                                                           Benzine   8551  \n",
       "Comfort_Convenience  Air conditioning, Electrical side mirrors, Hil...    216  \n",
       "Entertainment_Media  Bluetooth, Hands-free equipment, On-board comp...   1282  \n",
       "Extras                                                    Alloy wheels   3245  \n",
       "Safety_Security      ABS, Central door lock, Daytime running lights...    538  \n",
       "Inspection_new                                                     Yes   3932  \n",
       "Paint_Type                                                    Metallic   9794  \n",
       "Upholstery_type                                                  Cloth   8423  \n",
       "Upholstery_color                                                 Black   8201  \n",
       "Gearing_Type                                                    Manual   8153  \n",
       "Drive_chain                                                      front   8886  \n",
       "Emission_Class                                                  Euro 6  12173  "
      ]
     },
     "execution_count": 426,
     "metadata": {},
     "output_type": "execute_result"
    }
   ],
   "source": [
    "df.describe(include=[object]).T"
   ]
  },
  {
   "cell_type": "code",
   "execution_count": 427,
   "id": "21c1bf2d",
   "metadata": {},
   "outputs": [
    {
     "data": {
      "text/html": [
       "<div>\n",
       "<style scoped>\n",
       "    .dataframe tbody tr th:only-of-type {\n",
       "        vertical-align: middle;\n",
       "    }\n",
       "\n",
       "    .dataframe tbody tr th {\n",
       "        vertical-align: top;\n",
       "    }\n",
       "\n",
       "    .dataframe thead th {\n",
       "        text-align: right;\n",
       "    }\n",
       "</style>\n",
       "<table border=\"1\" class=\"dataframe\">\n",
       "  <thead>\n",
       "    <tr style=\"text-align: right;\">\n",
       "      <th></th>\n",
       "      <th>Columns</th>\n",
       "      <th>isnull</th>\n",
       "      <th>percentage_null</th>\n",
       "    </tr>\n",
       "  </thead>\n",
       "  <tbody>\n",
       "    <tr>\n",
       "      <th>0</th>\n",
       "      <td>make_model</td>\n",
       "      <td>0</td>\n",
       "      <td>0.000</td>\n",
       "    </tr>\n",
       "    <tr>\n",
       "      <th>1</th>\n",
       "      <td>body_type</td>\n",
       "      <td>60</td>\n",
       "      <td>0.377</td>\n",
       "    </tr>\n",
       "    <tr>\n",
       "      <th>2</th>\n",
       "      <td>price</td>\n",
       "      <td>0</td>\n",
       "      <td>0.000</td>\n",
       "    </tr>\n",
       "    <tr>\n",
       "      <th>3</th>\n",
       "      <td>vat</td>\n",
       "      <td>4513</td>\n",
       "      <td>28.350</td>\n",
       "    </tr>\n",
       "    <tr>\n",
       "      <th>4</th>\n",
       "      <td>km</td>\n",
       "      <td>1024</td>\n",
       "      <td>6.433</td>\n",
       "    </tr>\n",
       "    <tr>\n",
       "      <th>5</th>\n",
       "      <td>Type</td>\n",
       "      <td>2</td>\n",
       "      <td>0.013</td>\n",
       "    </tr>\n",
       "    <tr>\n",
       "      <th>6</th>\n",
       "      <td>Warranty</td>\n",
       "      <td>11066</td>\n",
       "      <td>69.514</td>\n",
       "    </tr>\n",
       "    <tr>\n",
       "      <th>7</th>\n",
       "      <td>Cylinders</td>\n",
       "      <td>5680</td>\n",
       "      <td>35.681</td>\n",
       "    </tr>\n",
       "    <tr>\n",
       "      <th>8</th>\n",
       "      <td>Fuel</td>\n",
       "      <td>0</td>\n",
       "      <td>0.000</td>\n",
       "    </tr>\n",
       "    <tr>\n",
       "      <th>9</th>\n",
       "      <td>Gears</td>\n",
       "      <td>4712</td>\n",
       "      <td>29.600</td>\n",
       "    </tr>\n",
       "    <tr>\n",
       "      <th>10</th>\n",
       "      <td>Comfort_Convenience</td>\n",
       "      <td>920</td>\n",
       "      <td>5.779</td>\n",
       "    </tr>\n",
       "    <tr>\n",
       "      <th>11</th>\n",
       "      <td>Entertainment_Media</td>\n",
       "      <td>1374</td>\n",
       "      <td>8.631</td>\n",
       "    </tr>\n",
       "    <tr>\n",
       "      <th>12</th>\n",
       "      <td>Extras</td>\n",
       "      <td>2962</td>\n",
       "      <td>18.607</td>\n",
       "    </tr>\n",
       "    <tr>\n",
       "      <th>13</th>\n",
       "      <td>Safety_Security</td>\n",
       "      <td>982</td>\n",
       "      <td>6.169</td>\n",
       "    </tr>\n",
       "    <tr>\n",
       "      <th>14</th>\n",
       "      <td>age</td>\n",
       "      <td>1597</td>\n",
       "      <td>10.032</td>\n",
       "    </tr>\n",
       "    <tr>\n",
       "      <th>15</th>\n",
       "      <td>Previous_Owners</td>\n",
       "      <td>6640</td>\n",
       "      <td>41.711</td>\n",
       "    </tr>\n",
       "    <tr>\n",
       "      <th>16</th>\n",
       "      <td>hp_kW</td>\n",
       "      <td>88</td>\n",
       "      <td>0.553</td>\n",
       "    </tr>\n",
       "    <tr>\n",
       "      <th>17</th>\n",
       "      <td>Inspection_new</td>\n",
       "      <td>11987</td>\n",
       "      <td>75.300</td>\n",
       "    </tr>\n",
       "    <tr>\n",
       "      <th>18</th>\n",
       "      <td>Paint_Type</td>\n",
       "      <td>5772</td>\n",
       "      <td>36.259</td>\n",
       "    </tr>\n",
       "    <tr>\n",
       "      <th>19</th>\n",
       "      <td>Upholstery_type</td>\n",
       "      <td>4871</td>\n",
       "      <td>30.599</td>\n",
       "    </tr>\n",
       "    <tr>\n",
       "      <th>20</th>\n",
       "      <td>Upholstery_color</td>\n",
       "      <td>5078</td>\n",
       "      <td>31.899</td>\n",
       "    </tr>\n",
       "    <tr>\n",
       "      <th>21</th>\n",
       "      <td>Nr_of_Doors</td>\n",
       "      <td>212</td>\n",
       "      <td>1.332</td>\n",
       "    </tr>\n",
       "    <tr>\n",
       "      <th>22</th>\n",
       "      <td>Nr_of_Seats</td>\n",
       "      <td>977</td>\n",
       "      <td>6.137</td>\n",
       "    </tr>\n",
       "    <tr>\n",
       "      <th>23</th>\n",
       "      <td>Gearing_Type</td>\n",
       "      <td>0</td>\n",
       "      <td>0.000</td>\n",
       "    </tr>\n",
       "    <tr>\n",
       "      <th>24</th>\n",
       "      <td>Displacement_cc</td>\n",
       "      <td>496</td>\n",
       "      <td>3.116</td>\n",
       "    </tr>\n",
       "    <tr>\n",
       "      <th>25</th>\n",
       "      <td>Weight_kg</td>\n",
       "      <td>6974</td>\n",
       "      <td>43.809</td>\n",
       "    </tr>\n",
       "    <tr>\n",
       "      <th>26</th>\n",
       "      <td>Drive_chain</td>\n",
       "      <td>6858</td>\n",
       "      <td>43.081</td>\n",
       "    </tr>\n",
       "    <tr>\n",
       "      <th>27</th>\n",
       "      <td>cons_comb</td>\n",
       "      <td>2033</td>\n",
       "      <td>12.771</td>\n",
       "    </tr>\n",
       "    <tr>\n",
       "      <th>28</th>\n",
       "      <td>cons_city</td>\n",
       "      <td>2436</td>\n",
       "      <td>15.302</td>\n",
       "    </tr>\n",
       "    <tr>\n",
       "      <th>29</th>\n",
       "      <td>cons_country</td>\n",
       "      <td>2376</td>\n",
       "      <td>14.926</td>\n",
       "    </tr>\n",
       "    <tr>\n",
       "      <th>30</th>\n",
       "      <td>CO2_Emission</td>\n",
       "      <td>2436</td>\n",
       "      <td>15.302</td>\n",
       "    </tr>\n",
       "    <tr>\n",
       "      <th>31</th>\n",
       "      <td>Emission_Class</td>\n",
       "      <td>3628</td>\n",
       "      <td>22.790</td>\n",
       "    </tr>\n",
       "  </tbody>\n",
       "</table>\n",
       "</div>"
      ],
      "text/plain": [
       "                Columns  isnull  percentage_null\n",
       "0            make_model       0            0.000\n",
       "1             body_type      60            0.377\n",
       "2                 price       0            0.000\n",
       "3                   vat    4513           28.350\n",
       "4                    km    1024            6.433\n",
       "5                  Type       2            0.013\n",
       "6              Warranty   11066           69.514\n",
       "7             Cylinders    5680           35.681\n",
       "8                  Fuel       0            0.000\n",
       "9                 Gears    4712           29.600\n",
       "10  Comfort_Convenience     920            5.779\n",
       "11  Entertainment_Media    1374            8.631\n",
       "12               Extras    2962           18.607\n",
       "13      Safety_Security     982            6.169\n",
       "14                  age    1597           10.032\n",
       "15      Previous_Owners    6640           41.711\n",
       "16                hp_kW      88            0.553\n",
       "17       Inspection_new   11987           75.300\n",
       "18           Paint_Type    5772           36.259\n",
       "19      Upholstery_type    4871           30.599\n",
       "20     Upholstery_color    5078           31.899\n",
       "21          Nr_of_Doors     212            1.332\n",
       "22          Nr_of_Seats     977            6.137\n",
       "23         Gearing_Type       0            0.000\n",
       "24      Displacement_cc     496            3.116\n",
       "25            Weight_kg    6974           43.809\n",
       "26          Drive_chain    6858           43.081\n",
       "27            cons_comb    2033           12.771\n",
       "28            cons_city    2436           15.302\n",
       "29         cons_country    2376           14.926\n",
       "30         CO2_Emission    2436           15.302\n",
       "31       Emission_Class    3628           22.790"
      ]
     },
     "execution_count": 427,
     "metadata": {},
     "output_type": "execute_result"
    }
   ],
   "source": [
    "isnull = pd.DataFrame(df.isnull().sum(), columns = ['isnull'])\n",
    "percentage_null = pd.DataFrame(df.isnull().sum()/df.shape[0]*100, columns = ['percentage_null'])\n",
    "\n",
    "summary_null = pd.concat([isnull, percentage_null], axis = 1).reset_index().rename({'index':'Columns'},axis = 1)\n",
    "summary_null"
   ]
  },
  {
   "cell_type": "code",
   "execution_count": 428,
   "id": "4e224f8e",
   "metadata": {},
   "outputs": [
    {
     "name": "stdout",
     "output_type": "stream",
     "text": [
      "Columns that have missing values :\n"
     ]
    },
    {
     "data": {
      "text/plain": [
       "['body_type',\n",
       " 'vat',\n",
       " 'km',\n",
       " 'Type',\n",
       " 'Warranty',\n",
       " 'Cylinders',\n",
       " 'Gears',\n",
       " 'Comfort_Convenience',\n",
       " 'Entertainment_Media',\n",
       " 'Extras',\n",
       " 'Safety_Security',\n",
       " 'age',\n",
       " 'Previous_Owners',\n",
       " 'hp_kW',\n",
       " 'Inspection_new',\n",
       " 'Paint_Type',\n",
       " 'Upholstery_type',\n",
       " 'Upholstery_color',\n",
       " 'Nr_of_Doors',\n",
       " 'Nr_of_Seats',\n",
       " 'Displacement_cc',\n",
       " 'Weight_kg',\n",
       " 'Drive_chain',\n",
       " 'cons_comb',\n",
       " 'cons_city',\n",
       " 'cons_country',\n",
       " 'CO2_Emission',\n",
       " 'Emission_Class']"
      ]
     },
     "execution_count": 428,
     "metadata": {},
     "output_type": "execute_result"
    }
   ],
   "source": [
    "miss_val = []\n",
    "\n",
    "[miss_val.append(column) for column in df.columns if any(df[column].isnull())]\n",
    "\n",
    "print(\"Columns that have missing values :\")\n",
    "\n",
    "miss_val"
   ]
  },
  {
   "cell_type": "code",
   "execution_count": 429,
   "id": "ee1b3a90",
   "metadata": {},
   "outputs": [],
   "source": [
    "# function for first looking to the columns\n",
    "\n",
    "def first_looking(col):\n",
    "    print(\"column name    : \", col)\n",
    "    print(\"--------------------------------\")\n",
    "    print(\"per_of_nulls   : \", \"%\", round(df[col].isnull().sum()*100 / df.shape[0], 2))\n",
    "    print(\"num_of_nulls   : \", df[col].isnull().sum())\n",
    "    print(\"num_of_uniques : \", df[col].nunique())\n",
    "    print(\"--------------------------------\")\n",
    "    print(df[col].value_counts(dropna = False))"
   ]
  },
  {
   "cell_type": "markdown",
   "id": "cc2bd8bf",
   "metadata": {
    "id": "FuGUg5unWDTx"
   },
   "source": [
    "## functions to fill the missing values"
   ]
  },
  {
   "cell_type": "code",
   "execution_count": 430,
   "id": "a450a05e",
   "metadata": {
    "id": "XChFpycCWDTx"
   },
   "outputs": [],
   "source": [
    "def fill_most_freq(df, group_col, col_name):\n",
    "    \n",
    "    '''Fills the missing values with the most existing value (mode) in the relevant column according to single-stage grouping'''\n",
    "    \n",
    "    for group in list(df[group_col].unique()):\n",
    "        cond = df[group_col]==group\n",
    "        mode = list(df[cond][col_name].mode())\n",
    "        if mode != []:\n",
    "            df.loc[cond, col_name] = df.loc[cond, col_name].fillna(df[cond][col_name].mode()[0])\n",
    "        else:\n",
    "            df.loc[cond, col_name] = df.loc[cond, col_name].fillna(df[col_name].mode()[0])\n",
    "    print(\"Number of NaN : \", df[col_name].isnull().sum())\n",
    "    print(\"------------------\")\n",
    "    print(df[col_name].value_counts(dropna=False))"
   ]
  },
  {
   "cell_type": "code",
   "execution_count": 431,
   "id": "ddbb4a07",
   "metadata": {
    "id": "u17x4aSHWDTy"
   },
   "outputs": [],
   "source": [
    "def fill_prop(df, group_col, col_name):\n",
    "    \n",
    "    '''Fills the missing values with \"ffill and bfill method\" according to single-stage grouping'''\n",
    "    \n",
    "    for group in list(df[group_col].unique()):\n",
    "        cond = df[group_col]==group\n",
    "        df.loc[cond, col_name] = df.loc[cond, col_name].fillna(method=\"ffill\").fillna(method=\"bfill\")\n",
    "    df[col_name] = df[col_name].fillna(method=\"ffill\").fillna(method=\"bfill\")\n",
    "    print(\"Number of NaN : \", df[col_name].isnull().sum())\n",
    "    print(\"------------------\")\n",
    "    print(df[col_name].value_counts(dropna=False))"
   ]
  },
  {
   "cell_type": "code",
   "execution_count": 432,
   "id": "015227f7",
   "metadata": {
    "id": "-vem3jIzWDTy"
   },
   "outputs": [],
   "source": [
    "def fill(df, group_col1, group_col2, col_name, method): # method can be either \"mode\" or \"mean\" or \"median\" or \"ffill\"\n",
    "    \n",
    "    '''Fills the missing values with \"mode/mean/median/ffill/bfill method\" according to double-stage grouping'''\n",
    "    \n",
    "    if method == \"mode\":\n",
    "        for group1 in list(df[group_col1].unique()):\n",
    "            for group2 in list(df[group_col2].unique()):\n",
    "                cond1 = df[group_col1]==group1\n",
    "                cond2 = (df[group_col1]==group1) & (df[group_col2]==group2)\n",
    "                mode1 = list(df[cond1][col_name].mode())\n",
    "                mode2 = list(df[cond2][col_name].mode())\n",
    "                if mode2 != []:\n",
    "                    df.loc[cond2, col_name] = df.loc[cond2, col_name].fillna(df[cond2][col_name].mode()[0])\n",
    "                elif mode1 != []:\n",
    "                    df.loc[cond2, col_name] = df.loc[cond2, col_name].fillna(df[cond1][col_name].mode()[0])\n",
    "                else:\n",
    "                    df.loc[cond2, col_name] = df.loc[cond2, col_name].fillna(df[col_name].mode()[0])\n",
    "\n",
    "    elif method == \"mean\":\n",
    "        df[col_name].fillna(df.groupby([group_col1, group_col2])[col_name].transform(\"mean\"), inplace = True)\n",
    "        df[col_name].fillna(df.groupby(group_col1)[col_name].transform(\"mean\"), inplace = True)\n",
    "        df[col_name].fillna(df[col_name].mean(), inplace = True)\n",
    "        \n",
    "    elif method == \"median\":\n",
    "        df[col_name].fillna(df.groupby([group_col1, group_col2])[col_name].transform(\"median\"), inplace = True)\n",
    "        df[col_name].fillna(df.groupby(group_col1)[col_name].transform(\"median\"), inplace = True)\n",
    "        df[col_name].fillna(df[col_name].median(), inplace = True)\n",
    "        \n",
    "    elif method == \"ffill\":           \n",
    "        for group1 in list(df[group_col1].unique()):\n",
    "            for group2 in list(df[group_col2].unique()):\n",
    "                cond2 = (df[group_col1]==group1) & (df[group_col2]==group2)\n",
    "                df.loc[cond2, col_name] = df.loc[cond2, col_name].fillna(method=\"ffill\").fillna(method=\"bfill\")\n",
    "                \n",
    "        for group1 in list(df[group_col1].unique()):\n",
    "            cond1 = df[group_col1]==group1\n",
    "            df.loc[cond1, col_name] = df.loc[cond1, col_name].fillna(method=\"ffill\").fillna(method=\"bfill\")            \n",
    "           \n",
    "        df[col_name] = df[col_name].fillna(method=\"ffill\").fillna(method=\"bfill\")\n",
    "    \n",
    "    print(\"Number of NaN : \",df[col_name].isnull().sum())\n",
    "    print(\"------------------\")\n",
    "    print(df[col_name].value_counts(dropna=False))"
   ]
  },
  {
   "cell_type": "markdown",
   "id": "4a878904",
   "metadata": {},
   "source": [
    "# The Examination of Missing Values in the Columns"
   ]
  },
  {
   "cell_type": "markdown",
   "id": "a7341c28",
   "metadata": {
    "id": "nzQxDA19WDTy"
   },
   "source": [
    "## age"
   ]
  },
  {
   "cell_type": "code",
   "execution_count": 433,
   "id": "30883837",
   "metadata": {
    "id": "h5nGiI_JWDTz",
    "outputId": "3632bb4e-5032-4f3c-f017-75386c8ed585",
    "scrolled": true
   },
   "outputs": [
    {
     "name": "stdout",
     "output_type": "stream",
     "text": [
      "column name    :  age\n",
      "--------------------------------\n",
      "per_of_nulls   :  % 10.03\n",
      "num_of_nulls   :  1597\n",
      "num_of_uniques :  4\n",
      "--------------------------------\n",
      "1.000    4522\n",
      "3.000    3674\n",
      "2.000    3273\n",
      "0.000    2853\n",
      "NaN      1597\n",
      "Name: age, dtype: int64\n"
     ]
    }
   ],
   "source": [
    "first_looking(\"age\")"
   ]
  },
  {
   "cell_type": "code",
   "execution_count": 434,
   "id": "87003514",
   "metadata": {
    "id": "QrwAnKo9WDTz"
   },
   "outputs": [],
   "source": [
    "df['age'].fillna('-', inplace=True)"
   ]
  },
  {
   "cell_type": "markdown",
   "id": "253cd4d9",
   "metadata": {
    "id": "Sx5LSO3GWDTz"
   },
   "source": [
    "**``describe()``** does **NOT** return anything for \"NaN\" values. If you have **``\"Nan\"``** at the column you are interested in, you should replace these \"nan\" values with something else. In our case, we have replaced the **``\"NaN\"``** values with **``\"-\"``** so that we could implement the \"describe\" method."
   ]
  },
  {
   "cell_type": "code",
   "execution_count": 435,
   "id": "ba187688",
   "metadata": {
    "id": "lyn4P94oWDTz",
    "outputId": "35c55cf6-adba-4156-ea21-6a4ded50e74a",
    "scrolled": true
   },
   "outputs": [
    {
     "data": {
      "text/plain": [
       "1.0    4522\n",
       "3.0    3674\n",
       "2.0    3273\n",
       "0.0    2853\n",
       "-      1597\n",
       "Name: age, dtype: int64"
      ]
     },
     "execution_count": 435,
     "metadata": {},
     "output_type": "execute_result"
    }
   ],
   "source": [
    "df[\"age\"].value_counts(dropna=False)"
   ]
  },
  {
   "cell_type": "code",
   "execution_count": 436,
   "id": "c5e74217",
   "metadata": {
    "id": "5bFEpRRXWDTz",
    "outputId": "8d6a597a-4239-4e6a-c7a3-dce8fc790627",
    "scrolled": true
   },
   "outputs": [
    {
     "data": {
      "text/html": [
       "<div>\n",
       "<style scoped>\n",
       "    .dataframe tbody tr th:only-of-type {\n",
       "        vertical-align: middle;\n",
       "    }\n",
       "\n",
       "    .dataframe tbody tr th {\n",
       "        vertical-align: top;\n",
       "    }\n",
       "\n",
       "    .dataframe thead th {\n",
       "        text-align: right;\n",
       "    }\n",
       "</style>\n",
       "<table border=\"1\" class=\"dataframe\">\n",
       "  <thead>\n",
       "    <tr style=\"text-align: right;\">\n",
       "      <th></th>\n",
       "      <th>count</th>\n",
       "      <th>mean</th>\n",
       "      <th>std</th>\n",
       "      <th>min</th>\n",
       "      <th>25%</th>\n",
       "      <th>50%</th>\n",
       "      <th>75%</th>\n",
       "      <th>max</th>\n",
       "    </tr>\n",
       "    <tr>\n",
       "      <th>age</th>\n",
       "      <th></th>\n",
       "      <th></th>\n",
       "      <th></th>\n",
       "      <th></th>\n",
       "      <th></th>\n",
       "      <th></th>\n",
       "      <th></th>\n",
       "      <th></th>\n",
       "    </tr>\n",
       "  </thead>\n",
       "  <tbody>\n",
       "    <tr>\n",
       "      <th>0.0</th>\n",
       "      <td>2706.000</td>\n",
       "      <td>2085.355</td>\n",
       "      <td>5365.881</td>\n",
       "      <td>1.000</td>\n",
       "      <td>10.000</td>\n",
       "      <td>50.000</td>\n",
       "      <td>3000.000</td>\n",
       "      <td>127022.000</td>\n",
       "    </tr>\n",
       "    <tr>\n",
       "      <th>1.0</th>\n",
       "      <td>4484.000</td>\n",
       "      <td>18035.239</td>\n",
       "      <td>11052.524</td>\n",
       "      <td>1.000</td>\n",
       "      <td>9990.000</td>\n",
       "      <td>17872.000</td>\n",
       "      <td>25078.500</td>\n",
       "      <td>136000.000</td>\n",
       "    </tr>\n",
       "    <tr>\n",
       "      <th>2.0</th>\n",
       "      <td>3272.000</td>\n",
       "      <td>41754.941</td>\n",
       "      <td>28295.748</td>\n",
       "      <td>1.000</td>\n",
       "      <td>21541.750</td>\n",
       "      <td>34752.000</td>\n",
       "      <td>54805.500</td>\n",
       "      <td>317000.000</td>\n",
       "    </tr>\n",
       "    <tr>\n",
       "      <th>3.0</th>\n",
       "      <td>3674.000</td>\n",
       "      <td>77442.521</td>\n",
       "      <td>39170.143</td>\n",
       "      <td>10.000</td>\n",
       "      <td>48000.000</td>\n",
       "      <td>72914.500</td>\n",
       "      <td>99950.000</td>\n",
       "      <td>291800.000</td>\n",
       "    </tr>\n",
       "    <tr>\n",
       "      <th>-</th>\n",
       "      <td>759.000</td>\n",
       "      <td>934.497</td>\n",
       "      <td>7416.244</td>\n",
       "      <td>0.000</td>\n",
       "      <td>5.000</td>\n",
       "      <td>10.000</td>\n",
       "      <td>10.000</td>\n",
       "      <td>89982.000</td>\n",
       "    </tr>\n",
       "  </tbody>\n",
       "</table>\n",
       "</div>"
      ],
      "text/plain": [
       "       count      mean       std    min       25%       50%       75%  \\\n",
       "age                                                                     \n",
       "0.0 2706.000  2085.355  5365.881  1.000    10.000    50.000  3000.000   \n",
       "1.0 4484.000 18035.239 11052.524  1.000  9990.000 17872.000 25078.500   \n",
       "2.0 3272.000 41754.941 28295.748  1.000 21541.750 34752.000 54805.500   \n",
       "3.0 3674.000 77442.521 39170.143 10.000 48000.000 72914.500 99950.000   \n",
       "-    759.000   934.497  7416.244  0.000     5.000    10.000    10.000   \n",
       "\n",
       "           max  \n",
       "age             \n",
       "0.0 127022.000  \n",
       "1.0 136000.000  \n",
       "2.0 317000.000  \n",
       "3.0 291800.000  \n",
       "-    89982.000  "
      ]
     },
     "execution_count": 436,
     "metadata": {},
     "output_type": "execute_result"
    }
   ],
   "source": [
    "df.groupby(\"age\").km.describe()"
   ]
  },
  {
   "cell_type": "code",
   "execution_count": 437,
   "id": "b2c6994f",
   "metadata": {
    "id": "D8PHpv_tWDT0",
    "outputId": "4dce522a-b47a-4cdc-8164-714717aaf63e",
    "scrolled": true
   },
   "outputs": [
    {
     "data": {
      "text/plain": [
       "NaN          838\n",
       "10.000       369\n",
       "1.000        146\n",
       "5.000         58\n",
       "20.000        32\n",
       "15.000        21\n",
       "0.000         19\n",
       "11.000        12\n",
       "8.000         11\n",
       "50.000        10\n",
       "12.000         8\n",
       "100.000        8\n",
       "7.000          7\n",
       "3.000          4\n",
       "9.000          4\n",
       "4.000          3\n",
       "250.000        3\n",
       "25.000         3\n",
       "30.000         3\n",
       "3000.000       2\n",
       "39962.000      2\n",
       "2.000          2\n",
       "22627.000      2\n",
       "784.000        1\n",
       "89692.000      1\n",
       "3500.000       1\n",
       "325.000        1\n",
       "497.000        1\n",
       "99.000         1\n",
       "77.000         1\n",
       "40.000         1\n",
       "19500.000      1\n",
       "6100.000       1\n",
       "11000.000      1\n",
       "89982.000      1\n",
       "4307.000       1\n",
       "141.000        1\n",
       "34164.000      1\n",
       "500.000        1\n",
       "150.000        1\n",
       "11200.000      1\n",
       "20768.000      1\n",
       "32084.000      1\n",
       "142.000        1\n",
       "81800.000      1\n",
       "281.000        1\n",
       "6.000          1\n",
       "68485.000      1\n",
       "85000.000      1\n",
       "196.000        1\n",
       "4500.000       1\n",
       "60.000         1\n",
       "5000.000       1\n",
       "Name: km, dtype: int64"
      ]
     },
     "execution_count": 437,
     "metadata": {},
     "output_type": "execute_result"
    }
   ],
   "source": [
    "df[df[\"age\"] == \"-\"][\"km\"].value_counts(dropna=False)"
   ]
  },
  {
   "cell_type": "code",
   "execution_count": 438,
   "id": "67d2f2ef",
   "metadata": {
    "id": "YWJXEzOjWDT0"
   },
   "outputs": [],
   "source": [
    "cond0 = (df['km'] < 10000)\n",
    "cond1 = ((df['km'] >= 10000) & (df['km'] < 28000))\n",
    "cond2 = ((df['km'] >= 28000) & (df['km'] < 50000))\n",
    "cond3 = (df['km'] >= 50000)"
   ]
  },
  {
   "cell_type": "markdown",
   "id": "e4262256",
   "metadata": {
    "id": "x85h8Mw3WDT0"
   },
   "source": [
    "**Let us use replace() function to fill missing values at \"age\" column with proper values.**"
   ]
  },
  {
   "cell_type": "code",
   "execution_count": 439,
   "id": "90a026d2",
   "metadata": {
    "id": "F0rgmd9WWDT0"
   },
   "outputs": [],
   "source": [
    "df.loc[cond0,'age'] = df.loc[cond0,'age'].replace('-', 0)\n",
    "df.loc[cond1,'age'] = df.loc[cond1,'age'].replace('-', 1)\n",
    "df.loc[cond2,'age'] = df.loc[cond2,'age'].replace('-', 2)\n",
    "df.loc[cond3,'age'] = df.loc[cond3,'age'].replace('-', 3)"
   ]
  },
  {
   "cell_type": "code",
   "execution_count": 440,
   "id": "4f8b57ff",
   "metadata": {
    "id": "Bl5dfB-ZWDT1",
    "outputId": "cd803081-015b-4def-93e5-6f05d08bbf5d",
    "scrolled": true
   },
   "outputs": [
    {
     "data": {
      "text/plain": [
       "age\n",
       "0.0    1647.363\n",
       "1.0   18035.130\n",
       "2.0   41748.577\n",
       "3.0   77450.063\n",
       "-           NaN\n",
       "Name: km, dtype: float64"
      ]
     },
     "execution_count": 440,
     "metadata": {},
     "output_type": "execute_result"
    }
   ],
   "source": [
    "df.groupby('age').km.mean()"
   ]
  },
  {
   "cell_type": "markdown",
   "id": "9fe892a1",
   "metadata": {
    "id": "mfmUF_oWWDT1"
   },
   "source": [
    "**After filling the \"missing values\", we see that the mean of \"km\" for each \"age\" group is very close to the old averages.**"
   ]
  },
  {
   "cell_type": "code",
   "execution_count": 441,
   "id": "26c6f7c1",
   "metadata": {
    "id": "SMGkvHNNWDT1",
    "outputId": "1b40306e-9fa1-4416-a932-1a5bcc67d7c8",
    "scrolled": true
   },
   "outputs": [
    {
     "data": {
      "text/plain": [
       "1.0    4528\n",
       "3.0    3679\n",
       "0.0    3597\n",
       "2.0    3277\n",
       "-       838\n",
       "Name: age, dtype: int64"
      ]
     },
     "execution_count": 441,
     "metadata": {},
     "output_type": "execute_result"
    }
   ],
   "source": [
    "df[\"age\"].value_counts(dropna=False)"
   ]
  },
  {
   "cell_type": "markdown",
   "id": "17d1f40c",
   "metadata": {
    "id": "dlGrBc3DWDT1"
   },
   "source": [
    "**However, there have still been some missing values represented by \"-\"** "
   ]
  },
  {
   "cell_type": "code",
   "execution_count": 442,
   "id": "fb8e677c",
   "metadata": {
    "id": "5-0saA81WDT2",
    "outputId": "263937e5-067a-4182-b136-ced25eac201c",
    "scrolled": true
   },
   "outputs": [
    {
     "data": {
      "text/html": [
       "<div>\n",
       "<style scoped>\n",
       "    .dataframe tbody tr th:only-of-type {\n",
       "        vertical-align: middle;\n",
       "    }\n",
       "\n",
       "    .dataframe tbody tr th {\n",
       "        vertical-align: top;\n",
       "    }\n",
       "\n",
       "    .dataframe thead th {\n",
       "        text-align: right;\n",
       "    }\n",
       "</style>\n",
       "<table border=\"1\" class=\"dataframe\">\n",
       "  <thead>\n",
       "    <tr style=\"text-align: right;\">\n",
       "      <th></th>\n",
       "      <th></th>\n",
       "      <th></th>\n",
       "      <th>count</th>\n",
       "      <th>mean</th>\n",
       "      <th>std</th>\n",
       "      <th>min</th>\n",
       "      <th>25%</th>\n",
       "      <th>50%</th>\n",
       "      <th>75%</th>\n",
       "      <th>max</th>\n",
       "    </tr>\n",
       "    <tr>\n",
       "      <th>make_model</th>\n",
       "      <th>body_type</th>\n",
       "      <th>age</th>\n",
       "      <th></th>\n",
       "      <th></th>\n",
       "      <th></th>\n",
       "      <th></th>\n",
       "      <th></th>\n",
       "      <th></th>\n",
       "      <th></th>\n",
       "      <th></th>\n",
       "    </tr>\n",
       "  </thead>\n",
       "  <tbody>\n",
       "    <tr>\n",
       "      <th rowspan=\"21\" valign=\"top\">Audi A1</th>\n",
       "      <th rowspan=\"5\" valign=\"top\">Compact</th>\n",
       "      <th>0.0</th>\n",
       "      <td>198.000</td>\n",
       "      <td>23277.434</td>\n",
       "      <td>3510.406</td>\n",
       "      <td>14900.000</td>\n",
       "      <td>20503.500</td>\n",
       "      <td>22492.000</td>\n",
       "      <td>26798.500</td>\n",
       "      <td>31990.000</td>\n",
       "    </tr>\n",
       "    <tr>\n",
       "      <th>1.0</th>\n",
       "      <td>268.000</td>\n",
       "      <td>18596.041</td>\n",
       "      <td>2659.910</td>\n",
       "      <td>13980.000</td>\n",
       "      <td>16445.000</td>\n",
       "      <td>16980.000</td>\n",
       "      <td>20950.000</td>\n",
       "      <td>23829.000</td>\n",
       "    </tr>\n",
       "    <tr>\n",
       "      <th>2.0</th>\n",
       "      <td>161.000</td>\n",
       "      <td>16602.807</td>\n",
       "      <td>2085.384</td>\n",
       "      <td>10999.000</td>\n",
       "      <td>15450.000</td>\n",
       "      <td>15850.000</td>\n",
       "      <td>17700.000</td>\n",
       "      <td>22150.000</td>\n",
       "    </tr>\n",
       "    <tr>\n",
       "      <th>3.0</th>\n",
       "      <td>234.000</td>\n",
       "      <td>14532.910</td>\n",
       "      <td>1908.909</td>\n",
       "      <td>9950.000</td>\n",
       "      <td>13407.500</td>\n",
       "      <td>13994.500</td>\n",
       "      <td>15480.000</td>\n",
       "      <td>18900.000</td>\n",
       "    </tr>\n",
       "    <tr>\n",
       "      <th>-</th>\n",
       "      <td>178.000</td>\n",
       "      <td>23996.264</td>\n",
       "      <td>3383.852</td>\n",
       "      <td>16220.000</td>\n",
       "      <td>21515.000</td>\n",
       "      <td>22875.000</td>\n",
       "      <td>27380.000</td>\n",
       "      <td>29181.000</td>\n",
       "    </tr>\n",
       "    <tr>\n",
       "      <th rowspan=\"2\" valign=\"top\">Coupe</th>\n",
       "      <th>2.0</th>\n",
       "      <td>1.000</td>\n",
       "      <td>15900.000</td>\n",
       "      <td>NaN</td>\n",
       "      <td>15900.000</td>\n",
       "      <td>15900.000</td>\n",
       "      <td>15900.000</td>\n",
       "      <td>15900.000</td>\n",
       "      <td>15900.000</td>\n",
       "    </tr>\n",
       "    <tr>\n",
       "      <th>3.0</th>\n",
       "      <td>1.000</td>\n",
       "      <td>13950.000</td>\n",
       "      <td>NaN</td>\n",
       "      <td>13950.000</td>\n",
       "      <td>13950.000</td>\n",
       "      <td>13950.000</td>\n",
       "      <td>13950.000</td>\n",
       "      <td>13950.000</td>\n",
       "    </tr>\n",
       "    <tr>\n",
       "      <th rowspan=\"4\" valign=\"top\">Other</th>\n",
       "      <th>0.0</th>\n",
       "      <td>8.000</td>\n",
       "      <td>23826.250</td>\n",
       "      <td>2057.439</td>\n",
       "      <td>21490.000</td>\n",
       "      <td>22490.000</td>\n",
       "      <td>22720.000</td>\n",
       "      <td>25900.000</td>\n",
       "      <td>26900.000</td>\n",
       "    </tr>\n",
       "    <tr>\n",
       "      <th>1.0</th>\n",
       "      <td>3.000</td>\n",
       "      <td>16796.667</td>\n",
       "      <td>178.979</td>\n",
       "      <td>16590.000</td>\n",
       "      <td>16745.000</td>\n",
       "      <td>16900.000</td>\n",
       "      <td>16900.000</td>\n",
       "      <td>16900.000</td>\n",
       "    </tr>\n",
       "    <tr>\n",
       "      <th>2.0</th>\n",
       "      <td>1.000</td>\n",
       "      <td>23490.000</td>\n",
       "      <td>NaN</td>\n",
       "      <td>23490.000</td>\n",
       "      <td>23490.000</td>\n",
       "      <td>23490.000</td>\n",
       "      <td>23490.000</td>\n",
       "      <td>23490.000</td>\n",
       "    </tr>\n",
       "    <tr>\n",
       "      <th>-</th>\n",
       "      <td>1.000</td>\n",
       "      <td>21850.000</td>\n",
       "      <td>NaN</td>\n",
       "      <td>21850.000</td>\n",
       "      <td>21850.000</td>\n",
       "      <td>21850.000</td>\n",
       "      <td>21850.000</td>\n",
       "      <td>21850.000</td>\n",
       "    </tr>\n",
       "    <tr>\n",
       "      <th rowspan=\"5\" valign=\"top\">Sedans</th>\n",
       "      <th>0.0</th>\n",
       "      <td>368.000</td>\n",
       "      <td>24158.087</td>\n",
       "      <td>3196.985</td>\n",
       "      <td>15990.000</td>\n",
       "      <td>21797.500</td>\n",
       "      <td>23800.000</td>\n",
       "      <td>26890.000</td>\n",
       "      <td>37900.000</td>\n",
       "    </tr>\n",
       "    <tr>\n",
       "      <th>1.0</th>\n",
       "      <td>465.000</td>\n",
       "      <td>18394.938</td>\n",
       "      <td>2588.159</td>\n",
       "      <td>13450.000</td>\n",
       "      <td>16321.000</td>\n",
       "      <td>16950.000</td>\n",
       "      <td>20350.000</td>\n",
       "      <td>33900.000</td>\n",
       "    </tr>\n",
       "    <tr>\n",
       "      <th>2.0</th>\n",
       "      <td>266.000</td>\n",
       "      <td>16605.395</td>\n",
       "      <td>2223.979</td>\n",
       "      <td>11600.000</td>\n",
       "      <td>14955.000</td>\n",
       "      <td>15900.000</td>\n",
       "      <td>18000.000</td>\n",
       "      <td>22500.000</td>\n",
       "    </tr>\n",
       "    <tr>\n",
       "      <th>3.0</th>\n",
       "      <td>389.000</td>\n",
       "      <td>14466.900</td>\n",
       "      <td>1890.278</td>\n",
       "      <td>8999.000</td>\n",
       "      <td>13000.000</td>\n",
       "      <td>13950.000</td>\n",
       "      <td>15784.000</td>\n",
       "      <td>19900.000</td>\n",
       "    </tr>\n",
       "    <tr>\n",
       "      <th>-</th>\n",
       "      <td>50.000</td>\n",
       "      <td>23336.560</td>\n",
       "      <td>3815.326</td>\n",
       "      <td>15980.000</td>\n",
       "      <td>20982.500</td>\n",
       "      <td>22345.000</td>\n",
       "      <td>26855.000</td>\n",
       "      <td>29137.000</td>\n",
       "    </tr>\n",
       "    <tr>\n",
       "      <th rowspan=\"4\" valign=\"top\">Station wagon</th>\n",
       "      <th>0.0</th>\n",
       "      <td>2.000</td>\n",
       "      <td>28944.500</td>\n",
       "      <td>77.075</td>\n",
       "      <td>28890.000</td>\n",
       "      <td>28917.250</td>\n",
       "      <td>28944.500</td>\n",
       "      <td>28971.750</td>\n",
       "      <td>28999.000</td>\n",
       "    </tr>\n",
       "    <tr>\n",
       "      <th>1.0</th>\n",
       "      <td>11.000</td>\n",
       "      <td>17410.909</td>\n",
       "      <td>2166.031</td>\n",
       "      <td>15750.000</td>\n",
       "      <td>15870.000</td>\n",
       "      <td>16480.000</td>\n",
       "      <td>18260.000</td>\n",
       "      <td>21450.000</td>\n",
       "    </tr>\n",
       "    <tr>\n",
       "      <th>2.0</th>\n",
       "      <td>3.000</td>\n",
       "      <td>17613.333</td>\n",
       "      <td>2953.817</td>\n",
       "      <td>14750.000</td>\n",
       "      <td>16095.000</td>\n",
       "      <td>17440.000</td>\n",
       "      <td>19045.000</td>\n",
       "      <td>20650.000</td>\n",
       "    </tr>\n",
       "    <tr>\n",
       "      <th>3.0</th>\n",
       "      <td>5.000</td>\n",
       "      <td>14358.000</td>\n",
       "      <td>1276.891</td>\n",
       "      <td>12950.000</td>\n",
       "      <td>13979.000</td>\n",
       "      <td>13999.000</td>\n",
       "      <td>14440.000</td>\n",
       "      <td>16422.000</td>\n",
       "    </tr>\n",
       "    <tr>\n",
       "      <th>Van</th>\n",
       "      <th>0.0</th>\n",
       "      <td>1.000</td>\n",
       "      <td>29000.000</td>\n",
       "      <td>NaN</td>\n",
       "      <td>29000.000</td>\n",
       "      <td>29000.000</td>\n",
       "      <td>29000.000</td>\n",
       "      <td>29000.000</td>\n",
       "      <td>29000.000</td>\n",
       "    </tr>\n",
       "    <tr>\n",
       "      <th>Audi A2</th>\n",
       "      <th>Off-Road</th>\n",
       "      <th>1.0</th>\n",
       "      <td>1.000</td>\n",
       "      <td>28200.000</td>\n",
       "      <td>NaN</td>\n",
       "      <td>28200.000</td>\n",
       "      <td>28200.000</td>\n",
       "      <td>28200.000</td>\n",
       "      <td>28200.000</td>\n",
       "      <td>28200.000</td>\n",
       "    </tr>\n",
       "    <tr>\n",
       "      <th rowspan=\"24\" valign=\"top\">Audi A3</th>\n",
       "      <th rowspan=\"5\" valign=\"top\">Compact</th>\n",
       "      <th>0.0</th>\n",
       "      <td>17.000</td>\n",
       "      <td>29345.471</td>\n",
       "      <td>8767.065</td>\n",
       "      <td>15500.000</td>\n",
       "      <td>22300.000</td>\n",
       "      <td>24900.000</td>\n",
       "      <td>37998.000</td>\n",
       "      <td>41495.000</td>\n",
       "    </tr>\n",
       "    <tr>\n",
       "      <th>1.0</th>\n",
       "      <td>29.000</td>\n",
       "      <td>22030.931</td>\n",
       "      <td>4270.469</td>\n",
       "      <td>14500.000</td>\n",
       "      <td>19999.000</td>\n",
       "      <td>21900.000</td>\n",
       "      <td>22599.000</td>\n",
       "      <td>39959.000</td>\n",
       "    </tr>\n",
       "    <tr>\n",
       "      <th>2.0</th>\n",
       "      <td>39.000</td>\n",
       "      <td>20489.769</td>\n",
       "      <td>8208.445</td>\n",
       "      <td>13790.000</td>\n",
       "      <td>17525.000</td>\n",
       "      <td>18945.000</td>\n",
       "      <td>20780.000</td>\n",
       "      <td>67600.000</td>\n",
       "    </tr>\n",
       "    <tr>\n",
       "      <th>3.0</th>\n",
       "      <td>93.000</td>\n",
       "      <td>15303.796</td>\n",
       "      <td>2256.723</td>\n",
       "      <td>12900.000</td>\n",
       "      <td>13500.000</td>\n",
       "      <td>14900.000</td>\n",
       "      <td>16895.000</td>\n",
       "      <td>24950.000</td>\n",
       "    </tr>\n",
       "    <tr>\n",
       "      <th>-</th>\n",
       "      <td>4.000</td>\n",
       "      <td>25582.500</td>\n",
       "      <td>1185.109</td>\n",
       "      <td>24542.000</td>\n",
       "      <td>25056.500</td>\n",
       "      <td>25250.000</td>\n",
       "      <td>25776.000</td>\n",
       "      <td>27288.000</td>\n",
       "    </tr>\n",
       "    <tr>\n",
       "      <th rowspan=\"3\" valign=\"top\">Convertible</th>\n",
       "      <th>1.0</th>\n",
       "      <td>3.000</td>\n",
       "      <td>29664.333</td>\n",
       "      <td>23557.901</td>\n",
       "      <td>10893.000</td>\n",
       "      <td>16446.500</td>\n",
       "      <td>22000.000</td>\n",
       "      <td>39050.000</td>\n",
       "      <td>56100.000</td>\n",
       "    </tr>\n",
       "    <tr>\n",
       "      <th>2.0</th>\n",
       "      <td>4.000</td>\n",
       "      <td>28562.500</td>\n",
       "      <td>5301.159</td>\n",
       "      <td>20900.000</td>\n",
       "      <td>27350.000</td>\n",
       "      <td>30200.000</td>\n",
       "      <td>31412.500</td>\n",
       "      <td>32950.000</td>\n",
       "    </tr>\n",
       "    <tr>\n",
       "      <th>3.0</th>\n",
       "      <td>1.000</td>\n",
       "      <td>20000.000</td>\n",
       "      <td>NaN</td>\n",
       "      <td>20000.000</td>\n",
       "      <td>20000.000</td>\n",
       "      <td>20000.000</td>\n",
       "      <td>20000.000</td>\n",
       "      <td>20000.000</td>\n",
       "    </tr>\n",
       "    <tr>\n",
       "      <th rowspan=\"2\" valign=\"top\">Coupe</th>\n",
       "      <th>2.0</th>\n",
       "      <td>1.000</td>\n",
       "      <td>19000.000</td>\n",
       "      <td>NaN</td>\n",
       "      <td>19000.000</td>\n",
       "      <td>19000.000</td>\n",
       "      <td>19000.000</td>\n",
       "      <td>19000.000</td>\n",
       "      <td>19000.000</td>\n",
       "    </tr>\n",
       "    <tr>\n",
       "      <th>3.0</th>\n",
       "      <td>3.000</td>\n",
       "      <td>17326.667</td>\n",
       "      <td>583.124</td>\n",
       "      <td>16990.000</td>\n",
       "      <td>16990.000</td>\n",
       "      <td>16990.000</td>\n",
       "      <td>17495.000</td>\n",
       "      <td>18000.000</td>\n",
       "    </tr>\n",
       "    <tr>\n",
       "      <th rowspan=\"4\" valign=\"top\">Other</th>\n",
       "      <th>1.0</th>\n",
       "      <td>4.000</td>\n",
       "      <td>23422.500</td>\n",
       "      <td>3548.055</td>\n",
       "      <td>20200.000</td>\n",
       "      <td>21925.000</td>\n",
       "      <td>22500.000</td>\n",
       "      <td>23997.500</td>\n",
       "      <td>28490.000</td>\n",
       "    </tr>\n",
       "    <tr>\n",
       "      <th>2.0</th>\n",
       "      <td>4.000</td>\n",
       "      <td>18675.000</td>\n",
       "      <td>1351.851</td>\n",
       "      <td>17650.000</td>\n",
       "      <td>17650.000</td>\n",
       "      <td>18275.000</td>\n",
       "      <td>19300.000</td>\n",
       "      <td>20500.000</td>\n",
       "    </tr>\n",
       "    <tr>\n",
       "      <th>3.0</th>\n",
       "      <td>5.000</td>\n",
       "      <td>15970.000</td>\n",
       "      <td>2392.070</td>\n",
       "      <td>12550.000</td>\n",
       "      <td>15300.000</td>\n",
       "      <td>15500.000</td>\n",
       "      <td>18000.000</td>\n",
       "      <td>18500.000</td>\n",
       "    </tr>\n",
       "    <tr>\n",
       "      <th>-</th>\n",
       "      <td>3.000</td>\n",
       "      <td>25990.000</td>\n",
       "      <td>1322.876</td>\n",
       "      <td>24490.000</td>\n",
       "      <td>25490.000</td>\n",
       "      <td>26490.000</td>\n",
       "      <td>26740.000</td>\n",
       "      <td>26990.000</td>\n",
       "    </tr>\n",
       "    <tr>\n",
       "      <th rowspan=\"5\" valign=\"top\">Sedans</th>\n",
       "      <th>0.0</th>\n",
       "      <td>626.000</td>\n",
       "      <td>24909.898</td>\n",
       "      <td>2354.990</td>\n",
       "      <td>18820.000</td>\n",
       "      <td>23885.000</td>\n",
       "      <td>24900.000</td>\n",
       "      <td>26197.500</td>\n",
       "      <td>62900.000</td>\n",
       "    </tr>\n",
       "    <tr>\n",
       "      <th>1.0</th>\n",
       "      <td>709.000</td>\n",
       "      <td>22544.715</td>\n",
       "      <td>5224.410</td>\n",
       "      <td>14250.000</td>\n",
       "      <td>20800.000</td>\n",
       "      <td>21500.000</td>\n",
       "      <td>22900.000</td>\n",
       "      <td>74600.000</td>\n",
       "    </tr>\n",
       "    <tr>\n",
       "      <th>2.0</th>\n",
       "      <td>550.000</td>\n",
       "      <td>19980.358</td>\n",
       "      <td>3721.376</td>\n",
       "      <td>10550.000</td>\n",
       "      <td>18000.000</td>\n",
       "      <td>19400.000</td>\n",
       "      <td>20990.000</td>\n",
       "      <td>55000.000</td>\n",
       "    </tr>\n",
       "    <tr>\n",
       "      <th>3.0</th>\n",
       "      <td>647.000</td>\n",
       "      <td>16702.832</td>\n",
       "      <td>2900.228</td>\n",
       "      <td>10950.000</td>\n",
       "      <td>15110.000</td>\n",
       "      <td>15980.000</td>\n",
       "      <td>17890.000</td>\n",
       "      <td>42500.000</td>\n",
       "    </tr>\n",
       "    <tr>\n",
       "      <th>-</th>\n",
       "      <td>66.000</td>\n",
       "      <td>24395.242</td>\n",
       "      <td>2372.569</td>\n",
       "      <td>19750.000</td>\n",
       "      <td>22944.750</td>\n",
       "      <td>23947.500</td>\n",
       "      <td>26200.000</td>\n",
       "      <td>34738.000</td>\n",
       "    </tr>\n",
       "    <tr>\n",
       "      <th rowspan=\"5\" valign=\"top\">Station wagon</th>\n",
       "      <th>0.0</th>\n",
       "      <td>69.000</td>\n",
       "      <td>25219.000</td>\n",
       "      <td>5011.257</td>\n",
       "      <td>17990.000</td>\n",
       "      <td>23490.000</td>\n",
       "      <td>24980.000</td>\n",
       "      <td>25884.000</td>\n",
       "      <td>63900.000</td>\n",
       "    </tr>\n",
       "    <tr>\n",
       "      <th>1.0</th>\n",
       "      <td>32.000</td>\n",
       "      <td>21252.594</td>\n",
       "      <td>3201.415</td>\n",
       "      <td>5555.000</td>\n",
       "      <td>20650.000</td>\n",
       "      <td>21480.000</td>\n",
       "      <td>22900.000</td>\n",
       "      <td>23800.000</td>\n",
       "    </tr>\n",
       "    <tr>\n",
       "      <th>2.0</th>\n",
       "      <td>72.000</td>\n",
       "      <td>19010.875</td>\n",
       "      <td>1522.622</td>\n",
       "      <td>14590.000</td>\n",
       "      <td>18374.500</td>\n",
       "      <td>18990.000</td>\n",
       "      <td>19621.250</td>\n",
       "      <td>21990.000</td>\n",
       "    </tr>\n",
       "    <tr>\n",
       "      <th>3.0</th>\n",
       "      <td>67.000</td>\n",
       "      <td>15739.507</td>\n",
       "      <td>1883.567</td>\n",
       "      <td>11790.000</td>\n",
       "      <td>14195.000</td>\n",
       "      <td>15900.000</td>\n",
       "      <td>17250.000</td>\n",
       "      <td>18780.000</td>\n",
       "    </tr>\n",
       "    <tr>\n",
       "      <th>-</th>\n",
       "      <td>42.000</td>\n",
       "      <td>23558.667</td>\n",
       "      <td>1687.726</td>\n",
       "      <td>18980.000</td>\n",
       "      <td>22359.750</td>\n",
       "      <td>23590.000</td>\n",
       "      <td>24937.500</td>\n",
       "      <td>26990.000</td>\n",
       "    </tr>\n",
       "    <tr>\n",
       "      <th rowspan=\"22\" valign=\"top\">Opel Astra</th>\n",
       "      <th rowspan=\"5\" valign=\"top\">Compact</th>\n",
       "      <th>0.0</th>\n",
       "      <td>51.000</td>\n",
       "      <td>23056.118</td>\n",
       "      <td>7391.480</td>\n",
       "      <td>16500.000</td>\n",
       "      <td>17490.000</td>\n",
       "      <td>18300.000</td>\n",
       "      <td>29675.000</td>\n",
       "      <td>39433.000</td>\n",
       "    </tr>\n",
       "    <tr>\n",
       "      <th>1.0</th>\n",
       "      <td>39.000</td>\n",
       "      <td>14717.538</td>\n",
       "      <td>1266.385</td>\n",
       "      <td>11999.000</td>\n",
       "      <td>13990.000</td>\n",
       "      <td>14900.000</td>\n",
       "      <td>14990.000</td>\n",
       "      <td>18900.000</td>\n",
       "    </tr>\n",
       "    <tr>\n",
       "      <th>2.0</th>\n",
       "      <td>55.000</td>\n",
       "      <td>13091.491</td>\n",
       "      <td>1884.243</td>\n",
       "      <td>9999.000</td>\n",
       "      <td>11955.000</td>\n",
       "      <td>12636.000</td>\n",
       "      <td>12955.000</td>\n",
       "      <td>19950.000</td>\n",
       "    </tr>\n",
       "    <tr>\n",
       "      <th>3.0</th>\n",
       "      <td>30.000</td>\n",
       "      <td>12023.733</td>\n",
       "      <td>2767.419</td>\n",
       "      <td>8450.000</td>\n",
       "      <td>10111.250</td>\n",
       "      <td>10947.500</td>\n",
       "      <td>14854.250</td>\n",
       "      <td>17750.000</td>\n",
       "    </tr>\n",
       "    <tr>\n",
       "      <th>-</th>\n",
       "      <td>10.000</td>\n",
       "      <td>16636.600</td>\n",
       "      <td>1098.445</td>\n",
       "      <td>15816.000</td>\n",
       "      <td>15890.000</td>\n",
       "      <td>16159.000</td>\n",
       "      <td>16864.500</td>\n",
       "      <td>18599.000</td>\n",
       "    </tr>\n",
       "    <tr>\n",
       "      <th rowspan=\"2\" valign=\"top\">Coupe</th>\n",
       "      <th>0.0</th>\n",
       "      <td>1.000</td>\n",
       "      <td>29990.000</td>\n",
       "      <td>NaN</td>\n",
       "      <td>29990.000</td>\n",
       "      <td>29990.000</td>\n",
       "      <td>29990.000</td>\n",
       "      <td>29990.000</td>\n",
       "      <td>29990.000</td>\n",
       "    </tr>\n",
       "    <tr>\n",
       "      <th>3.0</th>\n",
       "      <td>1.000</td>\n",
       "      <td>14490.000</td>\n",
       "      <td>NaN</td>\n",
       "      <td>14490.000</td>\n",
       "      <td>14490.000</td>\n",
       "      <td>14490.000</td>\n",
       "      <td>14490.000</td>\n",
       "      <td>14490.000</td>\n",
       "    </tr>\n",
       "    <tr>\n",
       "      <th>Off-Road</th>\n",
       "      <th>1.0</th>\n",
       "      <td>1.000</td>\n",
       "      <td>18590.000</td>\n",
       "      <td>NaN</td>\n",
       "      <td>18590.000</td>\n",
       "      <td>18590.000</td>\n",
       "      <td>18590.000</td>\n",
       "      <td>18590.000</td>\n",
       "      <td>18590.000</td>\n",
       "    </tr>\n",
       "    <tr>\n",
       "      <th rowspan=\"4\" valign=\"top\">Other</th>\n",
       "      <th>0.0</th>\n",
       "      <td>9.000</td>\n",
       "      <td>17175.000</td>\n",
       "      <td>1225.566</td>\n",
       "      <td>15490.000</td>\n",
       "      <td>16390.000</td>\n",
       "      <td>17390.000</td>\n",
       "      <td>17490.000</td>\n",
       "      <td>18990.000</td>\n",
       "    </tr>\n",
       "    <tr>\n",
       "      <th>1.0</th>\n",
       "      <td>35.000</td>\n",
       "      <td>14681.429</td>\n",
       "      <td>554.644</td>\n",
       "      <td>12900.000</td>\n",
       "      <td>14495.000</td>\n",
       "      <td>14890.000</td>\n",
       "      <td>14990.000</td>\n",
       "      <td>15300.000</td>\n",
       "    </tr>\n",
       "    <tr>\n",
       "      <th>2.0</th>\n",
       "      <td>11.000</td>\n",
       "      <td>12059.545</td>\n",
       "      <td>1462.304</td>\n",
       "      <td>10040.000</td>\n",
       "      <td>11250.000</td>\n",
       "      <td>11950.000</td>\n",
       "      <td>12700.000</td>\n",
       "      <td>15400.000</td>\n",
       "    </tr>\n",
       "    <tr>\n",
       "      <th>3.0</th>\n",
       "      <td>12.000</td>\n",
       "      <td>10652.417</td>\n",
       "      <td>2438.981</td>\n",
       "      <td>8490.000</td>\n",
       "      <td>9367.250</td>\n",
       "      <td>9490.000</td>\n",
       "      <td>10900.000</td>\n",
       "      <td>14990.000</td>\n",
       "    </tr>\n",
       "    <tr>\n",
       "      <th rowspan=\"5\" valign=\"top\">Sedans</th>\n",
       "      <th>0.0</th>\n",
       "      <td>260.000</td>\n",
       "      <td>20528.096</td>\n",
       "      <td>4601.490</td>\n",
       "      <td>6950.000</td>\n",
       "      <td>17585.000</td>\n",
       "      <td>18665.000</td>\n",
       "      <td>23940.000</td>\n",
       "      <td>32950.000</td>\n",
       "    </tr>\n",
       "    <tr>\n",
       "      <th>1.0</th>\n",
       "      <td>320.000</td>\n",
       "      <td>15682.544</td>\n",
       "      <td>1794.249</td>\n",
       "      <td>8860.000</td>\n",
       "      <td>14537.250</td>\n",
       "      <td>15275.000</td>\n",
       "      <td>17205.000</td>\n",
       "      <td>18990.000</td>\n",
       "    </tr>\n",
       "    <tr>\n",
       "      <th>2.0</th>\n",
       "      <td>249.000</td>\n",
       "      <td>12954.040</td>\n",
       "      <td>2080.899</td>\n",
       "      <td>7800.000</td>\n",
       "      <td>11320.000</td>\n",
       "      <td>12500.000</td>\n",
       "      <td>14900.000</td>\n",
       "      <td>17890.000</td>\n",
       "    </tr>\n",
       "    <tr>\n",
       "      <th>3.0</th>\n",
       "      <td>150.000</td>\n",
       "      <td>11899.480</td>\n",
       "      <td>2304.464</td>\n",
       "      <td>6500.000</td>\n",
       "      <td>10400.000</td>\n",
       "      <td>10950.000</td>\n",
       "      <td>13967.500</td>\n",
       "      <td>15999.000</td>\n",
       "    </tr>\n",
       "    <tr>\n",
       "      <th>-</th>\n",
       "      <td>74.000</td>\n",
       "      <td>19500.405</td>\n",
       "      <td>3467.240</td>\n",
       "      <td>13929.000</td>\n",
       "      <td>16977.000</td>\n",
       "      <td>18354.000</td>\n",
       "      <td>22375.000</td>\n",
       "      <td>28900.000</td>\n",
       "    </tr>\n",
       "    <tr>\n",
       "      <th rowspan=\"5\" valign=\"top\">Station wagon</th>\n",
       "      <th>0.0</th>\n",
       "      <td>237.000</td>\n",
       "      <td>22624.730</td>\n",
       "      <td>5168.016</td>\n",
       "      <td>15285.000</td>\n",
       "      <td>18096.000</td>\n",
       "      <td>19990.000</td>\n",
       "      <td>26950.000</td>\n",
       "      <td>34580.000</td>\n",
       "    </tr>\n",
       "    <tr>\n",
       "      <th>1.0</th>\n",
       "      <td>332.000</td>\n",
       "      <td>16882.630</td>\n",
       "      <td>1943.277</td>\n",
       "      <td>255.000</td>\n",
       "      <td>15200.000</td>\n",
       "      <td>17355.000</td>\n",
       "      <td>18465.750</td>\n",
       "      <td>18990.000</td>\n",
       "    </tr>\n",
       "    <tr>\n",
       "      <th>2.0</th>\n",
       "      <td>269.000</td>\n",
       "      <td>13093.089</td>\n",
       "      <td>2017.233</td>\n",
       "      <td>8480.000</td>\n",
       "      <td>11850.000</td>\n",
       "      <td>12660.000</td>\n",
       "      <td>14650.000</td>\n",
       "      <td>17890.000</td>\n",
       "    </tr>\n",
       "    <tr>\n",
       "      <th>3.0</th>\n",
       "      <td>325.000</td>\n",
       "      <td>11047.557</td>\n",
       "      <td>2526.506</td>\n",
       "      <td>6000.000</td>\n",
       "      <td>9479.000</td>\n",
       "      <td>10500.000</td>\n",
       "      <td>12000.000</td>\n",
       "      <td>15999.000</td>\n",
       "    </tr>\n",
       "    <tr>\n",
       "      <th>-</th>\n",
       "      <td>48.000</td>\n",
       "      <td>21232.875</td>\n",
       "      <td>4266.954</td>\n",
       "      <td>15445.000</td>\n",
       "      <td>18040.500</td>\n",
       "      <td>20240.000</td>\n",
       "      <td>23777.500</td>\n",
       "      <td>34900.000</td>\n",
       "    </tr>\n",
       "    <tr>\n",
       "      <th rowspan=\"23\" valign=\"top\">Opel Corsa</th>\n",
       "      <th rowspan=\"5\" valign=\"top\">Compact</th>\n",
       "      <th>0.0</th>\n",
       "      <td>476.000</td>\n",
       "      <td>13758.405</td>\n",
       "      <td>2637.068</td>\n",
       "      <td>120.000</td>\n",
       "      <td>10979.000</td>\n",
       "      <td>14650.000</td>\n",
       "      <td>15942.500</td>\n",
       "      <td>18622.000</td>\n",
       "    </tr>\n",
       "    <tr>\n",
       "      <th>1.0</th>\n",
       "      <td>353.000</td>\n",
       "      <td>11913.510</td>\n",
       "      <td>2098.742</td>\n",
       "      <td>7499.000</td>\n",
       "      <td>9800.000</td>\n",
       "      <td>12750.000</td>\n",
       "      <td>13890.000</td>\n",
       "      <td>15790.000</td>\n",
       "    </tr>\n",
       "    <tr>\n",
       "      <th>2.0</th>\n",
       "      <td>158.000</td>\n",
       "      <td>9683.411</td>\n",
       "      <td>1782.282</td>\n",
       "      <td>6250.000</td>\n",
       "      <td>8500.000</td>\n",
       "      <td>8950.000</td>\n",
       "      <td>11261.250</td>\n",
       "      <td>13990.000</td>\n",
       "    </tr>\n",
       "    <tr>\n",
       "      <th>3.0</th>\n",
       "      <td>213.000</td>\n",
       "      <td>8426.765</td>\n",
       "      <td>2065.760</td>\n",
       "      <td>4990.000</td>\n",
       "      <td>7290.000</td>\n",
       "      <td>7750.000</td>\n",
       "      <td>7950.000</td>\n",
       "      <td>16950.000</td>\n",
       "    </tr>\n",
       "    <tr>\n",
       "      <th>-</th>\n",
       "      <td>30.000</td>\n",
       "      <td>14188.367</td>\n",
       "      <td>3126.629</td>\n",
       "      <td>9245.000</td>\n",
       "      <td>10785.000</td>\n",
       "      <td>15980.000</td>\n",
       "      <td>17035.000</td>\n",
       "      <td>17490.000</td>\n",
       "    </tr>\n",
       "    <tr>\n",
       "      <th rowspan=\"3\" valign=\"top\">Coupe</th>\n",
       "      <th>0.0</th>\n",
       "      <td>3.000</td>\n",
       "      <td>10283.333</td>\n",
       "      <td>1286.792</td>\n",
       "      <td>8800.000</td>\n",
       "      <td>9875.000</td>\n",
       "      <td>10950.000</td>\n",
       "      <td>11025.000</td>\n",
       "      <td>11100.000</td>\n",
       "    </tr>\n",
       "    <tr>\n",
       "      <th>2.0</th>\n",
       "      <td>5.000</td>\n",
       "      <td>8718.000</td>\n",
       "      <td>1356.695</td>\n",
       "      <td>7500.000</td>\n",
       "      <td>7900.000</td>\n",
       "      <td>8500.000</td>\n",
       "      <td>8700.000</td>\n",
       "      <td>10990.000</td>\n",
       "    </tr>\n",
       "    <tr>\n",
       "      <th>3.0</th>\n",
       "      <td>5.000</td>\n",
       "      <td>7920.000</td>\n",
       "      <td>1478.851</td>\n",
       "      <td>6900.000</td>\n",
       "      <td>7200.000</td>\n",
       "      <td>7200.000</td>\n",
       "      <td>7800.000</td>\n",
       "      <td>10500.000</td>\n",
       "    </tr>\n",
       "    <tr>\n",
       "      <th>Off-Road</th>\n",
       "      <th>2.0</th>\n",
       "      <td>3.000</td>\n",
       "      <td>8166.667</td>\n",
       "      <td>461.880</td>\n",
       "      <td>7900.000</td>\n",
       "      <td>7900.000</td>\n",
       "      <td>7900.000</td>\n",
       "      <td>8300.000</td>\n",
       "      <td>8700.000</td>\n",
       "    </tr>\n",
       "    <tr>\n",
       "      <th rowspan=\"5\" valign=\"top\">Other</th>\n",
       "      <th>0.0</th>\n",
       "      <td>13.000</td>\n",
       "      <td>10728.923</td>\n",
       "      <td>3386.983</td>\n",
       "      <td>331.000</td>\n",
       "      <td>10990.000</td>\n",
       "      <td>10990.000</td>\n",
       "      <td>10995.000</td>\n",
       "      <td>14990.000</td>\n",
       "    </tr>\n",
       "    <tr>\n",
       "      <th>1.0</th>\n",
       "      <td>49.000</td>\n",
       "      <td>9706.837</td>\n",
       "      <td>1414.526</td>\n",
       "      <td>8490.000</td>\n",
       "      <td>8900.000</td>\n",
       "      <td>9500.000</td>\n",
       "      <td>9690.000</td>\n",
       "      <td>13990.000</td>\n",
       "    </tr>\n",
       "    <tr>\n",
       "      <th>2.0</th>\n",
       "      <td>19.000</td>\n",
       "      <td>8667.895</td>\n",
       "      <td>202.281</td>\n",
       "      <td>8500.000</td>\n",
       "      <td>8500.000</td>\n",
       "      <td>8500.000</td>\n",
       "      <td>8900.000</td>\n",
       "      <td>8900.000</td>\n",
       "    </tr>\n",
       "    <tr>\n",
       "      <th>3.0</th>\n",
       "      <td>4.000</td>\n",
       "      <td>9054.750</td>\n",
       "      <td>1463.729</td>\n",
       "      <td>7900.000</td>\n",
       "      <td>7900.000</td>\n",
       "      <td>8685.000</td>\n",
       "      <td>9839.750</td>\n",
       "      <td>10949.000</td>\n",
       "    </tr>\n",
       "    <tr>\n",
       "      <th>-</th>\n",
       "      <td>2.000</td>\n",
       "      <td>16600.000</td>\n",
       "      <td>919.239</td>\n",
       "      <td>15950.000</td>\n",
       "      <td>16275.000</td>\n",
       "      <td>16600.000</td>\n",
       "      <td>16925.000</td>\n",
       "      <td>17250.000</td>\n",
       "    </tr>\n",
       "    <tr>\n",
       "      <th rowspan=\"5\" valign=\"top\">Sedans</th>\n",
       "      <th>0.0</th>\n",
       "      <td>176.000</td>\n",
       "      <td>12949.898</td>\n",
       "      <td>2584.623</td>\n",
       "      <td>8200.000</td>\n",
       "      <td>10990.000</td>\n",
       "      <td>11390.000</td>\n",
       "      <td>15427.500</td>\n",
       "      <td>18490.000</td>\n",
       "    </tr>\n",
       "    <tr>\n",
       "      <th>1.0</th>\n",
       "      <td>281.000</td>\n",
       "      <td>10814.836</td>\n",
       "      <td>1985.520</td>\n",
       "      <td>13.000</td>\n",
       "      <td>9499.000</td>\n",
       "      <td>9900.000</td>\n",
       "      <td>12500.000</td>\n",
       "      <td>15690.000</td>\n",
       "    </tr>\n",
       "    <tr>\n",
       "      <th>2.0</th>\n",
       "      <td>199.000</td>\n",
       "      <td>9000.975</td>\n",
       "      <td>1513.124</td>\n",
       "      <td>6200.000</td>\n",
       "      <td>8299.000</td>\n",
       "      <td>8600.000</td>\n",
       "      <td>8950.000</td>\n",
       "      <td>13900.000</td>\n",
       "    </tr>\n",
       "    <tr>\n",
       "      <th>3.0</th>\n",
       "      <td>203.000</td>\n",
       "      <td>7985.808</td>\n",
       "      <td>1449.380</td>\n",
       "      <td>4950.000</td>\n",
       "      <td>7400.000</td>\n",
       "      <td>7650.000</td>\n",
       "      <td>7900.000</td>\n",
       "      <td>13500.000</td>\n",
       "    </tr>\n",
       "    <tr>\n",
       "      <th>-</th>\n",
       "      <td>16.000</td>\n",
       "      <td>12474.688</td>\n",
       "      <td>2733.915</td>\n",
       "      <td>9990.000</td>\n",
       "      <td>10867.500</td>\n",
       "      <td>11120.000</td>\n",
       "      <td>14883.000</td>\n",
       "      <td>17990.000</td>\n",
       "    </tr>\n",
       "    <tr>\n",
       "      <th rowspan=\"3\" valign=\"top\">Transporter</th>\n",
       "      <th>0.0</th>\n",
       "      <td>3.000</td>\n",
       "      <td>9933.333</td>\n",
       "      <td>493.288</td>\n",
       "      <td>9600.000</td>\n",
       "      <td>9650.000</td>\n",
       "      <td>9700.000</td>\n",
       "      <td>10100.000</td>\n",
       "      <td>10500.000</td>\n",
       "    </tr>\n",
       "    <tr>\n",
       "      <th>2.0</th>\n",
       "      <td>1.000</td>\n",
       "      <td>7450.000</td>\n",
       "      <td>NaN</td>\n",
       "      <td>7450.000</td>\n",
       "      <td>7450.000</td>\n",
       "      <td>7450.000</td>\n",
       "      <td>7450.000</td>\n",
       "      <td>7450.000</td>\n",
       "    </tr>\n",
       "    <tr>\n",
       "      <th>3.0</th>\n",
       "      <td>3.000</td>\n",
       "      <td>5433.333</td>\n",
       "      <td>175.594</td>\n",
       "      <td>5250.000</td>\n",
       "      <td>5350.000</td>\n",
       "      <td>5450.000</td>\n",
       "      <td>5525.000</td>\n",
       "      <td>5600.000</td>\n",
       "    </tr>\n",
       "    <tr>\n",
       "      <th>Van</th>\n",
       "      <th>3.0</th>\n",
       "      <td>2.000</td>\n",
       "      <td>7900.000</td>\n",
       "      <td>0.000</td>\n",
       "      <td>7900.000</td>\n",
       "      <td>7900.000</td>\n",
       "      <td>7900.000</td>\n",
       "      <td>7900.000</td>\n",
       "      <td>7900.000</td>\n",
       "    </tr>\n",
       "    <tr>\n",
       "      <th rowspan=\"24\" valign=\"top\">Opel Insignia</th>\n",
       "      <th rowspan=\"5\" valign=\"top\">Compact</th>\n",
       "      <th>0.0</th>\n",
       "      <td>16.000</td>\n",
       "      <td>35747.625</td>\n",
       "      <td>6580.219</td>\n",
       "      <td>21900.000</td>\n",
       "      <td>34495.000</td>\n",
       "      <td>36345.000</td>\n",
       "      <td>38991.250</td>\n",
       "      <td>49884.000</td>\n",
       "    </tr>\n",
       "    <tr>\n",
       "      <th>1.0</th>\n",
       "      <td>2.000</td>\n",
       "      <td>20400.000</td>\n",
       "      <td>707.107</td>\n",
       "      <td>19900.000</td>\n",
       "      <td>20150.000</td>\n",
       "      <td>20400.000</td>\n",
       "      <td>20650.000</td>\n",
       "      <td>20900.000</td>\n",
       "    </tr>\n",
       "    <tr>\n",
       "      <th>2.0</th>\n",
       "      <td>4.000</td>\n",
       "      <td>17545.000</td>\n",
       "      <td>3341.262</td>\n",
       "      <td>13490.000</td>\n",
       "      <td>15740.000</td>\n",
       "      <td>17695.000</td>\n",
       "      <td>19500.000</td>\n",
       "      <td>21300.000</td>\n",
       "    </tr>\n",
       "    <tr>\n",
       "      <th>3.0</th>\n",
       "      <td>4.000</td>\n",
       "      <td>12375.000</td>\n",
       "      <td>2373.640</td>\n",
       "      <td>10350.000</td>\n",
       "      <td>10350.000</td>\n",
       "      <td>12125.000</td>\n",
       "      <td>14150.000</td>\n",
       "      <td>14900.000</td>\n",
       "    </tr>\n",
       "    <tr>\n",
       "      <th>-</th>\n",
       "      <td>1.000</td>\n",
       "      <td>39490.000</td>\n",
       "      <td>NaN</td>\n",
       "      <td>39490.000</td>\n",
       "      <td>39490.000</td>\n",
       "      <td>39490.000</td>\n",
       "      <td>39490.000</td>\n",
       "      <td>39490.000</td>\n",
       "    </tr>\n",
       "    <tr>\n",
       "      <th>Coupe</th>\n",
       "      <th>2.0</th>\n",
       "      <td>1.000</td>\n",
       "      <td>17094.000</td>\n",
       "      <td>NaN</td>\n",
       "      <td>17094.000</td>\n",
       "      <td>17094.000</td>\n",
       "      <td>17094.000</td>\n",
       "      <td>17094.000</td>\n",
       "      <td>17094.000</td>\n",
       "    </tr>\n",
       "    <tr>\n",
       "      <th rowspan=\"3\" valign=\"top\">Off-Road</th>\n",
       "      <th>0.0</th>\n",
       "      <td>2.000</td>\n",
       "      <td>30995.000</td>\n",
       "      <td>3528.463</td>\n",
       "      <td>28500.000</td>\n",
       "      <td>29747.500</td>\n",
       "      <td>30995.000</td>\n",
       "      <td>32242.500</td>\n",
       "      <td>33490.000</td>\n",
       "    </tr>\n",
       "    <tr>\n",
       "      <th>3.0</th>\n",
       "      <td>1.000</td>\n",
       "      <td>12750.000</td>\n",
       "      <td>NaN</td>\n",
       "      <td>12750.000</td>\n",
       "      <td>12750.000</td>\n",
       "      <td>12750.000</td>\n",
       "      <td>12750.000</td>\n",
       "      <td>12750.000</td>\n",
       "    </tr>\n",
       "    <tr>\n",
       "      <th>-</th>\n",
       "      <td>4.000</td>\n",
       "      <td>32854.750</td>\n",
       "      <td>1387.646</td>\n",
       "      <td>31505.000</td>\n",
       "      <td>32135.000</td>\n",
       "      <td>32569.000</td>\n",
       "      <td>33288.750</td>\n",
       "      <td>34776.000</td>\n",
       "    </tr>\n",
       "    <tr>\n",
       "      <th rowspan=\"4\" valign=\"top\">Other</th>\n",
       "      <th>0.0</th>\n",
       "      <td>7.000</td>\n",
       "      <td>28008.429</td>\n",
       "      <td>4775.491</td>\n",
       "      <td>24700.000</td>\n",
       "      <td>24940.000</td>\n",
       "      <td>26500.000</td>\n",
       "      <td>28490.000</td>\n",
       "      <td>37999.000</td>\n",
       "    </tr>\n",
       "    <tr>\n",
       "      <th>1.0</th>\n",
       "      <td>7.000</td>\n",
       "      <td>20850.714</td>\n",
       "      <td>2277.232</td>\n",
       "      <td>18480.000</td>\n",
       "      <td>19350.000</td>\n",
       "      <td>19900.000</td>\n",
       "      <td>22442.500</td>\n",
       "      <td>23990.000</td>\n",
       "    </tr>\n",
       "    <tr>\n",
       "      <th>2.0</th>\n",
       "      <td>31.000</td>\n",
       "      <td>15860.968</td>\n",
       "      <td>2564.308</td>\n",
       "      <td>10600.000</td>\n",
       "      <td>13800.000</td>\n",
       "      <td>16900.000</td>\n",
       "      <td>17745.000</td>\n",
       "      <td>18900.000</td>\n",
       "    </tr>\n",
       "    <tr>\n",
       "      <th>3.0</th>\n",
       "      <td>3.000</td>\n",
       "      <td>14063.333</td>\n",
       "      <td>1314.927</td>\n",
       "      <td>12900.000</td>\n",
       "      <td>13350.000</td>\n",
       "      <td>13800.000</td>\n",
       "      <td>14645.000</td>\n",
       "      <td>15490.000</td>\n",
       "    </tr>\n",
       "    <tr>\n",
       "      <th rowspan=\"5\" valign=\"top\">Sedans</th>\n",
       "      <th>0.0</th>\n",
       "      <td>138.000</td>\n",
       "      <td>33401.674</td>\n",
       "      <td>4882.201</td>\n",
       "      <td>22120.000</td>\n",
       "      <td>29912.500</td>\n",
       "      <td>33120.000</td>\n",
       "      <td>37667.250</td>\n",
       "      <td>48950.000</td>\n",
       "    </tr>\n",
       "    <tr>\n",
       "      <th>1.0</th>\n",
       "      <td>278.000</td>\n",
       "      <td>20368.583</td>\n",
       "      <td>2439.116</td>\n",
       "      <td>15990.000</td>\n",
       "      <td>18990.000</td>\n",
       "      <td>19995.000</td>\n",
       "      <td>21490.000</td>\n",
       "      <td>38900.000</td>\n",
       "    </tr>\n",
       "    <tr>\n",
       "      <th>2.0</th>\n",
       "      <td>245.000</td>\n",
       "      <td>16575.776</td>\n",
       "      <td>3254.280</td>\n",
       "      <td>9900.000</td>\n",
       "      <td>13540.000</td>\n",
       "      <td>17750.000</td>\n",
       "      <td>18890.000</td>\n",
       "      <td>21990.000</td>\n",
       "    </tr>\n",
       "    <tr>\n",
       "      <th>3.0</th>\n",
       "      <td>126.000</td>\n",
       "      <td>13411.048</td>\n",
       "      <td>2251.593</td>\n",
       "      <td>8600.000</td>\n",
       "      <td>11950.000</td>\n",
       "      <td>13445.000</td>\n",
       "      <td>14980.000</td>\n",
       "      <td>17999.000</td>\n",
       "    </tr>\n",
       "    <tr>\n",
       "      <th>-</th>\n",
       "      <td>113.000</td>\n",
       "      <td>27560.788</td>\n",
       "      <td>5192.396</td>\n",
       "      <td>19902.000</td>\n",
       "      <td>23776.000</td>\n",
       "      <td>25980.000</td>\n",
       "      <td>29990.000</td>\n",
       "      <td>49350.000</td>\n",
       "    </tr>\n",
       "    <tr>\n",
       "      <th rowspan=\"5\" valign=\"top\">Station wagon</th>\n",
       "      <th>0.0</th>\n",
       "      <td>287.000</td>\n",
       "      <td>33783.021</td>\n",
       "      <td>4561.027</td>\n",
       "      <td>19900.000</td>\n",
       "      <td>29995.000</td>\n",
       "      <td>33900.000</td>\n",
       "      <td>36990.000</td>\n",
       "      <td>52120.000</td>\n",
       "    </tr>\n",
       "    <tr>\n",
       "      <th>1.0</th>\n",
       "      <td>480.000</td>\n",
       "      <td>21973.621</td>\n",
       "      <td>1654.916</td>\n",
       "      <td>17500.000</td>\n",
       "      <td>20850.000</td>\n",
       "      <td>21900.000</td>\n",
       "      <td>23480.000</td>\n",
       "      <td>24700.000</td>\n",
       "    </tr>\n",
       "    <tr>\n",
       "      <th>2.0</th>\n",
       "      <td>305.000</td>\n",
       "      <td>17493.898</td>\n",
       "      <td>2614.542</td>\n",
       "      <td>8990.000</td>\n",
       "      <td>15900.000</td>\n",
       "      <td>17960.000</td>\n",
       "      <td>18990.000</td>\n",
       "      <td>21990.000</td>\n",
       "    </tr>\n",
       "    <tr>\n",
       "      <th>3.0</th>\n",
       "      <td>434.000</td>\n",
       "      <td>13673.684</td>\n",
       "      <td>2165.299</td>\n",
       "      <td>8290.000</td>\n",
       "      <td>12400.000</td>\n",
       "      <td>13900.000</td>\n",
       "      <td>14993.750</td>\n",
       "      <td>18400.000</td>\n",
       "    </tr>\n",
       "    <tr>\n",
       "      <th>-</th>\n",
       "      <td>105.000</td>\n",
       "      <td>30336.314</td>\n",
       "      <td>5340.690</td>\n",
       "      <td>21992.000</td>\n",
       "      <td>25692.000</td>\n",
       "      <td>29797.000</td>\n",
       "      <td>34805.000</td>\n",
       "      <td>41450.000</td>\n",
       "    </tr>\n",
       "    <tr>\n",
       "      <th>Van</th>\n",
       "      <th>1.0</th>\n",
       "      <td>1.000</td>\n",
       "      <td>20980.000</td>\n",
       "      <td>NaN</td>\n",
       "      <td>20980.000</td>\n",
       "      <td>20980.000</td>\n",
       "      <td>20980.000</td>\n",
       "      <td>20980.000</td>\n",
       "      <td>20980.000</td>\n",
       "    </tr>\n",
       "    <tr>\n",
       "      <th rowspan=\"28\" valign=\"top\">Renault Clio</th>\n",
       "      <th rowspan=\"5\" valign=\"top\">Compact</th>\n",
       "      <th>0.0</th>\n",
       "      <td>158.000</td>\n",
       "      <td>11845.614</td>\n",
       "      <td>2823.449</td>\n",
       "      <td>9545.000</td>\n",
       "      <td>10770.000</td>\n",
       "      <td>11180.000</td>\n",
       "      <td>11400.000</td>\n",
       "      <td>26770.000</td>\n",
       "    </tr>\n",
       "    <tr>\n",
       "      <th>1.0</th>\n",
       "      <td>134.000</td>\n",
       "      <td>15835.754</td>\n",
       "      <td>4597.178</td>\n",
       "      <td>8990.000</td>\n",
       "      <td>13387.500</td>\n",
       "      <td>15500.000</td>\n",
       "      <td>16573.250</td>\n",
       "      <td>29740.000</td>\n",
       "    </tr>\n",
       "    <tr>\n",
       "      <th>2.0</th>\n",
       "      <td>86.000</td>\n",
       "      <td>12484.372</td>\n",
       "      <td>3428.348</td>\n",
       "      <td>6950.000</td>\n",
       "      <td>8990.000</td>\n",
       "      <td>13390.000</td>\n",
       "      <td>13925.000</td>\n",
       "      <td>27900.000</td>\n",
       "    </tr>\n",
       "    <tr>\n",
       "      <th>3.0</th>\n",
       "      <td>87.000</td>\n",
       "      <td>9549.011</td>\n",
       "      <td>2732.518</td>\n",
       "      <td>5800.000</td>\n",
       "      <td>7875.000</td>\n",
       "      <td>8400.000</td>\n",
       "      <td>12545.000</td>\n",
       "      <td>15990.000</td>\n",
       "    </tr>\n",
       "    <tr>\n",
       "      <th>-</th>\n",
       "      <td>19.000</td>\n",
       "      <td>11810.789</td>\n",
       "      <td>2079.485</td>\n",
       "      <td>9990.000</td>\n",
       "      <td>10965.000</td>\n",
       "      <td>11190.000</td>\n",
       "      <td>11415.500</td>\n",
       "      <td>18990.000</td>\n",
       "    </tr>\n",
       "    <tr>\n",
       "      <th>Coupe</th>\n",
       "      <th>2.0</th>\n",
       "      <td>1.000</td>\n",
       "      <td>17990.000</td>\n",
       "      <td>NaN</td>\n",
       "      <td>17990.000</td>\n",
       "      <td>17990.000</td>\n",
       "      <td>17990.000</td>\n",
       "      <td>17990.000</td>\n",
       "      <td>17990.000</td>\n",
       "    </tr>\n",
       "    <tr>\n",
       "      <th rowspan=\"2\" valign=\"top\">Off-Road</th>\n",
       "      <th>0.0</th>\n",
       "      <td>1.000</td>\n",
       "      <td>17990.000</td>\n",
       "      <td>NaN</td>\n",
       "      <td>17990.000</td>\n",
       "      <td>17990.000</td>\n",
       "      <td>17990.000</td>\n",
       "      <td>17990.000</td>\n",
       "      <td>17990.000</td>\n",
       "    </tr>\n",
       "    <tr>\n",
       "      <th>3.0</th>\n",
       "      <td>1.000</td>\n",
       "      <td>7700.000</td>\n",
       "      <td>NaN</td>\n",
       "      <td>7700.000</td>\n",
       "      <td>7700.000</td>\n",
       "      <td>7700.000</td>\n",
       "      <td>7700.000</td>\n",
       "      <td>7700.000</td>\n",
       "    </tr>\n",
       "    <tr>\n",
       "      <th rowspan=\"4\" valign=\"top\">Other</th>\n",
       "      <th>0.0</th>\n",
       "      <td>18.000</td>\n",
       "      <td>10558.889</td>\n",
       "      <td>723.113</td>\n",
       "      <td>8690.000</td>\n",
       "      <td>9990.000</td>\n",
       "      <td>10800.000</td>\n",
       "      <td>10942.500</td>\n",
       "      <td>11490.000</td>\n",
       "    </tr>\n",
       "    <tr>\n",
       "      <th>1.0</th>\n",
       "      <td>20.000</td>\n",
       "      <td>14979.550</td>\n",
       "      <td>2051.507</td>\n",
       "      <td>9900.000</td>\n",
       "      <td>15365.000</td>\n",
       "      <td>15840.000</td>\n",
       "      <td>15990.000</td>\n",
       "      <td>16590.000</td>\n",
       "    </tr>\n",
       "    <tr>\n",
       "      <th>2.0</th>\n",
       "      <td>7.000</td>\n",
       "      <td>10170.000</td>\n",
       "      <td>2794.363</td>\n",
       "      <td>7970.000</td>\n",
       "      <td>8235.000</td>\n",
       "      <td>8900.000</td>\n",
       "      <td>11695.000</td>\n",
       "      <td>14460.000</td>\n",
       "    </tr>\n",
       "    <tr>\n",
       "      <th>3.0</th>\n",
       "      <td>6.000</td>\n",
       "      <td>9426.000</td>\n",
       "      <td>2834.963</td>\n",
       "      <td>7500.000</td>\n",
       "      <td>7612.500</td>\n",
       "      <td>7950.000</td>\n",
       "      <td>10392.000</td>\n",
       "      <td>14450.000</td>\n",
       "    </tr>\n",
       "    <tr>\n",
       "      <th rowspan=\"5\" valign=\"top\">Sedans</th>\n",
       "      <th>0.0</th>\n",
       "      <td>149.000</td>\n",
       "      <td>11976.403</td>\n",
       "      <td>3434.890</td>\n",
       "      <td>6950.000</td>\n",
       "      <td>10300.000</td>\n",
       "      <td>10990.000</td>\n",
       "      <td>11400.000</td>\n",
       "      <td>26970.000</td>\n",
       "    </tr>\n",
       "    <tr>\n",
       "      <th>1.0</th>\n",
       "      <td>308.000</td>\n",
       "      <td>15270.649</td>\n",
       "      <td>5487.220</td>\n",
       "      <td>8480.000</td>\n",
       "      <td>10200.000</td>\n",
       "      <td>14920.000</td>\n",
       "      <td>18490.000</td>\n",
       "      <td>31500.000</td>\n",
       "    </tr>\n",
       "    <tr>\n",
       "      <th>2.0</th>\n",
       "      <td>230.000</td>\n",
       "      <td>10121.900</td>\n",
       "      <td>2536.429</td>\n",
       "      <td>6990.000</td>\n",
       "      <td>8500.000</td>\n",
       "      <td>9500.000</td>\n",
       "      <td>9900.000</td>\n",
       "      <td>22000.000</td>\n",
       "    </tr>\n",
       "    <tr>\n",
       "      <th>3.0</th>\n",
       "      <td>209.000</td>\n",
       "      <td>9348.115</td>\n",
       "      <td>2769.832</td>\n",
       "      <td>5445.000</td>\n",
       "      <td>7699.000</td>\n",
       "      <td>8400.000</td>\n",
       "      <td>10490.000</td>\n",
       "      <td>19499.000</td>\n",
       "    </tr>\n",
       "    <tr>\n",
       "      <th>-</th>\n",
       "      <td>22.000</td>\n",
       "      <td>11390.273</td>\n",
       "      <td>2224.604</td>\n",
       "      <td>8750.000</td>\n",
       "      <td>10067.500</td>\n",
       "      <td>10945.000</td>\n",
       "      <td>11390.000</td>\n",
       "      <td>18087.000</td>\n",
       "    </tr>\n",
       "    <tr>\n",
       "      <th rowspan=\"5\" valign=\"top\">Station wagon</th>\n",
       "      <th>0.0</th>\n",
       "      <td>35.000</td>\n",
       "      <td>12717.371</td>\n",
       "      <td>3518.044</td>\n",
       "      <td>6900.000</td>\n",
       "      <td>10870.500</td>\n",
       "      <td>11450.000</td>\n",
       "      <td>13644.000</td>\n",
       "      <td>20680.000</td>\n",
       "    </tr>\n",
       "    <tr>\n",
       "      <th>1.0</th>\n",
       "      <td>98.000</td>\n",
       "      <td>11924.622</td>\n",
       "      <td>2977.329</td>\n",
       "      <td>7950.000</td>\n",
       "      <td>10000.000</td>\n",
       "      <td>10450.000</td>\n",
       "      <td>14775.000</td>\n",
       "      <td>20800.000</td>\n",
       "    </tr>\n",
       "    <tr>\n",
       "      <th>2.0</th>\n",
       "      <td>99.000</td>\n",
       "      <td>11288.848</td>\n",
       "      <td>2708.793</td>\n",
       "      <td>6000.000</td>\n",
       "      <td>9394.500</td>\n",
       "      <td>9980.000</td>\n",
       "      <td>12000.000</td>\n",
       "      <td>17750.000</td>\n",
       "    </tr>\n",
       "    <tr>\n",
       "      <th>3.0</th>\n",
       "      <td>97.000</td>\n",
       "      <td>9437.845</td>\n",
       "      <td>2481.119</td>\n",
       "      <td>5900.000</td>\n",
       "      <td>7999.000</td>\n",
       "      <td>8490.000</td>\n",
       "      <td>10900.000</td>\n",
       "      <td>15995.000</td>\n",
       "    </tr>\n",
       "    <tr>\n",
       "      <th>-</th>\n",
       "      <td>8.000</td>\n",
       "      <td>12870.500</td>\n",
       "      <td>2466.880</td>\n",
       "      <td>10890.000</td>\n",
       "      <td>11072.500</td>\n",
       "      <td>11405.000</td>\n",
       "      <td>14987.000</td>\n",
       "      <td>17200.000</td>\n",
       "    </tr>\n",
       "    <tr>\n",
       "      <th rowspan=\"4\" valign=\"top\">Transporter</th>\n",
       "      <th>0.0</th>\n",
       "      <td>3.000</td>\n",
       "      <td>9661.333</td>\n",
       "      <td>691.666</td>\n",
       "      <td>9262.000</td>\n",
       "      <td>9262.000</td>\n",
       "      <td>9262.000</td>\n",
       "      <td>9861.000</td>\n",
       "      <td>10460.000</td>\n",
       "    </tr>\n",
       "    <tr>\n",
       "      <th>1.0</th>\n",
       "      <td>6.000</td>\n",
       "      <td>10058.500</td>\n",
       "      <td>761.313</td>\n",
       "      <td>8990.000</td>\n",
       "      <td>9513.750</td>\n",
       "      <td>10188.000</td>\n",
       "      <td>10720.500</td>\n",
       "      <td>10798.000</td>\n",
       "    </tr>\n",
       "    <tr>\n",
       "      <th>2.0</th>\n",
       "      <td>9.000</td>\n",
       "      <td>8415.556</td>\n",
       "      <td>839.674</td>\n",
       "      <td>6900.000</td>\n",
       "      <td>7800.000</td>\n",
       "      <td>8590.000</td>\n",
       "      <td>8990.000</td>\n",
       "      <td>9390.000</td>\n",
       "    </tr>\n",
       "    <tr>\n",
       "      <th>3.0</th>\n",
       "      <td>11.000</td>\n",
       "      <td>7376.364</td>\n",
       "      <td>876.838</td>\n",
       "      <td>5900.000</td>\n",
       "      <td>6745.000</td>\n",
       "      <td>7500.000</td>\n",
       "      <td>8045.000</td>\n",
       "      <td>8490.000</td>\n",
       "    </tr>\n",
       "    <tr>\n",
       "      <th rowspan=\"2\" valign=\"top\">Van</th>\n",
       "      <th>1.0</th>\n",
       "      <td>1.000</td>\n",
       "      <td>9900.000</td>\n",
       "      <td>NaN</td>\n",
       "      <td>9900.000</td>\n",
       "      <td>9900.000</td>\n",
       "      <td>9900.000</td>\n",
       "      <td>9900.000</td>\n",
       "      <td>9900.000</td>\n",
       "    </tr>\n",
       "    <tr>\n",
       "      <th>2.0</th>\n",
       "      <td>1.000</td>\n",
       "      <td>9400.000</td>\n",
       "      <td>NaN</td>\n",
       "      <td>9400.000</td>\n",
       "      <td>9400.000</td>\n",
       "      <td>9400.000</td>\n",
       "      <td>9400.000</td>\n",
       "      <td>9400.000</td>\n",
       "    </tr>\n",
       "    <tr>\n",
       "      <th rowspan=\"2\" valign=\"top\">Renault Duster</th>\n",
       "      <th rowspan=\"2\" valign=\"top\">Off-Road</th>\n",
       "      <th>0.0</th>\n",
       "      <td>16.000</td>\n",
       "      <td>13343.000</td>\n",
       "      <td>1625.593</td>\n",
       "      <td>10900.000</td>\n",
       "      <td>12162.500</td>\n",
       "      <td>13219.500</td>\n",
       "      <td>14505.000</td>\n",
       "      <td>16033.000</td>\n",
       "    </tr>\n",
       "    <tr>\n",
       "      <th>-</th>\n",
       "      <td>18.000</td>\n",
       "      <td>13129.889</td>\n",
       "      <td>1659.899</td>\n",
       "      <td>10850.000</td>\n",
       "      <td>11925.000</td>\n",
       "      <td>13189.000</td>\n",
       "      <td>14399.000</td>\n",
       "      <td>16033.000</td>\n",
       "    </tr>\n",
       "    <tr>\n",
       "      <th rowspan=\"31\" valign=\"top\">Renault Espace</th>\n",
       "      <th rowspan=\"3\" valign=\"top\">Compact</th>\n",
       "      <th>0.0</th>\n",
       "      <td>3.000</td>\n",
       "      <td>38830.000</td>\n",
       "      <td>4855.070</td>\n",
       "      <td>33500.000</td>\n",
       "      <td>36745.000</td>\n",
       "      <td>39990.000</td>\n",
       "      <td>41495.000</td>\n",
       "      <td>43000.000</td>\n",
       "    </tr>\n",
       "    <tr>\n",
       "      <th>2.0</th>\n",
       "      <td>1.000</td>\n",
       "      <td>23990.000</td>\n",
       "      <td>NaN</td>\n",
       "      <td>23990.000</td>\n",
       "      <td>23990.000</td>\n",
       "      <td>23990.000</td>\n",
       "      <td>23990.000</td>\n",
       "      <td>23990.000</td>\n",
       "    </tr>\n",
       "    <tr>\n",
       "      <th>3.0</th>\n",
       "      <td>2.000</td>\n",
       "      <td>19900.000</td>\n",
       "      <td>2828.427</td>\n",
       "      <td>17900.000</td>\n",
       "      <td>18900.000</td>\n",
       "      <td>19900.000</td>\n",
       "      <td>20900.000</td>\n",
       "      <td>21900.000</td>\n",
       "    </tr>\n",
       "    <tr>\n",
       "      <th rowspan=\"2\" valign=\"top\">Coupe</th>\n",
       "      <th>0.0</th>\n",
       "      <td>1.000</td>\n",
       "      <td>34140.000</td>\n",
       "      <td>NaN</td>\n",
       "      <td>34140.000</td>\n",
       "      <td>34140.000</td>\n",
       "      <td>34140.000</td>\n",
       "      <td>34140.000</td>\n",
       "      <td>34140.000</td>\n",
       "    </tr>\n",
       "    <tr>\n",
       "      <th>1.0</th>\n",
       "      <td>1.000</td>\n",
       "      <td>26994.000</td>\n",
       "      <td>NaN</td>\n",
       "      <td>26994.000</td>\n",
       "      <td>26994.000</td>\n",
       "      <td>26994.000</td>\n",
       "      <td>26994.000</td>\n",
       "      <td>26994.000</td>\n",
       "    </tr>\n",
       "    <tr>\n",
       "      <th rowspan=\"3\" valign=\"top\">Off-Road</th>\n",
       "      <th>1.0</th>\n",
       "      <td>2.000</td>\n",
       "      <td>27850.000</td>\n",
       "      <td>0.000</td>\n",
       "      <td>27850.000</td>\n",
       "      <td>27850.000</td>\n",
       "      <td>27850.000</td>\n",
       "      <td>27850.000</td>\n",
       "      <td>27850.000</td>\n",
       "    </tr>\n",
       "    <tr>\n",
       "      <th>2.0</th>\n",
       "      <td>5.000</td>\n",
       "      <td>27100.000</td>\n",
       "      <td>4103.657</td>\n",
       "      <td>22500.000</td>\n",
       "      <td>24900.000</td>\n",
       "      <td>25700.000</td>\n",
       "      <td>29500.000</td>\n",
       "      <td>32900.000</td>\n",
       "    </tr>\n",
       "    <tr>\n",
       "      <th>3.0</th>\n",
       "      <td>1.000</td>\n",
       "      <td>14900.000</td>\n",
       "      <td>NaN</td>\n",
       "      <td>14900.000</td>\n",
       "      <td>14900.000</td>\n",
       "      <td>14900.000</td>\n",
       "      <td>14900.000</td>\n",
       "      <td>14900.000</td>\n",
       "    </tr>\n",
       "    <tr>\n",
       "      <th rowspan=\"4\" valign=\"top\">Other</th>\n",
       "      <th>0.0</th>\n",
       "      <td>1.000</td>\n",
       "      <td>42681.000</td>\n",
       "      <td>NaN</td>\n",
       "      <td>42681.000</td>\n",
       "      <td>42681.000</td>\n",
       "      <td>42681.000</td>\n",
       "      <td>42681.000</td>\n",
       "      <td>42681.000</td>\n",
       "    </tr>\n",
       "    <tr>\n",
       "      <th>1.0</th>\n",
       "      <td>2.000</td>\n",
       "      <td>34000.000</td>\n",
       "      <td>0.000</td>\n",
       "      <td>34000.000</td>\n",
       "      <td>34000.000</td>\n",
       "      <td>34000.000</td>\n",
       "      <td>34000.000</td>\n",
       "      <td>34000.000</td>\n",
       "    </tr>\n",
       "    <tr>\n",
       "      <th>2.0</th>\n",
       "      <td>2.000</td>\n",
       "      <td>24900.000</td>\n",
       "      <td>4242.641</td>\n",
       "      <td>21900.000</td>\n",
       "      <td>23400.000</td>\n",
       "      <td>24900.000</td>\n",
       "      <td>26400.000</td>\n",
       "      <td>27900.000</td>\n",
       "    </tr>\n",
       "    <tr>\n",
       "      <th>3.0</th>\n",
       "      <td>3.000</td>\n",
       "      <td>25463.333</td>\n",
       "      <td>7713.497</td>\n",
       "      <td>17500.000</td>\n",
       "      <td>21745.000</td>\n",
       "      <td>25990.000</td>\n",
       "      <td>29445.000</td>\n",
       "      <td>32900.000</td>\n",
       "    </tr>\n",
       "    <tr>\n",
       "      <th rowspan=\"5\" valign=\"top\">Sedans</th>\n",
       "      <th>0.0</th>\n",
       "      <td>1.000</td>\n",
       "      <td>48498.000</td>\n",
       "      <td>NaN</td>\n",
       "      <td>48498.000</td>\n",
       "      <td>48498.000</td>\n",
       "      <td>48498.000</td>\n",
       "      <td>48498.000</td>\n",
       "      <td>48498.000</td>\n",
       "    </tr>\n",
       "    <tr>\n",
       "      <th>1.0</th>\n",
       "      <td>13.000</td>\n",
       "      <td>29090.462</td>\n",
       "      <td>3321.812</td>\n",
       "      <td>25490.000</td>\n",
       "      <td>25995.000</td>\n",
       "      <td>28990.000</td>\n",
       "      <td>30900.000</td>\n",
       "      <td>36900.000</td>\n",
       "    </tr>\n",
       "    <tr>\n",
       "      <th>2.0</th>\n",
       "      <td>3.000</td>\n",
       "      <td>23863.333</td>\n",
       "      <td>109.697</td>\n",
       "      <td>23800.000</td>\n",
       "      <td>23800.000</td>\n",
       "      <td>23800.000</td>\n",
       "      <td>23895.000</td>\n",
       "      <td>23990.000</td>\n",
       "    </tr>\n",
       "    <tr>\n",
       "      <th>3.0</th>\n",
       "      <td>2.000</td>\n",
       "      <td>22449.500</td>\n",
       "      <td>4879.744</td>\n",
       "      <td>18999.000</td>\n",
       "      <td>20724.250</td>\n",
       "      <td>22449.500</td>\n",
       "      <td>24174.750</td>\n",
       "      <td>25900.000</td>\n",
       "    </tr>\n",
       "    <tr>\n",
       "      <th>-</th>\n",
       "      <td>2.000</td>\n",
       "      <td>43969.000</td>\n",
       "      <td>4137.989</td>\n",
       "      <td>41043.000</td>\n",
       "      <td>42506.000</td>\n",
       "      <td>43969.000</td>\n",
       "      <td>45432.000</td>\n",
       "      <td>46895.000</td>\n",
       "    </tr>\n",
       "    <tr>\n",
       "      <th rowspan=\"5\" valign=\"top\">Station wagon</th>\n",
       "      <th>0.0</th>\n",
       "      <td>9.000</td>\n",
       "      <td>43642.222</td>\n",
       "      <td>4066.795</td>\n",
       "      <td>37900.000</td>\n",
       "      <td>42490.000</td>\n",
       "      <td>42680.000</td>\n",
       "      <td>43790.000</td>\n",
       "      <td>52990.000</td>\n",
       "    </tr>\n",
       "    <tr>\n",
       "      <th>1.0</th>\n",
       "      <td>14.000</td>\n",
       "      <td>34301.429</td>\n",
       "      <td>3864.125</td>\n",
       "      <td>28990.000</td>\n",
       "      <td>30230.000</td>\n",
       "      <td>35370.000</td>\n",
       "      <td>37730.000</td>\n",
       "      <td>39990.000</td>\n",
       "    </tr>\n",
       "    <tr>\n",
       "      <th>2.0</th>\n",
       "      <td>13.000</td>\n",
       "      <td>27046.846</td>\n",
       "      <td>5245.900</td>\n",
       "      <td>19450.000</td>\n",
       "      <td>23400.000</td>\n",
       "      <td>27500.000</td>\n",
       "      <td>30980.000</td>\n",
       "      <td>33900.000</td>\n",
       "    </tr>\n",
       "    <tr>\n",
       "      <th>3.0</th>\n",
       "      <td>52.000</td>\n",
       "      <td>21626.827</td>\n",
       "      <td>2862.987</td>\n",
       "      <td>16900.000</td>\n",
       "      <td>19950.000</td>\n",
       "      <td>20455.000</td>\n",
       "      <td>23605.000</td>\n",
       "      <td>27500.000</td>\n",
       "    </tr>\n",
       "    <tr>\n",
       "      <th>-</th>\n",
       "      <td>3.000</td>\n",
       "      <td>45476.667</td>\n",
       "      <td>4746.634</td>\n",
       "      <td>42490.000</td>\n",
       "      <td>42740.000</td>\n",
       "      <td>42990.000</td>\n",
       "      <td>46970.000</td>\n",
       "      <td>50950.000</td>\n",
       "    </tr>\n",
       "    <tr>\n",
       "      <th rowspan=\"4\" valign=\"top\">Transporter</th>\n",
       "      <th>0.0</th>\n",
       "      <td>1.000</td>\n",
       "      <td>32700.000</td>\n",
       "      <td>NaN</td>\n",
       "      <td>32700.000</td>\n",
       "      <td>32700.000</td>\n",
       "      <td>32700.000</td>\n",
       "      <td>32700.000</td>\n",
       "      <td>32700.000</td>\n",
       "    </tr>\n",
       "    <tr>\n",
       "      <th>1.0</th>\n",
       "      <td>5.000</td>\n",
       "      <td>29297.800</td>\n",
       "      <td>1306.587</td>\n",
       "      <td>27990.000</td>\n",
       "      <td>27999.000</td>\n",
       "      <td>29500.000</td>\n",
       "      <td>30000.000</td>\n",
       "      <td>31000.000</td>\n",
       "    </tr>\n",
       "    <tr>\n",
       "      <th>2.0</th>\n",
       "      <td>9.000</td>\n",
       "      <td>23861.000</td>\n",
       "      <td>3464.582</td>\n",
       "      <td>19450.000</td>\n",
       "      <td>21000.000</td>\n",
       "      <td>25000.000</td>\n",
       "      <td>27000.000</td>\n",
       "      <td>28300.000</td>\n",
       "    </tr>\n",
       "    <tr>\n",
       "      <th>3.0</th>\n",
       "      <td>37.000</td>\n",
       "      <td>21124.297</td>\n",
       "      <td>3279.229</td>\n",
       "      <td>14999.000</td>\n",
       "      <td>19000.000</td>\n",
       "      <td>20500.000</td>\n",
       "      <td>24200.000</td>\n",
       "      <td>30000.000</td>\n",
       "    </tr>\n",
       "    <tr>\n",
       "      <th rowspan=\"5\" valign=\"top\">Van</th>\n",
       "      <th>0.0</th>\n",
       "      <td>218.000</td>\n",
       "      <td>40074.514</td>\n",
       "      <td>8154.729</td>\n",
       "      <td>24200.000</td>\n",
       "      <td>32975.000</td>\n",
       "      <td>38925.000</td>\n",
       "      <td>45667.250</td>\n",
       "      <td>68320.000</td>\n",
       "    </tr>\n",
       "    <tr>\n",
       "      <th>1.0</th>\n",
       "      <td>207.000</td>\n",
       "      <td>31947.841</td>\n",
       "      <td>4072.970</td>\n",
       "      <td>23099.000</td>\n",
       "      <td>29385.000</td>\n",
       "      <td>31900.000</td>\n",
       "      <td>34990.000</td>\n",
       "      <td>38990.000</td>\n",
       "    </tr>\n",
       "    <tr>\n",
       "      <th>2.0</th>\n",
       "      <td>134.000</td>\n",
       "      <td>26574.478</td>\n",
       "      <td>3427.863</td>\n",
       "      <td>14600.000</td>\n",
       "      <td>24982.500</td>\n",
       "      <td>25490.000</td>\n",
       "      <td>28500.000</td>\n",
       "      <td>33800.000</td>\n",
       "    </tr>\n",
       "    <tr>\n",
       "      <th>3.0</th>\n",
       "      <td>199.000</td>\n",
       "      <td>22132.623</td>\n",
       "      <td>3216.032</td>\n",
       "      <td>12614.000</td>\n",
       "      <td>19900.000</td>\n",
       "      <td>22222.000</td>\n",
       "      <td>24650.000</td>\n",
       "      <td>27900.000</td>\n",
       "    </tr>\n",
       "    <tr>\n",
       "      <th>-</th>\n",
       "      <td>19.000</td>\n",
       "      <td>39632.316</td>\n",
       "      <td>6866.139</td>\n",
       "      <td>28650.000</td>\n",
       "      <td>33848.000</td>\n",
       "      <td>39550.000</td>\n",
       "      <td>45950.500</td>\n",
       "      <td>50170.000</td>\n",
       "    </tr>\n",
       "  </tbody>\n",
       "</table>\n",
       "</div>"
      ],
      "text/plain": [
       "                                   count      mean       std       min  \\\n",
       "make_model     body_type     age                                         \n",
       "Audi A1        Compact       0.0 198.000 23277.434  3510.406 14900.000   \n",
       "                             1.0 268.000 18596.041  2659.910 13980.000   \n",
       "                             2.0 161.000 16602.807  2085.384 10999.000   \n",
       "                             3.0 234.000 14532.910  1908.909  9950.000   \n",
       "                             -   178.000 23996.264  3383.852 16220.000   \n",
       "               Coupe         2.0   1.000 15900.000       NaN 15900.000   \n",
       "                             3.0   1.000 13950.000       NaN 13950.000   \n",
       "               Other         0.0   8.000 23826.250  2057.439 21490.000   \n",
       "                             1.0   3.000 16796.667   178.979 16590.000   \n",
       "                             2.0   1.000 23490.000       NaN 23490.000   \n",
       "                             -     1.000 21850.000       NaN 21850.000   \n",
       "               Sedans        0.0 368.000 24158.087  3196.985 15990.000   \n",
       "                             1.0 465.000 18394.938  2588.159 13450.000   \n",
       "                             2.0 266.000 16605.395  2223.979 11600.000   \n",
       "                             3.0 389.000 14466.900  1890.278  8999.000   \n",
       "                             -    50.000 23336.560  3815.326 15980.000   \n",
       "               Station wagon 0.0   2.000 28944.500    77.075 28890.000   \n",
       "                             1.0  11.000 17410.909  2166.031 15750.000   \n",
       "                             2.0   3.000 17613.333  2953.817 14750.000   \n",
       "                             3.0   5.000 14358.000  1276.891 12950.000   \n",
       "               Van           0.0   1.000 29000.000       NaN 29000.000   \n",
       "Audi A2        Off-Road      1.0   1.000 28200.000       NaN 28200.000   \n",
       "Audi A3        Compact       0.0  17.000 29345.471  8767.065 15500.000   \n",
       "                             1.0  29.000 22030.931  4270.469 14500.000   \n",
       "                             2.0  39.000 20489.769  8208.445 13790.000   \n",
       "                             3.0  93.000 15303.796  2256.723 12900.000   \n",
       "                             -     4.000 25582.500  1185.109 24542.000   \n",
       "               Convertible   1.0   3.000 29664.333 23557.901 10893.000   \n",
       "                             2.0   4.000 28562.500  5301.159 20900.000   \n",
       "                             3.0   1.000 20000.000       NaN 20000.000   \n",
       "               Coupe         2.0   1.000 19000.000       NaN 19000.000   \n",
       "                             3.0   3.000 17326.667   583.124 16990.000   \n",
       "               Other         1.0   4.000 23422.500  3548.055 20200.000   \n",
       "                             2.0   4.000 18675.000  1351.851 17650.000   \n",
       "                             3.0   5.000 15970.000  2392.070 12550.000   \n",
       "                             -     3.000 25990.000  1322.876 24490.000   \n",
       "               Sedans        0.0 626.000 24909.898  2354.990 18820.000   \n",
       "                             1.0 709.000 22544.715  5224.410 14250.000   \n",
       "                             2.0 550.000 19980.358  3721.376 10550.000   \n",
       "                             3.0 647.000 16702.832  2900.228 10950.000   \n",
       "                             -    66.000 24395.242  2372.569 19750.000   \n",
       "               Station wagon 0.0  69.000 25219.000  5011.257 17990.000   \n",
       "                             1.0  32.000 21252.594  3201.415  5555.000   \n",
       "                             2.0  72.000 19010.875  1522.622 14590.000   \n",
       "                             3.0  67.000 15739.507  1883.567 11790.000   \n",
       "                             -    42.000 23558.667  1687.726 18980.000   \n",
       "Opel Astra     Compact       0.0  51.000 23056.118  7391.480 16500.000   \n",
       "                             1.0  39.000 14717.538  1266.385 11999.000   \n",
       "                             2.0  55.000 13091.491  1884.243  9999.000   \n",
       "                             3.0  30.000 12023.733  2767.419  8450.000   \n",
       "                             -    10.000 16636.600  1098.445 15816.000   \n",
       "               Coupe         0.0   1.000 29990.000       NaN 29990.000   \n",
       "                             3.0   1.000 14490.000       NaN 14490.000   \n",
       "               Off-Road      1.0   1.000 18590.000       NaN 18590.000   \n",
       "               Other         0.0   9.000 17175.000  1225.566 15490.000   \n",
       "                             1.0  35.000 14681.429   554.644 12900.000   \n",
       "                             2.0  11.000 12059.545  1462.304 10040.000   \n",
       "                             3.0  12.000 10652.417  2438.981  8490.000   \n",
       "               Sedans        0.0 260.000 20528.096  4601.490  6950.000   \n",
       "                             1.0 320.000 15682.544  1794.249  8860.000   \n",
       "                             2.0 249.000 12954.040  2080.899  7800.000   \n",
       "                             3.0 150.000 11899.480  2304.464  6500.000   \n",
       "                             -    74.000 19500.405  3467.240 13929.000   \n",
       "               Station wagon 0.0 237.000 22624.730  5168.016 15285.000   \n",
       "                             1.0 332.000 16882.630  1943.277   255.000   \n",
       "                             2.0 269.000 13093.089  2017.233  8480.000   \n",
       "                             3.0 325.000 11047.557  2526.506  6000.000   \n",
       "                             -    48.000 21232.875  4266.954 15445.000   \n",
       "Opel Corsa     Compact       0.0 476.000 13758.405  2637.068   120.000   \n",
       "                             1.0 353.000 11913.510  2098.742  7499.000   \n",
       "                             2.0 158.000  9683.411  1782.282  6250.000   \n",
       "                             3.0 213.000  8426.765  2065.760  4990.000   \n",
       "                             -    30.000 14188.367  3126.629  9245.000   \n",
       "               Coupe         0.0   3.000 10283.333  1286.792  8800.000   \n",
       "                             2.0   5.000  8718.000  1356.695  7500.000   \n",
       "                             3.0   5.000  7920.000  1478.851  6900.000   \n",
       "               Off-Road      2.0   3.000  8166.667   461.880  7900.000   \n",
       "               Other         0.0  13.000 10728.923  3386.983   331.000   \n",
       "                             1.0  49.000  9706.837  1414.526  8490.000   \n",
       "                             2.0  19.000  8667.895   202.281  8500.000   \n",
       "                             3.0   4.000  9054.750  1463.729  7900.000   \n",
       "                             -     2.000 16600.000   919.239 15950.000   \n",
       "               Sedans        0.0 176.000 12949.898  2584.623  8200.000   \n",
       "                             1.0 281.000 10814.836  1985.520    13.000   \n",
       "                             2.0 199.000  9000.975  1513.124  6200.000   \n",
       "                             3.0 203.000  7985.808  1449.380  4950.000   \n",
       "                             -    16.000 12474.688  2733.915  9990.000   \n",
       "               Transporter   0.0   3.000  9933.333   493.288  9600.000   \n",
       "                             2.0   1.000  7450.000       NaN  7450.000   \n",
       "                             3.0   3.000  5433.333   175.594  5250.000   \n",
       "               Van           3.0   2.000  7900.000     0.000  7900.000   \n",
       "Opel Insignia  Compact       0.0  16.000 35747.625  6580.219 21900.000   \n",
       "                             1.0   2.000 20400.000   707.107 19900.000   \n",
       "                             2.0   4.000 17545.000  3341.262 13490.000   \n",
       "                             3.0   4.000 12375.000  2373.640 10350.000   \n",
       "                             -     1.000 39490.000       NaN 39490.000   \n",
       "               Coupe         2.0   1.000 17094.000       NaN 17094.000   \n",
       "               Off-Road      0.0   2.000 30995.000  3528.463 28500.000   \n",
       "                             3.0   1.000 12750.000       NaN 12750.000   \n",
       "                             -     4.000 32854.750  1387.646 31505.000   \n",
       "               Other         0.0   7.000 28008.429  4775.491 24700.000   \n",
       "                             1.0   7.000 20850.714  2277.232 18480.000   \n",
       "                             2.0  31.000 15860.968  2564.308 10600.000   \n",
       "                             3.0   3.000 14063.333  1314.927 12900.000   \n",
       "               Sedans        0.0 138.000 33401.674  4882.201 22120.000   \n",
       "                             1.0 278.000 20368.583  2439.116 15990.000   \n",
       "                             2.0 245.000 16575.776  3254.280  9900.000   \n",
       "                             3.0 126.000 13411.048  2251.593  8600.000   \n",
       "                             -   113.000 27560.788  5192.396 19902.000   \n",
       "               Station wagon 0.0 287.000 33783.021  4561.027 19900.000   \n",
       "                             1.0 480.000 21973.621  1654.916 17500.000   \n",
       "                             2.0 305.000 17493.898  2614.542  8990.000   \n",
       "                             3.0 434.000 13673.684  2165.299  8290.000   \n",
       "                             -   105.000 30336.314  5340.690 21992.000   \n",
       "               Van           1.0   1.000 20980.000       NaN 20980.000   \n",
       "Renault Clio   Compact       0.0 158.000 11845.614  2823.449  9545.000   \n",
       "                             1.0 134.000 15835.754  4597.178  8990.000   \n",
       "                             2.0  86.000 12484.372  3428.348  6950.000   \n",
       "                             3.0  87.000  9549.011  2732.518  5800.000   \n",
       "                             -    19.000 11810.789  2079.485  9990.000   \n",
       "               Coupe         2.0   1.000 17990.000       NaN 17990.000   \n",
       "               Off-Road      0.0   1.000 17990.000       NaN 17990.000   \n",
       "                             3.0   1.000  7700.000       NaN  7700.000   \n",
       "               Other         0.0  18.000 10558.889   723.113  8690.000   \n",
       "                             1.0  20.000 14979.550  2051.507  9900.000   \n",
       "                             2.0   7.000 10170.000  2794.363  7970.000   \n",
       "                             3.0   6.000  9426.000  2834.963  7500.000   \n",
       "               Sedans        0.0 149.000 11976.403  3434.890  6950.000   \n",
       "                             1.0 308.000 15270.649  5487.220  8480.000   \n",
       "                             2.0 230.000 10121.900  2536.429  6990.000   \n",
       "                             3.0 209.000  9348.115  2769.832  5445.000   \n",
       "                             -    22.000 11390.273  2224.604  8750.000   \n",
       "               Station wagon 0.0  35.000 12717.371  3518.044  6900.000   \n",
       "                             1.0  98.000 11924.622  2977.329  7950.000   \n",
       "                             2.0  99.000 11288.848  2708.793  6000.000   \n",
       "                             3.0  97.000  9437.845  2481.119  5900.000   \n",
       "                             -     8.000 12870.500  2466.880 10890.000   \n",
       "               Transporter   0.0   3.000  9661.333   691.666  9262.000   \n",
       "                             1.0   6.000 10058.500   761.313  8990.000   \n",
       "                             2.0   9.000  8415.556   839.674  6900.000   \n",
       "                             3.0  11.000  7376.364   876.838  5900.000   \n",
       "               Van           1.0   1.000  9900.000       NaN  9900.000   \n",
       "                             2.0   1.000  9400.000       NaN  9400.000   \n",
       "Renault Duster Off-Road      0.0  16.000 13343.000  1625.593 10900.000   \n",
       "                             -    18.000 13129.889  1659.899 10850.000   \n",
       "Renault Espace Compact       0.0   3.000 38830.000  4855.070 33500.000   \n",
       "                             2.0   1.000 23990.000       NaN 23990.000   \n",
       "                             3.0   2.000 19900.000  2828.427 17900.000   \n",
       "               Coupe         0.0   1.000 34140.000       NaN 34140.000   \n",
       "                             1.0   1.000 26994.000       NaN 26994.000   \n",
       "               Off-Road      1.0   2.000 27850.000     0.000 27850.000   \n",
       "                             2.0   5.000 27100.000  4103.657 22500.000   \n",
       "                             3.0   1.000 14900.000       NaN 14900.000   \n",
       "               Other         0.0   1.000 42681.000       NaN 42681.000   \n",
       "                             1.0   2.000 34000.000     0.000 34000.000   \n",
       "                             2.0   2.000 24900.000  4242.641 21900.000   \n",
       "                             3.0   3.000 25463.333  7713.497 17500.000   \n",
       "               Sedans        0.0   1.000 48498.000       NaN 48498.000   \n",
       "                             1.0  13.000 29090.462  3321.812 25490.000   \n",
       "                             2.0   3.000 23863.333   109.697 23800.000   \n",
       "                             3.0   2.000 22449.500  4879.744 18999.000   \n",
       "                             -     2.000 43969.000  4137.989 41043.000   \n",
       "               Station wagon 0.0   9.000 43642.222  4066.795 37900.000   \n",
       "                             1.0  14.000 34301.429  3864.125 28990.000   \n",
       "                             2.0  13.000 27046.846  5245.900 19450.000   \n",
       "                             3.0  52.000 21626.827  2862.987 16900.000   \n",
       "                             -     3.000 45476.667  4746.634 42490.000   \n",
       "               Transporter   0.0   1.000 32700.000       NaN 32700.000   \n",
       "                             1.0   5.000 29297.800  1306.587 27990.000   \n",
       "                             2.0   9.000 23861.000  3464.582 19450.000   \n",
       "                             3.0  37.000 21124.297  3279.229 14999.000   \n",
       "               Van           0.0 218.000 40074.514  8154.729 24200.000   \n",
       "                             1.0 207.000 31947.841  4072.970 23099.000   \n",
       "                             2.0 134.000 26574.478  3427.863 14600.000   \n",
       "                             3.0 199.000 22132.623  3216.032 12614.000   \n",
       "                             -    19.000 39632.316  6866.139 28650.000   \n",
       "\n",
       "                                       25%       50%       75%       max  \n",
       "make_model     body_type     age                                          \n",
       "Audi A1        Compact       0.0 20503.500 22492.000 26798.500 31990.000  \n",
       "                             1.0 16445.000 16980.000 20950.000 23829.000  \n",
       "                             2.0 15450.000 15850.000 17700.000 22150.000  \n",
       "                             3.0 13407.500 13994.500 15480.000 18900.000  \n",
       "                             -   21515.000 22875.000 27380.000 29181.000  \n",
       "               Coupe         2.0 15900.000 15900.000 15900.000 15900.000  \n",
       "                             3.0 13950.000 13950.000 13950.000 13950.000  \n",
       "               Other         0.0 22490.000 22720.000 25900.000 26900.000  \n",
       "                             1.0 16745.000 16900.000 16900.000 16900.000  \n",
       "                             2.0 23490.000 23490.000 23490.000 23490.000  \n",
       "                             -   21850.000 21850.000 21850.000 21850.000  \n",
       "               Sedans        0.0 21797.500 23800.000 26890.000 37900.000  \n",
       "                             1.0 16321.000 16950.000 20350.000 33900.000  \n",
       "                             2.0 14955.000 15900.000 18000.000 22500.000  \n",
       "                             3.0 13000.000 13950.000 15784.000 19900.000  \n",
       "                             -   20982.500 22345.000 26855.000 29137.000  \n",
       "               Station wagon 0.0 28917.250 28944.500 28971.750 28999.000  \n",
       "                             1.0 15870.000 16480.000 18260.000 21450.000  \n",
       "                             2.0 16095.000 17440.000 19045.000 20650.000  \n",
       "                             3.0 13979.000 13999.000 14440.000 16422.000  \n",
       "               Van           0.0 29000.000 29000.000 29000.000 29000.000  \n",
       "Audi A2        Off-Road      1.0 28200.000 28200.000 28200.000 28200.000  \n",
       "Audi A3        Compact       0.0 22300.000 24900.000 37998.000 41495.000  \n",
       "                             1.0 19999.000 21900.000 22599.000 39959.000  \n",
       "                             2.0 17525.000 18945.000 20780.000 67600.000  \n",
       "                             3.0 13500.000 14900.000 16895.000 24950.000  \n",
       "                             -   25056.500 25250.000 25776.000 27288.000  \n",
       "               Convertible   1.0 16446.500 22000.000 39050.000 56100.000  \n",
       "                             2.0 27350.000 30200.000 31412.500 32950.000  \n",
       "                             3.0 20000.000 20000.000 20000.000 20000.000  \n",
       "               Coupe         2.0 19000.000 19000.000 19000.000 19000.000  \n",
       "                             3.0 16990.000 16990.000 17495.000 18000.000  \n",
       "               Other         1.0 21925.000 22500.000 23997.500 28490.000  \n",
       "                             2.0 17650.000 18275.000 19300.000 20500.000  \n",
       "                             3.0 15300.000 15500.000 18000.000 18500.000  \n",
       "                             -   25490.000 26490.000 26740.000 26990.000  \n",
       "               Sedans        0.0 23885.000 24900.000 26197.500 62900.000  \n",
       "                             1.0 20800.000 21500.000 22900.000 74600.000  \n",
       "                             2.0 18000.000 19400.000 20990.000 55000.000  \n",
       "                             3.0 15110.000 15980.000 17890.000 42500.000  \n",
       "                             -   22944.750 23947.500 26200.000 34738.000  \n",
       "               Station wagon 0.0 23490.000 24980.000 25884.000 63900.000  \n",
       "                             1.0 20650.000 21480.000 22900.000 23800.000  \n",
       "                             2.0 18374.500 18990.000 19621.250 21990.000  \n",
       "                             3.0 14195.000 15900.000 17250.000 18780.000  \n",
       "                             -   22359.750 23590.000 24937.500 26990.000  \n",
       "Opel Astra     Compact       0.0 17490.000 18300.000 29675.000 39433.000  \n",
       "                             1.0 13990.000 14900.000 14990.000 18900.000  \n",
       "                             2.0 11955.000 12636.000 12955.000 19950.000  \n",
       "                             3.0 10111.250 10947.500 14854.250 17750.000  \n",
       "                             -   15890.000 16159.000 16864.500 18599.000  \n",
       "               Coupe         0.0 29990.000 29990.000 29990.000 29990.000  \n",
       "                             3.0 14490.000 14490.000 14490.000 14490.000  \n",
       "               Off-Road      1.0 18590.000 18590.000 18590.000 18590.000  \n",
       "               Other         0.0 16390.000 17390.000 17490.000 18990.000  \n",
       "                             1.0 14495.000 14890.000 14990.000 15300.000  \n",
       "                             2.0 11250.000 11950.000 12700.000 15400.000  \n",
       "                             3.0  9367.250  9490.000 10900.000 14990.000  \n",
       "               Sedans        0.0 17585.000 18665.000 23940.000 32950.000  \n",
       "                             1.0 14537.250 15275.000 17205.000 18990.000  \n",
       "                             2.0 11320.000 12500.000 14900.000 17890.000  \n",
       "                             3.0 10400.000 10950.000 13967.500 15999.000  \n",
       "                             -   16977.000 18354.000 22375.000 28900.000  \n",
       "               Station wagon 0.0 18096.000 19990.000 26950.000 34580.000  \n",
       "                             1.0 15200.000 17355.000 18465.750 18990.000  \n",
       "                             2.0 11850.000 12660.000 14650.000 17890.000  \n",
       "                             3.0  9479.000 10500.000 12000.000 15999.000  \n",
       "                             -   18040.500 20240.000 23777.500 34900.000  \n",
       "Opel Corsa     Compact       0.0 10979.000 14650.000 15942.500 18622.000  \n",
       "                             1.0  9800.000 12750.000 13890.000 15790.000  \n",
       "                             2.0  8500.000  8950.000 11261.250 13990.000  \n",
       "                             3.0  7290.000  7750.000  7950.000 16950.000  \n",
       "                             -   10785.000 15980.000 17035.000 17490.000  \n",
       "               Coupe         0.0  9875.000 10950.000 11025.000 11100.000  \n",
       "                             2.0  7900.000  8500.000  8700.000 10990.000  \n",
       "                             3.0  7200.000  7200.000  7800.000 10500.000  \n",
       "               Off-Road      2.0  7900.000  7900.000  8300.000  8700.000  \n",
       "               Other         0.0 10990.000 10990.000 10995.000 14990.000  \n",
       "                             1.0  8900.000  9500.000  9690.000 13990.000  \n",
       "                             2.0  8500.000  8500.000  8900.000  8900.000  \n",
       "                             3.0  7900.000  8685.000  9839.750 10949.000  \n",
       "                             -   16275.000 16600.000 16925.000 17250.000  \n",
       "               Sedans        0.0 10990.000 11390.000 15427.500 18490.000  \n",
       "                             1.0  9499.000  9900.000 12500.000 15690.000  \n",
       "                             2.0  8299.000  8600.000  8950.000 13900.000  \n",
       "                             3.0  7400.000  7650.000  7900.000 13500.000  \n",
       "                             -   10867.500 11120.000 14883.000 17990.000  \n",
       "               Transporter   0.0  9650.000  9700.000 10100.000 10500.000  \n",
       "                             2.0  7450.000  7450.000  7450.000  7450.000  \n",
       "                             3.0  5350.000  5450.000  5525.000  5600.000  \n",
       "               Van           3.0  7900.000  7900.000  7900.000  7900.000  \n",
       "Opel Insignia  Compact       0.0 34495.000 36345.000 38991.250 49884.000  \n",
       "                             1.0 20150.000 20400.000 20650.000 20900.000  \n",
       "                             2.0 15740.000 17695.000 19500.000 21300.000  \n",
       "                             3.0 10350.000 12125.000 14150.000 14900.000  \n",
       "                             -   39490.000 39490.000 39490.000 39490.000  \n",
       "               Coupe         2.0 17094.000 17094.000 17094.000 17094.000  \n",
       "               Off-Road      0.0 29747.500 30995.000 32242.500 33490.000  \n",
       "                             3.0 12750.000 12750.000 12750.000 12750.000  \n",
       "                             -   32135.000 32569.000 33288.750 34776.000  \n",
       "               Other         0.0 24940.000 26500.000 28490.000 37999.000  \n",
       "                             1.0 19350.000 19900.000 22442.500 23990.000  \n",
       "                             2.0 13800.000 16900.000 17745.000 18900.000  \n",
       "                             3.0 13350.000 13800.000 14645.000 15490.000  \n",
       "               Sedans        0.0 29912.500 33120.000 37667.250 48950.000  \n",
       "                             1.0 18990.000 19995.000 21490.000 38900.000  \n",
       "                             2.0 13540.000 17750.000 18890.000 21990.000  \n",
       "                             3.0 11950.000 13445.000 14980.000 17999.000  \n",
       "                             -   23776.000 25980.000 29990.000 49350.000  \n",
       "               Station wagon 0.0 29995.000 33900.000 36990.000 52120.000  \n",
       "                             1.0 20850.000 21900.000 23480.000 24700.000  \n",
       "                             2.0 15900.000 17960.000 18990.000 21990.000  \n",
       "                             3.0 12400.000 13900.000 14993.750 18400.000  \n",
       "                             -   25692.000 29797.000 34805.000 41450.000  \n",
       "               Van           1.0 20980.000 20980.000 20980.000 20980.000  \n",
       "Renault Clio   Compact       0.0 10770.000 11180.000 11400.000 26770.000  \n",
       "                             1.0 13387.500 15500.000 16573.250 29740.000  \n",
       "                             2.0  8990.000 13390.000 13925.000 27900.000  \n",
       "                             3.0  7875.000  8400.000 12545.000 15990.000  \n",
       "                             -   10965.000 11190.000 11415.500 18990.000  \n",
       "               Coupe         2.0 17990.000 17990.000 17990.000 17990.000  \n",
       "               Off-Road      0.0 17990.000 17990.000 17990.000 17990.000  \n",
       "                             3.0  7700.000  7700.000  7700.000  7700.000  \n",
       "               Other         0.0  9990.000 10800.000 10942.500 11490.000  \n",
       "                             1.0 15365.000 15840.000 15990.000 16590.000  \n",
       "                             2.0  8235.000  8900.000 11695.000 14460.000  \n",
       "                             3.0  7612.500  7950.000 10392.000 14450.000  \n",
       "               Sedans        0.0 10300.000 10990.000 11400.000 26970.000  \n",
       "                             1.0 10200.000 14920.000 18490.000 31500.000  \n",
       "                             2.0  8500.000  9500.000  9900.000 22000.000  \n",
       "                             3.0  7699.000  8400.000 10490.000 19499.000  \n",
       "                             -   10067.500 10945.000 11390.000 18087.000  \n",
       "               Station wagon 0.0 10870.500 11450.000 13644.000 20680.000  \n",
       "                             1.0 10000.000 10450.000 14775.000 20800.000  \n",
       "                             2.0  9394.500  9980.000 12000.000 17750.000  \n",
       "                             3.0  7999.000  8490.000 10900.000 15995.000  \n",
       "                             -   11072.500 11405.000 14987.000 17200.000  \n",
       "               Transporter   0.0  9262.000  9262.000  9861.000 10460.000  \n",
       "                             1.0  9513.750 10188.000 10720.500 10798.000  \n",
       "                             2.0  7800.000  8590.000  8990.000  9390.000  \n",
       "                             3.0  6745.000  7500.000  8045.000  8490.000  \n",
       "               Van           1.0  9900.000  9900.000  9900.000  9900.000  \n",
       "                             2.0  9400.000  9400.000  9400.000  9400.000  \n",
       "Renault Duster Off-Road      0.0 12162.500 13219.500 14505.000 16033.000  \n",
       "                             -   11925.000 13189.000 14399.000 16033.000  \n",
       "Renault Espace Compact       0.0 36745.000 39990.000 41495.000 43000.000  \n",
       "                             2.0 23990.000 23990.000 23990.000 23990.000  \n",
       "                             3.0 18900.000 19900.000 20900.000 21900.000  \n",
       "               Coupe         0.0 34140.000 34140.000 34140.000 34140.000  \n",
       "                             1.0 26994.000 26994.000 26994.000 26994.000  \n",
       "               Off-Road      1.0 27850.000 27850.000 27850.000 27850.000  \n",
       "                             2.0 24900.000 25700.000 29500.000 32900.000  \n",
       "                             3.0 14900.000 14900.000 14900.000 14900.000  \n",
       "               Other         0.0 42681.000 42681.000 42681.000 42681.000  \n",
       "                             1.0 34000.000 34000.000 34000.000 34000.000  \n",
       "                             2.0 23400.000 24900.000 26400.000 27900.000  \n",
       "                             3.0 21745.000 25990.000 29445.000 32900.000  \n",
       "               Sedans        0.0 48498.000 48498.000 48498.000 48498.000  \n",
       "                             1.0 25995.000 28990.000 30900.000 36900.000  \n",
       "                             2.0 23800.000 23800.000 23895.000 23990.000  \n",
       "                             3.0 20724.250 22449.500 24174.750 25900.000  \n",
       "                             -   42506.000 43969.000 45432.000 46895.000  \n",
       "               Station wagon 0.0 42490.000 42680.000 43790.000 52990.000  \n",
       "                             1.0 30230.000 35370.000 37730.000 39990.000  \n",
       "                             2.0 23400.000 27500.000 30980.000 33900.000  \n",
       "                             3.0 19950.000 20455.000 23605.000 27500.000  \n",
       "                             -   42740.000 42990.000 46970.000 50950.000  \n",
       "               Transporter   0.0 32700.000 32700.000 32700.000 32700.000  \n",
       "                             1.0 27999.000 29500.000 30000.000 31000.000  \n",
       "                             2.0 21000.000 25000.000 27000.000 28300.000  \n",
       "                             3.0 19000.000 20500.000 24200.000 30000.000  \n",
       "               Van           0.0 32975.000 38925.000 45667.250 68320.000  \n",
       "                             1.0 29385.000 31900.000 34990.000 38990.000  \n",
       "                             2.0 24982.500 25490.000 28500.000 33800.000  \n",
       "                             3.0 19900.000 22222.000 24650.000 27900.000  \n",
       "                             -   33848.000 39550.000 45950.500 50170.000  "
      ]
     },
     "execution_count": 442,
     "metadata": {},
     "output_type": "execute_result"
    }
   ],
   "source": [
    "df.groupby(['make_model',\"body_type\", 'age']).price.describe()"
   ]
  },
  {
   "cell_type": "code",
   "execution_count": null,
   "id": "1ebf9870",
   "metadata": {
    "id": "ohkf-S0xWDT2"
   },
   "outputs": [],
   "source": [
    "df['age'].replace('-', 0, inplace=True)"
   ]
  },
  {
   "cell_type": "code",
   "execution_count": null,
   "id": "ab816029",
   "metadata": {
    "id": "FFcZf8NWWDT2",
    "outputId": "2d220120-2adc-4fe7-ab3a-bbb82bff5b45"
   },
   "outputs": [],
   "source": [
    "df.groupby('age').km.mean()"
   ]
  },
  {
   "cell_type": "code",
   "execution_count": null,
   "id": "9ae91a5e",
   "metadata": {
    "id": "-DOJFWjEWDT2",
    "outputId": "c6fccc6e-cc39-442f-cf7f-a29135fc1a28",
    "scrolled": true
   },
   "outputs": [],
   "source": [
    "df[\"age\"].value_counts(dropna=False)"
   ]
  },
  {
   "cell_type": "markdown",
   "id": "d214928a",
   "metadata": {
    "id": "8_JaScBuWDT3"
   },
   "source": [
    "## km"
   ]
  },
  {
   "cell_type": "code",
   "execution_count": null,
   "id": "48adc209",
   "metadata": {
    "id": "GntjJDLYWDT3",
    "outputId": "83f0e060-0425-4cac-c307-3f6e216fb455",
    "scrolled": true
   },
   "outputs": [],
   "source": [
    "first_looking(\"km\")"
   ]
  },
  {
   "cell_type": "code",
   "execution_count": null,
   "id": "0484a9d8",
   "metadata": {
    "id": "tm-a87LBWDT3",
    "outputId": "4b769498-9dda-43a5-8cca-9eb61f7a1dd6",
    "scrolled": false
   },
   "outputs": [],
   "source": [
    "df.groupby(\"age\").km.mean()"
   ]
  },
  {
   "cell_type": "code",
   "execution_count": null,
   "id": "110dc82b",
   "metadata": {
    "id": "pTLqr01PWDT3",
    "outputId": "7f257437-bf1c-43d0-d0c9-03d1c16478e7",
    "scrolled": true
   },
   "outputs": [],
   "source": [
    "df[df[\"km\"].isna()][[\"age\", \"km\"]]"
   ]
  },
  {
   "cell_type": "markdown",
   "id": "e8eade4e",
   "metadata": {
    "id": "NBxllvnbWDT3"
   },
   "source": [
    "**Let us use transform() function to fill missing values at \"km\" column with \"mean\".**"
   ]
  },
  {
   "cell_type": "code",
   "execution_count": null,
   "id": "0256bc18",
   "metadata": {
    "id": "5qDSj9x9WDT3",
    "outputId": "e8db2f0b-902d-424c-d6a1-e1a6f52b5f49",
    "scrolled": true
   },
   "outputs": [],
   "source": [
    "df.groupby(\"age\").km.transform(\"mean\")"
   ]
  },
  {
   "cell_type": "code",
   "execution_count": null,
   "id": "11a4f701",
   "metadata": {
    "id": "ditmDiSrWDT4"
   },
   "outputs": [],
   "source": [
    "df[\"km\"].fillna(df.groupby(\"age\").km.transform(\"mean\"), inplace=True)"
   ]
  },
  {
   "cell_type": "code",
   "execution_count": null,
   "id": "e6185a2e",
   "metadata": {
    "id": "NTgMlDdyWDT4",
    "outputId": "99b0f2df-e626-47c0-a3a9-a43dfa446cde"
   },
   "outputs": [],
   "source": [
    "df[df[\"km\"].isna()][[\"age\", \"km\"]]"
   ]
  },
  {
   "cell_type": "markdown",
   "id": "b57d9780",
   "metadata": {
    "id": "ZD_iPk98WDT4"
   },
   "source": [
    "**Using transform() function, we have filled missing values at \"km\" column with the \"mean\" of the each \"age\" group.**"
   ]
  },
  {
   "cell_type": "code",
   "execution_count": null,
   "id": "10cb69dd",
   "metadata": {
    "id": "kHj4k-VSWDT4",
    "outputId": "04b29adc-c7f7-434a-d3fc-832d010588eb",
    "scrolled": true
   },
   "outputs": [],
   "source": [
    "df.km.value_counts(dropna=False)"
   ]
  },
  {
   "cell_type": "markdown",
   "id": "b3d96d8a",
   "metadata": {
    "id": "N1TYlBeYWDT4"
   },
   "source": [
    "## body type"
   ]
  },
  {
   "cell_type": "code",
   "execution_count": null,
   "id": "0f4bfc90",
   "metadata": {
    "id": "COedP30OWDT5",
    "outputId": "4cd4ab12-1045-4e1f-f40e-df1c79cf4d26",
    "scrolled": true
   },
   "outputs": [],
   "source": [
    "first_looking(\"body_type\")"
   ]
  },
  {
   "cell_type": "code",
   "execution_count": null,
   "id": "d67e44e6",
   "metadata": {
    "id": "EnF5g0dbWDT5"
   },
   "outputs": [],
   "source": [
    "df.body_type.replace(\"Other\", np.nan, inplace=True) "
   ]
  },
  {
   "cell_type": "markdown",
   "id": "af0c4de0",
   "metadata": {
    "id": "d9w8BwdsWDT5"
   },
   "source": [
    "**We do NOT have any information about \"other\". So we have assigned them to \"NaN\" to use \"fillna\" function.**"
   ]
  },
  {
   "cell_type": "code",
   "execution_count": null,
   "id": "333200d6",
   "metadata": {
    "id": "y1RWdWomWDT5",
    "outputId": "18eca745-186c-4587-a702-4b1394db2156"
   },
   "outputs": [],
   "source": [
    "df['body_type'].value_counts(dropna=False)"
   ]
  },
  {
   "cell_type": "code",
   "execution_count": null,
   "id": "5d7e00d9",
   "metadata": {
    "id": "PaOpsir8WDT5",
    "outputId": "0b6b25a3-2d3b-486f-89e9-836d8e6d1cdd"
   },
   "outputs": [],
   "source": [
    "df[\"body_type\"].mode()"
   ]
  },
  {
   "cell_type": "code",
   "execution_count": null,
   "id": "f4eee201",
   "metadata": {
    "id": "ML4Le2eGWDT6",
    "outputId": "c89ac269-2df2-4d78-db02-40a211922809"
   },
   "outputs": [],
   "source": [
    "df[\"body_type\"].mode()[0]"
   ]
  },
  {
   "cell_type": "code",
   "execution_count": null,
   "id": "acfc0229",
   "metadata": {
    "id": "8oXZ_Zg9WDT6"
   },
   "outputs": [],
   "source": [
    "# Step-1\n",
    "\n",
    "# df[\"body_type\"].fillna(df[\"body_type\"].mode()[0])\n",
    "\n",
    "# Step-2\n",
    "\n",
    "# df.loc[df[\"make_model\"]==\"Audi A1\", \"body_type\"].fillna(df[df[\"make_model\"]==\"Audi A1\"][\"body_type\"].mode()[0])\n",
    "# df.loc[df[\"make_model\"]==\"Opel Astra\", \"body_type\"].fillna(df[df[\"make_model\"]==\"Opel Astra\"][\"body_type\"].mode()[0])\n",
    "# ..."
   ]
  },
  {
   "cell_type": "code",
   "execution_count": null,
   "id": "757b1836",
   "metadata": {
    "id": "OZqZqgbeWDT6"
   },
   "outputs": [],
   "source": [
    "# Step-3\n",
    "\n",
    "for group in df[\"make_model\"].unique():\n",
    "    cond = df[\"make_model\"]==group\n",
    "    mode = df[cond][\"body_type\"].mode().to_list()  # list(df[cond][\"body_type\"].mode())\n",
    "    if mode != []:\n",
    "        df.loc[cond, \"body_type\"] = df.loc[cond, \"body_type\"].fillna(df[cond][\"body_type\"].mode()[0])\n",
    "    else:\n",
    "        df.loc[cond, \"body_type\"] = df.loc[cond, \"body_type\"].fillna(df[\"body_type\"].mode()[0])"
   ]
  },
  {
   "cell_type": "code",
   "execution_count": null,
   "id": "e277eb5e",
   "metadata": {
    "id": "s0wQ1g24WDT6",
    "outputId": "c97f775e-1f30-4a3f-a0f0-47984d73ff7b"
   },
   "outputs": [],
   "source": [
    "df['body_type'].value_counts(dropna=False)"
   ]
  },
  {
   "cell_type": "code",
   "execution_count": null,
   "id": "c303b9b0",
   "metadata": {
    "id": "mLr5lI3uWDT6"
   },
   "outputs": [],
   "source": [
    "def fill_most_freq(df, group_col, col_name):\n",
    "    '''Fills the missing values with the most existing value (mode) in the relevant column according to single-stage grouping'''\n",
    "    \n",
    "    for group in list(df[group_col].unique()):\n",
    "        cond = df[group_col]==group\n",
    "        mode = list(df[cond][col_name].mode())\n",
    "        if mode != []:\n",
    "            df.loc[cond, col_name] = df.loc[cond, col_name].fillna(df[cond][col_name].mode()[0])\n",
    "        else:\n",
    "            df.loc[cond, col_name] = df.loc[cond, col_name].fillna(df[col_name].mode()[0])\n",
    "    \n",
    "    print(\"Number of NaN : \",df[col_name].isnull().sum())\n",
    "    print(\"------------------\")\n",
    "    print(df[col_name].value_counts(dropna=False))"
   ]
  },
  {
   "cell_type": "code",
   "execution_count": null,
   "id": "373077c0",
   "metadata": {
    "id": "EBhnq7XfWDT7",
    "outputId": "51af9933-bcbb-4bb6-a542-5d7721c8f68f"
   },
   "outputs": [],
   "source": [
    "fill_most_freq(df, \"make_model\", \"body_type\")"
   ]
  },
  {
   "cell_type": "raw",
   "id": "688abae1",
   "metadata": {
    "id": "1tdlY7F3WDT7"
   },
   "source": [
    "# Method-2\n",
    "# if we want to generalize this script, it may not work in every case because of the indexing of mode result\n",
    "# Sometimes it may give different results comparing with solution of \"for loop\"\n",
    "\n",
    "df['body_type'].fillna(df.groupby(\"make_model\")[\"body_type\"].transform(lambda x : x.mode()[0]), inplace=True)\n",
    "df['body_type'].fillna(df[\"body_type\"].mode()[0], inplace=True)\n",
    "\n",
    "df['body_type'].value_counts(dropna=False)\n",
    "\n",
    "Sedans           8005\n",
    "Station wagon    3678\n",
    "Compact          3242\n",
    "Van               817\n",
    "Transporter        88\n",
    "Off-Road           56\n",
    "Coupe              25\n",
    "Convertible         8\n",
    "Name: body_type, dtype: int64"
   ]
  },
  {
   "cell_type": "markdown",
   "id": "0267f284",
   "metadata": {
    "id": "Mt4xhPmYWDT7"
   },
   "source": [
    "## Previous_Owners"
   ]
  },
  {
   "cell_type": "code",
   "execution_count": null,
   "id": "641a654f",
   "metadata": {
    "id": "epWBhfRpWDT7",
    "outputId": "34e24985-2764-46cb-e144-0940e1fe69b0",
    "scrolled": true
   },
   "outputs": [],
   "source": [
    "first_looking(\"Previous_Owners\")"
   ]
  },
  {
   "cell_type": "code",
   "execution_count": null,
   "id": "d531bd0e",
   "metadata": {
    "id": "EtzPbRZXWDT7"
   },
   "outputs": [],
   "source": [
    "df[\"Previous_Owners\"].fillna(\"-\", inplace = True)"
   ]
  },
  {
   "cell_type": "code",
   "execution_count": null,
   "id": "2ee38c9f",
   "metadata": {
    "id": "mjSDMCK5WDT7",
    "outputId": "e4775ce0-3ba6-4ea7-8526-b81f85a10624"
   },
   "outputs": [],
   "source": [
    "df[\"Previous_Owners\"].value_counts(dropna=False)"
   ]
  },
  {
   "cell_type": "code",
   "execution_count": null,
   "id": "3ba37f0a",
   "metadata": {
    "id": "YksqxOWeWDT8",
    "outputId": "eab4253a-ec1a-4083-d9a2-6c20d3edd5e8",
    "scrolled": true
   },
   "outputs": [],
   "source": [
    "df.groupby(['make_model', 'body_type', 'age', 'Previous_Owners']).price.describe()"
   ]
  },
  {
   "cell_type": "code",
   "execution_count": null,
   "id": "a3b4008e",
   "metadata": {
    "id": "PjafR0llWDT8",
    "outputId": "0e6417c8-fdae-4f68-e355-8ae2da3bafcf"
   },
   "outputs": [],
   "source": [
    "df.groupby(['make_model', 'body_type', 'age', 'Previous_Owners']).km.describe()"
   ]
  },
  {
   "cell_type": "markdown",
   "id": "b5ee8aac",
   "metadata": {
    "id": "qfhUAJQoWDT8"
   },
   "source": [
    "**It is not appear to be a significant relationship between Previous_Owners and price/km columns except Renault Duster. It seems that Renault Duster's Previous_Owners values should be \"0\".**"
   ]
  },
  {
   "cell_type": "code",
   "execution_count": null,
   "id": "f88daae4",
   "metadata": {
    "id": "S4QZgqAOWDT9"
   },
   "outputs": [],
   "source": [
    "cond = (df[\"make_model\"]==\"Renault Duster\") & (df[\"Previous_Owners\"] == \"-\")\n",
    "df.loc[cond, \"Previous_Owners\"] = 0.0"
   ]
  },
  {
   "cell_type": "code",
   "execution_count": null,
   "id": "451ca9fa",
   "metadata": {
    "id": "RiRCIiCEWDT9",
    "outputId": "42d0c4b8-6537-4767-de4d-284b43092088"
   },
   "outputs": [],
   "source": [
    "df[\"Previous_Owners\"].value_counts(dropna=False)"
   ]
  },
  {
   "cell_type": "code",
   "execution_count": null,
   "id": "61a900f0",
   "metadata": {
    "id": "d62TiMjyWDT9"
   },
   "outputs": [],
   "source": [
    "df[\"Previous_Owners\"].replace(\"-\", np.nan, inplace=True)"
   ]
  },
  {
   "cell_type": "code",
   "execution_count": null,
   "id": "faf4233f",
   "metadata": {
    "id": "44T5b90JWDT9"
   },
   "outputs": [],
   "source": [
    "# Step-1\n",
    "# df.[\"Previous_Owners\"].fillna(method=\"ffill\")\n",
    "\n",
    "# Step-2\n",
    "# df.loc[df[\"age\"]==0, \"Previous_Owners\"].fillna(method=\"ffill\")\n",
    "# df.loc[df[\"age\"]==1, \"Previous_Owners\"].fillna(method=\"ffill\")\n",
    "# ..."
   ]
  },
  {
   "cell_type": "code",
   "execution_count": null,
   "id": "6ba8c6f6",
   "metadata": {
    "id": "boMsvNuOWDT-"
   },
   "outputs": [],
   "source": [
    "# Step-3\n",
    "\n",
    "for age in df[\"age\"].unique():\n",
    "    cond = df[\"age\"] == age\n",
    "    df.loc[cond, \"Previous_Owners\"] = df.loc[cond, \"Previous_Owners\"].fillna(method=\"ffill\").fillna(method=\"bfill\")\n",
    "\n",
    "df[\"Previous_Owners\"] = df[\"Previous_Owners\"].fillna(method=\"ffill\").fillna(method=\"bfill\")  # If there has still been \"NaN\" values this code line will deal with it"
   ]
  },
  {
   "cell_type": "code",
   "execution_count": null,
   "id": "d1e500cd",
   "metadata": {
    "id": "o1BtlSeiWDT-",
    "outputId": "fa612e71-d882-4acb-e336-c047685a9534"
   },
   "outputs": [],
   "source": [
    "df[\"Previous_Owners\"].value_counts(dropna=False)"
   ]
  },
  {
   "cell_type": "code",
   "execution_count": null,
   "id": "9098aba8",
   "metadata": {
    "id": "dEzep23AWDT-"
   },
   "outputs": [],
   "source": [
    "def fill_prop(df, group_col, col_name):\n",
    "    '''Fills the missing values with \"ffill and bfill method\" according to single-stage grouping'''\n",
    "    \n",
    "    for group in df[group_col].unique():\n",
    "        cond = df[group_col]==group\n",
    "        df.loc[cond, col_name] = df.loc[cond, col_name].fillna(method=\"ffill\").fillna(method=\"bfill\")\n",
    "    \n",
    "    df[col_name] = df[col_name].fillna(method=\"ffill\").fillna(method=\"bfill\")\n",
    "    \n",
    "    print(\"Number of NaN : \",df[col_name].isnull().sum())\n",
    "    print(\"------------------\")\n",
    "    print(df[col_name].value_counts(dropna=False))"
   ]
  },
  {
   "cell_type": "code",
   "execution_count": null,
   "id": "996fd4de",
   "metadata": {
    "id": "Je4Yt0ajWDT_",
    "outputId": "d41315ef-42e3-4bc6-eb6a-5445d52caab9",
    "scrolled": true
   },
   "outputs": [],
   "source": [
    "fill_prop(df, \"age\", \"Previous_Owners\")"
   ]
  },
  {
   "cell_type": "markdown",
   "id": "84907876",
   "metadata": {
    "id": "UJe1DAQFWDT_"
   },
   "source": [
    "## Warranty"
   ]
  },
  {
   "cell_type": "code",
   "execution_count": null,
   "id": "b9ccfcf2",
   "metadata": {
    "id": "b92mMXKEWDT_",
    "outputId": "8c1050a6-827b-400a-8dd9-a57248339de5"
   },
   "outputs": [],
   "source": [
    "first_looking(\"Warranty\")"
   ]
  },
  {
   "cell_type": "code",
   "execution_count": null,
   "id": "d3ab3ef1",
   "metadata": {
    "id": "9wNEwUMkWDT_"
   },
   "outputs": [],
   "source": [
    "df[\"Warranty\"].fillna(\"-\", inplace = True)"
   ]
  },
  {
   "cell_type": "code",
   "execution_count": null,
   "id": "14e51eaf",
   "metadata": {
    "id": "H3a9LDVZWDT_",
    "outputId": "1379122b-b389-4cf2-8916-1d80625dd52e",
    "scrolled": true
   },
   "outputs": [],
   "source": [
    "df.groupby(['make_model', 'age', 'Warranty']).price.describe()"
   ]
  },
  {
   "cell_type": "code",
   "execution_count": null,
   "id": "cfd97b9b",
   "metadata": {
    "id": "_dZgKhXJWDUA",
    "outputId": "c18f9867-e81c-4fed-cd9f-93fa4102913c"
   },
   "outputs": [],
   "source": [
    "df.groupby([\"make_model\", \"Warranty\"]).price.describe().sort_values(by = [\"make_model\", \"mean\"], ascending=False)"
   ]
  },
  {
   "cell_type": "markdown",
   "id": "ceb0b5e2",
   "metadata": {
    "id": "Ro4fcT8ZWDUA"
   },
   "source": [
    "**There are** **``too many nan values``** **and when we analyzed these nan values according to the price, age and make_model columns, we decided that this column does not have healthy data.**"
   ]
  },
  {
   "cell_type": "code",
   "execution_count": null,
   "id": "d1db43a0",
   "metadata": {
    "id": "M9_kc8GRWDUA"
   },
   "outputs": [],
   "source": [
    "df.drop(\"Warranty\", axis=1, inplace=True)"
   ]
  },
  {
   "cell_type": "code",
   "execution_count": null,
   "id": "3e5b1633",
   "metadata": {},
   "outputs": [],
   "source": [
    "df.shape"
   ]
  },
  {
   "cell_type": "markdown",
   "id": "74271f36",
   "metadata": {
    "id": "x8YjZItjWDUA"
   },
   "source": [
    "## vat"
   ]
  },
  {
   "cell_type": "code",
   "execution_count": null,
   "id": "a2317dc7",
   "metadata": {
    "id": "88iPX7DEWDUA",
    "outputId": "5d97524f-f395-40d3-e36c-859d175e9e4f"
   },
   "outputs": [],
   "source": [
    "first_looking(\"vat\")"
   ]
  },
  {
   "cell_type": "code",
   "execution_count": null,
   "id": "04adf8f8",
   "metadata": {
    "id": "kuaxY3DmWDUB"
   },
   "outputs": [],
   "source": [
    "df[\"vat\"].fillna(\"-\", inplace = True)"
   ]
  },
  {
   "cell_type": "code",
   "execution_count": null,
   "id": "d025e60d",
   "metadata": {
    "id": "lxDk5pg2WDUB",
    "outputId": "9150a265-cbd4-4ef8-fdf7-264cf53b4786"
   },
   "outputs": [],
   "source": [
    "df.groupby([\"make_model\", \"body_type\", \"vat\"]).price.describe()"
   ]
  },
  {
   "cell_type": "markdown",
   "id": "41fbb756",
   "metadata": {
    "id": "3LvS1ZCJWDUB"
   },
   "source": [
    "**It is not appear to be a significant relationship between vat and price column. We can drop this column or fill missing values with ffill/bfill method to maintain the current proportionality.**\n",
    "\n",
    "**I prefer to drop this column**\n",
    "\n",
    "**Be informed that you can create different approaches to deal with missing values at** **``\"vat\"``** **column.**"
   ]
  },
  {
   "cell_type": "code",
   "execution_count": null,
   "id": "9ab71b75",
   "metadata": {
    "id": "5xW0xfmPWDUB"
   },
   "outputs": [],
   "source": [
    "df.drop(\"vat\", axis=1, inplace=True)"
   ]
  },
  {
   "cell_type": "code",
   "execution_count": null,
   "id": "f6cd4f10",
   "metadata": {
    "scrolled": true
   },
   "outputs": [],
   "source": [
    "df.shape"
   ]
  },
  {
   "cell_type": "markdown",
   "id": "293a7b8a",
   "metadata": {
    "id": "n4cUgqhvWDUB"
   },
   "source": [
    "## Paint Type"
   ]
  },
  {
   "cell_type": "markdown",
   "id": "e0c7c351",
   "metadata": {
    "id": "Rom8vRMjWDUG"
   },
   "source": [
    "**According to the domain knowledge we know that; The colors do not affect the prices of cars directly, but their \"paint types\", such as whether they are metallic or not, can affect the price.**"
   ]
  },
  {
   "cell_type": "code",
   "execution_count": null,
   "id": "1ef5ae3a",
   "metadata": {
    "id": "D64KKoDWWDUG",
    "outputId": "d85660bd-c9e4-424b-8868-59256c014482",
    "scrolled": true
   },
   "outputs": [],
   "source": [
    "first_looking(\"Paint_Type\")"
   ]
  },
  {
   "cell_type": "code",
   "execution_count": null,
   "id": "7d870806",
   "metadata": {
    "id": "thpcvmsRWDUH"
   },
   "outputs": [],
   "source": [
    "df[\"Paint_Type\"].fillna(\"-\", inplace = True)"
   ]
  },
  {
   "cell_type": "code",
   "execution_count": null,
   "id": "346b24d9",
   "metadata": {
    "id": "PG8sP6KnWDUH",
    "outputId": "f338e717-130c-42da-b0f4-a8d24a57a08b"
   },
   "outputs": [],
   "source": [
    "df.groupby([\"make_model\", \"body_type\", \"age\", 'Paint_Type']).price.describe()"
   ]
  },
  {
   "cell_type": "code",
   "execution_count": null,
   "id": "cc05a740",
   "metadata": {
    "id": "nYGMlxK5WDUH",
    "outputId": "1dd02d2d-6a99-4039-c07c-c34877d6d33d"
   },
   "outputs": [],
   "source": [
    "df.groupby([\"make_model\", \"body_type\", 'Paint_Type']).price.describe().sort_values(by = [\"make_model\", \"body_type\", \"mean\"], ascending = False)"
   ]
  },
  {
   "cell_type": "markdown",
   "id": "96a06451",
   "metadata": {
    "id": "g3RtH_GfWDUH"
   },
   "source": [
    "**It is not appear to be a significant relationship between Paint_Type and price column. We can drop this column or fill missing values with ffill/bfill method to maintain the current proportionality.**\n",
    "\n",
    "**I prefer to fill missing values** "
   ]
  },
  {
   "cell_type": "code",
   "execution_count": null,
   "id": "35f8b56f",
   "metadata": {
    "id": "GCfG1663WDUI"
   },
   "outputs": [],
   "source": [
    "df[\"Paint_Type\"].replace(\"-\", np.nan, inplace=True)"
   ]
  },
  {
   "cell_type": "code",
   "execution_count": null,
   "id": "b7bd7f39",
   "metadata": {
    "id": "CPATU3zVWDUI"
   },
   "outputs": [],
   "source": [
    "# Step-1\n",
    "\n",
    "# df.[\"Paint_Type\"].fillna(method=\"ffill\")\n",
    "\n",
    "# Step-2\n",
    "# df.loc[df[\"make_model\"]==\"Audi A1\", \"Paint_Type\"].fillna(method=\"ffill\")\n",
    "\n",
    "# Step-3\n",
    "# for group in list(df[\"make_model\"].unique()):\n",
    "#     cond = df[\"make_model\"]==group\n",
    "#     df.loc[cond, \"Paint_Type\"] = df.loc[cond, \"Paint_Type\"].fillna(method=\"ffill\").fillna(method=\"bfill\")\n",
    "# df[\"Paint_Type\"] = df[\"Paint_Type\"].fillna(method=\"ffill\").fillna(method=\"bfill\")"
   ]
  },
  {
   "cell_type": "code",
   "execution_count": null,
   "id": "371e68d5",
   "metadata": {
    "id": "gGbnFUqlWDUI"
   },
   "outputs": [],
   "source": [
    "# Step-4\n",
    "\n",
    "for group1 in df[\"make_model\"].unique():\n",
    "    for group2 in list(df[\"body_type\"].unique()):\n",
    "        cond2 = (df[\"make_model\"]==group1) & (df[\"body_type\"]==group2)\n",
    "        df.loc[cond2, \"Paint_Type\"] = df.loc[cond2, \"Paint_Type\"].fillna(method=\"ffill\").fillna(method=\"bfill\")\n",
    "                \n",
    "for group1 in list(df[\"make_model\"].unique()):\n",
    "    cond1 = df[\"make_model\"]==group1\n",
    "    df.loc[cond1, \"Paint_Type\"] = df.loc[cond1, \"Paint_Type\"].fillna(method=\"ffill\").fillna(method=\"bfill\")            \n",
    "           \n",
    "df[\"Paint_Type\"] = df[\"Paint_Type\"].fillna(method=\"ffill\").fillna(method=\"bfill\")"
   ]
  },
  {
   "cell_type": "code",
   "execution_count": null,
   "id": "7fe426a6",
   "metadata": {
    "id": "e7XQN52TWDUJ",
    "outputId": "c25d0e88-8e77-4345-a95e-42cdd2bacf34"
   },
   "outputs": [],
   "source": [
    "df[\"Paint_Type\"].value_counts(dropna=False)"
   ]
  },
  {
   "cell_type": "code",
   "execution_count": null,
   "id": "da550d9a",
   "metadata": {
    "id": "ZVzN1eSVWDUJ"
   },
   "outputs": [],
   "source": [
    "def fill_ffill(df, group_col1, group_col2, col_name):\n",
    "    \n",
    "    for group1 in list(df[group_col1].unique()):\n",
    "        for group2 in list(df[group_col2].unique()):\n",
    "            cond2 = (df[group_col1]==group1) & (df[group_col2]==group2)\n",
    "            df.loc[cond2, col_name] = df.loc[cond2, col_name].fillna(method=\"ffill\").fillna(method=\"bfill\")\n",
    "                \n",
    "    for group1 in list(df[group_col1].unique()):\n",
    "        cond1 = df[group_col1]==group1\n",
    "        df.loc[cond1, col_name] = df.loc[cond1, col_name].fillna(method=\"ffill\").fillna(method=\"bfill\")            \n",
    "           \n",
    "    df[col_name] = df[col_name].fillna(method=\"ffill\").fillna(method=\"bfill\")\n",
    "    \n",
    "    print(\"Number of NaN : \",df[col_name].isnull().sum())\n",
    "    print(\"------------------\")\n",
    "    print(df[col_name].value_counts(dropna=False))"
   ]
  },
  {
   "cell_type": "code",
   "execution_count": null,
   "id": "7307c694",
   "metadata": {
    "id": "ElEcj52-WDUJ",
    "outputId": "60a75c86-d0d9-43da-9c63-ad43ea879bec",
    "scrolled": false
   },
   "outputs": [],
   "source": [
    "fill_ffill(df, \"make_model\", \"body_type\", \"Paint_Type\")"
   ]
  },
  {
   "cell_type": "markdown",
   "id": "97d35574",
   "metadata": {
    "id": "pugCL0nAWDUJ"
   },
   "source": [
    "## Type"
   ]
  },
  {
   "cell_type": "code",
   "execution_count": null,
   "id": "0a1ad3d1",
   "metadata": {
    "id": "BhKbEsgZWDUJ",
    "outputId": "4cdb0402-2ff1-447c-bf57-081f854292a8",
    "scrolled": true
   },
   "outputs": [],
   "source": [
    "first_looking(\"Type\")"
   ]
  },
  {
   "cell_type": "code",
   "execution_count": null,
   "id": "ce07eb0d",
   "metadata": {
    "id": "AAntAzUEWDUJ"
   },
   "outputs": [],
   "source": [
    "df.Type.fillna(\"-\", inplace=True)"
   ]
  },
  {
   "cell_type": "code",
   "execution_count": null,
   "id": "1f66c252",
   "metadata": {
    "id": "kySodxRkWDUK",
    "outputId": "207e7eb5-70d2-43e4-e4c7-62e0f0b90f6e",
    "scrolled": false
   },
   "outputs": [],
   "source": [
    "df.groupby([\"Type\", \"make_model\", \"age\"]).km.describe()"
   ]
  },
  {
   "cell_type": "code",
   "execution_count": null,
   "id": "d35047a2",
   "metadata": {
    "id": "aWuvoi9qWDUK",
    "outputId": "5a92f749-8659-459d-82f8-02f853ae808f"
   },
   "outputs": [],
   "source": [
    "df.groupby([\"make_model\", \"age\", \"Type\"]).price.describe()"
   ]
  },
  {
   "cell_type": "markdown",
   "id": "79c23d75",
   "metadata": {
    "id": "9xXHrt4xWDUK"
   },
   "source": [
    "**There are just two missing values. We can easly detect that one of them should be new and the other used according to theirs km values**\n",
    "\n",
    "**Additionally, We can reduce the number of categorical values by combining them suitably.**"
   ]
  },
  {
   "cell_type": "code",
   "execution_count": null,
   "id": "7f9ae266",
   "metadata": {
    "id": "WbltlRsiWDUK"
   },
   "outputs": [],
   "source": [
    "cond1 = (df['make_model'] == \"Audi A3\") & (df[\"age\"] == 0)\n",
    "cond2 = (df['make_model'] == \"Audi A3\") & (df[\"age\"] == 3)"
   ]
  },
  {
   "cell_type": "code",
   "execution_count": null,
   "id": "faefc628",
   "metadata": {
    "id": "tR9yVvEmWDUK"
   },
   "outputs": [],
   "source": [
    "df.loc[cond1,'Type'] = df.loc[cond1,'Type'].replace('-', 'New')\n",
    "df.loc[cond2,'Type'] = df.loc[cond2,'Type'].replace('-', 'Used')"
   ]
  },
  {
   "cell_type": "code",
   "execution_count": null,
   "id": "c0c09ac3",
   "metadata": {
    "id": "PPQx-vaXWDUK",
    "outputId": "bedd3c57-c363-4619-fde3-4065dc29897a",
    "scrolled": true
   },
   "outputs": [],
   "source": [
    "df['Type'].value_counts(dropna=False)"
   ]
  },
  {
   "cell_type": "markdown",
   "id": "c04258b0",
   "metadata": {
    "id": "9jgeitBVWDUL"
   },
   "source": [
    "## Inspection new"
   ]
  },
  {
   "cell_type": "code",
   "execution_count": null,
   "id": "9b299908",
   "metadata": {
    "id": "qcxoJhriWDUL",
    "outputId": "31c03660-5ab4-443b-c91f-0a0ff3d98350"
   },
   "outputs": [],
   "source": [
    "first_looking(\"Inspection_new\")"
   ]
  },
  {
   "cell_type": "code",
   "execution_count": null,
   "id": "4f00cb97",
   "metadata": {
    "id": "TlLLONb3WDUL"
   },
   "outputs": [],
   "source": [
    "df[\"Inspection_new\"].fillna(\"-\", inplace=True)"
   ]
  },
  {
   "cell_type": "code",
   "execution_count": null,
   "id": "3e638bb2",
   "metadata": {
    "id": "31hUpnWRWDUL",
    "outputId": "1f36d654-04dc-46f8-ebba-094ee15eb356"
   },
   "outputs": [],
   "source": [
    "df.groupby([\"make_model\", \"body_type\", \"age\", \"Inspection_new\"]).price.describe()"
   ]
  },
  {
   "cell_type": "markdown",
   "id": "ff69e94e",
   "metadata": {
    "id": "fN8lY6V0WDUL"
   },
   "source": [
    "**There are too many missing values. We can drop this column or fill missing value with \"No\".**\n",
    "\n",
    "**Since I have accepted missing values as vehicles without inspection, I prefer to fill missing values.** "
   ]
  },
  {
   "cell_type": "code",
   "execution_count": null,
   "id": "ce275a57",
   "metadata": {
    "id": "-FX1QYGDWDUL"
   },
   "outputs": [],
   "source": [
    "df[\"Inspection_new\"].replace(\"-\", \"No\", inplace=True)"
   ]
  },
  {
   "cell_type": "code",
   "execution_count": null,
   "id": "c3497f96",
   "metadata": {
    "id": "6vrGD914WDUM",
    "outputId": "bd6e42e8-900c-443a-d094-337216c6b36e"
   },
   "outputs": [],
   "source": [
    "df[\"Inspection_new\"].value_counts(dropna=False)"
   ]
  },
  {
   "cell_type": "code",
   "execution_count": null,
   "id": "ef559594",
   "metadata": {
    "id": "grWWNYXqWDUM"
   },
   "outputs": [],
   "source": [
    "df[\"Inspection_new\"].replace([\"Yes\", \"No\"], [1, 0], inplace=True) # just replace mentioned values\n",
    "\n",
    "#df[\"Inspection_new\"].map({\"Yes\":1, \"No\":0}, inplace=True) # if there is value apart from mention in map function,\n",
    "                                                           # that value is replaced with Nan value."
   ]
  },
  {
   "cell_type": "code",
   "execution_count": null,
   "id": "9d5314c8",
   "metadata": {
    "id": "_ME9RHWVWDUM",
    "outputId": "121c5eb6-f64a-4eb4-a232-a53ed4522013",
    "scrolled": true
   },
   "outputs": [],
   "source": [
    "df[\"Inspection_new\"].value_counts(dropna=False)"
   ]
  },
  {
   "cell_type": "markdown",
   "id": "8f473fc7",
   "metadata": {
    "id": "Vd72Ej_3WDUM"
   },
   "source": [
    "## Upholstery_type"
   ]
  },
  {
   "cell_type": "code",
   "execution_count": null,
   "id": "9ed61a2b",
   "metadata": {
    "id": "sYUMH_s-WDUM",
    "outputId": "081e055f-27cc-4e42-dab0-c01aec44ade6"
   },
   "outputs": [],
   "source": [
    "first_looking(\"Upholstery_type\")"
   ]
  },
  {
   "cell_type": "code",
   "execution_count": null,
   "id": "b936f83f",
   "metadata": {
    "id": "-g_sstIyWDUN",
    "outputId": "c3564512-9734-43e6-88ca-29c4c29cf2a3",
    "scrolled": true
   },
   "outputs": [],
   "source": [
    "df.groupby([\"make_model\", \"body_type\", \"age\", \"Upholstery_type\"]).price.describe()"
   ]
  },
  {
   "cell_type": "markdown",
   "id": "4a915c81",
   "metadata": {
    "id": "PYoDsvLMWDUN"
   },
   "source": [
    "**I have decided to combine upholstery_types to reduce the number of categories.**"
   ]
  },
  {
   "cell_type": "code",
   "execution_count": null,
   "id": "dbe02bdc",
   "metadata": {
    "id": "BglM7D4LWDUN"
   },
   "outputs": [],
   "source": [
    "df[\"Upholstery_type\"].replace([\"Velour\", \"alcantara\", \"Part leather\", \"Full leather\"], \n",
    "                              [\"Cloth\", \"Part/Full Leather\", \"Part/Full Leather\", \"Part/Full Leather\"], inplace=True)"
   ]
  },
  {
   "cell_type": "code",
   "execution_count": null,
   "id": "e260aa0b",
   "metadata": {
    "id": "xtVvX_xjWDUN",
    "outputId": "f1e3edcc-c0ff-46be-a8bd-177e78f072e9"
   },
   "outputs": [],
   "source": [
    "df[\"Upholstery_type\"].value_counts(dropna=False)"
   ]
  },
  {
   "cell_type": "code",
   "execution_count": null,
   "id": "1b728789",
   "metadata": {
    "id": "RRWePqOiWDUN"
   },
   "outputs": [],
   "source": [
    "df[\"Upholstery_type\"].fillna(\"-\", inplace=True)"
   ]
  },
  {
   "cell_type": "code",
   "execution_count": null,
   "id": "73aa1ff7",
   "metadata": {
    "id": "YUyic0CaWDUN",
    "outputId": "f1863e40-7c04-49d5-f684-5919048b35c1"
   },
   "outputs": [],
   "source": [
    "df.groupby([\"make_model\", \"body_type\", \"age\", \"Upholstery_type\"]).price.describe()"
   ]
  },
  {
   "cell_type": "markdown",
   "id": "ebeb67b4",
   "metadata": {
    "id": "zHXs3UbaWDUO"
   },
   "source": [
    "**I haven't detected significant relationship to fill missing values.**\n",
    "\n",
    "**I prefer to fill missing values with ffill/bfill method to maintain the current proportionality.**"
   ]
  },
  {
   "cell_type": "code",
   "execution_count": null,
   "id": "96bc5b95",
   "metadata": {
    "id": "sWBS_fJQWDUO"
   },
   "outputs": [],
   "source": [
    "df[\"Upholstery_type\"].replace(\"-\", np.nan, inplace=True)"
   ]
  },
  {
   "cell_type": "code",
   "execution_count": null,
   "id": "746ccd95",
   "metadata": {
    "id": "zrbhA5xLWDUO",
    "outputId": "2e830c13-8a2d-48fc-ecbf-78afc20737a4",
    "scrolled": true
   },
   "outputs": [],
   "source": [
    "fill(df, \"make_model\", \"body_type\", \"Upholstery_type\", \"ffill\")"
   ]
  },
  {
   "cell_type": "markdown",
   "id": "140509a6",
   "metadata": {
    "id": "FuLC4HwLWDUO"
   },
   "source": [
    "## Upholstery_color"
   ]
  },
  {
   "cell_type": "code",
   "execution_count": null,
   "id": "0f7a2c38",
   "metadata": {},
   "outputs": [],
   "source": [
    "first_looking(\"Upholstery_color\")"
   ]
  },
  {
   "cell_type": "code",
   "execution_count": null,
   "id": "23086c18",
   "metadata": {
    "id": "VKJfjb9_WDUO"
   },
   "outputs": [],
   "source": [
    "df.drop(\"Upholstery_color\", axis=1, inplace=True)"
   ]
  },
  {
   "cell_type": "code",
   "execution_count": null,
   "id": "e0f36af7",
   "metadata": {
    "scrolled": true
   },
   "outputs": [],
   "source": [
    "df.shape"
   ]
  },
  {
   "cell_type": "markdown",
   "id": "78320301",
   "metadata": {
    "id": "hStwQjaSWDUP"
   },
   "source": [
    "## Nr. of Doors"
   ]
  },
  {
   "cell_type": "code",
   "execution_count": null,
   "id": "519be467",
   "metadata": {
    "id": "DQlQRrQEWDUP",
    "outputId": "55a7d7ab-3727-4610-acde-3e7e3388f7c3",
    "scrolled": true
   },
   "outputs": [],
   "source": [
    "first_looking(\"Nr_of_Doors\")"
   ]
  },
  {
   "cell_type": "markdown",
   "id": "75ad19db",
   "metadata": {
    "id": "tN0PmOiPWDUP"
   },
   "source": [
    "**The number of doors of cars changes by theirs make_models and body_types. So I have decided to fill missing values with mode value of related group.**"
   ]
  },
  {
   "cell_type": "code",
   "execution_count": null,
   "id": "22cb51e1",
   "metadata": {
    "id": "dCGQXxhfWDUP"
   },
   "outputs": [],
   "source": [
    "# Step-1\n",
    "\n",
    "# df[\"Nr_of_Doors\"].fillna(df[\"Nr_of_Doors\"].mode()[0])\n",
    "\n",
    "# Step-2\n",
    "\n",
    "# df.loc[df[\"make_model\"]==\"Audi A1\", \"Nr_of_Doors\"].fillna(df[df[\"make_model\"]==\"Audi A1\"][\"Nr_of_Doors\"].mode()[0])\n",
    "# df.loc[df[\"make_model\"]==\"Opel Astra\", \"Nr_of_Doors\"].fillna(df[df[\"make_model\"]==\"Opel Astra\"][\"Nr_of_Doors\"].mode()[0])\n",
    "# ...\n",
    "\n",
    "# Step-3\n",
    "\n",
    "# for group in df[\"make_model\"].unique():\n",
    "#     cond = df[\"make_model\"]==group\n",
    "#     mode = list(df[cond][\"body_type\"].mode())\n",
    "#     if mode != []:\n",
    "#         df.loc[cond, \"body_type\"] = df.loc[cond, \"body_type\"].fillna(df[cond][\"body_type\"].mode()[0])\n",
    "#     else:\n",
    "#         df.loc[cond, \"body_type\"] = df.loc[cond, \"body_type\"].fillna(df[\"body_type\"].mode()[0])"
   ]
  },
  {
   "cell_type": "code",
   "execution_count": null,
   "id": "9933b4ac",
   "metadata": {
    "id": "9WIdqu2JWDUP"
   },
   "outputs": [],
   "source": [
    "# Step-4\n",
    "\n",
    "for group1 in list(df[\"make_model\"].unique()):\n",
    "    for group2 in list(df[\"body_type\"].unique()):\n",
    "        cond1 = df[\"make_model\"]==group1\n",
    "        cond2 = (df[\"make_model\"]==group1) & (df[\"body_type\"]==group2)\n",
    "        mode1 = list(df[cond1][\"Nr_of_Doors\"].mode())\n",
    "        mode2 = list(df[cond2][\"Nr_of_Doors\"].mode())\n",
    "        if mode2 != []:\n",
    "            df.loc[cond2, \"Nr_of_Doors\"] = df.loc[cond2, \"Nr_of_Doors\"].fillna(df[cond2][\"Nr_of_Doors\"].mode()[0])\n",
    "        elif mode1 != []:\n",
    "            df.loc[cond2, \"Nr_of_Doors\"] = df.loc[cond2, \"Nr_of_Doors\"].fillna(df[cond1][\"Nr_of_Doors\"].mode()[0])\n",
    "        else:\n",
    "            df.loc[cond2, \"Nr_of_Doors\"] = df.loc[cond2, \"Nr_of_Doors\"].fillna(df[\"Nr_of_Doors\"].mode()[0])"
   ]
  },
  {
   "cell_type": "code",
   "execution_count": null,
   "id": "ead3bbef",
   "metadata": {
    "id": "sOq71mSmWDUP",
    "outputId": "334d4b22-2cde-4380-8e5f-a0004d7eff20"
   },
   "outputs": [],
   "source": [
    "df[\"Nr_of_Doors\"].value_counts(dropna=False)"
   ]
  },
  {
   "cell_type": "code",
   "execution_count": null,
   "id": "846953fd",
   "metadata": {
    "id": "_fsTXNiVWDUQ"
   },
   "outputs": [],
   "source": [
    "def fill_mode(df, group_col1, group_col2, col_name):\n",
    "    \n",
    "    for group1 in list(df[group_col1].unique()):\n",
    "        for group2 in list(df[group_col2].unique()):\n",
    "            cond1 = df[group_col1]==group1\n",
    "            cond2 = (df[group_col1]==group1) & (df[group_col2]==group2)\n",
    "            mode1 = list(df[cond1][col_name].mode())\n",
    "            mode2 = list(df[cond2][col_name].mode())\n",
    "            if mode2 != []:\n",
    "                df.loc[cond2, col_name] = df.loc[cond2, col_name].fillna(df[cond2][col_name].mode()[0])\n",
    "            elif mode1 != []:\n",
    "                df.loc[cond2, col_name] = df.loc[cond2, col_name].fillna(df[cond1][col_name].mode()[0])\n",
    "            else:\n",
    "                df.loc[cond2, col_name] = df.loc[cond2, col_name].fillna(df[col_name].mode()[0])\n",
    "    \n",
    "    print(\"Number of NaN : \", df[col_name].isnull().sum())\n",
    "    print(\"------------------\")\n",
    "    print(df[col_name].value_counts(dropna=False))"
   ]
  },
  {
   "cell_type": "code",
   "execution_count": null,
   "id": "9e2405ea",
   "metadata": {
    "id": "yVqxyxQIWDUQ",
    "outputId": "7f6e29ef-a9b5-4a19-d2e7-09cf18d5aa6b"
   },
   "outputs": [],
   "source": [
    "fill_mode(df, \"make_model\", \"body_type\", \"Nr_of_Doors\")"
   ]
  },
  {
   "cell_type": "raw",
   "id": "9eb8eed9",
   "metadata": {
    "id": "kFKx4X82WDUQ"
   },
   "source": [
    "# Method-2\n",
    "# if we want to generalize this script, it may not work in every case because of the indexing of mode result\n",
    "# Sometimes it may give different results comparing with solution of \"for loop\"\n",
    "\n",
    "df['Nr_of_Doors'].fillna(df.groupby([\"make_model\", \"body_type\"])[\"Nr_of_Doors\"].transform(lambda x : x.mode()), inplace = True)\n",
    "df['Nr_of_Doors'].fillna(df.groupby(\"make_model\")[\"Nr_of_Doors\"].transform(lambda x : x.mode()[0]), inplace = True)\n",
    "df['Nr_of_Doors'].fillna(df[\"Nr_of_Doors\"].mode()[0], inplace = True)\n",
    "\n",
    "df[\"Nr_of_Doors\"].value_counts(dropna=False)\n",
    "\n",
    "5.000    11787\n",
    "4.000     3079\n",
    "3.000      832\n",
    "2.000      219\n",
    "1.000        1\n",
    "7.000        1\n",
    "Name: Nr_of_Doors, dtype: int64"
   ]
  },
  {
   "cell_type": "markdown",
   "id": "2d1201c9",
   "metadata": {
    "id": "Y6OM1GWJWDUQ"
   },
   "source": [
    "## Nr. of Seats"
   ]
  },
  {
   "cell_type": "code",
   "execution_count": null,
   "id": "60edace5",
   "metadata": {
    "id": "Du_SlJ5SWDUR",
    "outputId": "703039e8-5bd5-49b5-eedb-652dd813b600"
   },
   "outputs": [],
   "source": [
    "first_looking(\"Nr_of_Seats\")"
   ]
  },
  {
   "cell_type": "markdown",
   "id": "922befb7",
   "metadata": {
    "id": "rJu8V_HHWDUR"
   },
   "source": [
    "**The number of seats of cars changes by theirs make_models and body_types. So I have decided to fill missing values with mode value of related group.**"
   ]
  },
  {
   "cell_type": "code",
   "execution_count": null,
   "id": "4226a0e6",
   "metadata": {
    "id": "zm5JDYD0WDUR",
    "outputId": "a69fcccb-9daf-496d-8e81-365e9cd7c3a9"
   },
   "outputs": [],
   "source": [
    "fill(df, \"make_model\", \"body_type\", \"Nr_of_Seats\", \"mode\")"
   ]
  },
  {
   "cell_type": "markdown",
   "id": "50bdafef",
   "metadata": {
    "id": "Bg2D5WL7WDUR"
   },
   "source": [
    "## Cylinders"
   ]
  },
  {
   "cell_type": "code",
   "execution_count": null,
   "id": "c007b5e5",
   "metadata": {
    "id": "0ZC3k7tTWDUR",
    "outputId": "e74590b2-8b89-4f2b-cc3f-7410a04a9198"
   },
   "outputs": [],
   "source": [
    "first_looking(\"Cylinders\")"
   ]
  },
  {
   "cell_type": "code",
   "execution_count": null,
   "id": "1e07885d",
   "metadata": {
    "id": "jRktlx5lWDUS"
   },
   "outputs": [],
   "source": [
    "df[\"Cylinders\"].fillna(\"-\", inplace=True)"
   ]
  },
  {
   "cell_type": "code",
   "execution_count": null,
   "id": "b301e068",
   "metadata": {
    "id": "gfps2LqBWDUS",
    "outputId": "c84650a0-db89-4b37-b1e3-b946b6e26923"
   },
   "outputs": [],
   "source": [
    "df.groupby([\"make_model\", \"body_type\", \"age\", \"Cylinders\"]).price.describe()"
   ]
  },
  {
   "cell_type": "markdown",
   "id": "0069ae26",
   "metadata": {
    "id": "vVrmxCFKWDUS"
   },
   "source": [
    "**There are other features having less missing values and giving similar insight such as \"hp, weight, displacement\". So I have decided to drop this column.** "
   ]
  },
  {
   "cell_type": "code",
   "execution_count": null,
   "id": "29c4189b",
   "metadata": {
    "id": "VBQKBIA-WDUS"
   },
   "outputs": [],
   "source": [
    "df.drop(\"Cylinders\", axis=1, inplace=True)"
   ]
  },
  {
   "cell_type": "code",
   "execution_count": null,
   "id": "17cb6fd1",
   "metadata": {
    "scrolled": true
   },
   "outputs": [],
   "source": [
    "df.shape"
   ]
  },
  {
   "cell_type": "markdown",
   "id": "f711792b",
   "metadata": {
    "id": "n_MPON2hWDUS"
   },
   "source": [
    "## Drive chain"
   ]
  },
  {
   "cell_type": "code",
   "execution_count": null,
   "id": "63a9c19c",
   "metadata": {
    "id": "69s7eVGjWDUT",
    "outputId": "4cf12fcd-feaf-467b-86a2-905b8a009af7"
   },
   "outputs": [],
   "source": [
    "first_looking(\"Drive_chain\")"
   ]
  },
  {
   "cell_type": "code",
   "execution_count": null,
   "id": "6660ed03",
   "metadata": {
    "id": "Lw11tZC_WDUT"
   },
   "outputs": [],
   "source": [
    "df[\"Drive_chain\"].fillna(\"-\", inplace=True)"
   ]
  },
  {
   "cell_type": "code",
   "execution_count": null,
   "id": "13d9da07",
   "metadata": {
    "id": "4kXvjoF1WDUU",
    "outputId": "17448a7a-69cf-490f-e69d-71a7000fdb4b"
   },
   "outputs": [],
   "source": [
    "df.groupby([\"make_model\", \"body_type\", \"Drive_chain\"]).price.describe()"
   ]
  },
  {
   "cell_type": "markdown",
   "id": "381ea3e5",
   "metadata": {
    "id": "jpu7jNVKWDUU"
   },
   "source": [
    "**The type of drive_chain of cars changes by theirs make_models and body_types most of the time. So I have decided to fill missing values with mode value of related group.**"
   ]
  },
  {
   "cell_type": "code",
   "execution_count": null,
   "id": "988562c7",
   "metadata": {
    "id": "WFXX9bLpWDUU"
   },
   "outputs": [],
   "source": [
    "cond = (df['make_model'] == \"Renault Duster\") & (df[\"body_type\"] == \"Off-Road\")"
   ]
  },
  {
   "cell_type": "code",
   "execution_count": null,
   "id": "da3238d4",
   "metadata": {
    "id": "s87JKzyDWDUU"
   },
   "outputs": [],
   "source": [
    "df.loc[cond, 'Drive_chain'] = df.loc[cond, 'Drive_chain'].replace('-', '4WD')"
   ]
  },
  {
   "cell_type": "code",
   "execution_count": null,
   "id": "f96c2c7b",
   "metadata": {
    "id": "qzRGEm4KWDUV",
    "outputId": "c3ceab17-2215-42b8-9f3a-5d8ba1f22eb4"
   },
   "outputs": [],
   "source": [
    "df[\"Drive_chain\"].value_counts(dropna=False)"
   ]
  },
  {
   "cell_type": "code",
   "execution_count": null,
   "id": "d6211b59",
   "metadata": {
    "id": "TioLLqygWDUV"
   },
   "outputs": [],
   "source": [
    "df[\"Drive_chain\"] = df[\"Drive_chain\"].replace('-', np.nan)"
   ]
  },
  {
   "cell_type": "code",
   "execution_count": null,
   "id": "cbc30ab9",
   "metadata": {
    "id": "of4i9c4-WDUV",
    "outputId": "809714b2-82b9-4338-c715-04dba06d8531"
   },
   "outputs": [],
   "source": [
    "df[\"Drive_chain\"].value_counts(dropna=False)"
   ]
  },
  {
   "cell_type": "code",
   "execution_count": null,
   "id": "19fe7c87",
   "metadata": {
    "id": "JFthsrdxWDUV",
    "outputId": "52828ea8-5f6c-49ac-b3a2-0ecad1dfdbae"
   },
   "outputs": [],
   "source": [
    "fill(df, \"make_model\", \"body_type\", \"Drive_chain\", \"mode\")"
   ]
  },
  {
   "cell_type": "markdown",
   "id": "21628139",
   "metadata": {
    "id": "N_3KW6niWDUV"
   },
   "source": [
    "## Emission Class"
   ]
  },
  {
   "cell_type": "code",
   "execution_count": null,
   "id": "603d8f4b",
   "metadata": {
    "id": "YzjJzV1DWDUV",
    "outputId": "4e84e9cd-ea9f-4687-b131-0014af855f90"
   },
   "outputs": [],
   "source": [
    "first_looking(\"Emission_Class\")"
   ]
  },
  {
   "cell_type": "code",
   "execution_count": null,
   "id": "467ee08c",
   "metadata": {
    "id": "9OfzWBWSWDUW"
   },
   "outputs": [],
   "source": [
    "df[\"Emission_Class\"].fillna(\"-\", inplace=True)"
   ]
  },
  {
   "cell_type": "code",
   "execution_count": null,
   "id": "14f48972",
   "metadata": {
    "id": "mK8IZtleWDUW",
    "outputId": "d51d7404-8513-4486-a4fb-394b4c9a3ded"
   },
   "outputs": [],
   "source": [
    "df.groupby([\"make_model\", \"age\", \"Fuel\", \"Emission_Class\"]).price.describe()"
   ]
  },
  {
   "cell_type": "markdown",
   "id": "83e275ba",
   "metadata": {
    "id": "sswkn1-nWDUW"
   },
   "source": [
    "**The emission class of cars are related theirs model years/ages. So I have decided to drop this column.**"
   ]
  },
  {
   "cell_type": "code",
   "execution_count": null,
   "id": "826f59d7",
   "metadata": {
    "id": "xpjF1TAXWDUW"
   },
   "outputs": [],
   "source": [
    "df.drop(\"Emission_Class\", axis=1, inplace=True)"
   ]
  },
  {
   "cell_type": "code",
   "execution_count": null,
   "id": "84f77297",
   "metadata": {
    "scrolled": true
   },
   "outputs": [],
   "source": [
    "df.shape"
   ]
  },
  {
   "cell_type": "markdown",
   "id": "094a52d7",
   "metadata": {
    "id": "isX1YIs5WDUW"
   },
   "source": [
    "## Gears"
   ]
  },
  {
   "cell_type": "code",
   "execution_count": null,
   "id": "21ab2e08",
   "metadata": {
    "id": "rnIFS0L6WDUX",
    "outputId": "e31288cd-93c8-43ec-bb33-6d584375c0aa",
    "scrolled": true
   },
   "outputs": [],
   "source": [
    "first_looking(\"Gears\")"
   ]
  },
  {
   "cell_type": "code",
   "execution_count": null,
   "id": "f30c5df4",
   "metadata": {
    "id": "2Tytv6DnWDUX"
   },
   "outputs": [],
   "source": [
    "df[\"Gears\"].fillna(\"-\", inplace=True)"
   ]
  },
  {
   "cell_type": "code",
   "execution_count": null,
   "id": "caca43b2",
   "metadata": {
    "id": "JlWK69xBWDUX",
    "outputId": "b9082d8b-805e-4f41-f987-b33e0c967a29",
    "scrolled": true
   },
   "outputs": [],
   "source": [
    "df.groupby([\"make_model\", \"body_type\", \"Gearing_Type\", \"Gears\"]).price.describe()"
   ]
  },
  {
   "cell_type": "markdown",
   "id": "77bae6e8",
   "metadata": {
    "id": "8fncxHNXWDUX"
   },
   "source": [
    "**The number of gears of cars changes by theirs make_models, body_types and gear_types most of the time. So I have decided to fill missing values with mode value of related group.**"
   ]
  },
  {
   "cell_type": "code",
   "execution_count": null,
   "id": "071e9cea",
   "metadata": {
    "id": "_y1oiJnHWDUY"
   },
   "outputs": [],
   "source": [
    "df[\"Gears\"].replace(\"-\", np.nan, inplace=True)"
   ]
  },
  {
   "cell_type": "code",
   "execution_count": null,
   "id": "28c40bbb",
   "metadata": {
    "id": "wZ5Wuxz6WDUY"
   },
   "outputs": [],
   "source": [
    "for group1 in df[\"make_model\"].unique():\n",
    "    for group2 in df[\"body_type\"].unique():\n",
    "        for group3 in df[\"Gearing_Type\"].unique():\n",
    "            cond1 = df[\"make_model\"]==group1\n",
    "            cond2 = (df[\"make_model\"]==group1) & (df[\"body_type\"]==group2)\n",
    "            cond3 = (df[\"make_model\"]==group1) & (df[\"body_type\"]==group2) & (df[\"Gearing_Type\"]==group3)\n",
    "            mode1 = list(df[cond1][\"Gears\"].mode())\n",
    "            mode2 = list(df[cond2][\"Gears\"].mode())\n",
    "            mode3 = list(df[cond3][\"Gears\"].mode())\n",
    "            if mode3 != []:\n",
    "                df.loc[cond3, \"Gears\"] = df.loc[cond3, \"Gears\"].fillna(df[cond3][\"Gears\"].mode()[0])\n",
    "            elif mode2 != []:\n",
    "                df.loc[cond3, \"Gears\"] = df.loc[cond3, \"Gears\"].fillna(df[cond2][\"Gears\"].mode()[0])\n",
    "            elif mode1 != []:\n",
    "                df.loc[cond3, \"Gears\"] = df.loc[cond3, \"Gears\"].fillna(df[cond1][\"Gears\"].mode()[0])\n",
    "            else:\n",
    "                df.loc[cond3, \"Gears\"] = df.loc[cond3, \"Gears\"].fillna(df[\"Gears\"].mode()[0])"
   ]
  },
  {
   "cell_type": "code",
   "execution_count": null,
   "id": "6a845bb8",
   "metadata": {
    "id": "_RS-bnxSWDUY",
    "outputId": "1de3fd42-d02d-4816-b383-db283ce41808"
   },
   "outputs": [],
   "source": [
    "df[\"Gears\"].value_counts(dropna=False)"
   ]
  },
  {
   "cell_type": "raw",
   "id": "8ae41c8b",
   "metadata": {
    "id": "KfOlf2f9WDUY"
   },
   "source": [
    "# Method-2\n",
    "# if we want to generalize this script, it may not work in every case because of the indexing of mode result\n",
    "# Sometimes it may give different results comparing with solution of \"for loop\"\n",
    "\n",
    "df['Gears'].fillna(df.groupby([\"make_model\", \"body_type\", \"Gearing_Type\"])[\"Gears\"].transform(lambda x : x.mode()), inplace=True)\n",
    "df['Gears'].fillna(df.groupby([\"make_model\", \"body_type\"])[\"Gears\"].transform(lambda x : x.mode()), inplace=True)\n",
    "df['Gears'].fillna(df.groupby(\"make_model\")[\"Gears\"].transform(lambda x : x.mode()), inplace=True)\n",
    "df['Gears'].fillna(df[\"Gears\"].mode()[0], inplace=True)\n",
    "\n",
    "df[\"Gears\"].value_counts(dropna=False)\n",
    "\n",
    "6.000    10547\n",
    "5.000     3239\n",
    "7.000     1909\n",
    "8.000      224\n",
    "Name: Gears, dtype: int64"
   ]
  },
  {
   "cell_type": "markdown",
   "id": "5e27e888",
   "metadata": {
    "id": "QL1PmsRIWDUY"
   },
   "source": [
    "## hp_kW"
   ]
  },
  {
   "cell_type": "code",
   "execution_count": null,
   "id": "43160d09",
   "metadata": {
    "id": "OAvy6RuGWDUY",
    "outputId": "45f68fe5-bb7c-4550-c448-e016dc3a90a3",
    "scrolled": true
   },
   "outputs": [],
   "source": [
    "first_looking(\"hp_kW\")"
   ]
  },
  {
   "cell_type": "code",
   "execution_count": null,
   "id": "393f2b00",
   "metadata": {
    "id": "rWvXfLsNWDUZ"
   },
   "outputs": [],
   "source": [
    "df[\"hp_kW\"].fillna(\"-\", inplace=True)"
   ]
  },
  {
   "cell_type": "code",
   "execution_count": null,
   "id": "cd5c9f92",
   "metadata": {
    "id": "JsB31crNWDUZ",
    "outputId": "73ddbc2b-4c4a-481f-cf8e-bd8aef692eca"
   },
   "outputs": [],
   "source": [
    "df.groupby([\"make_model\", \"body_type\",\"hp_kW\"]).price.describe()"
   ]
  },
  {
   "cell_type": "markdown",
   "id": "36a21a22",
   "metadata": {
    "id": "9pMLHdUgWDUZ"
   },
   "source": [
    "**The hp of cars changes by theirs make_models and body_types most of the time. So I have decided to fill missing values with mode value of related group.**"
   ]
  },
  {
   "cell_type": "code",
   "execution_count": null,
   "id": "94a1773c",
   "metadata": {
    "id": "zDYfi8zoWDUZ"
   },
   "outputs": [],
   "source": [
    "df[\"hp_kW\"].replace([\"-\"], np.nan, inplace=True)"
   ]
  },
  {
   "cell_type": "code",
   "execution_count": null,
   "id": "0b780f78",
   "metadata": {
    "id": "fJRrZbqnWDUZ",
    "outputId": "7c6b1e00-f9b1-4ebc-8e1a-972c20135d55",
    "scrolled": true
   },
   "outputs": [],
   "source": [
    "fill(df, \"make_model\", \"body_type\", \"hp_kW\", \"mode\")"
   ]
  },
  {
   "cell_type": "markdown",
   "id": "add75a32",
   "metadata": {
    "id": "NrNJvBe2WDUZ"
   },
   "source": [
    "## Displacement_cc"
   ]
  },
  {
   "cell_type": "code",
   "execution_count": null,
   "id": "e679bf10",
   "metadata": {
    "id": "Ghr15bl-WDUa",
    "outputId": "3e8ff0f7-4147-49ee-f80f-83bf68534437",
    "scrolled": true
   },
   "outputs": [],
   "source": [
    "first_looking(\"Displacement_cc\")"
   ]
  },
  {
   "cell_type": "code",
   "execution_count": null,
   "id": "c2b70c36",
   "metadata": {
    "id": "Q1EwWicQWDUa"
   },
   "outputs": [],
   "source": [
    "df[\"Displacement_cc\"].fillna(\"-\", inplace=True)"
   ]
  },
  {
   "cell_type": "code",
   "execution_count": null,
   "id": "63916d19",
   "metadata": {
    "id": "D9TNZGMUWDUa",
    "outputId": "ef14def6-d909-4a4f-c0cb-9b2ab3fbe9c7"
   },
   "outputs": [],
   "source": [
    "df.groupby([\"make_model\", \"body_type\",\"Displacement_cc\"]).price.describe()"
   ]
  },
  {
   "cell_type": "markdown",
   "id": "5d9d5431",
   "metadata": {
    "id": "LaN3IfjlWDUa"
   },
   "source": [
    "**The displacement of cars changes by theirs make_models and body_types most of the time. So I have decided to fill missing values with mode value of related group.**"
   ]
  },
  {
   "cell_type": "code",
   "execution_count": null,
   "id": "d9f4bafb",
   "metadata": {
    "id": "11hbII63WDUa"
   },
   "outputs": [],
   "source": [
    "df[\"Displacement_cc\"].replace(\"-\", np.nan, inplace=True)"
   ]
  },
  {
   "cell_type": "code",
   "execution_count": null,
   "id": "5fcba17b",
   "metadata": {
    "id": "ZZXvEqPtWDUa",
    "outputId": "fe4ae7e1-6c60-43a5-d60b-56d4e631b282",
    "scrolled": true
   },
   "outputs": [],
   "source": [
    "fill(df, \"make_model\", \"body_type\", \"Displacement_cc\", \"mode\")"
   ]
  },
  {
   "cell_type": "markdown",
   "id": "fbad20a8",
   "metadata": {
    "id": "A2pLmzllWDUb"
   },
   "source": [
    "## Weight_kg"
   ]
  },
  {
   "cell_type": "code",
   "execution_count": null,
   "id": "b78eae11",
   "metadata": {
    "id": "Qd2qpQ8NWDUb",
    "outputId": "e0464dfb-1243-48bd-e0e8-b5df7ff2b557"
   },
   "outputs": [],
   "source": [
    "first_looking(\"Weight_kg\")"
   ]
  },
  {
   "cell_type": "code",
   "execution_count": null,
   "id": "f68f20e0",
   "metadata": {
    "id": "3BZOYsN_WDUb"
   },
   "outputs": [],
   "source": [
    "df[\"Weight_kg\"].fillna(\"-\", inplace=True)"
   ]
  },
  {
   "cell_type": "code",
   "execution_count": null,
   "id": "87526ad0",
   "metadata": {
    "id": "En3rCrAGWDUb",
    "outputId": "bbdcc5e1-00dc-4b2b-9995-3ded08b3220b"
   },
   "outputs": [],
   "source": [
    "df.groupby([\"make_model\", \"body_type\",\"Weight_kg\"]).price.describe()"
   ]
  },
  {
   "cell_type": "markdown",
   "id": "a04d4e2b",
   "metadata": {
    "id": "tS-mWCbGWDUb"
   },
   "source": [
    "**The weights of cars changes by theirs make_models and body_types most of the time. So I have decided to fill missing values with mode value of related group.**"
   ]
  },
  {
   "cell_type": "code",
   "execution_count": null,
   "id": "8020325e",
   "metadata": {
    "id": "ERQ3tyI9WDUb"
   },
   "outputs": [],
   "source": [
    "df[\"Weight_kg\"].replace(\"-\", np.nan, inplace=True)"
   ]
  },
  {
   "cell_type": "code",
   "execution_count": null,
   "id": "782b7c45",
   "metadata": {
    "id": "VsJmYkkMWDUb",
    "outputId": "13aead0e-f7f8-4084-bc22-0351f88fc8d1"
   },
   "outputs": [],
   "source": [
    "fill(df, \"make_model\", \"body_type\", \"Weight_kg\", \"mode\")"
   ]
  },
  {
   "cell_type": "markdown",
   "id": "e67d405b",
   "metadata": {
    "id": "aHp5bZJeWDUc"
   },
   "source": [
    "## CO2 Emission"
   ]
  },
  {
   "cell_type": "code",
   "execution_count": null,
   "id": "53a61b52",
   "metadata": {
    "id": "tgFPb0RqWDUc",
    "outputId": "7258e025-5b28-4c87-de32-125ea8fcb5e1"
   },
   "outputs": [],
   "source": [
    "first_looking(\"CO2_Emission\")"
   ]
  },
  {
   "cell_type": "code",
   "execution_count": null,
   "id": "3850cb49",
   "metadata": {
    "id": "6AF94LoYWDUc"
   },
   "outputs": [],
   "source": [
    "df[\"CO2_Emission\"].fillna(\"-\", inplace=True)"
   ]
  },
  {
   "cell_type": "code",
   "execution_count": null,
   "id": "442423a6",
   "metadata": {
    "id": "RdSIdLw0WDUc",
    "outputId": "3883d111-e300-43ae-db35-db0f4003b175"
   },
   "outputs": [],
   "source": [
    "df.groupby([\"make_model\", \"body_type\", \"Fuel\", \"CO2_Emission\"]).price.describe()"
   ]
  },
  {
   "cell_type": "markdown",
   "id": "55d28a2b",
   "metadata": {
    "id": "bZl8BqKGWDUc"
   },
   "source": [
    "**Let's see CO2_Emission for Electric cars.**"
   ]
  },
  {
   "cell_type": "code",
   "execution_count": null,
   "id": "d339b722",
   "metadata": {
    "id": "PZPlLu0EWDUc",
    "outputId": "1e1c9c6d-6843-4823-9f55-d85b2e00e04f"
   },
   "outputs": [],
   "source": [
    "df.groupby([\"Fuel\", \"make_model\", \"body_type\", \"CO2_Emission\"]).price.describe().loc[\"Electric\"]"
   ]
  },
  {
   "cell_type": "markdown",
   "id": "4d310d15",
   "metadata": {
    "id": "m3EDr0UTWDUd"
   },
   "source": [
    "**I have decided to fill missing values in two stages.**\n",
    "\n",
    "**1.Mode value of Electirc cars for Electric cars having missing value.**\n",
    "\n",
    "**2.Median values of related make_model, body_type and Fuel group for the other cars.**"
   ]
  },
  {
   "cell_type": "code",
   "execution_count": null,
   "id": "898cdb34",
   "metadata": {
    "id": "zLHh9b0fWDUd"
   },
   "outputs": [],
   "source": [
    "df[\"CO2_Emission\"].replace(\"-\", np.nan, inplace=True)"
   ]
  },
  {
   "cell_type": "code",
   "execution_count": null,
   "id": "28cbadc6",
   "metadata": {
    "id": "1niJZj8PWDUd",
    "outputId": "65987b73-c3cc-4dec-95c3-6225cab114cf"
   },
   "outputs": [],
   "source": [
    "df.loc[df.Fuel == \"Electric\", \"CO2_Emission\"]"
   ]
  },
  {
   "cell_type": "code",
   "execution_count": null,
   "id": "f0ddabfd",
   "metadata": {
    "id": "cv4X40BwWDUd",
    "outputId": "b52a5391-8ceb-4741-a82c-06e42d69cbb4"
   },
   "outputs": [],
   "source": [
    "df.loc[df.Fuel == \"Electric\", \"CO2_Emission\"] = df.loc[df.Fuel == \"Electric\", \"CO2_Emission\"].fillna(df.loc[df.Fuel == \"Electric\", \"CO2_Emission\"].mode()[0])\n",
    "df.loc[df.Fuel == \"Electric\", \"CO2_Emission\"]"
   ]
  },
  {
   "cell_type": "code",
   "execution_count": null,
   "id": "03dadb0e",
   "metadata": {
    "id": "WfpOOaq7WDUd"
   },
   "outputs": [],
   "source": [
    "# Step-1\n",
    "\n",
    "# df['CO2_Emission'].fillna(df[\"CO2_Emission\"].median(), inplace = True)\n",
    "\n",
    "# Step-2\n",
    "\n",
    "# df['CO2_Emission'].fillna(df.groupby(\"make_model\")[\"CO2_Emission\"].transform(\"median\"), inplace = True)\n",
    "\n",
    "# Step-3\n",
    "\n",
    "# df['CO2_Emission'].fillna(df.groupby([\"make_model\", \"body_type\"])[\"CO2_Emission\"].transform(\"median\"), inplace = True)\n",
    "\n",
    "# Step-3\n",
    "\n",
    "# df['CO2_Emission'].fillna(df.groupby([\"make_model\", \"body_type\", \"Fuel\"])[\"CO2_Emission\"].transform(\"median\"), inplace = True)"
   ]
  },
  {
   "cell_type": "code",
   "execution_count": null,
   "id": "2bb600ad",
   "metadata": {
    "id": "ZRph7w6_WDUd"
   },
   "outputs": [],
   "source": [
    "# Step-4\n",
    "\n",
    "df['CO2_Emission'].fillna(df.groupby([\"make_model\", \"body_type\", \"Fuel\"])[\"CO2_Emission\"].transform(\"median\"), inplace = True)\n",
    "df['CO2_Emission'].fillna(df.groupby([\"make_model\", \"body_type\"])[\"CO2_Emission\"].transform(\"median\"), inplace = True)\n",
    "df['CO2_Emission'].fillna(df.groupby(\"make_model\")[\"CO2_Emission\"].transform(\"median\"), inplace = True)\n",
    "df['CO2_Emission'].fillna(df[\"CO2_Emission\"].median(), inplace = True)"
   ]
  },
  {
   "cell_type": "code",
   "execution_count": null,
   "id": "83b1d5ca",
   "metadata": {
    "id": "LVdjPddKWDUe",
    "outputId": "6962e70a-e4eb-477f-b5ca-354ba265e220"
   },
   "outputs": [],
   "source": [
    "df[\"CO2_Emission\"].value_counts(dropna=False)"
   ]
  },
  {
   "cell_type": "code",
   "execution_count": null,
   "id": "fbf65652",
   "metadata": {
    "id": "InZK2NqwWDUe"
   },
   "outputs": [],
   "source": [
    "def fill_median(df, group_col1, group_col2, group_col3, col_name):\n",
    "    \n",
    "    df[col_name].fillna(df.groupby([group_col1, group_col2, group_col3])[col_name].transform(\"median\"), inplace = True)\n",
    "    df[col_name].fillna(df.groupby([group_col1, group_col2])[col_name].transform(\"median\"), inplace = True)\n",
    "    df[col_name].fillna(df.groupby(group_col1)[col_name].transform(\"median\"), inplace = True)\n",
    "    df[col_name].fillna(df[col_name].median(), inplace = True)\n",
    "\n",
    "    print(\"Number of NaN : \", df[col_name].isnull().sum())\n",
    "    print(\"------------------\")\n",
    "    print(df[col_name].value_counts(dropna=False))        "
   ]
  },
  {
   "cell_type": "code",
   "execution_count": null,
   "id": "938c3120",
   "metadata": {
    "id": "xWDC053jWDUe",
    "outputId": "d8272731-47d1-41cd-a8dc-3f40dfcde032"
   },
   "outputs": [],
   "source": [
    "fill_median(df, \"make_model\", \"body_type\", \"Fuel\", \"CO2_Emission\")"
   ]
  },
  {
   "cell_type": "markdown",
   "id": "0632240f",
   "metadata": {
    "id": "pnMuSegTWDUe"
   },
   "source": [
    "## Comfort_Convenience"
   ]
  },
  {
   "cell_type": "code",
   "execution_count": null,
   "id": "8d9c2dd3",
   "metadata": {
    "id": "4B-bRj3lWDUe",
    "outputId": "b6097578-00a2-4d49-b997-5af11e002317"
   },
   "outputs": [],
   "source": [
    "first_looking(\"Comfort_Convenience\")"
   ]
  },
  {
   "cell_type": "code",
   "execution_count": null,
   "id": "24a268fc",
   "metadata": {
    "id": "SDfv5LiFWDUe",
    "outputId": "4b1753eb-8460-4d44-976e-120b9fedaddf"
   },
   "outputs": [],
   "source": [
    "fill(df, \"make_model\", \"body_type\", \"Comfort_Convenience\", \"mode\")"
   ]
  },
  {
   "cell_type": "code",
   "execution_count": null,
   "id": "7ad8987d",
   "metadata": {
    "id": "T9ZKtQ4UWDUe",
    "outputId": "669c8176-1b4f-43d0-edca-b890b7c98f96"
   },
   "outputs": [],
   "source": [
    "# Car Comfort & Conveniance Packages\n",
    "\n",
    "premium = [\"Electrical side mirrors\", \"Parking assist\", \"Air conditioning\", \"Hill Holder\", \"Power windows\"]\n",
    "premium_plus = [\"Keyless central door lock\", \"Heads-up\", \"Massage seats\", \"heating\", \"Automatic climate control\", \"Heated\"]\n",
    "\n",
    "comfort_package = df['Comfort_Convenience'].apply(lambda sentence: \"Premium Plus\" if all(word in sentence for word in premium_plus) else (\"Premium\" if all(word in sentence for word in premium) else \"Standard\"))\n",
    "comfort_package.value_counts()"
   ]
  },
  {
   "cell_type": "code",
   "execution_count": null,
   "id": "24d3f2d8",
   "metadata": {
    "id": "vIp-3dPfWDUf",
    "outputId": "f2de342e-76b1-4663-8389-1c5919a9fbe3"
   },
   "outputs": [],
   "source": [
    "# Car Comfort & Conveniance Packages\n",
    "\n",
    "# premium = [\"Electrical side mirrors\", \"Parking assist\", \"Air conditioning\", \"Hill Holder\", \"Power windows\"]\n",
    "# premium_plus = [\"Keyless central door lock\", \"Heads-up\", \"Massage seats\", \"heating\", \"roof\", \"Heated\"]\n",
    "\n",
    "df['Comfort_Convenience_Package'] = df['Comfort_Convenience'].apply(lambda sentence: \"Premium Plus\" if all(word in sentence for word in premium_plus) else (\"Premium\" if all(word in sentence for word in premium) else \"Standard\"))\n",
    "df.drop(\"Comfort_Convenience\", axis=1, inplace=True)\n",
    "df"
   ]
  },
  {
   "cell_type": "markdown",
   "id": "5b08e67d",
   "metadata": {
    "id": "FEpasjalWDUf"
   },
   "source": [
    "## Entertainment_Media"
   ]
  },
  {
   "cell_type": "code",
   "execution_count": null,
   "id": "013e42db",
   "metadata": {
    "id": "InBTUT1bWDUf",
    "outputId": "b87331fc-6e31-4b33-9d99-eda1dac48339"
   },
   "outputs": [],
   "source": [
    "first_looking(\"Entertainment_Media\")"
   ]
  },
  {
   "cell_type": "code",
   "execution_count": null,
   "id": "4459ccc7",
   "metadata": {
    "id": "H6dQPaMlWDUf",
    "outputId": "d37abdfe-5f0b-4d57-8deb-a7e5ca2410ef"
   },
   "outputs": [],
   "source": [
    "fill(df, \"make_model\", \"body_type\", \"Entertainment_Media\", \"mode\")"
   ]
  },
  {
   "cell_type": "code",
   "execution_count": null,
   "id": "ccd1ad48",
   "metadata": {
    "id": "uR53CSIbWDUf",
    "outputId": "a276d8a6-fcbb-42fa-83a3-fc56c07ffa80"
   },
   "outputs": [],
   "source": [
    "# Car Entertainment & Media Packages\n",
    "\n",
    "media_plus = [\"Digital radio\", \"Hands-free\", \"Television\"]\n",
    "\n",
    "entertainment_media_package = df['Entertainment_Media'].apply(lambda sentence: \"Plus\" if any(word in sentence for word in media_plus) else \"Standard\")\n",
    "entertainment_media_package.value_counts()"
   ]
  },
  {
   "cell_type": "code",
   "execution_count": null,
   "id": "8c3f1e94",
   "metadata": {
    "id": "AOZaafB6WDUf",
    "outputId": "3f0c93c5-d02e-451a-c15d-10d18bcc45cf"
   },
   "outputs": [],
   "source": [
    "# Car Entertainment & Media Packages\n",
    "\n",
    "media_plus = [\"Digital radio\", \"Hands-free\", \"Television\"]\n",
    "\n",
    "df['Entertainment_Media_Package'] = df['Entertainment_Media'].apply(lambda sentence: \"Plus\" if any(word in sentence for word in media_plus) else \"Standard\")\n",
    "df.drop(\"Entertainment_Media\", axis=1, inplace=True)\n",
    "df"
   ]
  },
  {
   "cell_type": "markdown",
   "id": "342bbc06",
   "metadata": {
    "id": "B4mMSB1dWDUg"
   },
   "source": [
    "## Extras"
   ]
  },
  {
   "cell_type": "code",
   "execution_count": null,
   "id": "456f318d",
   "metadata": {
    "id": "_7l5N-cRWDUg",
    "outputId": "c420c852-2d12-4d15-c568-75baa4ee182b"
   },
   "outputs": [],
   "source": [
    "first_looking(\"Extras\")"
   ]
  },
  {
   "cell_type": "code",
   "execution_count": null,
   "id": "f2d2fc71",
   "metadata": {
    "id": "65LhdlsZWDUg",
    "outputId": "ed087fdd-2442-462a-e115-774d213a7f87",
    "scrolled": true
   },
   "outputs": [],
   "source": [
    "fill(df, \"make_model\", \"body_type\", \"Extras\", \"mode\")"
   ]
  },
  {
   "cell_type": "markdown",
   "id": "0d15a49c",
   "metadata": {
    "id": "wgnRLqYbWDUg"
   },
   "source": [
    "## Safety_Security"
   ]
  },
  {
   "cell_type": "code",
   "execution_count": null,
   "id": "6127fe78",
   "metadata": {
    "id": "InuHUeuVWDUg",
    "outputId": "6e0173c7-b7cc-4ac5-a0b2-8df71866f68d"
   },
   "outputs": [],
   "source": [
    "first_looking(\"Safety_Security\")"
   ]
  },
  {
   "cell_type": "code",
   "execution_count": null,
   "id": "4d3d1e9f",
   "metadata": {
    "id": "bKXOvBKIWDUg",
    "outputId": "5cd90282-8332-4bce-942f-90e979e2bf81"
   },
   "outputs": [],
   "source": [
    "fill(df, \"make_model\", \"body_type\", \"Safety_Security\", \"mode\")"
   ]
  },
  {
   "cell_type": "code",
   "execution_count": null,
   "id": "eaf683a7",
   "metadata": {
    "id": "6m4mJCrdWDUh",
    "outputId": "872adc11-7f1e-4003-851a-b2b101cdb346"
   },
   "outputs": [],
   "source": [
    "# Car Safety & Security Packages\n",
    "\n",
    "premium = [\"Tire pressure\", \"Traction control\", \"Daytime running lights\", \"LED Headlight\", \"Tire pressure\"]\n",
    "premium_plus = [\"Emergency brake assistant\", \"Electronic stability control\"]\n",
    "\n",
    "safety_security_package = df['Safety_Security'].apply(lambda sentence: \"Safety Premium Package\" if any(word in sentence for word in premium) else (\"Safety Premium Plus Package\" if any(word in sentence for word in premium_plus) else \"Safety Standard Package\"))\n",
    "safety_security_package.value_counts()"
   ]
  },
  {
   "cell_type": "code",
   "execution_count": null,
   "id": "f02ab908",
   "metadata": {
    "id": "m3QScH_AWDUh",
    "outputId": "36409969-08d9-45a1-a73d-27550b507918"
   },
   "outputs": [],
   "source": [
    "# Car Safety & Security Packages\n",
    "\n",
    "premium = [\"Tire pressure\", \"Traction control\", \"Daytime running lights\", \"LED Headlight\", \"Tire pressure\"]\n",
    "premium_plus = [\"Emergency brake assistant\", \"Electronic stability control\"]\n",
    "\n",
    "df['Safety_Security_Package'] = df['Safety_Security'].apply(lambda sentence: \"Safety Premium Package\" if any(word in sentence for word in premium) else (\"Safety Premium Plus Package\" if any(word in sentence for word in premium_plus) else \"Safety Standard Package\"))\n",
    "df.drop(\"Safety_Security\", axis=1, inplace=True)\n",
    "df"
   ]
  },
  {
   "cell_type": "markdown",
   "id": "02d915c8",
   "metadata": {
    "id": "QoqKhwBMWDUh"
   },
   "source": [
    "## cons_comb"
   ]
  },
  {
   "cell_type": "code",
   "execution_count": null,
   "id": "088e181c",
   "metadata": {
    "id": "yGODJiNxWDUh",
    "outputId": "31994dac-2a60-453e-fbf5-5718cf065bba",
    "scrolled": true
   },
   "outputs": [],
   "source": [
    "first_looking(\"cons_comb\")"
   ]
  },
  {
   "cell_type": "code",
   "execution_count": null,
   "id": "8c46584f",
   "metadata": {
    "id": "A-D0wi8OWDUh",
    "outputId": "87641f4e-30b9-417f-9113-821ff7f16047"
   },
   "outputs": [],
   "source": [
    "cons_comb_2 = (df[\"cons_country\"] + df[\"cons_city\"])/2\n",
    "cons_comb_2.value_counts(dropna=False)"
   ]
  },
  {
   "cell_type": "code",
   "execution_count": null,
   "id": "c2bbe01f",
   "metadata": {
    "id": "7hIu1ejwWDUi"
   },
   "outputs": [],
   "source": [
    "df[\"cons_comb\"] = df[\"cons_comb\"].fillna(cons_comb_2)"
   ]
  },
  {
   "cell_type": "code",
   "execution_count": null,
   "id": "0fc83ed2",
   "metadata": {
    "id": "Ol12-VLxWDUi",
    "outputId": "5a81ca87-e009-4c42-a334-f4fc48f602a8",
    "scrolled": true
   },
   "outputs": [],
   "source": [
    "df[\"cons_comb\"].value_counts(dropna=False)"
   ]
  },
  {
   "cell_type": "code",
   "execution_count": null,
   "id": "8acd33d6",
   "metadata": {
    "id": "ODbXIlQoWDUi"
   },
   "outputs": [],
   "source": [
    "df[\"cons_comb\"].fillna(\"-\", inplace=True)"
   ]
  },
  {
   "cell_type": "code",
   "execution_count": null,
   "id": "e5d8e102",
   "metadata": {
    "id": "-9hxd-MoWDUi",
    "outputId": "bb9b3c09-e6a6-42d6-a2a1-9fc692947230"
   },
   "outputs": [],
   "source": [
    "df.groupby([\"make_model\", \"body_type\", \"Fuel\", \"cons_comb\"]).price.describe()"
   ]
  },
  {
   "cell_type": "markdown",
   "id": "c233075e",
   "metadata": {
    "id": "4pXQhgfuWDUi"
   },
   "source": [
    "**I have decided to fill missing values in two stages.**\n",
    "\n",
    "**1.Mode value of Electirc cars for Electric cars having missing value.**\n",
    "\n",
    "**2.Median values of related make_model, body_type and Fuel group for the other cars.**"
   ]
  },
  {
   "cell_type": "code",
   "execution_count": null,
   "id": "8b80e502",
   "metadata": {
    "id": "uZsIkRNuWDUi",
    "outputId": "b6dae8fc-c6e1-4661-a1e8-b6233359906a"
   },
   "outputs": [],
   "source": [
    "df.groupby([\"Fuel\", \"make_model\", \"body_type\", \"cons_comb\"]).price.describe().loc[\"Electric\"]"
   ]
  },
  {
   "cell_type": "markdown",
   "id": "9fc40bfe",
   "metadata": {
    "id": "HM1zfoBtWDUj"
   },
   "source": [
    "**Before filling missing values, let's convert outliers detected to missing value.**"
   ]
  },
  {
   "cell_type": "code",
   "execution_count": null,
   "id": "cec5a877",
   "metadata": {
    "id": "TSnXOa1_WDUj"
   },
   "outputs": [],
   "source": [
    "df[\"cons_comb\"].replace([0.0, 1.0, 1.2, 10, 11, 13.8, 32.0, 33.0, 38.0, 40.0, 43.0, 46.0, 50.0, 51.0, 54.0, 55.0, \"-\"], np.nan, inplace=True)"
   ]
  },
  {
   "cell_type": "code",
   "execution_count": null,
   "id": "d5011201",
   "metadata": {
    "id": "QxocUW1vWDUj",
    "outputId": "0d6772ed-5a69-40e4-9575-821a5006e75e"
   },
   "outputs": [],
   "source": [
    "df.loc[df.Fuel == \"Electric\", \"cons_comb\"]"
   ]
  },
  {
   "cell_type": "code",
   "execution_count": null,
   "id": "c4579fff",
   "metadata": {
    "id": "n-Q1S7tHWDUj",
    "outputId": "b3082e4b-63c5-4235-fbd7-1c36a9d515a9"
   },
   "outputs": [],
   "source": [
    "df.loc[df.Fuel == \"Electric\", \"cons_comb\"] = df.loc[df.Fuel == \"Electric\", \"cons_comb\"].fillna(df.loc[df.Fuel == \"Electric\", \"cons_comb\"].mode()[0])\n",
    "df.loc[df.Fuel == \"Electric\", \"cons_comb\"]"
   ]
  },
  {
   "cell_type": "code",
   "execution_count": null,
   "id": "394fdec6",
   "metadata": {
    "id": "LLbJizvGWDUj",
    "outputId": "69a83166-63a1-45ec-865a-bef10177a4f8",
    "scrolled": true
   },
   "outputs": [],
   "source": [
    "df[\"cons_comb\"].value_counts(dropna=False)"
   ]
  },
  {
   "cell_type": "code",
   "execution_count": null,
   "id": "e65c5e5a",
   "metadata": {
    "id": "xfg_isytWDUj",
    "outputId": "58b2fb72-b3be-4105-a4b7-badaf934e291",
    "scrolled": true
   },
   "outputs": [],
   "source": [
    "fill_median(df, \"make_model\", \"body_type\", \"Fuel\", \"cons_comb\")"
   ]
  },
  {
   "cell_type": "markdown",
   "id": "992ae337",
   "metadata": {
    "id": "UugSzUbqWDUk"
   },
   "source": [
    "## cons_country"
   ]
  },
  {
   "cell_type": "code",
   "execution_count": null,
   "id": "3d1e2f74",
   "metadata": {
    "id": "nbQIzKC5WDUk"
   },
   "outputs": [],
   "source": [
    "df.drop(\"cons_country\", axis=1, inplace=True)"
   ]
  },
  {
   "cell_type": "code",
   "execution_count": null,
   "id": "7d1ddf57",
   "metadata": {},
   "outputs": [],
   "source": [
    "df.shape"
   ]
  },
  {
   "cell_type": "markdown",
   "id": "db3ee108",
   "metadata": {
    "id": "9-qu3v1HWDUk"
   },
   "source": [
    "## cons_city "
   ]
  },
  {
   "cell_type": "code",
   "execution_count": null,
   "id": "17b57ffc",
   "metadata": {
    "id": "D5_ixKYoWDUk"
   },
   "outputs": [],
   "source": [
    "df.drop(\"cons_city\", axis=1, inplace=True)"
   ]
  },
  {
   "cell_type": "code",
   "execution_count": null,
   "id": "6f2e6033",
   "metadata": {},
   "outputs": [],
   "source": [
    "df.shape"
   ]
  },
  {
   "cell_type": "markdown",
   "id": "4d2ad577",
   "metadata": {
    "id": "jGgq7Cn5WDUk"
   },
   "source": [
    "## End of this phase"
   ]
  },
  {
   "cell_type": "code",
   "execution_count": null,
   "id": "e0c2fe26",
   "metadata": {
    "id": "YHIJhWv0WDUl",
    "outputId": "c684ac99-ed86-4337-ddc1-881f4fc23a0f"
   },
   "outputs": [],
   "source": [
    "df.head().T"
   ]
  },
  {
   "cell_type": "code",
   "execution_count": null,
   "id": "2988183a",
   "metadata": {
    "id": "jojPRHgNWDUl",
    "outputId": "8a08c61d-0258-432b-a646-2214eb5f1810"
   },
   "outputs": [],
   "source": [
    "df.shape"
   ]
  },
  {
   "cell_type": "code",
   "execution_count": null,
   "id": "6b19b9ed",
   "metadata": {
    "id": "pdbU_Ix9WDUl",
    "outputId": "9818310f-21d1-4c24-8ab7-0d7c18408f1f",
    "scrolled": false
   },
   "outputs": [],
   "source": [
    "df.isnull().sum()*100 / df.shape[0]"
   ]
  },
  {
   "cell_type": "code",
   "execution_count": null,
   "id": "46daf3bb",
   "metadata": {},
   "outputs": [],
   "source": [
    "df.to_csv(\"filled_scout.csv\", index=False)"
   ]
  },
  {
   "cell_type": "markdown",
   "id": "97659c01",
   "metadata": {},
   "source": [
    "## <p style=\"background-color:#FDFEFE; font-family:newtimeroman; color:#9d4f8c; font-size:150%; text-align:center; border-radius:10px 10px;\">The End of Handling with Missing Values (Part - 02)</p>"
   ]
  }
 ],
 "metadata": {
  "kernelspec": {
   "display_name": "Python 3 (ipykernel)",
   "language": "python",
   "name": "python3"
  },
  "language_info": {
   "codemirror_mode": {
    "name": "ipython",
    "version": 3
   },
   "file_extension": ".py",
   "mimetype": "text/x-python",
   "name": "python",
   "nbconvert_exporter": "python",
   "pygments_lexer": "ipython3",
   "version": "3.9.12"
  },
  "varInspector": {
   "cols": {
    "lenName": 16,
    "lenType": 16,
    "lenVar": 40
   },
   "kernels_config": {
    "python": {
     "delete_cmd_postfix": "",
     "delete_cmd_prefix": "del ",
     "library": "var_list.py",
     "varRefreshCmd": "print(var_dic_list())"
    },
    "r": {
     "delete_cmd_postfix": ") ",
     "delete_cmd_prefix": "rm(",
     "library": "var_list.r",
     "varRefreshCmd": "cat(var_dic_list()) "
    }
   },
   "types_to_exclude": [
    "module",
    "function",
    "builtin_function_or_method",
    "instance",
    "_Feature"
   ],
   "window_display": false
  }
 },
 "nbformat": 4,
 "nbformat_minor": 5
}
